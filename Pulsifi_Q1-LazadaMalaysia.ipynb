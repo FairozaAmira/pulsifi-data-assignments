{
 "cells": [
  {
   "cell_type": "markdown",
   "metadata": {},
   "source": [
    "# Pulsifi Coding Test Question 1 Solutions\n",
    "\n",
    "1. Choose a E-commerce website, such as zalora.com, lazada.com, and iherb.com and scrape the products catalogue.\n",
    "2. Store the product details such as product name, product category and product price into a database.\n",
    "3. Implement a search function such that given a name, it will return all relevant and similar products.\n",
    "4. Find out what are the distributions of prices across different categories.\n",
    "(optional)\n",
    "5. Repeat the process for another website, and find out what are the products that appear on both websites. (They might have slightly different names)\n"
   ]
  },
  {
   "cell_type": "code",
   "execution_count": 1,
   "metadata": {},
   "outputs": [],
   "source": [
    "from selenium import webdriver\n",
    "from selenium.webdriver.common.by import By\n",
    "from selenium.webdriver.support.ui import WebDriverWait\n",
    "from selenium.webdriver.support import expected_conditions as EC\n",
    "from selenium.common.exceptions import TimeoutException\n",
    "\n",
    "import pandas as pd\n",
    "import dbm"
   ]
  },
  {
   "cell_type": "code",
   "execution_count": 2,
   "metadata": {},
   "outputs": [],
   "source": [
    "driver = webdriver.Chrome(executable_path='chromedriver')\n",
    "driver.get('https://www.lazada.com.my/#')\n",
    "timeout = 30\n",
    "try:\n",
    "    WebDriverWait(driver, timeout).until(EC.visibility_of_element_located((By.ID, \"Level_1_Category_No1\")))\n",
    "except TimeoutException:\n",
    "    driver.quit()"
   ]
  },
  {
   "cell_type": "code",
   "execution_count": 3,
   "metadata": {},
   "outputs": [
    {
     "name": "stdout",
     "output_type": "stream",
     "text": [
      "category element  Electronic Devices\n"
     ]
    }
   ],
   "source": [
    "# find_elements by ID returns an array of selenium objects.\n",
    "category_element = driver.find_element(By.ID,'Level_1_Category_No1').text;\n",
    "print(\"category element \",category_element)"
   ]
  },
  {
   "cell_type": "code",
   "execution_count": 4,
   "metadata": {
    "scrolled": true
   },
   "outputs": [
    {
     "name": "stdout",
     "output_type": "stream",
     "text": [
      "length of links are:  12\n",
      "element in list  Electronic Devices\n",
      "element in list  Electronic Accessories\n",
      "element in list  TV & Home Appliances\n",
      "element in list  Health & Beauty\n",
      "element in list  Babies & Toys\n",
      "element in list  Groceries & Pets\n",
      "element in list  Home & Lifestyle\n",
      "element in list  Women's Fashion\n",
      "element in list  Men's Fashion\n",
      "element in list  Fashion Accessories\n",
      "element in list  Sports & Lifestyle\n",
      "element in list  Automotive & Motorcycles\n"
     ]
    }
   ],
   "source": [
    "# Take the list of li in the ul\n",
    "list_category_elements = driver.find_element(By.XPATH,'//*[@id=\"J_8636740892\"]/div/ul')\n",
    "links = list_category_elements.find_elements(By.CLASS_NAME,\"lzd-site-menu-root-item\")\n",
    "print('length of links are: ', len(links))\n",
    "for i in range(len(links)):\n",
    "    print(\"element in list \",links[i].text)"
   ]
  },
  {
   "cell_type": "code",
   "execution_count": 5,
   "metadata": {},
   "outputs": [],
   "source": [
    "# Clicking toys menu to find the right one\n",
    "# You might receive error if you just perform element.click(). This is due to the element might not actionable according to DOM\n",
    "element = driver.find_elements_by_class_name('J_ChannelsLink')[3]\n",
    "webdriver.ActionChains(driver).move_to_element(element).click(element).perform()"
   ]
  },
  {
   "cell_type": "code",
   "execution_count": 6,
   "metadata": {},
   "outputs": [
    {
     "name": "stdout",
     "output_type": "stream",
     "text": [
      "Selected For You\n",
      "GO\n",
      "Cartoon Unicorn PVC Transparent Document Bag Water-Proof Zipper Pouch File Folder Stationery Organizer 21*17CM / 8.3*6.7Inch\n",
      "RM\n",
      "2.50\n",
      "RM 4.00\n",
      "-38%\n",
      "Dansunreve 1 piece Pillowcase Cheap And Comfortable Sarung Bantal Solid Color Pillow cover Cover Plain & Hotel\n",
      "RM\n",
      "3.90\n",
      "RM 7.90\n",
      "-51%\n",
      "[12.12] [Ready Stock] 45*45cm Leaves Pattern Throw Pillow Cover Soft Linen Cotton Pillowcase Square Cushion Cover\n",
      "RM\n",
      "5.90\n",
      "RM 12.00\n",
      "-51%\n",
      "[12.12 Flash Sale] Branches DVB T2 Decoder DVB T2 Receiver MyTV Decoder DVBT2 TV Dekoder Youtube Receiver Satellite\n",
      "RM\n",
      "38.60\n",
      "RM 87.40\n",
      "-56%\n",
      "[Christmas Gift For Kids] Threetrees 8.5 inch LCD drawing pad With Accessory Kit, Writing tablet,office writing board, office blackboard, digital drawing pad ,Good Gift For Kids,Use for Home,Office\n",
      "RM\n",
      "15.80\n",
      "RM 28.00\n",
      "-44%\n",
      "[12.12 Crazy Brand Mega Offers]UGREEN 1 Meter Micro USB Cable USB 2.0 Sync & Charging Cable for for Samsung, Nokia ,Huawei,Oppo,Vivo,Xiaomi,HTC, Blackberry, Tablet PC, and Most Android Tablets, Android Phones, Black\n",
      "RM\n",
      "6.49\n",
      "RM 10.99\n",
      "-41%\n",
      "Dresses\n",
      "GO\n",
      "ZANZEA Long Top Solid Blouse Shirt Dress Women Long Sleeve Pockets Buttons Dress\n",
      "RM\n",
      "28.10\n",
      "RM 50.00\n",
      "-44%\n",
      "Korean Style Fashion Temperament Fashion Round Neck Short Sleeve Lace Dress\n",
      "RM\n",
      "18.22\n",
      "RM 35.00\n",
      "-48%\n",
      "Improved Cheongsam nian qing kuan Girl's Daily Life Chinese-style Vintage Frog Large Size Loose Short Skirt Short-sleeve Dress Female\n",
      "RM\n",
      "49.40\n",
      "RM 71.00\n",
      "-30%\n",
      "2019 Summer a Korean Style New Style Skirt Fashion Debutante Elegant off-the-Shoulder Short Waist Hugging Dress Female\n",
      "RM\n",
      "31.10\n",
      "RM 92.80\n",
      "-66%\n",
      "VONDA Women Kaftan Solid Long Sleeve Side Slit Casual Party Club Long Maxi Dress\n",
      "RM\n",
      "35.40\n",
      "RM 59.00\n",
      "-40%\n",
      "Women Bodycon Velvet Dress Pencil Skirt Dress Long Sleeve Skirt\n",
      "RM\n",
      "15.30\n",
      "RM 71.00\n",
      "-78%\n",
      "Fitness Regime\n",
      "GO\n",
      "BOSTANTEN Mens Watch On Sale Waterproof Watch For Men BOSTANTEN Original Watches Latest Digital Sport Wristwatch-2082K\n",
      "RM\n",
      "16.00\n",
      "RM 90.00\n",
      "-82%\n",
      "[Global Version / CN Version] Xiaomi Mi Band 4 In Stock Smart Watch\n",
      "RM\n",
      "149.00\n",
      "RM 199.00\n",
      "-25%\n",
      "[12.12] New SKMEI 1251 Men Sports Watches 50M Waterproof Watches Countdown Double Time Watch Alarm Chrono Digital Wristwatches Jam Tangan Lelaki/Man\n",
      "RM\n",
      "16.64\n",
      "RM 37.00\n",
      "-55%\n",
      "[12.12] (Free Shipping Fee+ Free gift)Huawei Honor Band 5 Fitness Smart Bracelet\n",
      "RM\n",
      "114.00\n",
      "RM 199.99\n",
      "-43%\n",
      "[12.12] SMAEL Brand Sport Watch Mens Fashion Analog Quartz LED Digital Electronic Watch Men Multifunctional Waterproof Military Watches\n",
      "RM\n",
      "21.58\n",
      "RM 109.00\n",
      "-80%\n",
      "You raise me up HONHX Luxury Mens Digital LED Watch Date Sport Men Outdoor Electronic Stopwatch timing Watch WKJV6625846AWVA\n",
      "RM\n",
      "7.10\n",
      "RM 14.10\n",
      "-50%\n"
     ]
    }
   ],
   "source": [
    "# Once we are in, let us extract all of the product elements then names\n",
    "product_titles = driver.find_elements_by_class_name('best-seller-container')\n",
    "for title in product_titles:\n",
    "    print(title.text)"
   ]
  },
  {
   "cell_type": "code",
   "execution_count": 7,
   "metadata": {},
   "outputs": [],
   "source": [
    "product_containers = driver.find_elements_by_class_name('best-seller-item-content')\n",
    "product_titles = list()\n",
    "pack_sizes = list()\n",
    "product_prices = list()\n",
    "rating_counts = list()"
   ]
  },
  {
   "cell_type": "code",
   "execution_count": 8,
   "metadata": {},
   "outputs": [
    {
     "name": "stdout",
     "output_type": "stream",
     "text": [
      "                                       product_title product_price\n",
      "0  Cartoon Unicorn PVC Transparent Document Bag W...      RM\\n2.50\n",
      "1  Dansunreve 1 piece Pillowcase Cheap And Comfor...      RM\\n3.90\n",
      "2  [12.12] [Ready Stock] 45*45cm Leaves Pattern T...      RM\\n5.90\n",
      "3  [12.12 Flash Sale] Branches DVB T2 Decoder DVB...     RM\\n38.60\n",
      "4  [Christmas Gift For Kids] Threetrees 8.5 inch ...     RM\\n15.80\n"
     ]
    }
   ],
   "source": [
    "for container in product_containers:\n",
    "    product_titles.append(container.find_element_by_class_name('best-seller-item-title-text').text)\n",
    "    product_prices.append(container.find_element_by_class_name('best-seller-item-price').text)\n",
    "\n",
    "data = {'product_title': product_titles, 'product_price': product_prices}\n",
    "df_product = pd.DataFrame.from_dict(data)\n",
    "\n",
    "print(df_product.head())\n",
    "\n"
   ]
  },
  {
   "cell_type": "code",
   "execution_count": 9,
   "metadata": {},
   "outputs": [],
   "source": [
    "df_product.to_csv(\"product_my.csv\")"
   ]
  },
  {
   "cell_type": "code",
   "execution_count": null,
   "metadata": {},
   "outputs": [],
   "source": []
  }
 ],
 "metadata": {
  "kernelspec": {
   "display_name": "Python 3",
   "language": "python",
   "name": "python3"
  },
  "language_info": {
   "codemirror_mode": {
    "name": "ipython",
    "version": 3
   },
   "file_extension": ".py",
   "mimetype": "text/x-python",
   "name": "python",
   "nbconvert_exporter": "python",
   "pygments_lexer": "ipython3",
   "version": "3.6.8"
  }
 },
 "nbformat": 4,
 "nbformat_minor": 2
}
