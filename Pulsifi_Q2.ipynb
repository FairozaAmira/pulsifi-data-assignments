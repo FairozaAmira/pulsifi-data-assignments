{
  "nbformat": 4,
  "nbformat_minor": 0,
  "metadata": {
    "colab": {
      "name": "Pulsifi_Q2.ipynb",
      "provenance": [],
      "collapsed_sections": []
    },
    "kernelspec": {
      "name": "python3",
      "display_name": "Python 3"
    },
    "accelerator": "GPU"
  },
  "cells": [
    {
      "cell_type": "markdown",
      "metadata": {
        "id": "vmDQsQOYuq3K",
        "colab_type": "text"
      },
      "source": [
        "# PULSIFI Coding Test Question 2\n",
        "\n",
        "Build a model to **predict z from x and y**. Some questions to consider: \n",
        "\n",
        "1.   What kind of model is appropriate in this case considering the graphs?\n",
        "2.   How to do feature selection?\n",
        "3.   How to measure the performance of the model?\n",
        "4.  How to interpret the result?"
      ]
    },
    {
      "cell_type": "markdown",
      "metadata": {
        "id": "fBpvxQgAvUtu",
        "colab_type": "text"
      },
      "source": [
        "## Import necessary libraries"
      ]
    },
    {
      "cell_type": "code",
      "metadata": {
        "id": "QriZSDfVvK36",
        "colab_type": "code",
        "colab": {}
      },
      "source": [
        "import numpy as np\n",
        "import pandas as pd\n",
        "import matplotlib.pyplot as plt\n",
        "%matplotlib inline\n",
        "\n",
        "import seaborn as sns"
      ],
      "execution_count": 0,
      "outputs": []
    },
    {
      "cell_type": "markdown",
      "metadata": {
        "id": "Y4e5LRYqu5d0",
        "colab_type": "text"
      },
      "source": [
        "## Get the data"
      ]
    },
    {
      "cell_type": "code",
      "metadata": {
        "id": "7rmylu_fug6O",
        "colab_type": "code",
        "outputId": "f1061bd9-b6be-469a-c327-6c901468b907",
        "colab": {
          "base_uri": "https://localhost:8080/",
          "height": 54
        }
      },
      "source": [
        "#mount google drive\n",
        "from google.colab import drive\n",
        "drive.mount('/content/drive')"
      ],
      "execution_count": 2,
      "outputs": [
        {
          "output_type": "stream",
          "text": [
            "Drive already mounted at /content/drive; to attempt to forcibly remount, call drive.mount(\"/content/drive\", force_remount=True).\n"
          ],
          "name": "stdout"
        }
      ]
    },
    {
      "cell_type": "code",
      "metadata": {
        "id": "tX2Kc9pzw8HO",
        "colab_type": "code",
        "outputId": "53f52a71-da3c-4c1f-d3a1-2fd32d81dca3",
        "colab": {
          "base_uri": "https://localhost:8080/",
          "height": 34
        }
      },
      "source": [
        "#locate the data\n",
        "!ls \"../content/drive/My Drive/ColabNotebooks/pulsifi\""
      ],
      "execution_count": 3,
      "outputs": [
        {
          "output_type": "stream",
          "text": [
            "'Data Assessment.gdoc'\t Pulsifi_Q2.ipynb   test.csv\n"
          ],
          "name": "stdout"
        }
      ]
    },
    {
      "cell_type": "markdown",
      "metadata": {
        "id": "R2dwg-caxKgH",
        "colab_type": "text"
      },
      "source": [
        "## Exploratory Data Analysis\n",
        "\n",
        "Let's look what does this data looks like."
      ]
    },
    {
      "cell_type": "code",
      "metadata": {
        "id": "pdVld-QqxQtB",
        "colab_type": "code",
        "outputId": "c3d78eb2-c9d7-43ba-de3b-5baf180bb39d",
        "colab": {
          "base_uri": "https://localhost:8080/",
          "height": 297
        }
      },
      "source": [
        "df = pd.read_csv(\"../content/drive/My Drive/ColabNotebooks/pulsifi/test.csv\")\n",
        "df.describe()"
      ],
      "execution_count": 4,
      "outputs": [
        {
          "output_type": "execute_result",
          "data": {
            "text/html": [
              "<div>\n",
              "<style scoped>\n",
              "    .dataframe tbody tr th:only-of-type {\n",
              "        vertical-align: middle;\n",
              "    }\n",
              "\n",
              "    .dataframe tbody tr th {\n",
              "        vertical-align: top;\n",
              "    }\n",
              "\n",
              "    .dataframe thead th {\n",
              "        text-align: right;\n",
              "    }\n",
              "</style>\n",
              "<table border=\"1\" class=\"dataframe\">\n",
              "  <thead>\n",
              "    <tr style=\"text-align: right;\">\n",
              "      <th></th>\n",
              "      <th>Unnamed: 0</th>\n",
              "      <th>x</th>\n",
              "      <th>y</th>\n",
              "      <th>z</th>\n",
              "    </tr>\n",
              "  </thead>\n",
              "  <tbody>\n",
              "    <tr>\n",
              "      <th>count</th>\n",
              "      <td>1000.000000</td>\n",
              "      <td>1000.000000</td>\n",
              "      <td>1000.000000</td>\n",
              "      <td>1000.000000</td>\n",
              "    </tr>\n",
              "    <tr>\n",
              "      <th>mean</th>\n",
              "      <td>499.500000</td>\n",
              "      <td>0.499059</td>\n",
              "      <td>0.493749</td>\n",
              "      <td>0.496727</td>\n",
              "    </tr>\n",
              "    <tr>\n",
              "      <th>std</th>\n",
              "      <td>288.819436</td>\n",
              "      <td>0.287739</td>\n",
              "      <td>0.346935</td>\n",
              "      <td>0.354016</td>\n",
              "    </tr>\n",
              "    <tr>\n",
              "      <th>min</th>\n",
              "      <td>0.000000</td>\n",
              "      <td>0.000070</td>\n",
              "      <td>-0.405017</td>\n",
              "      <td>-0.396111</td>\n",
              "    </tr>\n",
              "    <tr>\n",
              "      <th>25%</th>\n",
              "      <td>249.750000</td>\n",
              "      <td>0.248916</td>\n",
              "      <td>0.230222</td>\n",
              "      <td>0.236340</td>\n",
              "    </tr>\n",
              "    <tr>\n",
              "      <th>50%</th>\n",
              "      <td>499.500000</td>\n",
              "      <td>0.489521</td>\n",
              "      <td>0.485361</td>\n",
              "      <td>0.501613</td>\n",
              "    </tr>\n",
              "    <tr>\n",
              "      <th>75%</th>\n",
              "      <td>749.250000</td>\n",
              "      <td>0.745500</td>\n",
              "      <td>0.756520</td>\n",
              "      <td>0.755619</td>\n",
              "    </tr>\n",
              "    <tr>\n",
              "      <th>max</th>\n",
              "      <td>999.000000</td>\n",
              "      <td>0.999722</td>\n",
              "      <td>1.387614</td>\n",
              "      <td>1.373976</td>\n",
              "    </tr>\n",
              "  </tbody>\n",
              "</table>\n",
              "</div>"
            ],
            "text/plain": [
              "        Unnamed: 0            x            y            z\n",
              "count  1000.000000  1000.000000  1000.000000  1000.000000\n",
              "mean    499.500000     0.499059     0.493749     0.496727\n",
              "std     288.819436     0.287739     0.346935     0.354016\n",
              "min       0.000000     0.000070    -0.405017    -0.396111\n",
              "25%     249.750000     0.248916     0.230222     0.236340\n",
              "50%     499.500000     0.489521     0.485361     0.501613\n",
              "75%     749.250000     0.745500     0.756520     0.755619\n",
              "max     999.000000     0.999722     1.387614     1.373976"
            ]
          },
          "metadata": {
            "tags": []
          },
          "execution_count": 4
        }
      ]
    },
    {
      "cell_type": "code",
      "metadata": {
        "id": "iWYzuOKhxl8b",
        "colab_type": "code",
        "outputId": "f86c0069-5683-47c1-ee6e-d059d249a6b3",
        "colab": {
          "base_uri": "https://localhost:8080/",
          "height": 204
        }
      },
      "source": [
        "df.head()"
      ],
      "execution_count": 5,
      "outputs": [
        {
          "output_type": "execute_result",
          "data": {
            "text/html": [
              "<div>\n",
              "<style scoped>\n",
              "    .dataframe tbody tr th:only-of-type {\n",
              "        vertical-align: middle;\n",
              "    }\n",
              "\n",
              "    .dataframe tbody tr th {\n",
              "        vertical-align: top;\n",
              "    }\n",
              "\n",
              "    .dataframe thead th {\n",
              "        text-align: right;\n",
              "    }\n",
              "</style>\n",
              "<table border=\"1\" class=\"dataframe\">\n",
              "  <thead>\n",
              "    <tr style=\"text-align: right;\">\n",
              "      <th></th>\n",
              "      <th>Unnamed: 0</th>\n",
              "      <th>x</th>\n",
              "      <th>y</th>\n",
              "      <th>z</th>\n",
              "    </tr>\n",
              "  </thead>\n",
              "  <tbody>\n",
              "    <tr>\n",
              "      <th>0</th>\n",
              "      <td>0</td>\n",
              "      <td>0.824922</td>\n",
              "      <td>0.812338</td>\n",
              "      <td>0.698686</td>\n",
              "    </tr>\n",
              "    <tr>\n",
              "      <th>1</th>\n",
              "      <td>1</td>\n",
              "      <td>0.288478</td>\n",
              "      <td>0.697308</td>\n",
              "      <td>0.544378</td>\n",
              "    </tr>\n",
              "    <tr>\n",
              "      <th>2</th>\n",
              "      <td>2</td>\n",
              "      <td>0.586509</td>\n",
              "      <td>0.715296</td>\n",
              "      <td>0.655423</td>\n",
              "    </tr>\n",
              "    <tr>\n",
              "      <th>3</th>\n",
              "      <td>3</td>\n",
              "      <td>0.225562</td>\n",
              "      <td>0.355839</td>\n",
              "      <td>0.542703</td>\n",
              "    </tr>\n",
              "    <tr>\n",
              "      <th>4</th>\n",
              "      <td>4</td>\n",
              "      <td>0.030121</td>\n",
              "      <td>-0.097980</td>\n",
              "      <td>0.389870</td>\n",
              "    </tr>\n",
              "  </tbody>\n",
              "</table>\n",
              "</div>"
            ],
            "text/plain": [
              "   Unnamed: 0         x         y         z\n",
              "0           0  0.824922  0.812338  0.698686\n",
              "1           1  0.288478  0.697308  0.544378\n",
              "2           2  0.586509  0.715296  0.655423\n",
              "3           3  0.225562  0.355839  0.542703\n",
              "4           4  0.030121 -0.097980  0.389870"
            ]
          },
          "metadata": {
            "tags": []
          },
          "execution_count": 5
        }
      ]
    },
    {
      "cell_type": "code",
      "metadata": {
        "id": "LtQ7CgiYxsxI",
        "colab_type": "code",
        "outputId": "cac004e8-8ee7-4cb5-d387-930b255adbea",
        "colab": {
          "base_uri": "https://localhost:8080/",
          "height": 170
        }
      },
      "source": [
        "df.info()"
      ],
      "execution_count": 6,
      "outputs": [
        {
          "output_type": "stream",
          "text": [
            "<class 'pandas.core.frame.DataFrame'>\n",
            "RangeIndex: 1000 entries, 0 to 999\n",
            "Data columns (total 4 columns):\n",
            "Unnamed: 0    1000 non-null int64\n",
            "x             1000 non-null float64\n",
            "y             1000 non-null float64\n",
            "z             1000 non-null float64\n",
            "dtypes: float64(3), int64(1)\n",
            "memory usage: 31.4 KB\n"
          ],
          "name": "stdout"
        }
      ]
    },
    {
      "cell_type": "code",
      "metadata": {
        "id": "kpHbNdGCxxtI",
        "colab_type": "code",
        "outputId": "1086a7a5-7ecb-4c80-fa16-9f21df45a993",
        "colab": {
          "base_uri": "https://localhost:8080/",
          "height": 204
        }
      },
      "source": [
        "df = df.drop(columns=[\"Unnamed: 0\"])\n",
        "df.head()"
      ],
      "execution_count": 7,
      "outputs": [
        {
          "output_type": "execute_result",
          "data": {
            "text/html": [
              "<div>\n",
              "<style scoped>\n",
              "    .dataframe tbody tr th:only-of-type {\n",
              "        vertical-align: middle;\n",
              "    }\n",
              "\n",
              "    .dataframe tbody tr th {\n",
              "        vertical-align: top;\n",
              "    }\n",
              "\n",
              "    .dataframe thead th {\n",
              "        text-align: right;\n",
              "    }\n",
              "</style>\n",
              "<table border=\"1\" class=\"dataframe\">\n",
              "  <thead>\n",
              "    <tr style=\"text-align: right;\">\n",
              "      <th></th>\n",
              "      <th>x</th>\n",
              "      <th>y</th>\n",
              "      <th>z</th>\n",
              "    </tr>\n",
              "  </thead>\n",
              "  <tbody>\n",
              "    <tr>\n",
              "      <th>0</th>\n",
              "      <td>0.824922</td>\n",
              "      <td>0.812338</td>\n",
              "      <td>0.698686</td>\n",
              "    </tr>\n",
              "    <tr>\n",
              "      <th>1</th>\n",
              "      <td>0.288478</td>\n",
              "      <td>0.697308</td>\n",
              "      <td>0.544378</td>\n",
              "    </tr>\n",
              "    <tr>\n",
              "      <th>2</th>\n",
              "      <td>0.586509</td>\n",
              "      <td>0.715296</td>\n",
              "      <td>0.655423</td>\n",
              "    </tr>\n",
              "    <tr>\n",
              "      <th>3</th>\n",
              "      <td>0.225562</td>\n",
              "      <td>0.355839</td>\n",
              "      <td>0.542703</td>\n",
              "    </tr>\n",
              "    <tr>\n",
              "      <th>4</th>\n",
              "      <td>0.030121</td>\n",
              "      <td>-0.097980</td>\n",
              "      <td>0.389870</td>\n",
              "    </tr>\n",
              "  </tbody>\n",
              "</table>\n",
              "</div>"
            ],
            "text/plain": [
              "          x         y         z\n",
              "0  0.824922  0.812338  0.698686\n",
              "1  0.288478  0.697308  0.544378\n",
              "2  0.586509  0.715296  0.655423\n",
              "3  0.225562  0.355839  0.542703\n",
              "4  0.030121 -0.097980  0.389870"
            ]
          },
          "metadata": {
            "tags": []
          },
          "execution_count": 7
        }
      ]
    },
    {
      "cell_type": "code",
      "metadata": {
        "id": "BadEV9PWya0Q",
        "colab_type": "code",
        "outputId": "52e88b27-0943-469e-8001-1d39f42c5b30",
        "colab": {
          "base_uri": "https://localhost:8080/",
          "height": 279
        }
      },
      "source": [
        "# create a scatter plot for the data for x vs z\n",
        "\n",
        "ax1 = df.plot.scatter(x='x',\n",
        "                      y='z',\n",
        "                      c=\"DarkBlue\")"
      ],
      "execution_count": 8,
      "outputs": [
        {
          "output_type": "display_data",
          "data": {
            "image/png": "[encoded data removed]",
            "text/plain": [
              "<Figure size 432x288 with 1 Axes>"
            ]
          },
          "metadata": {
            "tags": []
          }
        }
      ]
    },
    {
      "cell_type": "code",
      "metadata": {
        "id": "2FNB2sRNyv33",
        "colab_type": "code",
        "outputId": "1e619061-1c37-4e12-e026-07b93cc248d8",
        "colab": {
          "base_uri": "https://localhost:8080/",
          "height": 279
        }
      },
      "source": [
        "# create a scatter plot for the data for y vs z\n",
        "\n",
        "ax2 = df.plot.scatter(x='y',\n",
        "                      y='z',\n",
        "                      c=\"DarkBlue\")"
      ],
      "execution_count": 9,
      "outputs": [
        {
          "output_type": "display_data",
          "data": {
            "image/png": "[encoded data removed]",
            "text/plain": [
              "<Figure size 432x288 with 1 Axes>"
            ]
          },
          "metadata": {
            "tags": []
          }
        }
      ]
    },
    {
      "cell_type": "code",
      "metadata": {
        "id": "Mu6mJ0FJ1S3f",
        "colab_type": "code",
        "outputId": "605a84dd-1988-40e2-c51e-9c83d95b782c",
        "colab": {
          "base_uri": "https://localhost:8080/",
          "height": 279
        }
      },
      "source": [
        "# create a scatter plot for the data for x,y vs z\n",
        "\n",
        "ax = df.plot(kind='scatter', x='x', y='z', color='DarkBlue', label='x')\n",
        "df.plot(kind='scatter', x='y', y='z',color='DarkGreen', label='y', ax=ax);\n"
      ],
      "execution_count": 10,
      "outputs": [
        {
          "output_type": "display_data",
          "data": {
            "image/png": "[encoded data removed]",
            "text/plain": [
              "<Figure size 432x288 with 1 Axes>"
            ]
          },
          "metadata": {
            "tags": []
          }
        }
      ]
    },
    {
      "cell_type": "markdown",
      "metadata": {
        "id": "9cBfqUz249W9",
        "colab_type": "text"
      },
      "source": [
        "### Plot a desicion boundary for the data\n",
        "\n"
      ]
    },
    {
      "cell_type": "code",
      "metadata": {
        "id": "qXPaQzWQ5RvL",
        "colab_type": "code",
        "outputId": "89559211-9bdf-417f-c0ac-6a26145b33a9",
        "colab": {
          "base_uri": "https://localhost:8080/",
          "height": 386
        }
      },
      "source": [
        "sns.lmplot(x='x',y='z',data=df)"
      ],
      "execution_count": 11,
      "outputs": [
        {
          "output_type": "execute_result",
          "data": {
            "text/plain": [
              "<seaborn.axisgrid.FacetGrid at 0x7f3f8c4c1358>"
            ]
          },
          "metadata": {
            "tags": []
          },
          "execution_count": 11
        },
        {
          "output_type": "display_data",
          "data": {
            "image/png": "[encoded data removed]",
            "text/plain": [
              "<Figure size 360x360 with 1 Axes>"
            ]
          },
          "metadata": {
            "tags": []
          }
        }
      ]
    },
    {
      "cell_type": "code",
      "metadata": {
        "id": "OT2KGG_M5dsN",
        "colab_type": "code",
        "outputId": "6720dce0-fb7c-4c7e-d0a1-0860c2024c62",
        "colab": {
          "base_uri": "https://localhost:8080/",
          "height": 386
        }
      },
      "source": [
        "sns.lmplot(x='y',y='z',data=df)"
      ],
      "execution_count": 12,
      "outputs": [
        {
          "output_type": "execute_result",
          "data": {
            "text/plain": [
              "<seaborn.axisgrid.FacetGrid at 0x7f3f8c4c14e0>"
            ]
          },
          "metadata": {
            "tags": []
          },
          "execution_count": 12
        },
        {
          "output_type": "display_data",
          "data": {
            "image/png": "[encoded data removed]",
            "text/plain": [
              "<Figure size 360x360 with 1 Axes>"
            ]
          },
          "metadata": {
            "tags": []
          }
        }
      ]
    },
    {
      "cell_type": "code",
      "metadata": {
        "id": "_bY1dQuyY39e",
        "colab_type": "code",
        "outputId": "2808cf81-07a8-4b36-b8dd-0456d55c167b",
        "colab": {
          "base_uri": "https://localhost:8080/",
          "height": 562
        }
      },
      "source": [
        "sns.pairplot(df[[\"x\",\"y\",\"z\"]], diag_kind=\"kde\")"
      ],
      "execution_count": 13,
      "outputs": [
        {
          "output_type": "execute_result",
          "data": {
            "text/plain": [
              "<seaborn.axisgrid.PairGrid at 0x7f3f7b348940>"
            ]
          },
          "metadata": {
            "tags": []
          },
          "execution_count": 13
        },
        {
          "output_type": "display_data",
          "data": {
            "image/png": "[encoded data removed]",
            "text/plain": [
              "<Figure size 540x540 with 12 Axes>"
            ]
          },
          "metadata": {
            "tags": []
          }
        }
      ]
    },
    {
      "cell_type": "markdown",
      "metadata": {
        "id": "aaCuRnNH5iZW",
        "colab_type": "text"
      },
      "source": [
        "### Check the features correlation"
      ]
    },
    {
      "cell_type": "code",
      "metadata": {
        "id": "mNSne84_5n-x",
        "colab_type": "code",
        "outputId": "0412a1e3-f8d5-4bf8-9270-e6107d012ca7",
        "colab": {
          "base_uri": "https://localhost:8080/",
          "height": 211
        }
      },
      "source": [
        "plt.figure(figsize=(7,3)) \n",
        "sns.heatmap(df.corr(),annot=True,cmap='cubehelix_r') \n",
        "plt.show()"
      ],
      "execution_count": 14,
      "outputs": [
        {
          "output_type": "display_data",
          "data": {
            "image/png": "[encoded data removed]",
            "text/plain": [
              "<Figure size 504x216 with 2 Axes>"
            ]
          },
          "metadata": {
            "tags": []
          }
        }
      ]
    },
    {
      "cell_type": "markdown",
      "metadata": {
        "id": "RfG8f-ie7439",
        "colab_type": "text"
      },
      "source": [
        "Conclusion:\n",
        "\n",
        "1.   x and y are directly proportional to z\n",
        "2.   x has a correlation of 0.82 to y, same goes to x to z.\n",
        "3.   y has a correlation of 0.66 to z. \n",
        "\n"
      ]
    },
    {
      "cell_type": "markdown",
      "metadata": {
        "id": "R6u73kad8mWq",
        "colab_type": "text"
      },
      "source": [
        "## Machine Learning\n",
        "\n",
        "### Split the data into train and test set\n"
      ]
    },
    {
      "cell_type": "code",
      "metadata": {
        "id": "7ux2hjfr9IEe",
        "colab_type": "code",
        "outputId": "467bde28-82a8-48e4-dbf1-0b0fe348d970",
        "colab": {
          "base_uri": "https://localhost:8080/",
          "height": 51
        }
      },
      "source": [
        "from sklearn.model_selection import train_test_split as split\n",
        "train, test = split(df, test_size = 0.1)\n",
        "print (train.shape)\n",
        "print (test.shape)"
      ],
      "execution_count": 15,
      "outputs": [
        {
          "output_type": "stream",
          "text": [
            "(900, 3)\n",
            "(100, 3)\n"
          ],
          "name": "stdout"
        }
      ]
    },
    {
      "cell_type": "code",
      "metadata": {
        "id": "r5TauLu4ANtG",
        "colab_type": "code",
        "outputId": "e45443cf-f838-4db6-d5bf-205fb19292b9",
        "colab": {
          "base_uri": "https://localhost:8080/",
          "height": 34
        }
      },
      "source": [
        "#get the features for training data\n",
        "X_train = train[['x','y']]\n",
        "#output(label) of training data\n",
        "y_train = train['z']\n",
        "#get the testing data features and output(label)\n",
        "X_test = test[['x', 'y']]\n",
        "y_test = test['z']\n",
        "\n",
        "print(X_train.shape)"
      ],
      "execution_count": 16,
      "outputs": [
        {
          "output_type": "stream",
          "text": [
            "(900, 2)\n"
          ],
          "name": "stdout"
        }
      ]
    },
    {
      "cell_type": "markdown",
      "metadata": {
        "id": "nLcKfLviAkm4",
        "colab_type": "text"
      },
      "source": [
        "#### Train and Predict by using Support Vector Machine Regressor"
      ]
    },
    {
      "cell_type": "code",
      "metadata": {
        "id": "PlVB6rJZ9v3M",
        "colab_type": "code",
        "outputId": "68e8ab5f-28a1-4fba-b30e-cb09709bc251",
        "colab": {
          "base_uri": "https://localhost:8080/",
          "height": 51
        }
      },
      "source": [
        "# Create and train the Support Vector Machine (Regressor) \n",
        "\n",
        "from sklearn.svm import SVR\n",
        "\n",
        "svr = SVR(kernel='rbf', C=1e3, gamma=0.1) \n",
        "svr.fit(X_train, y_train)"
      ],
      "execution_count": 17,
      "outputs": [
        {
          "output_type": "execute_result",
          "data": {
            "text/plain": [
              "SVR(C=1000.0, cache_size=200, coef0=0.0, degree=3, epsilon=0.1, gamma=0.1,\n",
              "    kernel='rbf', max_iter=-1, shrinking=True, tol=0.001, verbose=False)"
            ]
          },
          "metadata": {
            "tags": []
          },
          "execution_count": 17
        }
      ]
    },
    {
      "cell_type": "code",
      "metadata": {
        "id": "hCEN1qpFAfXX",
        "colab_type": "code",
        "outputId": "a0791c0f-3a95-444a-c767-966439b73eb0",
        "colab": {
          "base_uri": "https://localhost:8080/",
          "height": 34
        }
      },
      "source": [
        "# Testing Model: Score returns the coefficient of determination R^2 of the prediction. \n",
        "# The best possible score is 1.0\n",
        "svm_confidence = svr.score(X_test, y_test)\n",
        "print(\"svm confidence: \", svm_confidence)"
      ],
      "execution_count": 18,
      "outputs": [
        {
          "output_type": "stream",
          "text": [
            "svm confidence:  0.6404218160344326\n"
          ],
          "name": "stdout"
        }
      ]
    },
    {
      "cell_type": "code",
      "metadata": {
        "id": "DSu11JLXDLMF",
        "colab_type": "code",
        "outputId": "e95ffcbf-8d29-4eb4-9f38-26ae0f63b590",
        "colab": {
          "base_uri": "https://localhost:8080/",
          "height": 419
        }
      },
      "source": [
        "y_pred = svr.predict(X_test)\n",
        "df_pred = pd.DataFrame({'Actual': y_test, 'Predicted': y_pred})\n",
        "df_pred"
      ],
      "execution_count": 19,
      "outputs": [
        {
          "output_type": "execute_result",
          "data": {
            "text/html": [
              "<div>\n",
              "<style scoped>\n",
              "    .dataframe tbody tr th:only-of-type {\n",
              "        vertical-align: middle;\n",
              "    }\n",
              "\n",
              "    .dataframe tbody tr th {\n",
              "        vertical-align: top;\n",
              "    }\n",
              "\n",
              "    .dataframe thead th {\n",
              "        text-align: right;\n",
              "    }\n",
              "</style>\n",
              "<table border=\"1\" class=\"dataframe\">\n",
              "  <thead>\n",
              "    <tr style=\"text-align: right;\">\n",
              "      <th></th>\n",
              "      <th>Actual</th>\n",
              "      <th>Predicted</th>\n",
              "    </tr>\n",
              "  </thead>\n",
              "  <tbody>\n",
              "    <tr>\n",
              "      <th>13</th>\n",
              "      <td>0.049401</td>\n",
              "      <td>-0.030746</td>\n",
              "    </tr>\n",
              "    <tr>\n",
              "      <th>844</th>\n",
              "      <td>0.614162</td>\n",
              "      <td>0.212702</td>\n",
              "    </tr>\n",
              "    <tr>\n",
              "      <th>664</th>\n",
              "      <td>0.398412</td>\n",
              "      <td>0.189273</td>\n",
              "    </tr>\n",
              "    <tr>\n",
              "      <th>269</th>\n",
              "      <td>0.997897</td>\n",
              "      <td>0.780794</td>\n",
              "    </tr>\n",
              "    <tr>\n",
              "      <th>720</th>\n",
              "      <td>-0.092484</td>\n",
              "      <td>0.228394</td>\n",
              "    </tr>\n",
              "    <tr>\n",
              "      <th>...</th>\n",
              "      <td>...</td>\n",
              "      <td>...</td>\n",
              "    </tr>\n",
              "    <tr>\n",
              "      <th>165</th>\n",
              "      <td>0.684949</td>\n",
              "      <td>0.467503</td>\n",
              "    </tr>\n",
              "    <tr>\n",
              "      <th>579</th>\n",
              "      <td>0.525803</td>\n",
              "      <td>0.494903</td>\n",
              "    </tr>\n",
              "    <tr>\n",
              "      <th>738</th>\n",
              "      <td>0.231537</td>\n",
              "      <td>0.283653</td>\n",
              "    </tr>\n",
              "    <tr>\n",
              "      <th>627</th>\n",
              "      <td>0.855463</td>\n",
              "      <td>0.801002</td>\n",
              "    </tr>\n",
              "    <tr>\n",
              "      <th>697</th>\n",
              "      <td>0.933244</td>\n",
              "      <td>0.562290</td>\n",
              "    </tr>\n",
              "  </tbody>\n",
              "</table>\n",
              "<p>100 rows × 2 columns</p>\n",
              "</div>"
            ],
            "text/plain": [
              "       Actual  Predicted\n",
              "13   0.049401  -0.030746\n",
              "844  0.614162   0.212702\n",
              "664  0.398412   0.189273\n",
              "269  0.997897   0.780794\n",
              "720 -0.092484   0.228394\n",
              "..        ...        ...\n",
              "165  0.684949   0.467503\n",
              "579  0.525803   0.494903\n",
              "738  0.231537   0.283653\n",
              "627  0.855463   0.801002\n",
              "697  0.933244   0.562290\n",
              "\n",
              "[100 rows x 2 columns]"
            ]
          },
          "metadata": {
            "tags": []
          },
          "execution_count": 19
        }
      ]
    },
    {
      "cell_type": "code",
      "metadata": {
        "id": "oI-0-3r_0TGE",
        "colab_type": "code",
        "outputId": "14b057a9-37ab-4434-e6f2-cd27a6761364",
        "colab": {
          "base_uri": "https://localhost:8080/",
          "height": 34
        }
      },
      "source": [
        "from sklearn.metrics import mean_absolute_error\n",
        "\n",
        "print(\"MAE by using SVM is {}.\".format(mean_absolute_error(y_test,y_pred)))"
      ],
      "execution_count": 20,
      "outputs": [
        {
          "output_type": "stream",
          "text": [
            "MAE by using SVM is 0.16899535621564618.\n"
          ],
          "name": "stdout"
        }
      ]
    },
    {
      "cell_type": "markdown",
      "metadata": {
        "id": "YeZ6MautArbq",
        "colab_type": "text"
      },
      "source": [
        "#### Train and Predict by using Linear Regression"
      ]
    },
    {
      "cell_type": "code",
      "metadata": {
        "id": "bEnw5-NSAyjb",
        "colab_type": "code",
        "outputId": "1a2df083-5be1-451b-8534-35baa74b4ee9",
        "colab": {
          "base_uri": "https://localhost:8080/",
          "height": 34
        }
      },
      "source": [
        "from sklearn.linear_model import LinearRegression\n",
        "\n",
        "lr = LinearRegression()\n",
        "# Train the model\n",
        "lr.fit(X_train, y_train)"
      ],
      "execution_count": 21,
      "outputs": [
        {
          "output_type": "execute_result",
          "data": {
            "text/plain": [
              "LinearRegression(copy_X=True, fit_intercept=True, n_jobs=None, normalize=False)"
            ]
          },
          "metadata": {
            "tags": []
          },
          "execution_count": 21
        }
      ]
    },
    {
      "cell_type": "code",
      "metadata": {
        "id": "5sytX6arCdrw",
        "colab_type": "code",
        "outputId": "38281b37-2344-434b-d3ce-6b4626e3287a",
        "colab": {
          "base_uri": "https://localhost:8080/",
          "height": 51
        }
      },
      "source": [
        "#To retrieve the intercept:\n",
        "print(lr.intercept_)\n",
        "#For retrieving the slope:\n",
        "print(lr.coef_)"
      ],
      "execution_count": 22,
      "outputs": [
        {
          "output_type": "stream",
          "text": [
            "-0.0062586246440604065\n",
            "[ 1.01635277 -0.00995282]\n"
          ],
          "name": "stdout"
        }
      ]
    },
    {
      "cell_type": "code",
      "metadata": {
        "id": "DUyYkInwA9iq",
        "colab_type": "code",
        "outputId": "9ec8e4b1-4382-4eb5-9e3c-932337230421",
        "colab": {
          "base_uri": "https://localhost:8080/",
          "height": 34
        }
      },
      "source": [
        "# Testing Model: Score returns the coefficient of determination R^2 of the prediction. \n",
        "# The best possible score is 1.0\n",
        "lr_confidence = lr.score(X_test, y_test)\n",
        "print(\"lr confidence: \", lr_confidence)"
      ],
      "execution_count": 23,
      "outputs": [
        {
          "output_type": "stream",
          "text": [
            "lr confidence:  0.6394366686693034\n"
          ],
          "name": "stdout"
        }
      ]
    },
    {
      "cell_type": "code",
      "metadata": {
        "id": "KgCE9R7qb11f",
        "colab_type": "code",
        "outputId": "61229a34-ca29-4b9b-beef-4bb7b86b773a",
        "colab": {
          "base_uri": "https://localhost:8080/",
          "height": 419
        }
      },
      "source": [
        "y_pred = lr.predict(X_test)\n",
        "df_pred = pd.DataFrame({'Actual': y_test, 'Predicted': y_pred})\n",
        "df_pred"
      ],
      "execution_count": 24,
      "outputs": [
        {
          "output_type": "execute_result",
          "data": {
            "text/html": [
              "<div>\n",
              "<style scoped>\n",
              "    .dataframe tbody tr th:only-of-type {\n",
              "        vertical-align: middle;\n",
              "    }\n",
              "\n",
              "    .dataframe tbody tr th {\n",
              "        vertical-align: top;\n",
              "    }\n",
              "\n",
              "    .dataframe thead th {\n",
              "        text-align: right;\n",
              "    }\n",
              "</style>\n",
              "<table border=\"1\" class=\"dataframe\">\n",
              "  <thead>\n",
              "    <tr style=\"text-align: right;\">\n",
              "      <th></th>\n",
              "      <th>Actual</th>\n",
              "      <th>Predicted</th>\n",
              "    </tr>\n",
              "  </thead>\n",
              "  <tbody>\n",
              "    <tr>\n",
              "      <th>13</th>\n",
              "      <td>0.049401</td>\n",
              "      <td>0.005128</td>\n",
              "    </tr>\n",
              "    <tr>\n",
              "      <th>844</th>\n",
              "      <td>0.614162</td>\n",
              "      <td>0.208127</td>\n",
              "    </tr>\n",
              "    <tr>\n",
              "      <th>664</th>\n",
              "      <td>0.398412</td>\n",
              "      <td>0.190628</td>\n",
              "    </tr>\n",
              "    <tr>\n",
              "      <th>269</th>\n",
              "      <td>0.997897</td>\n",
              "      <td>0.804977</td>\n",
              "    </tr>\n",
              "    <tr>\n",
              "      <th>720</th>\n",
              "      <td>-0.092484</td>\n",
              "      <td>0.224706</td>\n",
              "    </tr>\n",
              "    <tr>\n",
              "      <th>...</th>\n",
              "      <td>...</td>\n",
              "      <td>...</td>\n",
              "    </tr>\n",
              "    <tr>\n",
              "      <th>165</th>\n",
              "      <td>0.684949</td>\n",
              "      <td>0.462502</td>\n",
              "    </tr>\n",
              "    <tr>\n",
              "      <th>579</th>\n",
              "      <td>0.525803</td>\n",
              "      <td>0.486724</td>\n",
              "    </tr>\n",
              "    <tr>\n",
              "      <th>738</th>\n",
              "      <td>0.231537</td>\n",
              "      <td>0.274887</td>\n",
              "    </tr>\n",
              "    <tr>\n",
              "      <th>627</th>\n",
              "      <td>0.855463</td>\n",
              "      <td>0.824511</td>\n",
              "    </tr>\n",
              "    <tr>\n",
              "      <th>697</th>\n",
              "      <td>0.933244</td>\n",
              "      <td>0.559851</td>\n",
              "    </tr>\n",
              "  </tbody>\n",
              "</table>\n",
              "<p>100 rows × 2 columns</p>\n",
              "</div>"
            ],
            "text/plain": [
              "       Actual  Predicted\n",
              "13   0.049401   0.005128\n",
              "844  0.614162   0.208127\n",
              "664  0.398412   0.190628\n",
              "269  0.997897   0.804977\n",
              "720 -0.092484   0.224706\n",
              "..        ...        ...\n",
              "165  0.684949   0.462502\n",
              "579  0.525803   0.486724\n",
              "738  0.231537   0.274887\n",
              "627  0.855463   0.824511\n",
              "697  0.933244   0.559851\n",
              "\n",
              "[100 rows x 2 columns]"
            ]
          },
          "metadata": {
            "tags": []
          },
          "execution_count": 24
        }
      ]
    },
    {
      "cell_type": "code",
      "metadata": {
        "id": "amie4GAa0vzQ",
        "colab_type": "code",
        "outputId": "d5e634da-9e8d-430d-fd48-ee724b602df8",
        "colab": {
          "base_uri": "https://localhost:8080/",
          "height": 34
        }
      },
      "source": [
        "print(\"MAE by using linear regression is {} \".format(mean_absolute_error(y_test,y_pred)))"
      ],
      "execution_count": 25,
      "outputs": [
        {
          "output_type": "stream",
          "text": [
            "MAE by using linear regression is 0.16913136690701921 \n"
          ],
          "name": "stdout"
        }
      ]
    },
    {
      "cell_type": "markdown",
      "metadata": {
        "id": "rFvn9gc-s9Cm",
        "colab_type": "text"
      },
      "source": [
        "#### Train and Predict by using Random Forest"
      ]
    },
    {
      "cell_type": "code",
      "metadata": {
        "id": "XAbiir0ytG6l",
        "colab_type": "code",
        "outputId": "61ad169e-a191-4045-efec-2a399c565f30",
        "colab": {
          "base_uri": "https://localhost:8080/",
          "height": 136
        }
      },
      "source": [
        "from sklearn.ensemble import RandomForestRegressor\n",
        "\n",
        "rf = RandomForestRegressor(n_estimators = 1000, random_state = 42)\n",
        "# Train the model\n",
        "rf.fit(X_train, y_train)"
      ],
      "execution_count": 26,
      "outputs": [
        {
          "output_type": "execute_result",
          "data": {
            "text/plain": [
              "RandomForestRegressor(bootstrap=True, criterion='mse', max_depth=None,\n",
              "                      max_features='auto', max_leaf_nodes=None,\n",
              "                      min_impurity_decrease=0.0, min_impurity_split=None,\n",
              "                      min_samples_leaf=1, min_samples_split=2,\n",
              "                      min_weight_fraction_leaf=0.0, n_estimators=1000,\n",
              "                      n_jobs=None, oob_score=False, random_state=42, verbose=0,\n",
              "                      warm_start=False)"
            ]
          },
          "metadata": {
            "tags": []
          },
          "execution_count": 26
        }
      ]
    },
    {
      "cell_type": "code",
      "metadata": {
        "id": "jEglAT6XtdFM",
        "colab_type": "code",
        "outputId": "4ec78ac7-3e96-4eb1-e221-3bce02ff9a5f",
        "colab": {
          "base_uri": "https://localhost:8080/",
          "height": 34
        }
      },
      "source": [
        "# Testing Model: Score returns the coefficient of determination R^2 of the prediction. \n",
        "# The best possible score is 1.0\n",
        "rf_confidence = rf.score(X_test, y_test)\n",
        "print(\"rf confidence: \", rf_confidence)"
      ],
      "execution_count": 27,
      "outputs": [
        {
          "output_type": "stream",
          "text": [
            "rf confidence:  0.6024981588478191\n"
          ],
          "name": "stdout"
        }
      ]
    },
    {
      "cell_type": "code",
      "metadata": {
        "id": "Mn7xw434tfkp",
        "colab_type": "code",
        "outputId": "ab0e586a-0c24-4159-a269-a87e51e6063b",
        "colab": {
          "base_uri": "https://localhost:8080/",
          "height": 419
        }
      },
      "source": [
        "y_pred = rf.predict(X_test)\n",
        "df_pred = pd.DataFrame({'Actual': y_test, 'Predicted': y_pred})\n",
        "df_pred"
      ],
      "execution_count": 28,
      "outputs": [
        {
          "output_type": "execute_result",
          "data": {
            "text/html": [
              "<div>\n",
              "<style scoped>\n",
              "    .dataframe tbody tr th:only-of-type {\n",
              "        vertical-align: middle;\n",
              "    }\n",
              "\n",
              "    .dataframe tbody tr th {\n",
              "        vertical-align: top;\n",
              "    }\n",
              "\n",
              "    .dataframe thead th {\n",
              "        text-align: right;\n",
              "    }\n",
              "</style>\n",
              "<table border=\"1\" class=\"dataframe\">\n",
              "  <thead>\n",
              "    <tr style=\"text-align: right;\">\n",
              "      <th></th>\n",
              "      <th>Actual</th>\n",
              "      <th>Predicted</th>\n",
              "    </tr>\n",
              "  </thead>\n",
              "  <tbody>\n",
              "    <tr>\n",
              "      <th>13</th>\n",
              "      <td>0.049401</td>\n",
              "      <td>-0.243169</td>\n",
              "    </tr>\n",
              "    <tr>\n",
              "      <th>844</th>\n",
              "      <td>0.614162</td>\n",
              "      <td>0.404081</td>\n",
              "    </tr>\n",
              "    <tr>\n",
              "      <th>664</th>\n",
              "      <td>0.398412</td>\n",
              "      <td>0.196345</td>\n",
              "    </tr>\n",
              "    <tr>\n",
              "      <th>269</th>\n",
              "      <td>0.997897</td>\n",
              "      <td>0.770231</td>\n",
              "    </tr>\n",
              "    <tr>\n",
              "      <th>720</th>\n",
              "      <td>-0.092484</td>\n",
              "      <td>0.271159</td>\n",
              "    </tr>\n",
              "    <tr>\n",
              "      <th>...</th>\n",
              "      <td>...</td>\n",
              "      <td>...</td>\n",
              "    </tr>\n",
              "    <tr>\n",
              "      <th>165</th>\n",
              "      <td>0.684949</td>\n",
              "      <td>0.443809</td>\n",
              "    </tr>\n",
              "    <tr>\n",
              "      <th>579</th>\n",
              "      <td>0.525803</td>\n",
              "      <td>0.624305</td>\n",
              "    </tr>\n",
              "    <tr>\n",
              "      <th>738</th>\n",
              "      <td>0.231537</td>\n",
              "      <td>0.298604</td>\n",
              "    </tr>\n",
              "    <tr>\n",
              "      <th>627</th>\n",
              "      <td>0.855463</td>\n",
              "      <td>0.921185</td>\n",
              "    </tr>\n",
              "    <tr>\n",
              "      <th>697</th>\n",
              "      <td>0.933244</td>\n",
              "      <td>0.524613</td>\n",
              "    </tr>\n",
              "  </tbody>\n",
              "</table>\n",
              "<p>100 rows × 2 columns</p>\n",
              "</div>"
            ],
            "text/plain": [
              "       Actual  Predicted\n",
              "13   0.049401  -0.243169\n",
              "844  0.614162   0.404081\n",
              "664  0.398412   0.196345\n",
              "269  0.997897   0.770231\n",
              "720 -0.092484   0.271159\n",
              "..        ...        ...\n",
              "165  0.684949   0.443809\n",
              "579  0.525803   0.624305\n",
              "738  0.231537   0.298604\n",
              "627  0.855463   0.921185\n",
              "697  0.933244   0.524613\n",
              "\n",
              "[100 rows x 2 columns]"
            ]
          },
          "metadata": {
            "tags": []
          },
          "execution_count": 28
        }
      ]
    },
    {
      "cell_type": "code",
      "metadata": {
        "id": "d1ToSH9l007W",
        "colab_type": "code",
        "outputId": "4b793627-e142-4850-d0b6-4d630f205613",
        "colab": {
          "base_uri": "https://localhost:8080/",
          "height": 34
        }
      },
      "source": [
        "print(\"MAE by using random forest regressor is {} \".format(mean_absolute_error(y_test,y_pred)))"
      ],
      "execution_count": 29,
      "outputs": [
        {
          "output_type": "stream",
          "text": [
            "MAE by using random forest regressor is 0.18344455271608948 \n"
          ],
          "name": "stdout"
        }
      ]
    },
    {
      "cell_type": "markdown",
      "metadata": {
        "id": "tgmKgRKguhiv",
        "colab_type": "text"
      },
      "source": [
        "#### Train Model by using XGBoost Regressor\n",
        "\n"
      ]
    },
    {
      "cell_type": "code",
      "metadata": {
        "id": "jU58fY2Tunau",
        "colab_type": "code",
        "outputId": "13b333de-a7fc-4e09-b702-1a9a7799dfe4",
        "colab": {
          "base_uri": "https://localhost:8080/",
          "height": 241
        }
      },
      "source": [
        "from xgboost import XGBRegressor\n",
        "\n",
        "xgb = XGBRegressor()\n",
        "# Train the model\n",
        "xgb.fit(X_train, y_train)"
      ],
      "execution_count": 30,
      "outputs": [
        {
          "output_type": "stream",
          "text": [
            "[08:10:46] WARNING: /workspace/src/objective/regression_obj.cu:152: reg:linear is now deprecated in favor of reg:squarederror.\n"
          ],
          "name": "stdout"
        },
        {
          "output_type": "stream",
          "text": [
            "/usr/local/lib/python3.6/dist-packages/xgboost/core.py:587: FutureWarning: Series.base is deprecated and will be removed in a future version\n",
            "  if getattr(data, 'base', None) is not None and \\\n",
            "/usr/local/lib/python3.6/dist-packages/xgboost/core.py:588: FutureWarning: Series.base is deprecated and will be removed in a future version\n",
            "  data.base is not None and isinstance(data, np.ndarray) \\\n"
          ],
          "name": "stderr"
        },
        {
          "output_type": "execute_result",
          "data": {
            "text/plain": [
              "XGBRegressor(base_score=0.5, booster='gbtree', colsample_bylevel=1,\n",
              "             colsample_bynode=1, colsample_bytree=1, gamma=0,\n",
              "             importance_type='gain', learning_rate=0.1, max_delta_step=0,\n",
              "             max_depth=3, min_child_weight=1, missing=None, n_estimators=100,\n",
              "             n_jobs=1, nthread=None, objective='reg:linear', random_state=0,\n",
              "             reg_alpha=0, reg_lambda=1, scale_pos_weight=1, seed=None,\n",
              "             silent=None, subsample=1, verbosity=1)"
            ]
          },
          "metadata": {
            "tags": []
          },
          "execution_count": 30
        }
      ]
    },
    {
      "cell_type": "code",
      "metadata": {
        "id": "I-uGsXZEvH6G",
        "colab_type": "code",
        "outputId": "f313fc55-65d9-4687-b36d-24e5529018fa",
        "colab": {
          "base_uri": "https://localhost:8080/",
          "height": 34
        }
      },
      "source": [
        "# Testing Model: Score returns the coefficient of determination R^2 of the prediction. \n",
        "# The best possible score is 1.0\n",
        "xgb_confidence = xgb.score(X_test, y_test)\n",
        "print(\"xgb confidence: \", xgb_confidence)"
      ],
      "execution_count": 31,
      "outputs": [
        {
          "output_type": "stream",
          "text": [
            "xgb confidence:  0.6163327638290577\n"
          ],
          "name": "stdout"
        }
      ]
    },
    {
      "cell_type": "code",
      "metadata": {
        "id": "s0zCcuLivKfq",
        "colab_type": "code",
        "outputId": "bb9ce50a-8892-4718-dc5a-a3ad3e9e6b32",
        "colab": {
          "base_uri": "https://localhost:8080/",
          "height": 419
        }
      },
      "source": [
        "y_pred = xgb.predict(X_test)\n",
        "df_pred = pd.DataFrame({'Actual': y_test, 'Predicted': y_pred})\n",
        "df_pred"
      ],
      "execution_count": 32,
      "outputs": [
        {
          "output_type": "execute_result",
          "data": {
            "text/html": [
              "<div>\n",
              "<style scoped>\n",
              "    .dataframe tbody tr th:only-of-type {\n",
              "        vertical-align: middle;\n",
              "    }\n",
              "\n",
              "    .dataframe tbody tr th {\n",
              "        vertical-align: top;\n",
              "    }\n",
              "\n",
              "    .dataframe thead th {\n",
              "        text-align: right;\n",
              "    }\n",
              "</style>\n",
              "<table border=\"1\" class=\"dataframe\">\n",
              "  <thead>\n",
              "    <tr style=\"text-align: right;\">\n",
              "      <th></th>\n",
              "      <th>Actual</th>\n",
              "      <th>Predicted</th>\n",
              "    </tr>\n",
              "  </thead>\n",
              "  <tbody>\n",
              "    <tr>\n",
              "      <th>13</th>\n",
              "      <td>0.049401</td>\n",
              "      <td>-0.172455</td>\n",
              "    </tr>\n",
              "    <tr>\n",
              "      <th>844</th>\n",
              "      <td>0.614162</td>\n",
              "      <td>0.265928</td>\n",
              "    </tr>\n",
              "    <tr>\n",
              "      <th>664</th>\n",
              "      <td>0.398412</td>\n",
              "      <td>0.208245</td>\n",
              "    </tr>\n",
              "    <tr>\n",
              "      <th>269</th>\n",
              "      <td>0.997897</td>\n",
              "      <td>0.757832</td>\n",
              "    </tr>\n",
              "    <tr>\n",
              "      <th>720</th>\n",
              "      <td>-0.092484</td>\n",
              "      <td>0.264152</td>\n",
              "    </tr>\n",
              "    <tr>\n",
              "      <th>...</th>\n",
              "      <td>...</td>\n",
              "      <td>...</td>\n",
              "    </tr>\n",
              "    <tr>\n",
              "      <th>165</th>\n",
              "      <td>0.684949</td>\n",
              "      <td>0.505266</td>\n",
              "    </tr>\n",
              "    <tr>\n",
              "      <th>579</th>\n",
              "      <td>0.525803</td>\n",
              "      <td>0.517103</td>\n",
              "    </tr>\n",
              "    <tr>\n",
              "      <th>738</th>\n",
              "      <td>0.231537</td>\n",
              "      <td>0.286148</td>\n",
              "    </tr>\n",
              "    <tr>\n",
              "      <th>627</th>\n",
              "      <td>0.855463</td>\n",
              "      <td>0.834017</td>\n",
              "    </tr>\n",
              "    <tr>\n",
              "      <th>697</th>\n",
              "      <td>0.933244</td>\n",
              "      <td>0.597467</td>\n",
              "    </tr>\n",
              "  </tbody>\n",
              "</table>\n",
              "<p>100 rows × 2 columns</p>\n",
              "</div>"
            ],
            "text/plain": [
              "       Actual  Predicted\n",
              "13   0.049401  -0.172455\n",
              "844  0.614162   0.265928\n",
              "664  0.398412   0.208245\n",
              "269  0.997897   0.757832\n",
              "720 -0.092484   0.264152\n",
              "..        ...        ...\n",
              "165  0.684949   0.505266\n",
              "579  0.525803   0.517103\n",
              "738  0.231537   0.286148\n",
              "627  0.855463   0.834017\n",
              "697  0.933244   0.597467\n",
              "\n",
              "[100 rows x 2 columns]"
            ]
          },
          "metadata": {
            "tags": []
          },
          "execution_count": 32
        }
      ]
    },
    {
      "cell_type": "code",
      "metadata": {
        "id": "yz9L5iQR04IM",
        "colab_type": "code",
        "outputId": "3c0bdf50-29c0-4174-e843-5d819945bfd9",
        "colab": {
          "base_uri": "https://localhost:8080/",
          "height": 34
        }
      },
      "source": [
        "print(\"MAE by using XGBoost regressor is {} \".format(mean_absolute_error(y_test,y_pred)))"
      ],
      "execution_count": 33,
      "outputs": [
        {
          "output_type": "stream",
          "text": [
            "MAE by using XGBoost regressor is 0.1753815596308856 \n"
          ],
          "name": "stdout"
        }
      ]
    },
    {
      "cell_type": "markdown",
      "metadata": {
        "id": "e5l0iPWXDV8o",
        "colab_type": "text"
      },
      "source": [
        "#### Train and Predict by using MLP"
      ]
    },
    {
      "cell_type": "code",
      "metadata": {
        "id": "UAj3RDVDDYwa",
        "colab_type": "code",
        "outputId": "deb8555c-22a9-4958-c23c-ba0371b8cd7c",
        "colab": {
          "base_uri": "https://localhost:8080/",
          "height": 97
        }
      },
      "source": [
        "from sklearn.preprocessing import MinMaxScaler\n",
        "from sklearn.metrics import mean_squared_error\n",
        "from keras.models import Sequential\n",
        "from keras.layers import Dense, Dropout,  Activation\n",
        "from keras.callbacks import ModelCheckpoint, EarlyStopping, ReduceLROnPlateau"
      ],
      "execution_count": 34,
      "outputs": [
        {
          "output_type": "stream",
          "text": [
            "Using TensorFlow backend.\n"
          ],
          "name": "stderr"
        },
        {
          "output_type": "display_data",
          "data": {
            "text/html": [
              "<p style=\"color: red;\">\n",
              "The default version of TensorFlow in Colab will soon switch to TensorFlow 2.x.<br>\n",
              "We recommend you <a href=\"https://www.tensorflow.org/guide/migrate\" target=\"_blank\">upgrade</a> now \n",
              "or ensure your notebook will continue to use TensorFlow 1.x via the <code>%tensorflow_version 1.x</code> magic:\n",
              "<a href=\"https://colab.research.google.com/notebooks/tensorflow_version.ipynb\" target=\"_blank\">more info</a>.</p>\n"
            ],
            "text/plain": [
              "<IPython.core.display.HTML object>"
            ]
          },
          "metadata": {
            "tags": []
          }
        }
      ]
    },
    {
      "cell_type": "code",
      "metadata": {
        "id": "AxweJRp3kTdf",
        "colab_type": "code",
        "colab": {}
      },
      "source": [
        "X_train, X_val, y_train, y_val = split(X_train, y_train, test_size = 0.1)"
      ],
      "execution_count": 0,
      "outputs": []
    },
    {
      "cell_type": "code",
      "metadata": {
        "id": "XLNxBvezV7BW",
        "colab_type": "code",
        "outputId": "ddad468c-e693-422e-9523-0408272205fe",
        "colab": {
          "base_uri": "https://localhost:8080/",
          "height": 530
        }
      },
      "source": [
        "model = Sequential()\n",
        "model.add(Dense(1000, input_dim=2,activation='relu'))\n",
        "model.add(Dropout(0.5))\n",
        "model.add(Dense(500, activation=\"relu\"))\n",
        "model.add(Dropout(0.5))\n",
        "model.add(Dense(1, activation='linear'))\n",
        "model.summary()"
      ],
      "execution_count": 36,
      "outputs": [
        {
          "output_type": "stream",
          "text": [
            "WARNING:tensorflow:From /usr/local/lib/python3.6/dist-packages/keras/backend/tensorflow_backend.py:66: The name tf.get_default_graph is deprecated. Please use tf.compat.v1.get_default_graph instead.\n",
            "\n",
            "WARNING:tensorflow:From /usr/local/lib/python3.6/dist-packages/keras/backend/tensorflow_backend.py:541: The name tf.placeholder is deprecated. Please use tf.compat.v1.placeholder instead.\n",
            "\n",
            "WARNING:tensorflow:From /usr/local/lib/python3.6/dist-packages/keras/backend/tensorflow_backend.py:4432: The name tf.random_uniform is deprecated. Please use tf.random.uniform instead.\n",
            "\n",
            "WARNING:tensorflow:From /usr/local/lib/python3.6/dist-packages/keras/backend/tensorflow_backend.py:148: The name tf.placeholder_with_default is deprecated. Please use tf.compat.v1.placeholder_with_default instead.\n",
            "\n",
            "WARNING:tensorflow:From /usr/local/lib/python3.6/dist-packages/keras/backend/tensorflow_backend.py:3733: calling dropout (from tensorflow.python.ops.nn_ops) with keep_prob is deprecated and will be removed in a future version.\n",
            "Instructions for updating:\n",
            "Please use `rate` instead of `keep_prob`. Rate should be set to `rate = 1 - keep_prob`.\n",
            "Model: \"sequential_1\"\n",
            "_________________________________________________________________\n",
            "Layer (type)                 Output Shape              Param #   \n",
            "=================================================================\n",
            "dense_1 (Dense)              (None, 1000)              3000      \n",
            "_________________________________________________________________\n",
            "dropout_1 (Dropout)          (None, 1000)              0         \n",
            "_________________________________________________________________\n",
            "dense_2 (Dense)              (None, 500)               500500    \n",
            "_________________________________________________________________\n",
            "dropout_2 (Dropout)          (None, 500)               0         \n",
            "_________________________________________________________________\n",
            "dense_3 (Dense)              (None, 1)                 501       \n",
            "=================================================================\n",
            "Total params: 504,001\n",
            "Trainable params: 504,001\n",
            "Non-trainable params: 0\n",
            "_________________________________________________________________\n"
          ],
          "name": "stdout"
        }
      ]
    },
    {
      "cell_type": "code",
      "metadata": {
        "id": "jM4G02Ghjo3s",
        "colab_type": "code",
        "outputId": "130eca53-34ff-4ebc-ff1c-c778e5ee17a8",
        "colab": {
          "base_uri": "https://localhost:8080/",
          "height": 190
        }
      },
      "source": [
        "!pip install keras-rectified-adam"
      ],
      "execution_count": 37,
      "outputs": [
        {
          "output_type": "stream",
          "text": [
            "Requirement already satisfied: keras-rectified-adam in /usr/local/lib/python3.6/dist-packages (0.17.0)\n",
            "Requirement already satisfied: Keras in /usr/local/lib/python3.6/dist-packages (from keras-rectified-adam) (2.2.5)\n",
            "Requirement already satisfied: numpy in /usr/local/lib/python3.6/dist-packages (from keras-rectified-adam) (1.17.4)\n",
            "Requirement already satisfied: scipy>=0.14 in /usr/local/lib/python3.6/dist-packages (from Keras->keras-rectified-adam) (1.3.3)\n",
            "Requirement already satisfied: keras-applications>=1.0.8 in /usr/local/lib/python3.6/dist-packages (from Keras->keras-rectified-adam) (1.0.8)\n",
            "Requirement already satisfied: pyyaml in /usr/local/lib/python3.6/dist-packages (from Keras->keras-rectified-adam) (3.13)\n",
            "Requirement already satisfied: six>=1.9.0 in /usr/local/lib/python3.6/dist-packages (from Keras->keras-rectified-adam) (1.12.0)\n",
            "Requirement already satisfied: h5py in /usr/local/lib/python3.6/dist-packages (from Keras->keras-rectified-adam) (2.8.0)\n",
            "Requirement already satisfied: keras-preprocessing>=1.1.0 in /usr/local/lib/python3.6/dist-packages (from Keras->keras-rectified-adam) (1.1.0)\n"
          ],
          "name": "stdout"
        }
      ]
    },
    {
      "cell_type": "code",
      "metadata": {
        "id": "LxsVgWy9YGIr",
        "colab_type": "code",
        "outputId": "e5679111-4003-42f2-8c4e-9f787c90756d",
        "colab": {
          "base_uri": "https://localhost:8080/",
          "height": 1000
        }
      },
      "source": [
        "from keras_radam import RAdam\n",
        "\n",
        "model.compile(loss='mse', optimizer=RAdam(), metrics=['mse','mae'])\n",
        "checkpointer = [\n",
        "    ReduceLROnPlateau(monitor='val_loss', \n",
        "                      patience=3, \n",
        "                      verbose=1,\n",
        "                      factor=0.5,\n",
        "                      min_lr = 0.00001,\n",
        "                      cooldown=0),\n",
        "    ModelCheckpoint(filepath='best.hdf5', verbose=1, \n",
        "                               save_best_only=True)\n",
        "]\n",
        "history = model.fit(X_train, y_train, epochs=150, batch_size=128,  verbose=1, validation_data=[X_val, y_val], shuffle=True, callbacks=checkpointer)\n",
        "train_acc = model.evaluate(X_train, y_train, verbose=0)\n",
        "val_acc = model.evaluate(X_val, y_val, verbose=0)"
      ],
      "execution_count": 38,
      "outputs": [
        {
          "output_type": "stream",
          "text": [
            "WARNING:tensorflow:From /usr/local/lib/python3.6/dist-packages/keras/optimizers.py:793: The name tf.train.Optimizer is deprecated. Please use tf.compat.v1.train.Optimizer instead.\n",
            "\n",
            "WARNING:tensorflow:From /usr/local/lib/python3.6/dist-packages/keras/backend/tensorflow_backend.py:1033: The name tf.assign_add is deprecated. Please use tf.compat.v1.assign_add instead.\n",
            "\n",
            "WARNING:tensorflow:From /usr/local/lib/python3.6/dist-packages/keras/backend/tensorflow_backend.py:1020: The name tf.assign is deprecated. Please use tf.compat.v1.assign instead.\n",
            "\n",
            "WARNING:tensorflow:From /usr/local/lib/python3.6/dist-packages/keras/backend/tensorflow_backend.py:3005: The name tf.Session is deprecated. Please use tf.compat.v1.Session instead.\n",
            "\n",
            "Train on 810 samples, validate on 90 samples\n",
            "Epoch 1/150\n",
            "WARNING:tensorflow:From /usr/local/lib/python3.6/dist-packages/keras/backend/tensorflow_backend.py:190: The name tf.get_default_session is deprecated. Please use tf.compat.v1.get_default_session instead.\n",
            "\n",
            "WARNING:tensorflow:From /usr/local/lib/python3.6/dist-packages/keras/backend/tensorflow_backend.py:197: The name tf.ConfigProto is deprecated. Please use tf.compat.v1.ConfigProto instead.\n",
            "\n",
            "WARNING:tensorflow:From /usr/local/lib/python3.6/dist-packages/keras/backend/tensorflow_backend.py:207: The name tf.global_variables is deprecated. Please use tf.compat.v1.global_variables instead.\n",
            "\n",
            "WARNING:tensorflow:From /usr/local/lib/python3.6/dist-packages/keras/backend/tensorflow_backend.py:216: The name tf.is_variable_initialized is deprecated. Please use tf.compat.v1.is_variable_initialized instead.\n",
            "\n",
            "WARNING:tensorflow:From /usr/local/lib/python3.6/dist-packages/keras/backend/tensorflow_backend.py:223: The name tf.variables_initializer is deprecated. Please use tf.compat.v1.variables_initializer instead.\n",
            "\n",
            "810/810 [==============================] - 1s 1ms/step - loss: 0.3564 - mean_squared_error: 0.3564 - mean_absolute_error: 0.5038 - val_loss: 0.3317 - val_mean_squared_error: 0.3317 - val_mean_absolute_error: 0.4895\n",
            "\n",
            "Epoch 00001: val_loss improved from inf to 0.33173, saving model to best.hdf5\n",
            "Epoch 2/150\n",
            "810/810 [==============================] - 0s 41us/step - loss: 0.3056 - mean_squared_error: 0.3056 - mean_absolute_error: 0.4647 - val_loss: 0.2411 - val_mean_squared_error: 0.2411 - val_mean_absolute_error: 0.4141\n",
            "\n",
            "Epoch 00002: val_loss improved from 0.33173 to 0.24111, saving model to best.hdf5\n",
            "Epoch 3/150\n",
            "810/810 [==============================] - 0s 47us/step - loss: 0.2093 - mean_squared_error: 0.2093 - mean_absolute_error: 0.3772 - val_loss: 0.1422 - val_mean_squared_error: 0.1422 - val_mean_absolute_error: 0.3142\n",
            "\n",
            "Epoch 00003: val_loss improved from 0.24111 to 0.14218, saving model to best.hdf5\n",
            "Epoch 4/150\n",
            "810/810 [==============================] - 0s 33us/step - loss: 0.1197 - mean_squared_error: 0.1197 - mean_absolute_error: 0.2796 - val_loss: 0.0705 - val_mean_squared_error: 0.0705 - val_mean_absolute_error: 0.2154\n",
            "\n",
            "Epoch 00004: val_loss improved from 0.14218 to 0.07048, saving model to best.hdf5\n",
            "Epoch 5/150\n",
            "810/810 [==============================] - 0s 34us/step - loss: 0.0648 - mean_squared_error: 0.0648 - mean_absolute_error: 0.2059 - val_loss: 0.0423 - val_mean_squared_error: 0.0423 - val_mean_absolute_error: 0.1667\n",
            "\n",
            "Epoch 00005: val_loss improved from 0.07048 to 0.04227, saving model to best.hdf5\n",
            "Epoch 6/150\n",
            "810/810 [==============================] - 0s 30us/step - loss: 0.0551 - mean_squared_error: 0.0551 - mean_absolute_error: 0.1879 - val_loss: 0.0445 - val_mean_squared_error: 0.0445 - val_mean_absolute_error: 0.1751\n",
            "\n",
            "Epoch 00006: val_loss did not improve from 0.04227\n",
            "Epoch 7/150\n",
            "810/810 [==============================] - 0s 32us/step - loss: 0.0600 - mean_squared_error: 0.0600 - mean_absolute_error: 0.2014 - val_loss: 0.0434 - val_mean_squared_error: 0.0434 - val_mean_absolute_error: 0.1732\n",
            "\n",
            "Epoch 00007: val_loss did not improve from 0.04227\n",
            "Epoch 8/150\n",
            "810/810 [==============================] - 0s 34us/step - loss: 0.0564 - mean_squared_error: 0.0564 - mean_absolute_error: 0.1906 - val_loss: 0.0389 - val_mean_squared_error: 0.0389 - val_mean_absolute_error: 0.1624\n",
            "\n",
            "Epoch 00008: val_loss improved from 0.04227 to 0.03891, saving model to best.hdf5\n",
            "Epoch 9/150\n",
            "810/810 [==============================] - 0s 39us/step - loss: 0.0525 - mean_squared_error: 0.0525 - mean_absolute_error: 0.1841 - val_loss: 0.0393 - val_mean_squared_error: 0.0393 - val_mean_absolute_error: 0.1633\n",
            "\n",
            "Epoch 00009: val_loss did not improve from 0.03891\n",
            "Epoch 10/150\n",
            "810/810 [==============================] - 0s 34us/step - loss: 0.0506 - mean_squared_error: 0.0506 - mean_absolute_error: 0.1809 - val_loss: 0.0388 - val_mean_squared_error: 0.0388 - val_mean_absolute_error: 0.1626\n",
            "\n",
            "Epoch 00010: val_loss improved from 0.03891 to 0.03876, saving model to best.hdf5\n",
            "Epoch 11/150\n",
            "810/810 [==============================] - 0s 37us/step - loss: 0.0488 - mean_squared_error: 0.0488 - mean_absolute_error: 0.1779 - val_loss: 0.0372 - val_mean_squared_error: 0.0372 - val_mean_absolute_error: 0.1597\n",
            "\n",
            "Epoch 00011: val_loss improved from 0.03876 to 0.03719, saving model to best.hdf5\n",
            "Epoch 12/150\n",
            "810/810 [==============================] - 0s 35us/step - loss: 0.0491 - mean_squared_error: 0.0491 - mean_absolute_error: 0.1776 - val_loss: 0.0361 - val_mean_squared_error: 0.0361 - val_mean_absolute_error: 0.1570\n",
            "\n",
            "Epoch 00012: val_loss improved from 0.03719 to 0.03605, saving model to best.hdf5\n",
            "Epoch 13/150\n",
            "810/810 [==============================] - 0s 40us/step - loss: 0.0476 - mean_squared_error: 0.0476 - mean_absolute_error: 0.1762 - val_loss: 0.0360 - val_mean_squared_error: 0.0360 - val_mean_absolute_error: 0.1563\n",
            "\n",
            "Epoch 00013: val_loss improved from 0.03605 to 0.03604, saving model to best.hdf5\n",
            "Epoch 14/150\n",
            "810/810 [==============================] - 0s 39us/step - loss: 0.0498 - mean_squared_error: 0.0498 - mean_absolute_error: 0.1815 - val_loss: 0.0371 - val_mean_squared_error: 0.0371 - val_mean_absolute_error: 0.1580\n",
            "\n",
            "Epoch 00014: val_loss did not improve from 0.03604\n",
            "Epoch 15/150\n",
            "810/810 [==============================] - 0s 34us/step - loss: 0.0465 - mean_squared_error: 0.0465 - mean_absolute_error: 0.1726 - val_loss: 0.0368 - val_mean_squared_error: 0.0368 - val_mean_absolute_error: 0.1573\n",
            "\n",
            "Epoch 00015: ReduceLROnPlateau reducing learning rate to 0.0005000000237487257.\n",
            "\n",
            "Epoch 00015: val_loss did not improve from 0.03604\n",
            "Epoch 16/150\n",
            "810/810 [==============================] - 0s 32us/step - loss: 0.0471 - mean_squared_error: 0.0471 - mean_absolute_error: 0.1755 - val_loss: 0.0367 - val_mean_squared_error: 0.0367 - val_mean_absolute_error: 0.1572\n",
            "\n",
            "Epoch 00016: val_loss did not improve from 0.03604\n",
            "Epoch 17/150\n",
            "810/810 [==============================] - 0s 43us/step - loss: 0.0477 - mean_squared_error: 0.0477 - mean_absolute_error: 0.1745 - val_loss: 0.0371 - val_mean_squared_error: 0.0371 - val_mean_absolute_error: 0.1576\n",
            "\n",
            "Epoch 00017: val_loss did not improve from 0.03604\n",
            "Epoch 18/150\n",
            "810/810 [==============================] - 0s 37us/step - loss: 0.0478 - mean_squared_error: 0.0478 - mean_absolute_error: 0.1746 - val_loss: 0.0371 - val_mean_squared_error: 0.0371 - val_mean_absolute_error: 0.1577\n",
            "\n",
            "Epoch 00018: ReduceLROnPlateau reducing learning rate to 0.0002500000118743628.\n",
            "\n",
            "Epoch 00018: val_loss did not improve from 0.03604\n",
            "Epoch 19/150\n",
            "810/810 [==============================] - 0s 32us/step - loss: 0.0478 - mean_squared_error: 0.0478 - mean_absolute_error: 0.1756 - val_loss: 0.0372 - val_mean_squared_error: 0.0372 - val_mean_absolute_error: 0.1578\n",
            "\n",
            "Epoch 00019: val_loss did not improve from 0.03604\n",
            "Epoch 20/150\n",
            "810/810 [==============================] - 0s 39us/step - loss: 0.0460 - mean_squared_error: 0.0460 - mean_absolute_error: 0.1738 - val_loss: 0.0371 - val_mean_squared_error: 0.0371 - val_mean_absolute_error: 0.1577\n",
            "\n",
            "Epoch 00020: val_loss did not improve from 0.03604\n",
            "Epoch 21/150\n",
            "810/810 [==============================] - 0s 38us/step - loss: 0.0478 - mean_squared_error: 0.0478 - mean_absolute_error: 0.1764 - val_loss: 0.0370 - val_mean_squared_error: 0.0370 - val_mean_absolute_error: 0.1576\n",
            "\n",
            "Epoch 00021: ReduceLROnPlateau reducing learning rate to 0.0001250000059371814.\n",
            "\n",
            "Epoch 00021: val_loss did not improve from 0.03604\n",
            "Epoch 22/150\n",
            "810/810 [==============================] - 0s 39us/step - loss: 0.0459 - mean_squared_error: 0.0459 - mean_absolute_error: 0.1743 - val_loss: 0.0370 - val_mean_squared_error: 0.0370 - val_mean_absolute_error: 0.1575\n",
            "\n",
            "Epoch 00022: val_loss did not improve from 0.03604\n",
            "Epoch 23/150\n",
            "810/810 [==============================] - 0s 33us/step - loss: 0.0449 - mean_squared_error: 0.0449 - mean_absolute_error: 0.1709 - val_loss: 0.0370 - val_mean_squared_error: 0.0370 - val_mean_absolute_error: 0.1575\n",
            "\n",
            "Epoch 00023: val_loss did not improve from 0.03604\n",
            "Epoch 24/150\n",
            "810/810 [==============================] - 0s 33us/step - loss: 0.0466 - mean_squared_error: 0.0466 - mean_absolute_error: 0.1735 - val_loss: 0.0372 - val_mean_squared_error: 0.0372 - val_mean_absolute_error: 0.1577\n",
            "\n",
            "Epoch 00024: ReduceLROnPlateau reducing learning rate to 6.25000029685907e-05.\n",
            "\n",
            "Epoch 00024: val_loss did not improve from 0.03604\n",
            "Epoch 25/150\n",
            "810/810 [==============================] - 0s 30us/step - loss: 0.0469 - mean_squared_error: 0.0469 - mean_absolute_error: 0.1744 - val_loss: 0.0371 - val_mean_squared_error: 0.0371 - val_mean_absolute_error: 0.1577\n",
            "\n",
            "Epoch 00025: val_loss did not improve from 0.03604\n",
            "Epoch 26/150\n",
            "810/810 [==============================] - 0s 37us/step - loss: 0.0472 - mean_squared_error: 0.0472 - mean_absolute_error: 0.1743 - val_loss: 0.0371 - val_mean_squared_error: 0.0371 - val_mean_absolute_error: 0.1576\n",
            "\n",
            "Epoch 00026: val_loss did not improve from 0.03604\n",
            "Epoch 27/150\n",
            "810/810 [==============================] - 0s 37us/step - loss: 0.0451 - mean_squared_error: 0.0451 - mean_absolute_error: 0.1711 - val_loss: 0.0371 - val_mean_squared_error: 0.0371 - val_mean_absolute_error: 0.1575\n",
            "\n",
            "Epoch 00027: ReduceLROnPlateau reducing learning rate to 3.125000148429535e-05.\n",
            "\n",
            "Epoch 00027: val_loss did not improve from 0.03604\n",
            "Epoch 28/150\n",
            "810/810 [==============================] - 0s 42us/step - loss: 0.0478 - mean_squared_error: 0.0478 - mean_absolute_error: 0.1770 - val_loss: 0.0370 - val_mean_squared_error: 0.0370 - val_mean_absolute_error: 0.1574\n",
            "\n",
            "Epoch 00028: val_loss did not improve from 0.03604\n",
            "Epoch 29/150\n",
            "810/810 [==============================] - 0s 41us/step - loss: 0.0452 - mean_squared_error: 0.0452 - mean_absolute_error: 0.1711 - val_loss: 0.0370 - val_mean_squared_error: 0.0370 - val_mean_absolute_error: 0.1574\n",
            "\n",
            "Epoch 00029: val_loss did not improve from 0.03604\n",
            "Epoch 30/150\n",
            "810/810 [==============================] - 0s 33us/step - loss: 0.0478 - mean_squared_error: 0.0478 - mean_absolute_error: 0.1762 - val_loss: 0.0370 - val_mean_squared_error: 0.0370 - val_mean_absolute_error: 0.1574\n",
            "\n",
            "Epoch 00030: ReduceLROnPlateau reducing learning rate to 1.5625000742147677e-05.\n",
            "\n",
            "Epoch 00030: val_loss did not improve from 0.03604\n",
            "Epoch 31/150\n",
            "810/810 [==============================] - 0s 39us/step - loss: 0.0459 - mean_squared_error: 0.0459 - mean_absolute_error: 0.1721 - val_loss: 0.0370 - val_mean_squared_error: 0.0370 - val_mean_absolute_error: 0.1574\n",
            "\n",
            "Epoch 00031: val_loss did not improve from 0.03604\n",
            "Epoch 32/150\n",
            "810/810 [==============================] - 0s 33us/step - loss: 0.0464 - mean_squared_error: 0.0464 - mean_absolute_error: 0.1746 - val_loss: 0.0370 - val_mean_squared_error: 0.0370 - val_mean_absolute_error: 0.1574\n",
            "\n",
            "Epoch 00032: val_loss did not improve from 0.03604\n",
            "Epoch 33/150\n",
            "810/810 [==============================] - 0s 35us/step - loss: 0.0466 - mean_squared_error: 0.0466 - mean_absolute_error: 0.1727 - val_loss: 0.0370 - val_mean_squared_error: 0.0370 - val_mean_absolute_error: 0.1574\n",
            "\n",
            "Epoch 00033: ReduceLROnPlateau reducing learning rate to 1e-05.\n",
            "\n",
            "Epoch 00033: val_loss did not improve from 0.03604\n",
            "Epoch 34/150\n",
            "810/810 [==============================] - 0s 38us/step - loss: 0.0474 - mean_squared_error: 0.0474 - mean_absolute_error: 0.1749 - val_loss: 0.0370 - val_mean_squared_error: 0.0370 - val_mean_absolute_error: 0.1574\n",
            "\n",
            "Epoch 00034: val_loss did not improve from 0.03604\n",
            "Epoch 35/150\n",
            "810/810 [==============================] - 0s 49us/step - loss: 0.0483 - mean_squared_error: 0.0483 - mean_absolute_error: 0.1770 - val_loss: 0.0370 - val_mean_squared_error: 0.0370 - val_mean_absolute_error: 0.1574\n",
            "\n",
            "Epoch 00035: val_loss did not improve from 0.03604\n",
            "Epoch 36/150\n",
            "810/810 [==============================] - 0s 40us/step - loss: 0.0474 - mean_squared_error: 0.0474 - mean_absolute_error: 0.1758 - val_loss: 0.0370 - val_mean_squared_error: 0.0370 - val_mean_absolute_error: 0.1574\n",
            "\n",
            "Epoch 00036: val_loss did not improve from 0.03604\n",
            "Epoch 37/150\n",
            "810/810 [==============================] - 0s 36us/step - loss: 0.0477 - mean_squared_error: 0.0477 - mean_absolute_error: 0.1755 - val_loss: 0.0370 - val_mean_squared_error: 0.0370 - val_mean_absolute_error: 0.1574\n",
            "\n",
            "Epoch 00037: val_loss did not improve from 0.03604\n",
            "Epoch 38/150\n",
            "810/810 [==============================] - 0s 35us/step - loss: 0.0496 - mean_squared_error: 0.0496 - mean_absolute_error: 0.1788 - val_loss: 0.0370 - val_mean_squared_error: 0.0370 - val_mean_absolute_error: 0.1575\n",
            "\n",
            "Epoch 00038: val_loss did not improve from 0.03604\n",
            "Epoch 39/150\n",
            "810/810 [==============================] - 0s 31us/step - loss: 0.0464 - mean_squared_error: 0.0464 - mean_absolute_error: 0.1721 - val_loss: 0.0371 - val_mean_squared_error: 0.0371 - val_mean_absolute_error: 0.1575\n",
            "\n",
            "Epoch 00039: val_loss did not improve from 0.03604\n",
            "Epoch 40/150\n",
            "810/810 [==============================] - 0s 33us/step - loss: 0.0480 - mean_squared_error: 0.0480 - mean_absolute_error: 0.1771 - val_loss: 0.0371 - val_mean_squared_error: 0.0371 - val_mean_absolute_error: 0.1575\n",
            "\n",
            "Epoch 00040: val_loss did not improve from 0.03604\n",
            "Epoch 41/150\n",
            "810/810 [==============================] - 0s 40us/step - loss: 0.0491 - mean_squared_error: 0.0491 - mean_absolute_error: 0.1779 - val_loss: 0.0371 - val_mean_squared_error: 0.0371 - val_mean_absolute_error: 0.1575\n",
            "\n",
            "Epoch 00041: val_loss did not improve from 0.03604\n",
            "Epoch 42/150\n",
            "810/810 [==============================] - 0s 37us/step - loss: 0.0471 - mean_squared_error: 0.0471 - mean_absolute_error: 0.1744 - val_loss: 0.0370 - val_mean_squared_error: 0.0370 - val_mean_absolute_error: 0.1574\n",
            "\n",
            "Epoch 00042: val_loss did not improve from 0.03604\n",
            "Epoch 43/150\n",
            "810/810 [==============================] - 0s 36us/step - loss: 0.0480 - mean_squared_error: 0.0480 - mean_absolute_error: 0.1749 - val_loss: 0.0371 - val_mean_squared_error: 0.0371 - val_mean_absolute_error: 0.1575\n",
            "\n",
            "Epoch 00043: val_loss did not improve from 0.03604\n",
            "Epoch 44/150\n",
            "810/810 [==============================] - 0s 34us/step - loss: 0.0467 - mean_squared_error: 0.0467 - mean_absolute_error: 0.1738 - val_loss: 0.0371 - val_mean_squared_error: 0.0371 - val_mean_absolute_error: 0.1575\n",
            "\n",
            "Epoch 00044: val_loss did not improve from 0.03604\n",
            "Epoch 45/150\n",
            "810/810 [==============================] - 0s 35us/step - loss: 0.0454 - mean_squared_error: 0.0454 - mean_absolute_error: 0.1718 - val_loss: 0.0371 - val_mean_squared_error: 0.0371 - val_mean_absolute_error: 0.1575\n",
            "\n",
            "Epoch 00045: val_loss did not improve from 0.03604\n",
            "Epoch 46/150\n",
            "810/810 [==============================] - 0s 31us/step - loss: 0.0479 - mean_squared_error: 0.0479 - mean_absolute_error: 0.1778 - val_loss: 0.0371 - val_mean_squared_error: 0.0371 - val_mean_absolute_error: 0.1575\n",
            "\n",
            "Epoch 00046: val_loss did not improve from 0.03604\n",
            "Epoch 47/150\n",
            "810/810 [==============================] - 0s 40us/step - loss: 0.0474 - mean_squared_error: 0.0474 - mean_absolute_error: 0.1742 - val_loss: 0.0371 - val_mean_squared_error: 0.0371 - val_mean_absolute_error: 0.1575\n",
            "\n",
            "Epoch 00047: val_loss did not improve from 0.03604\n",
            "Epoch 48/150\n",
            "810/810 [==============================] - 0s 42us/step - loss: 0.0478 - mean_squared_error: 0.0478 - mean_absolute_error: 0.1754 - val_loss: 0.0371 - val_mean_squared_error: 0.0371 - val_mean_absolute_error: 0.1575\n",
            "\n",
            "Epoch 00048: val_loss did not improve from 0.03604\n",
            "Epoch 49/150\n",
            "810/810 [==============================] - 0s 38us/step - loss: 0.0473 - mean_squared_error: 0.0473 - mean_absolute_error: 0.1745 - val_loss: 0.0371 - val_mean_squared_error: 0.0371 - val_mean_absolute_error: 0.1575\n",
            "\n",
            "Epoch 00049: val_loss did not improve from 0.03604\n",
            "Epoch 50/150\n",
            "810/810 [==============================] - 0s 34us/step - loss: 0.0471 - mean_squared_error: 0.0471 - mean_absolute_error: 0.1735 - val_loss: 0.0370 - val_mean_squared_error: 0.0370 - val_mean_absolute_error: 0.1574\n",
            "\n",
            "Epoch 00050: val_loss did not improve from 0.03604\n",
            "Epoch 51/150\n",
            "810/810 [==============================] - 0s 35us/step - loss: 0.0474 - mean_squared_error: 0.0474 - mean_absolute_error: 0.1772 - val_loss: 0.0371 - val_mean_squared_error: 0.0371 - val_mean_absolute_error: 0.1575\n",
            "\n",
            "Epoch 00051: val_loss did not improve from 0.03604\n",
            "Epoch 52/150\n",
            "810/810 [==============================] - 0s 37us/step - loss: 0.0470 - mean_squared_error: 0.0470 - mean_absolute_error: 0.1732 - val_loss: 0.0371 - val_mean_squared_error: 0.0371 - val_mean_absolute_error: 0.1575\n",
            "\n",
            "Epoch 00052: val_loss did not improve from 0.03604\n",
            "Epoch 53/150\n",
            "810/810 [==============================] - 0s 37us/step - loss: 0.0479 - mean_squared_error: 0.0479 - mean_absolute_error: 0.1746 - val_loss: 0.0371 - val_mean_squared_error: 0.0371 - val_mean_absolute_error: 0.1575\n",
            "\n",
            "Epoch 00053: val_loss did not improve from 0.03604\n",
            "Epoch 54/150\n",
            "810/810 [==============================] - 0s 36us/step - loss: 0.0478 - mean_squared_error: 0.0478 - mean_absolute_error: 0.1749 - val_loss: 0.0370 - val_mean_squared_error: 0.0370 - val_mean_absolute_error: 0.1574\n",
            "\n",
            "Epoch 00054: val_loss did not improve from 0.03604\n",
            "Epoch 55/150\n",
            "810/810 [==============================] - 0s 36us/step - loss: 0.0479 - mean_squared_error: 0.0479 - mean_absolute_error: 0.1762 - val_loss: 0.0371 - val_mean_squared_error: 0.0371 - val_mean_absolute_error: 0.1575\n",
            "\n",
            "Epoch 00055: val_loss did not improve from 0.03604\n",
            "Epoch 56/150\n",
            "810/810 [==============================] - 0s 36us/step - loss: 0.0481 - mean_squared_error: 0.0481 - mean_absolute_error: 0.1742 - val_loss: 0.0371 - val_mean_squared_error: 0.0371 - val_mean_absolute_error: 0.1575\n",
            "\n",
            "Epoch 00056: val_loss did not improve from 0.03604\n",
            "Epoch 57/150\n",
            "810/810 [==============================] - 0s 40us/step - loss: 0.0467 - mean_squared_error: 0.0467 - mean_absolute_error: 0.1747 - val_loss: 0.0371 - val_mean_squared_error: 0.0371 - val_mean_absolute_error: 0.1575\n",
            "\n",
            "Epoch 00057: val_loss did not improve from 0.03604\n",
            "Epoch 58/150\n",
            "810/810 [==============================] - 0s 34us/step - loss: 0.0481 - mean_squared_error: 0.0481 - mean_absolute_error: 0.1756 - val_loss: 0.0371 - val_mean_squared_error: 0.0371 - val_mean_absolute_error: 0.1575\n",
            "\n",
            "Epoch 00058: val_loss did not improve from 0.03604\n",
            "Epoch 59/150\n",
            "810/810 [==============================] - 0s 39us/step - loss: 0.0484 - mean_squared_error: 0.0484 - mean_absolute_error: 0.1783 - val_loss: 0.0371 - val_mean_squared_error: 0.0371 - val_mean_absolute_error: 0.1575\n",
            "\n",
            "Epoch 00059: val_loss did not improve from 0.03604\n",
            "Epoch 60/150\n",
            "810/810 [==============================] - 0s 32us/step - loss: 0.0471 - mean_squared_error: 0.0471 - mean_absolute_error: 0.1728 - val_loss: 0.0371 - val_mean_squared_error: 0.0371 - val_mean_absolute_error: 0.1575\n",
            "\n",
            "Epoch 00060: val_loss did not improve from 0.03604\n",
            "Epoch 61/150\n",
            "810/810 [==============================] - 0s 34us/step - loss: 0.0478 - mean_squared_error: 0.0478 - mean_absolute_error: 0.1764 - val_loss: 0.0371 - val_mean_squared_error: 0.0371 - val_mean_absolute_error: 0.1575\n",
            "\n",
            "Epoch 00061: val_loss did not improve from 0.03604\n",
            "Epoch 62/150\n",
            "810/810 [==============================] - 0s 42us/step - loss: 0.0476 - mean_squared_error: 0.0476 - mean_absolute_error: 0.1745 - val_loss: 0.0371 - val_mean_squared_error: 0.0371 - val_mean_absolute_error: 0.1575\n",
            "\n",
            "Epoch 00062: val_loss did not improve from 0.03604\n",
            "Epoch 63/150\n",
            "810/810 [==============================] - 0s 42us/step - loss: 0.0474 - mean_squared_error: 0.0474 - mean_absolute_error: 0.1746 - val_loss: 0.0371 - val_mean_squared_error: 0.0371 - val_mean_absolute_error: 0.1575\n",
            "\n",
            "Epoch 00063: val_loss did not improve from 0.03604\n",
            "Epoch 64/150\n",
            "810/810 [==============================] - 0s 40us/step - loss: 0.0475 - mean_squared_error: 0.0475 - mean_absolute_error: 0.1762 - val_loss: 0.0371 - val_mean_squared_error: 0.0371 - val_mean_absolute_error: 0.1575\n",
            "\n",
            "Epoch 00064: val_loss did not improve from 0.03604\n",
            "Epoch 65/150\n",
            "810/810 [==============================] - 0s 36us/step - loss: 0.0474 - mean_squared_error: 0.0474 - mean_absolute_error: 0.1748 - val_loss: 0.0371 - val_mean_squared_error: 0.0371 - val_mean_absolute_error: 0.1575\n",
            "\n",
            "Epoch 00065: val_loss did not improve from 0.03604\n",
            "Epoch 66/150\n",
            "810/810 [==============================] - 0s 35us/step - loss: 0.0472 - mean_squared_error: 0.0472 - mean_absolute_error: 0.1740 - val_loss: 0.0371 - val_mean_squared_error: 0.0371 - val_mean_absolute_error: 0.1575\n",
            "\n",
            "Epoch 00066: val_loss did not improve from 0.03604\n",
            "Epoch 67/150\n",
            "810/810 [==============================] - 0s 35us/step - loss: 0.0470 - mean_squared_error: 0.0470 - mean_absolute_error: 0.1754 - val_loss: 0.0371 - val_mean_squared_error: 0.0371 - val_mean_absolute_error: 0.1575\n",
            "\n",
            "Epoch 00067: val_loss did not improve from 0.03604\n",
            "Epoch 68/150\n",
            "810/810 [==============================] - 0s 32us/step - loss: 0.0464 - mean_squared_error: 0.0464 - mean_absolute_error: 0.1733 - val_loss: 0.0371 - val_mean_squared_error: 0.0371 - val_mean_absolute_error: 0.1575\n",
            "\n",
            "Epoch 00068: val_loss did not improve from 0.03604\n",
            "Epoch 69/150\n",
            "810/810 [==============================] - 0s 33us/step - loss: 0.0475 - mean_squared_error: 0.0475 - mean_absolute_error: 0.1739 - val_loss: 0.0371 - val_mean_squared_error: 0.0371 - val_mean_absolute_error: 0.1575\n",
            "\n",
            "Epoch 00069: val_loss did not improve from 0.03604\n",
            "Epoch 70/150\n",
            "810/810 [==============================] - 0s 52us/step - loss: 0.0467 - mean_squared_error: 0.0467 - mean_absolute_error: 0.1740 - val_loss: 0.0371 - val_mean_squared_error: 0.0371 - val_mean_absolute_error: 0.1575\n",
            "\n",
            "Epoch 00070: val_loss did not improve from 0.03604\n",
            "Epoch 71/150\n",
            "810/810 [==============================] - 0s 45us/step - loss: 0.0491 - mean_squared_error: 0.0491 - mean_absolute_error: 0.1781 - val_loss: 0.0371 - val_mean_squared_error: 0.0371 - val_mean_absolute_error: 0.1575\n",
            "\n",
            "Epoch 00071: val_loss did not improve from 0.03604\n",
            "Epoch 72/150\n",
            "810/810 [==============================] - 0s 34us/step - loss: 0.0470 - mean_squared_error: 0.0470 - mean_absolute_error: 0.1718 - val_loss: 0.0371 - val_mean_squared_error: 0.0371 - val_mean_absolute_error: 0.1575\n",
            "\n",
            "Epoch 00072: val_loss did not improve from 0.03604\n",
            "Epoch 73/150\n",
            "810/810 [==============================] - 0s 33us/step - loss: 0.0471 - mean_squared_error: 0.0471 - mean_absolute_error: 0.1745 - val_loss: 0.0371 - val_mean_squared_error: 0.0371 - val_mean_absolute_error: 0.1575\n",
            "\n",
            "Epoch 00073: val_loss did not improve from 0.03604\n",
            "Epoch 74/150\n",
            "810/810 [==============================] - 0s 34us/step - loss: 0.0462 - mean_squared_error: 0.0462 - mean_absolute_error: 0.1731 - val_loss: 0.0372 - val_mean_squared_error: 0.0372 - val_mean_absolute_error: 0.1575\n",
            "\n",
            "Epoch 00074: val_loss did not improve from 0.03604\n",
            "Epoch 75/150\n",
            "810/810 [==============================] - 0s 33us/step - loss: 0.0456 - mean_squared_error: 0.0456 - mean_absolute_error: 0.1695 - val_loss: 0.0372 - val_mean_squared_error: 0.0372 - val_mean_absolute_error: 0.1576\n",
            "\n",
            "Epoch 00075: val_loss did not improve from 0.03604\n",
            "Epoch 76/150\n",
            "810/810 [==============================] - 0s 39us/step - loss: 0.0476 - mean_squared_error: 0.0476 - mean_absolute_error: 0.1735 - val_loss: 0.0372 - val_mean_squared_error: 0.0372 - val_mean_absolute_error: 0.1576\n",
            "\n",
            "Epoch 00076: val_loss did not improve from 0.03604\n",
            "Epoch 77/150\n",
            "810/810 [==============================] - 0s 43us/step - loss: 0.0467 - mean_squared_error: 0.0467 - mean_absolute_error: 0.1733 - val_loss: 0.0372 - val_mean_squared_error: 0.0372 - val_mean_absolute_error: 0.1576\n",
            "\n",
            "Epoch 00077: val_loss did not improve from 0.03604\n",
            "Epoch 78/150\n",
            "810/810 [==============================] - 0s 38us/step - loss: 0.0459 - mean_squared_error: 0.0459 - mean_absolute_error: 0.1723 - val_loss: 0.0372 - val_mean_squared_error: 0.0372 - val_mean_absolute_error: 0.1576\n",
            "\n",
            "Epoch 00078: val_loss did not improve from 0.03604\n",
            "Epoch 79/150\n",
            "810/810 [==============================] - 0s 35us/step - loss: 0.0476 - mean_squared_error: 0.0476 - mean_absolute_error: 0.1750 - val_loss: 0.0372 - val_mean_squared_error: 0.0372 - val_mean_absolute_error: 0.1576\n",
            "\n",
            "Epoch 00079: val_loss did not improve from 0.03604\n",
            "Epoch 80/150\n",
            "810/810 [==============================] - 0s 36us/step - loss: 0.0475 - mean_squared_error: 0.0475 - mean_absolute_error: 0.1748 - val_loss: 0.0372 - val_mean_squared_error: 0.0372 - val_mean_absolute_error: 0.1576\n",
            "\n",
            "Epoch 00080: val_loss did not improve from 0.03604\n",
            "Epoch 81/150\n",
            "810/810 [==============================] - 0s 39us/step - loss: 0.0479 - mean_squared_error: 0.0479 - mean_absolute_error: 0.1752 - val_loss: 0.0372 - val_mean_squared_error: 0.0372 - val_mean_absolute_error: 0.1576\n",
            "\n",
            "Epoch 00081: val_loss did not improve from 0.03604\n",
            "Epoch 82/150\n",
            "810/810 [==============================] - 0s 31us/step - loss: 0.0473 - mean_squared_error: 0.0473 - mean_absolute_error: 0.1767 - val_loss: 0.0372 - val_mean_squared_error: 0.0372 - val_mean_absolute_error: 0.1576\n",
            "\n",
            "Epoch 00082: val_loss did not improve from 0.03604\n",
            "Epoch 83/150\n",
            "810/810 [==============================] - 0s 37us/step - loss: 0.0482 - mean_squared_error: 0.0482 - mean_absolute_error: 0.1758 - val_loss: 0.0372 - val_mean_squared_error: 0.0372 - val_mean_absolute_error: 0.1576\n",
            "\n",
            "Epoch 00083: val_loss did not improve from 0.03604\n",
            "Epoch 84/150\n",
            "810/810 [==============================] - 0s 37us/step - loss: 0.0456 - mean_squared_error: 0.0456 - mean_absolute_error: 0.1729 - val_loss: 0.0372 - val_mean_squared_error: 0.0372 - val_mean_absolute_error: 0.1575\n",
            "\n",
            "Epoch 00084: val_loss did not improve from 0.03604\n",
            "Epoch 85/150\n",
            "810/810 [==============================] - 0s 32us/step - loss: 0.0462 - mean_squared_error: 0.0462 - mean_absolute_error: 0.1718 - val_loss: 0.0371 - val_mean_squared_error: 0.0371 - val_mean_absolute_error: 0.1575\n",
            "\n",
            "Epoch 00085: val_loss did not improve from 0.03604\n",
            "Epoch 86/150\n",
            "810/810 [==============================] - 0s 37us/step - loss: 0.0468 - mean_squared_error: 0.0468 - mean_absolute_error: 0.1740 - val_loss: 0.0371 - val_mean_squared_error: 0.0371 - val_mean_absolute_error: 0.1574\n",
            "\n",
            "Epoch 00086: val_loss did not improve from 0.03604\n",
            "Epoch 87/150\n",
            "810/810 [==============================] - 0s 34us/step - loss: 0.0480 - mean_squared_error: 0.0480 - mean_absolute_error: 0.1762 - val_loss: 0.0370 - val_mean_squared_error: 0.0370 - val_mean_absolute_error: 0.1574\n",
            "\n",
            "Epoch 00087: val_loss did not improve from 0.03604\n",
            "Epoch 88/150\n",
            "810/810 [==============================] - 0s 33us/step - loss: 0.0478 - mean_squared_error: 0.0478 - mean_absolute_error: 0.1754 - val_loss: 0.0370 - val_mean_squared_error: 0.0370 - val_mean_absolute_error: 0.1573\n",
            "\n",
            "Epoch 00088: val_loss did not improve from 0.03604\n",
            "Epoch 89/150\n",
            "810/810 [==============================] - 0s 33us/step - loss: 0.0460 - mean_squared_error: 0.0460 - mean_absolute_error: 0.1718 - val_loss: 0.0370 - val_mean_squared_error: 0.0370 - val_mean_absolute_error: 0.1573\n",
            "\n",
            "Epoch 00089: val_loss did not improve from 0.03604\n",
            "Epoch 90/150\n",
            "810/810 [==============================] - 0s 33us/step - loss: 0.0464 - mean_squared_error: 0.0464 - mean_absolute_error: 0.1746 - val_loss: 0.0370 - val_mean_squared_error: 0.0370 - val_mean_absolute_error: 0.1573\n",
            "\n",
            "Epoch 00090: val_loss did not improve from 0.03604\n",
            "Epoch 91/150\n",
            "810/810 [==============================] - 0s 41us/step - loss: 0.0487 - mean_squared_error: 0.0487 - mean_absolute_error: 0.1766 - val_loss: 0.0370 - val_mean_squared_error: 0.0370 - val_mean_absolute_error: 0.1573\n",
            "\n",
            "Epoch 00091: val_loss did not improve from 0.03604\n",
            "Epoch 92/150\n",
            "810/810 [==============================] - 0s 46us/step - loss: 0.0495 - mean_squared_error: 0.0495 - mean_absolute_error: 0.1799 - val_loss: 0.0370 - val_mean_squared_error: 0.0370 - val_mean_absolute_error: 0.1573\n",
            "\n",
            "Epoch 00092: val_loss did not improve from 0.03604\n",
            "Epoch 93/150\n",
            "810/810 [==============================] - 0s 37us/step - loss: 0.0472 - mean_squared_error: 0.0472 - mean_absolute_error: 0.1748 - val_loss: 0.0370 - val_mean_squared_error: 0.0370 - val_mean_absolute_error: 0.1574\n",
            "\n",
            "Epoch 00093: val_loss did not improve from 0.03604\n",
            "Epoch 94/150\n",
            "810/810 [==============================] - 0s 32us/step - loss: 0.0466 - mean_squared_error: 0.0466 - mean_absolute_error: 0.1748 - val_loss: 0.0370 - val_mean_squared_error: 0.0370 - val_mean_absolute_error: 0.1574\n",
            "\n",
            "Epoch 00094: val_loss did not improve from 0.03604\n",
            "Epoch 95/150\n",
            "810/810 [==============================] - 0s 35us/step - loss: 0.0437 - mean_squared_error: 0.0437 - mean_absolute_error: 0.1682 - val_loss: 0.0371 - val_mean_squared_error: 0.0371 - val_mean_absolute_error: 0.1574\n",
            "\n",
            "Epoch 00095: val_loss did not improve from 0.03604\n",
            "Epoch 96/150\n",
            "810/810 [==============================] - 0s 32us/step - loss: 0.0463 - mean_squared_error: 0.0463 - mean_absolute_error: 0.1727 - val_loss: 0.0371 - val_mean_squared_error: 0.0371 - val_mean_absolute_error: 0.1575\n",
            "\n",
            "Epoch 00096: val_loss did not improve from 0.03604\n",
            "Epoch 97/150\n",
            "810/810 [==============================] - 0s 36us/step - loss: 0.0466 - mean_squared_error: 0.0466 - mean_absolute_error: 0.1761 - val_loss: 0.0371 - val_mean_squared_error: 0.0371 - val_mean_absolute_error: 0.1575\n",
            "\n",
            "Epoch 00097: val_loss did not improve from 0.03604\n",
            "Epoch 98/150\n",
            "810/810 [==============================] - 0s 39us/step - loss: 0.0468 - mean_squared_error: 0.0468 - mean_absolute_error: 0.1743 - val_loss: 0.0372 - val_mean_squared_error: 0.0372 - val_mean_absolute_error: 0.1576\n",
            "\n",
            "Epoch 00098: val_loss did not improve from 0.03604\n",
            "Epoch 99/150\n",
            "810/810 [==============================] - 0s 38us/step - loss: 0.0481 - mean_squared_error: 0.0481 - mean_absolute_error: 0.1750 - val_loss: 0.0372 - val_mean_squared_error: 0.0372 - val_mean_absolute_error: 0.1576\n",
            "\n",
            "Epoch 00099: val_loss did not improve from 0.03604\n",
            "Epoch 100/150\n",
            "810/810 [==============================] - 0s 34us/step - loss: 0.0465 - mean_squared_error: 0.0465 - mean_absolute_error: 0.1724 - val_loss: 0.0372 - val_mean_squared_error: 0.0372 - val_mean_absolute_error: 0.1577\n",
            "\n",
            "Epoch 00100: val_loss did not improve from 0.03604\n",
            "Epoch 101/150\n",
            "810/810 [==============================] - 0s 37us/step - loss: 0.0466 - mean_squared_error: 0.0466 - mean_absolute_error: 0.1743 - val_loss: 0.0372 - val_mean_squared_error: 0.0372 - val_mean_absolute_error: 0.1577\n",
            "\n",
            "Epoch 00101: val_loss did not improve from 0.03604\n",
            "Epoch 102/150\n",
            "810/810 [==============================] - 0s 33us/step - loss: 0.0479 - mean_squared_error: 0.0479 - mean_absolute_error: 0.1754 - val_loss: 0.0373 - val_mean_squared_error: 0.0373 - val_mean_absolute_error: 0.1577\n",
            "\n",
            "Epoch 00102: val_loss did not improve from 0.03604\n",
            "Epoch 103/150\n",
            "810/810 [==============================] - 0s 38us/step - loss: 0.0471 - mean_squared_error: 0.0471 - mean_absolute_error: 0.1744 - val_loss: 0.0373 - val_mean_squared_error: 0.0373 - val_mean_absolute_error: 0.1577\n",
            "\n",
            "Epoch 00103: val_loss did not improve from 0.03604\n",
            "Epoch 104/150\n",
            "810/810 [==============================] - 0s 42us/step - loss: 0.0492 - mean_squared_error: 0.0492 - mean_absolute_error: 0.1754 - val_loss: 0.0373 - val_mean_squared_error: 0.0373 - val_mean_absolute_error: 0.1577\n",
            "\n",
            "Epoch 00104: val_loss did not improve from 0.03604\n",
            "Epoch 105/150\n",
            "810/810 [==============================] - 0s 43us/step - loss: 0.0465 - mean_squared_error: 0.0465 - mean_absolute_error: 0.1722 - val_loss: 0.0373 - val_mean_squared_error: 0.0373 - val_mean_absolute_error: 0.1577\n",
            "\n",
            "Epoch 00105: val_loss did not improve from 0.03604\n",
            "Epoch 106/150\n",
            "810/810 [==============================] - 0s 36us/step - loss: 0.0469 - mean_squared_error: 0.0469 - mean_absolute_error: 0.1726 - val_loss: 0.0372 - val_mean_squared_error: 0.0372 - val_mean_absolute_error: 0.1577\n",
            "\n",
            "Epoch 00106: val_loss did not improve from 0.03604\n",
            "Epoch 107/150\n",
            "810/810 [==============================] - 0s 35us/step - loss: 0.0487 - mean_squared_error: 0.0487 - mean_absolute_error: 0.1773 - val_loss: 0.0372 - val_mean_squared_error: 0.0372 - val_mean_absolute_error: 0.1576\n",
            "\n",
            "Epoch 00107: val_loss did not improve from 0.03604\n",
            "Epoch 108/150\n",
            "810/810 [==============================] - 0s 39us/step - loss: 0.0462 - mean_squared_error: 0.0462 - mean_absolute_error: 0.1732 - val_loss: 0.0372 - val_mean_squared_error: 0.0372 - val_mean_absolute_error: 0.1575\n",
            "\n",
            "Epoch 00108: val_loss did not improve from 0.03604\n",
            "Epoch 109/150\n",
            "810/810 [==============================] - 0s 41us/step - loss: 0.0471 - mean_squared_error: 0.0471 - mean_absolute_error: 0.1752 - val_loss: 0.0371 - val_mean_squared_error: 0.0371 - val_mean_absolute_error: 0.1575\n",
            "\n",
            "Epoch 00109: val_loss did not improve from 0.03604\n",
            "Epoch 110/150\n",
            "810/810 [==============================] - 0s 37us/step - loss: 0.0460 - mean_squared_error: 0.0460 - mean_absolute_error: 0.1722 - val_loss: 0.0371 - val_mean_squared_error: 0.0371 - val_mean_absolute_error: 0.1575\n",
            "\n",
            "Epoch 00110: val_loss did not improve from 0.03604\n",
            "Epoch 111/150\n",
            "810/810 [==============================] - 0s 40us/step - loss: 0.0473 - mean_squared_error: 0.0473 - mean_absolute_error: 0.1744 - val_loss: 0.0371 - val_mean_squared_error: 0.0371 - val_mean_absolute_error: 0.1575\n",
            "\n",
            "Epoch 00111: val_loss did not improve from 0.03604\n",
            "Epoch 112/150\n",
            "810/810 [==============================] - 0s 34us/step - loss: 0.0467 - mean_squared_error: 0.0467 - mean_absolute_error: 0.1741 - val_loss: 0.0372 - val_mean_squared_error: 0.0372 - val_mean_absolute_error: 0.1575\n",
            "\n",
            "Epoch 00112: val_loss did not improve from 0.03604\n",
            "Epoch 113/150\n",
            "810/810 [==============================] - 0s 35us/step - loss: 0.0475 - mean_squared_error: 0.0475 - mean_absolute_error: 0.1749 - val_loss: 0.0372 - val_mean_squared_error: 0.0372 - val_mean_absolute_error: 0.1575\n",
            "\n",
            "Epoch 00113: val_loss did not improve from 0.03604\n",
            "Epoch 114/150\n",
            "810/810 [==============================] - 0s 37us/step - loss: 0.0480 - mean_squared_error: 0.0480 - mean_absolute_error: 0.1751 - val_loss: 0.0372 - val_mean_squared_error: 0.0372 - val_mean_absolute_error: 0.1576\n",
            "\n",
            "Epoch 00114: val_loss did not improve from 0.03604\n",
            "Epoch 115/150\n",
            "810/810 [==============================] - 0s 37us/step - loss: 0.0487 - mean_squared_error: 0.0487 - mean_absolute_error: 0.1769 - val_loss: 0.0372 - val_mean_squared_error: 0.0372 - val_mean_absolute_error: 0.1576\n",
            "\n",
            "Epoch 00115: val_loss did not improve from 0.03604\n",
            "Epoch 116/150\n",
            "810/810 [==============================] - 0s 35us/step - loss: 0.0493 - mean_squared_error: 0.0493 - mean_absolute_error: 0.1782 - val_loss: 0.0372 - val_mean_squared_error: 0.0372 - val_mean_absolute_error: 0.1576\n",
            "\n",
            "Epoch 00116: val_loss did not improve from 0.03604\n",
            "Epoch 117/150\n",
            "810/810 [==============================] - 0s 31us/step - loss: 0.0474 - mean_squared_error: 0.0474 - mean_absolute_error: 0.1742 - val_loss: 0.0372 - val_mean_squared_error: 0.0372 - val_mean_absolute_error: 0.1577\n",
            "\n",
            "Epoch 00117: val_loss did not improve from 0.03604\n",
            "Epoch 118/150\n",
            "810/810 [==============================] - 0s 40us/step - loss: 0.0479 - mean_squared_error: 0.0479 - mean_absolute_error: 0.1773 - val_loss: 0.0372 - val_mean_squared_error: 0.0372 - val_mean_absolute_error: 0.1577\n",
            "\n",
            "Epoch 00118: val_loss did not improve from 0.03604\n",
            "Epoch 119/150\n",
            "810/810 [==============================] - 0s 43us/step - loss: 0.0487 - mean_squared_error: 0.0487 - mean_absolute_error: 0.1784 - val_loss: 0.0373 - val_mean_squared_error: 0.0373 - val_mean_absolute_error: 0.1577\n",
            "\n",
            "Epoch 00119: val_loss did not improve from 0.03604\n",
            "Epoch 120/150\n",
            "810/810 [==============================] - 0s 33us/step - loss: 0.0456 - mean_squared_error: 0.0456 - mean_absolute_error: 0.1712 - val_loss: 0.0372 - val_mean_squared_error: 0.0372 - val_mean_absolute_error: 0.1576\n",
            "\n",
            "Epoch 00120: val_loss did not improve from 0.03604\n",
            "Epoch 121/150\n",
            "810/810 [==============================] - 0s 35us/step - loss: 0.0470 - mean_squared_error: 0.0470 - mean_absolute_error: 0.1749 - val_loss: 0.0372 - val_mean_squared_error: 0.0372 - val_mean_absolute_error: 0.1577\n",
            "\n",
            "Epoch 00121: val_loss did not improve from 0.03604\n",
            "Epoch 122/150\n",
            "810/810 [==============================] - 0s 41us/step - loss: 0.0458 - mean_squared_error: 0.0458 - mean_absolute_error: 0.1711 - val_loss: 0.0372 - val_mean_squared_error: 0.0372 - val_mean_absolute_error: 0.1576\n",
            "\n",
            "Epoch 00122: val_loss did not improve from 0.03604\n",
            "Epoch 123/150\n",
            "810/810 [==============================] - 0s 44us/step - loss: 0.0473 - mean_squared_error: 0.0473 - mean_absolute_error: 0.1756 - val_loss: 0.0372 - val_mean_squared_error: 0.0372 - val_mean_absolute_error: 0.1575\n",
            "\n",
            "Epoch 00123: val_loss did not improve from 0.03604\n",
            "Epoch 124/150\n",
            "810/810 [==============================] - 0s 47us/step - loss: 0.0477 - mean_squared_error: 0.0477 - mean_absolute_error: 0.1749 - val_loss: 0.0371 - val_mean_squared_error: 0.0371 - val_mean_absolute_error: 0.1575\n",
            "\n",
            "Epoch 00124: val_loss did not improve from 0.03604\n",
            "Epoch 125/150\n",
            "810/810 [==============================] - 0s 40us/step - loss: 0.0468 - mean_squared_error: 0.0468 - mean_absolute_error: 0.1745 - val_loss: 0.0371 - val_mean_squared_error: 0.0371 - val_mean_absolute_error: 0.1575\n",
            "\n",
            "Epoch 00125: val_loss did not improve from 0.03604\n",
            "Epoch 126/150\n",
            "810/810 [==============================] - 0s 34us/step - loss: 0.0457 - mean_squared_error: 0.0457 - mean_absolute_error: 0.1744 - val_loss: 0.0372 - val_mean_squared_error: 0.0372 - val_mean_absolute_error: 0.1575\n",
            "\n",
            "Epoch 00126: val_loss did not improve from 0.03604\n",
            "Epoch 127/150\n",
            "810/810 [==============================] - 0s 36us/step - loss: 0.0466 - mean_squared_error: 0.0466 - mean_absolute_error: 0.1727 - val_loss: 0.0372 - val_mean_squared_error: 0.0372 - val_mean_absolute_error: 0.1575\n",
            "\n",
            "Epoch 00127: val_loss did not improve from 0.03604\n",
            "Epoch 128/150\n",
            "810/810 [==============================] - 0s 34us/step - loss: 0.0482 - mean_squared_error: 0.0482 - mean_absolute_error: 0.1758 - val_loss: 0.0372 - val_mean_squared_error: 0.0372 - val_mean_absolute_error: 0.1575\n",
            "\n",
            "Epoch 00128: val_loss did not improve from 0.03604\n",
            "Epoch 129/150\n",
            "810/810 [==============================] - 0s 36us/step - loss: 0.0437 - mean_squared_error: 0.0437 - mean_absolute_error: 0.1684 - val_loss: 0.0372 - val_mean_squared_error: 0.0372 - val_mean_absolute_error: 0.1575\n",
            "\n",
            "Epoch 00129: val_loss did not improve from 0.03604\n",
            "Epoch 130/150\n",
            "810/810 [==============================] - 0s 41us/step - loss: 0.0473 - mean_squared_error: 0.0473 - mean_absolute_error: 0.1740 - val_loss: 0.0371 - val_mean_squared_error: 0.0371 - val_mean_absolute_error: 0.1575\n",
            "\n",
            "Epoch 00130: val_loss did not improve from 0.03604\n",
            "Epoch 131/150\n",
            "810/810 [==============================] - 0s 37us/step - loss: 0.0489 - mean_squared_error: 0.0489 - mean_absolute_error: 0.1763 - val_loss: 0.0371 - val_mean_squared_error: 0.0371 - val_mean_absolute_error: 0.1575\n",
            "\n",
            "Epoch 00131: val_loss did not improve from 0.03604\n",
            "Epoch 132/150\n",
            "810/810 [==============================] - 0s 35us/step - loss: 0.0482 - mean_squared_error: 0.0482 - mean_absolute_error: 0.1773 - val_loss: 0.0371 - val_mean_squared_error: 0.0371 - val_mean_absolute_error: 0.1575\n",
            "\n",
            "Epoch 00132: val_loss did not improve from 0.03604\n",
            "Epoch 133/150\n",
            "810/810 [==============================] - 0s 38us/step - loss: 0.0469 - mean_squared_error: 0.0469 - mean_absolute_error: 0.1731 - val_loss: 0.0372 - val_mean_squared_error: 0.0372 - val_mean_absolute_error: 0.1575\n",
            "\n",
            "Epoch 00133: val_loss did not improve from 0.03604\n",
            "Epoch 134/150\n",
            "810/810 [==============================] - 0s 47us/step - loss: 0.0470 - mean_squared_error: 0.0470 - mean_absolute_error: 0.1736 - val_loss: 0.0372 - val_mean_squared_error: 0.0372 - val_mean_absolute_error: 0.1575\n",
            "\n",
            "Epoch 00134: val_loss did not improve from 0.03604\n",
            "Epoch 135/150\n",
            "810/810 [==============================] - 0s 35us/step - loss: 0.0453 - mean_squared_error: 0.0453 - mean_absolute_error: 0.1706 - val_loss: 0.0372 - val_mean_squared_error: 0.0372 - val_mean_absolute_error: 0.1575\n",
            "\n",
            "Epoch 00135: val_loss did not improve from 0.03604\n",
            "Epoch 136/150\n",
            "810/810 [==============================] - 0s 37us/step - loss: 0.0481 - mean_squared_error: 0.0481 - mean_absolute_error: 0.1761 - val_loss: 0.0372 - val_mean_squared_error: 0.0372 - val_mean_absolute_error: 0.1575\n",
            "\n",
            "Epoch 00136: val_loss did not improve from 0.03604\n",
            "Epoch 137/150\n",
            "810/810 [==============================] - 0s 35us/step - loss: 0.0482 - mean_squared_error: 0.0482 - mean_absolute_error: 0.1772 - val_loss: 0.0372 - val_mean_squared_error: 0.0372 - val_mean_absolute_error: 0.1575\n",
            "\n",
            "Epoch 00137: val_loss did not improve from 0.03604\n",
            "Epoch 138/150\n",
            "810/810 [==============================] - 0s 46us/step - loss: 0.0469 - mean_squared_error: 0.0469 - mean_absolute_error: 0.1742 - val_loss: 0.0373 - val_mean_squared_error: 0.0373 - val_mean_absolute_error: 0.1576\n",
            "\n",
            "Epoch 00138: val_loss did not improve from 0.03604\n",
            "Epoch 139/150\n",
            "810/810 [==============================] - 0s 35us/step - loss: 0.0468 - mean_squared_error: 0.0468 - mean_absolute_error: 0.1743 - val_loss: 0.0373 - val_mean_squared_error: 0.0373 - val_mean_absolute_error: 0.1578\n",
            "\n",
            "Epoch 00139: val_loss did not improve from 0.03604\n",
            "Epoch 140/150\n",
            "810/810 [==============================] - 0s 33us/step - loss: 0.0470 - mean_squared_error: 0.0470 - mean_absolute_error: 0.1758 - val_loss: 0.0374 - val_mean_squared_error: 0.0374 - val_mean_absolute_error: 0.1578\n",
            "\n",
            "Epoch 00140: val_loss did not improve from 0.03604\n",
            "Epoch 141/150\n",
            "810/810 [==============================] - 0s 40us/step - loss: 0.0491 - mean_squared_error: 0.0491 - mean_absolute_error: 0.1775 - val_loss: 0.0374 - val_mean_squared_error: 0.0374 - val_mean_absolute_error: 0.1579\n",
            "\n",
            "Epoch 00141: val_loss did not improve from 0.03604\n",
            "Epoch 142/150\n",
            "810/810 [==============================] - 0s 45us/step - loss: 0.0465 - mean_squared_error: 0.0465 - mean_absolute_error: 0.1704 - val_loss: 0.0374 - val_mean_squared_error: 0.0374 - val_mean_absolute_error: 0.1579\n",
            "\n",
            "Epoch 00142: val_loss did not improve from 0.03604\n",
            "Epoch 143/150\n",
            "810/810 [==============================] - 0s 35us/step - loss: 0.0472 - mean_squared_error: 0.0472 - mean_absolute_error: 0.1744 - val_loss: 0.0374 - val_mean_squared_error: 0.0374 - val_mean_absolute_error: 0.1578\n",
            "\n",
            "Epoch 00143: val_loss did not improve from 0.03604\n",
            "Epoch 144/150\n",
            "810/810 [==============================] - 0s 40us/step - loss: 0.0463 - mean_squared_error: 0.0463 - mean_absolute_error: 0.1744 - val_loss: 0.0374 - val_mean_squared_error: 0.0374 - val_mean_absolute_error: 0.1578\n",
            "\n",
            "Epoch 00144: val_loss did not improve from 0.03604\n",
            "Epoch 145/150\n",
            "810/810 [==============================] - 0s 36us/step - loss: 0.0470 - mean_squared_error: 0.0470 - mean_absolute_error: 0.1720 - val_loss: 0.0374 - val_mean_squared_error: 0.0374 - val_mean_absolute_error: 0.1578\n",
            "\n",
            "Epoch 00145: val_loss did not improve from 0.03604\n",
            "Epoch 146/150\n",
            "810/810 [==============================] - 0s 34us/step - loss: 0.0461 - mean_squared_error: 0.0461 - mean_absolute_error: 0.1709 - val_loss: 0.0374 - val_mean_squared_error: 0.0374 - val_mean_absolute_error: 0.1578\n",
            "\n",
            "Epoch 00146: val_loss did not improve from 0.03604\n",
            "Epoch 147/150\n",
            "810/810 [==============================] - 0s 43us/step - loss: 0.0487 - mean_squared_error: 0.0487 - mean_absolute_error: 0.1761 - val_loss: 0.0374 - val_mean_squared_error: 0.0374 - val_mean_absolute_error: 0.1578\n",
            "\n",
            "Epoch 00147: val_loss did not improve from 0.03604\n",
            "Epoch 148/150\n",
            "810/810 [==============================] - 0s 45us/step - loss: 0.0466 - mean_squared_error: 0.0466 - mean_absolute_error: 0.1735 - val_loss: 0.0373 - val_mean_squared_error: 0.0373 - val_mean_absolute_error: 0.1578\n",
            "\n",
            "Epoch 00148: val_loss did not improve from 0.03604\n",
            "Epoch 149/150\n",
            "810/810 [==============================] - 0s 33us/step - loss: 0.0469 - mean_squared_error: 0.0469 - mean_absolute_error: 0.1756 - val_loss: 0.0373 - val_mean_squared_error: 0.0373 - val_mean_absolute_error: 0.1576\n",
            "\n",
            "Epoch 00149: val_loss did not improve from 0.03604\n",
            "Epoch 150/150\n",
            "810/810 [==============================] - 0s 34us/step - loss: 0.0474 - mean_squared_error: 0.0474 - mean_absolute_error: 0.1755 - val_loss: 0.0372 - val_mean_squared_error: 0.0372 - val_mean_absolute_error: 0.1575\n",
            "\n",
            "Epoch 00150: val_loss did not improve from 0.03604\n"
          ],
          "name": "stdout"
        }
      ]
    },
    {
      "cell_type": "code",
      "metadata": {
        "id": "gChhqO2LakeV",
        "colab_type": "code",
        "outputId": "1c3f9a8d-78bd-40a2-93f1-421bd1d41b39",
        "colab": {
          "base_uri": "https://localhost:8080/",
          "height": 332
        }
      },
      "source": [
        "print(history.history.keys())\n",
        "# \"Loss\"\n",
        "plt.plot(history.history['loss'])\n",
        "plt.plot(history.history['val_loss'])\n",
        "plt.title('model loss')\n",
        "plt.ylabel('loss')\n",
        "plt.xlabel('epoch')\n",
        "plt.legend(['train', 'validation'], loc='upper left')\n",
        "plt.show()"
      ],
      "execution_count": 39,
      "outputs": [
        {
          "output_type": "stream",
          "text": [
            "dict_keys(['val_loss', 'val_mean_squared_error', 'val_mean_absolute_error', 'loss', 'mean_squared_error', 'mean_absolute_error', 'lr'])\n"
          ],
          "name": "stdout"
        },
        {
          "output_type": "display_data",
          "data": {
            "image/png": "[encoded data removed]",
            "text/plain": [
              "<Figure size 432x288 with 1 Axes>"
            ]
          },
          "metadata": {
            "tags": []
          }
        }
      ]
    },
    {
      "cell_type": "code",
      "metadata": {
        "id": "5gaIVTuFl1ei",
        "colab_type": "code",
        "colab": {}
      },
      "source": [
        "# load the weights that yielded the best validation accuracy\n",
        "model.load_weights('best.hdf5')"
      ],
      "execution_count": 0,
      "outputs": []
    },
    {
      "cell_type": "code",
      "metadata": {
        "id": "RuKQa71kf2UB",
        "colab_type": "code",
        "outputId": "ec1ca60d-d0ad-42f7-cd55-6e86ed8f37e1",
        "colab": {
          "base_uri": "https://localhost:8080/",
          "height": 283
        }
      },
      "source": [
        "test_predictions =model.predict(X_test).flatten()\n",
        "\n",
        "a = plt.axes(aspect='equal')\n",
        "plt.scatter(y_test, test_predictions)\n",
        "plt.xlabel('True Values')\n",
        "plt.ylabel('Predictions')\n",
        "lims = [-0.2, 1.2]\n",
        "plt.xlim(lims)\n",
        "plt.ylim(lims)\n",
        "_ = plt.plot(lims, lims)"
      ],
      "execution_count": 41,
      "outputs": [
        {
          "output_type": "display_data",
          "data": {
            "image/png": "[encoded data removed]",
            "text/plain": [
              "<Figure size 432x288 with 1 Axes>"
            ]
          },
          "metadata": {
            "tags": []
          }
        }
      ]
    },
    {
      "cell_type": "code",
      "metadata": {
        "id": "nmsctnH6gJc3",
        "colab_type": "code",
        "outputId": "1fe52590-9b6b-4b25-9363-54e02b495b0d",
        "colab": {
          "base_uri": "https://localhost:8080/",
          "height": 279
        }
      },
      "source": [
        "error = test_predictions - y_test\n",
        "plt.hist(error, bins = 25)\n",
        "plt.xlabel(\"Prediction Error\")\n",
        "_ = plt.ylabel(\"Count\")"
      ],
      "execution_count": 42,
      "outputs": [
        {
          "output_type": "display_data",
          "data": {
            "image/png": "[encoded data removed]",
            "text/plain": [
              "<Figure size 432x288 with 1 Axes>"
            ]
          },
          "metadata": {
            "tags": []
          }
        }
      ]
    },
    {
      "cell_type": "code",
      "metadata": {
        "id": "blXKgICFi0Ro",
        "colab_type": "code",
        "outputId": "5565c6b5-2c3f-4f67-e0a6-e477c5e3f3f9",
        "colab": {
          "base_uri": "https://localhost:8080/",
          "height": 1000
        }
      },
      "source": [
        "for true, pred in zip(y_test, test_predictions):\n",
        "  if pred == true:\n",
        "    print(\"{}\\t -> {}\".format(true, pred))\n",
        "  else:\n",
        "    print(\"\\033[1m{}\\t -> {}\\033[0m\".format(true, pred))"
      ],
      "execution_count": 43,
      "outputs": [
        {
          "output_type": "stream",
          "text": [
            "\u001b[1m0.04940067126296254\t -> 0.01356518268585205\u001b[0m\n",
            "\u001b[1m0.6141615708285969\t -> 0.2199002504348755\u001b[0m\n",
            "\u001b[1m0.3984123188096231\t -> 0.20692478120326996\u001b[0m\n",
            "\u001b[1m0.9978965840938206\t -> 0.7534816265106201\u001b[0m\n",
            "\u001b[1m-0.0924840175744363\t -> 0.2401878833770752\u001b[0m\n",
            "\u001b[1m0.7400801865108377\t -> 0.7218067049980164\u001b[0m\n",
            "\u001b[1m0.7880631014606603\t -> 0.6115131378173828\u001b[0m\n",
            "\u001b[1m0.19017066247159695\t -> 0.09776853770017624\u001b[0m\n",
            "\u001b[1m0.9813700907273696\t -> 0.8780556321144104\u001b[0m\n",
            "\u001b[1m0.5427034494596268\t -> 0.23121504485607147\u001b[0m\n",
            "\u001b[1m-0.15827173836667852\t -> 0.08110341429710388\u001b[0m\n",
            "\u001b[1m0.8229868397396964\t -> 0.7661005854606628\u001b[0m\n",
            "\u001b[1m0.7496656304517695\t -> 0.8988192677497864\u001b[0m\n",
            "\u001b[1m-0.09687982334768708\t -> 0.19279342889785767\u001b[0m\n",
            "\u001b[1m0.8578917013474171\t -> 0.9224628806114197\u001b[0m\n",
            "\u001b[1m0.5032766589850517\t -> 0.5812225341796875\u001b[0m\n",
            "\u001b[1m0.7676995005918128\t -> 0.6259902715682983\u001b[0m\n",
            "\u001b[1m0.8326112381985449\t -> 0.8857211470603943\u001b[0m\n",
            "\u001b[1m0.4668473144244382\t -> 0.5501635670661926\u001b[0m\n",
            "\u001b[1m0.1141439097782604\t -> 0.23615336418151855\u001b[0m\n",
            "\u001b[1m1.1705448469846258\t -> 0.986457109451294\u001b[0m\n",
            "\u001b[1m0.0912964741572509\t -> 0.3176723122596741\u001b[0m\n",
            "\u001b[1m0.5369660348415364\t -> 0.6664398312568665\u001b[0m\n",
            "\u001b[1m0.5818078806926502\t -> 0.6371120810508728\u001b[0m\n",
            "\u001b[1m-0.12183621308803005\t -> 0.03128264844417572\u001b[0m\n",
            "\u001b[1m0.246101392420723\t -> 0.31256115436553955\u001b[0m\n",
            "\u001b[1m0.5838574154239156\t -> 0.492967814207077\u001b[0m\n",
            "\u001b[1m0.3230444634760027\t -> 0.021406807005405426\u001b[0m\n",
            "\u001b[1m-0.040726545800889885\t -> 0.11009739339351654\u001b[0m\n",
            "\u001b[1m0.30629858330128434\t -> 0.26912108063697815\u001b[0m\n",
            "\u001b[1m0.5588735148562831\t -> 0.9086655378341675\u001b[0m\n",
            "\u001b[1m0.6154330974944502\t -> 0.3583924472332001\u001b[0m\n",
            "\u001b[1m0.2467598557212166\t -> 0.3346673846244812\u001b[0m\n",
            "\u001b[1m0.8421466061360654\t -> 0.5066457986831665\u001b[0m\n",
            "\u001b[1m0.995682497315486\t -> 0.9018023610115051\u001b[0m\n",
            "\u001b[1m0.4648727066882094\t -> 0.845552384853363\u001b[0m\n",
            "\u001b[1m0.15235856016750193\t -> 0.43556076288223267\u001b[0m\n",
            "\u001b[1m0.5157469305022929\t -> 0.20422814786434174\u001b[0m\n",
            "\u001b[1m0.526396707263313\t -> 0.5817657709121704\u001b[0m\n",
            "\u001b[1m1.066246939393248\t -> 0.6922580599784851\u001b[0m\n",
            "\u001b[1m0.21366126598969964\t -> 0.20005887746810913\u001b[0m\n",
            "\u001b[1m0.738651585146243\t -> 0.8619610667228699\u001b[0m\n",
            "\u001b[1m0.5976001703551042\t -> 0.7274757027626038\u001b[0m\n",
            "\u001b[1m0.8965720135867492\t -> 0.7042636871337891\u001b[0m\n",
            "\u001b[1m0.2918163359483885\t -> 0.6115649938583374\u001b[0m\n",
            "\u001b[1m0.09383130984376134\t -> 0.321865975856781\u001b[0m\n",
            "\u001b[1m0.05317445209492247\t -> 0.12725402414798737\u001b[0m\n",
            "\u001b[1m0.3417704476051067\t -> 0.30550429224967957\u001b[0m\n",
            "\u001b[1m0.5807984708767605\t -> 0.4050125777721405\u001b[0m\n",
            "\u001b[1m0.6178861489683178\t -> 0.24640391767024994\u001b[0m\n",
            "\u001b[1m0.35294600215198824\t -> 0.3027832806110382\u001b[0m\n",
            "\u001b[1m1.3739759229541313\t -> 0.9811257719993591\u001b[0m\n",
            "\u001b[1m0.4421049134868611\t -> 0.5559585690498352\u001b[0m\n",
            "\u001b[1m0.7850475361681925\t -> 0.764772355556488\u001b[0m\n",
            "\u001b[1m0.7593733123808108\t -> 0.8361822962760925\u001b[0m\n",
            "\u001b[1m0.5253201383431159\t -> 0.5976991653442383\u001b[0m\n",
            "\u001b[1m0.227611417878339\t -> 0.4643276631832123\u001b[0m\n",
            "\u001b[1m0.20788177655173876\t -> 0.10793287307024002\u001b[0m\n",
            "\u001b[1m0.92173591757194\t -> 0.6484381556510925\u001b[0m\n",
            "\u001b[1m0.8733453977802219\t -> 0.7381666302680969\u001b[0m\n",
            "\u001b[1m0.03805019141229071\t -> 0.5658727288246155\u001b[0m\n",
            "\u001b[1m0.5330522245825803\t -> 0.5732056498527527\u001b[0m\n",
            "\u001b[1m0.6593000166334421\t -> 0.41237741708755493\u001b[0m\n",
            "\u001b[1m0.7503494604588995\t -> 0.8035826683044434\u001b[0m\n",
            "\u001b[1m0.5683930176542001\t -> 0.6686438918113708\u001b[0m\n",
            "\u001b[1m0.1976948809373632\t -> 0.08070342242717743\u001b[0m\n",
            "\u001b[1m1.1104731015027671\t -> 0.9369053840637207\u001b[0m\n",
            "\u001b[1m0.08623158429892047\t -> 0.10534573346376419\u001b[0m\n",
            "\u001b[1m0.7758986410463862\t -> 0.9465401768684387\u001b[0m\n",
            "\u001b[1m0.3539494079222173\t -> 0.3357961177825928\u001b[0m\n",
            "\u001b[1m0.6522474937170316\t -> 0.5316568613052368\u001b[0m\n",
            "\u001b[1m0.6820513477969606\t -> 0.9128555655479431\u001b[0m\n",
            "\u001b[1m-0.07768753133079595\t -> 0.09468056261539459\u001b[0m\n",
            "\u001b[1m0.7353213613311321\t -> 0.7176303863525391\u001b[0m\n",
            "\u001b[1m0.480373460411111\t -> 0.8855955004692078\u001b[0m\n",
            "\u001b[1m0.4161128055651391\t -> 0.6398656964302063\u001b[0m\n",
            "\u001b[1m0.8652244130339954\t -> 0.8602706789970398\u001b[0m\n",
            "\u001b[1m0.2378005291787024\t -> 0.5896828770637512\u001b[0m\n",
            "\u001b[1m0.255629183198977\t -> 0.47552210092544556\u001b[0m\n",
            "\u001b[1m0.14224755921459215\t -> 0.2176293432712555\u001b[0m\n",
            "\u001b[1m0.1948715566077324\t -> 0.18715211749076843\u001b[0m\n",
            "\u001b[1m-0.3353099326971009\t -> 0.06364626437425613\u001b[0m\n",
            "\u001b[1m0.06873515774405725\t -> 0.19236767292022705\u001b[0m\n",
            "\u001b[1m0.58313955281421\t -> 0.8698468804359436\u001b[0m\n",
            "\u001b[1m1.1685280127975282\t -> 0.9249752163887024\u001b[0m\n",
            "\u001b[1m0.6607666463275005\t -> 0.7243764400482178\u001b[0m\n",
            "\u001b[1m0.9127941108108104\t -> 0.5396670699119568\u001b[0m\n",
            "\u001b[1m0.14670945020315912\t -> 0.12639757990837097\u001b[0m\n",
            "\u001b[1m0.16775337912151522\t -> 0.2617490291595459\u001b[0m\n",
            "\u001b[1m0.856363853211518\t -> 0.5345631241798401\u001b[0m\n",
            "\u001b[1m0.7545973083678182\t -> 0.7388268113136292\u001b[0m\n",
            "\u001b[1m0.8995400721342153\t -> 0.6478615403175354\u001b[0m\n",
            "\u001b[1m0.17447379419115436\t -> 0.1880839765071869\u001b[0m\n",
            "\u001b[1m1.2472085232640264\t -> 0.6819730401039124\u001b[0m\n",
            "\u001b[1m0.2506961238991525\t -> 0.4585838317871094\u001b[0m\n",
            "\u001b[1m0.6849491349263321\t -> 0.4789358973503113\u001b[0m\n",
            "\u001b[1m0.5258030493278713\t -> 0.48593980073928833\u001b[0m\n",
            "\u001b[1m0.2315373173142349\t -> 0.2883773148059845\u001b[0m\n",
            "\u001b[1m0.8554630985652867\t -> 0.802257776260376\u001b[0m\n",
            "\u001b[1m0.9332437318216223\t -> 0.5750722289085388\u001b[0m\n"
          ],
          "name": "stdout"
        }
      ]
    },
    {
      "cell_type": "code",
      "metadata": {
        "id": "FhHmKd8-zOlp",
        "colab_type": "code",
        "outputId": "331b008f-6032-417d-cd65-805e2570dab0",
        "colab": {
          "base_uri": "https://localhost:8080/",
          "height": 34
        }
      },
      "source": [
        "oss, mae, mse = model.evaluate(X_test, y_test, verbose=2)\n",
        "\n",
        "print(\"Testing set Mean Abs Error: {:5.4f}\".format(mae))"
      ],
      "execution_count": 44,
      "outputs": [
        {
          "output_type": "stream",
          "text": [
            "Testing set Mean Abs Error: 0.0461\n"
          ],
          "name": "stdout"
        }
      ]
    },
    {
      "cell_type": "markdown",
      "metadata": {
        "id": "P3txja252bGo",
        "colab_type": "text"
      },
      "source": [
        "## Conclusion(1):\n",
        "\n",
        "The classical machine learning model like SVM, XGBoost, Linear regression and random forest have mean absolute error of around 0.18, meanwhile the MLP has a mean absolute error of 0.0434.\n",
        "\n",
        "As x is correlate to y and z for 0.82, below, I am just going to predict the z by using x values only."
      ]
    },
    {
      "cell_type": "markdown",
      "metadata": {
        "id": "iUuPHUQJ2-ki",
        "colab_type": "text"
      },
      "source": [
        "## Predict the z by using x only\n",
        "\n",
        "#### Use x only as the features"
      ]
    },
    {
      "cell_type": "code",
      "metadata": {
        "id": "3HA8Y8wA3SP_",
        "colab_type": "code",
        "outputId": "ccf02d8a-2242-45d4-e6bb-e227160ccec6",
        "colab": {
          "base_uri": "https://localhost:8080/",
          "height": 34
        }
      },
      "source": [
        "#get the features for training data\n",
        "X_train = train[['x']]\n",
        "#output(label) of training data\n",
        "y_train = train['z']\n",
        "#get the testing data features and output(label)\n",
        "X_test = test[['x']]\n",
        "y_test = test['z']\n",
        "\n",
        "print(X_train.shape)"
      ],
      "execution_count": 45,
      "outputs": [
        {
          "output_type": "stream",
          "text": [
            "(900, 1)\n"
          ],
          "name": "stdout"
        }
      ]
    },
    {
      "cell_type": "markdown",
      "metadata": {
        "id": "eGQ9ZKjm6A5J",
        "colab_type": "text"
      },
      "source": [
        "### Using SVM regressor"
      ]
    },
    {
      "cell_type": "code",
      "metadata": {
        "id": "kKtpvFg43kRC",
        "colab_type": "code",
        "outputId": "3da2351f-3736-4f39-a161-36e2abea91f4",
        "colab": {
          "base_uri": "https://localhost:8080/",
          "height": 51
        }
      },
      "source": [
        "# Create and train the Support Vector Machine (Regressor) \n",
        "\n",
        "from sklearn.svm import SVR\n",
        "\n",
        "svr = SVR(kernel='rbf', C=1e3, gamma=0.1) \n",
        "svr.fit(X_train, y_train)"
      ],
      "execution_count": 46,
      "outputs": [
        {
          "output_type": "execute_result",
          "data": {
            "text/plain": [
              "SVR(C=1000.0, cache_size=200, coef0=0.0, degree=3, epsilon=0.1, gamma=0.1,\n",
              "    kernel='rbf', max_iter=-1, shrinking=True, tol=0.001, verbose=False)"
            ]
          },
          "metadata": {
            "tags": []
          },
          "execution_count": 46
        }
      ]
    },
    {
      "cell_type": "code",
      "metadata": {
        "id": "qIN1ngWH3sD5",
        "colab_type": "code",
        "outputId": "7e27468d-164d-43de-91d9-e7875d31ed1e",
        "colab": {
          "base_uri": "https://localhost:8080/",
          "height": 34
        }
      },
      "source": [
        "# Testing Model: Score returns the coefficient of determination R^2 of the prediction. \n",
        "# The best possible score is 1.0\n",
        "svm_confidence = svr.score(X_test, y_test)\n",
        "print(\"svm confidence: \", svm_confidence)"
      ],
      "execution_count": 47,
      "outputs": [
        {
          "output_type": "stream",
          "text": [
            "svm confidence:  0.6400544691181359\n"
          ],
          "name": "stdout"
        }
      ]
    },
    {
      "cell_type": "code",
      "metadata": {
        "id": "Lt--EtWv331M",
        "colab_type": "code",
        "outputId": "80ddc46e-263a-45a9-90f1-d23cd88631df",
        "colab": {
          "base_uri": "https://localhost:8080/",
          "height": 419
        }
      },
      "source": [
        "y_pred = svr.predict(X_test)\n",
        "df_pred = pd.DataFrame({'Actual': y_test, 'Predicted': y_pred})\n",
        "df_pred"
      ],
      "execution_count": 48,
      "outputs": [
        {
          "output_type": "execute_result",
          "data": {
            "text/html": [
              "<div>\n",
              "<style scoped>\n",
              "    .dataframe tbody tr th:only-of-type {\n",
              "        vertical-align: middle;\n",
              "    }\n",
              "\n",
              "    .dataframe tbody tr th {\n",
              "        vertical-align: top;\n",
              "    }\n",
              "\n",
              "    .dataframe thead th {\n",
              "        text-align: right;\n",
              "    }\n",
              "</style>\n",
              "<table border=\"1\" class=\"dataframe\">\n",
              "  <thead>\n",
              "    <tr style=\"text-align: right;\">\n",
              "      <th></th>\n",
              "      <th>Actual</th>\n",
              "      <th>Predicted</th>\n",
              "    </tr>\n",
              "  </thead>\n",
              "  <tbody>\n",
              "    <tr>\n",
              "      <th>13</th>\n",
              "      <td>0.049401</td>\n",
              "      <td>-0.027868</td>\n",
              "    </tr>\n",
              "    <tr>\n",
              "      <th>844</th>\n",
              "      <td>0.614162</td>\n",
              "      <td>0.209075</td>\n",
              "    </tr>\n",
              "    <tr>\n",
              "      <th>664</th>\n",
              "      <td>0.398412</td>\n",
              "      <td>0.187846</td>\n",
              "    </tr>\n",
              "    <tr>\n",
              "      <th>269</th>\n",
              "      <td>0.997897</td>\n",
              "      <td>0.787008</td>\n",
              "    </tr>\n",
              "    <tr>\n",
              "      <th>720</th>\n",
              "      <td>-0.092484</td>\n",
              "      <td>0.225654</td>\n",
              "    </tr>\n",
              "    <tr>\n",
              "      <th>...</th>\n",
              "      <td>...</td>\n",
              "      <td>...</td>\n",
              "    </tr>\n",
              "    <tr>\n",
              "      <th>165</th>\n",
              "      <td>0.684949</td>\n",
              "      <td>0.472273</td>\n",
              "    </tr>\n",
              "    <tr>\n",
              "      <th>579</th>\n",
              "      <td>0.525803</td>\n",
              "      <td>0.492043</td>\n",
              "    </tr>\n",
              "    <tr>\n",
              "      <th>738</th>\n",
              "      <td>0.231537</td>\n",
              "      <td>0.280709</td>\n",
              "    </tr>\n",
              "    <tr>\n",
              "      <th>627</th>\n",
              "      <td>0.855463</td>\n",
              "      <td>0.807788</td>\n",
              "    </tr>\n",
              "    <tr>\n",
              "      <th>697</th>\n",
              "      <td>0.933244</td>\n",
              "      <td>0.564902</td>\n",
              "    </tr>\n",
              "  </tbody>\n",
              "</table>\n",
              "<p>100 rows × 2 columns</p>\n",
              "</div>"
            ],
            "text/plain": [
              "       Actual  Predicted\n",
              "13   0.049401  -0.027868\n",
              "844  0.614162   0.209075\n",
              "664  0.398412   0.187846\n",
              "269  0.997897   0.787008\n",
              "720 -0.092484   0.225654\n",
              "..        ...        ...\n",
              "165  0.684949   0.472273\n",
              "579  0.525803   0.492043\n",
              "738  0.231537   0.280709\n",
              "627  0.855463   0.807788\n",
              "697  0.933244   0.564902\n",
              "\n",
              "[100 rows x 2 columns]"
            ]
          },
          "metadata": {
            "tags": []
          },
          "execution_count": 48
        }
      ]
    },
    {
      "cell_type": "code",
      "metadata": {
        "id": "kApzTNHYXyyX",
        "colab_type": "code",
        "outputId": "53efb0f7-4bea-429c-ce8f-1a8ad069c795",
        "colab": {
          "base_uri": "https://localhost:8080/",
          "height": 283
        }
      },
      "source": [
        "a = plt.axes(aspect='equal')\n",
        "plt.scatter(y_test, y_pred.flatten())\n",
        "plt.xlabel('True Values')\n",
        "plt.ylabel('Predictions')\n",
        "lims = [-0.2, 1.2]\n",
        "plt.xlim(lims)\n",
        "plt.ylim(lims)\n",
        "_ = plt.plot(lims, lims)"
      ],
      "execution_count": 49,
      "outputs": [
        {
          "output_type": "display_data",
          "data": {
            "image/png": "[encoded data removed]",
            "text/plain": [
              "<Figure size 432x288 with 1 Axes>"
            ]
          },
          "metadata": {
            "tags": []
          }
        }
      ]
    },
    {
      "cell_type": "code",
      "metadata": {
        "id": "pH2c6-qB39HX",
        "colab_type": "code",
        "outputId": "f66b70f2-ce5b-4e38-c5fd-f1df093d2c43",
        "colab": {
          "base_uri": "https://localhost:8080/",
          "height": 34
        }
      },
      "source": [
        "print(\"MAE by using SVM is {}.\".format(mean_absolute_error(y_test,y_pred)))"
      ],
      "execution_count": 50,
      "outputs": [
        {
          "output_type": "stream",
          "text": [
            "MAE by using SVM is 0.1692266274256607.\n"
          ],
          "name": "stdout"
        }
      ]
    },
    {
      "cell_type": "markdown",
      "metadata": {
        "id": "8QVKHlUb6F1L",
        "colab_type": "text"
      },
      "source": [
        "### Using MLP"
      ]
    },
    {
      "cell_type": "code",
      "metadata": {
        "id": "lDSNaAS14b09",
        "colab_type": "code",
        "colab": {}
      },
      "source": [
        "X_train, X_val, y_train, y_val = split(X_train, y_train, test_size = 0.1)"
      ],
      "execution_count": 0,
      "outputs": []
    },
    {
      "cell_type": "code",
      "metadata": {
        "id": "cFYeAgXa5gof",
        "colab_type": "code",
        "outputId": "e75df53c-d25e-4460-a522-0cb339c8bd9b",
        "colab": {
          "base_uri": "https://localhost:8080/",
          "height": 323
        }
      },
      "source": [
        "model2 = Sequential()\n",
        "model2.add(Dense(1000, input_dim=1,activation='relu'))\n",
        "model2.add(Dropout(0.5))\n",
        "model2.add(Dense(500, activation=\"relu\"))\n",
        "model2.add(Dropout(0.5))\n",
        "model2.add(Dense(1, activation='linear'))\n",
        "model2.summary()"
      ],
      "execution_count": 52,
      "outputs": [
        {
          "output_type": "stream",
          "text": [
            "Model: \"sequential_2\"\n",
            "_________________________________________________________________\n",
            "Layer (type)                 Output Shape              Param #   \n",
            "=================================================================\n",
            "dense_4 (Dense)              (None, 1000)              2000      \n",
            "_________________________________________________________________\n",
            "dropout_3 (Dropout)          (None, 1000)              0         \n",
            "_________________________________________________________________\n",
            "dense_5 (Dense)              (None, 500)               500500    \n",
            "_________________________________________________________________\n",
            "dropout_4 (Dropout)          (None, 500)               0         \n",
            "_________________________________________________________________\n",
            "dense_6 (Dense)              (None, 1)                 501       \n",
            "=================================================================\n",
            "Total params: 503,001\n",
            "Trainable params: 503,001\n",
            "Non-trainable params: 0\n",
            "_________________________________________________________________\n"
          ],
          "name": "stdout"
        }
      ]
    },
    {
      "cell_type": "code",
      "metadata": {
        "id": "3TTR1GJL4w-H",
        "colab_type": "code",
        "outputId": "6d54a08b-f8ca-4232-cbd5-4aad300966b1",
        "colab": {
          "base_uri": "https://localhost:8080/",
          "height": 1000
        }
      },
      "source": [
        "from keras_radam import RAdam\n",
        "\n",
        "model2.compile(loss='mse', optimizer=RAdam(), metrics=['mse','mae'])\n",
        "checkpointer = [\n",
        "    ReduceLROnPlateau(monitor='val_loss', \n",
        "                      patience=3, \n",
        "                      verbose=1,\n",
        "                      factor=0.5,\n",
        "                      min_lr = 0.00001,\n",
        "                      cooldown=0),\n",
        "    ModelCheckpoint(filepath='best2.hdf5', verbose=1, \n",
        "                               save_best_only=True)\n",
        "]\n",
        "history = model2.fit(X_train, y_train, epochs=150, batch_size=128,  verbose=1, validation_data=[X_val, y_val], shuffle=True, callbacks=checkpointer)\n",
        "train_acc = model2.evaluate(X_train, y_train, verbose=0)\n",
        "val_acc = model2.evaluate(X_val, y_val, verbose=0)"
      ],
      "execution_count": 53,
      "outputs": [
        {
          "output_type": "stream",
          "text": [
            "Train on 810 samples, validate on 90 samples\n",
            "Epoch 1/150\n",
            "810/810 [==============================] - 0s 458us/step - loss: 0.3523 - mean_squared_error: 0.3523 - mean_absolute_error: 0.5037 - val_loss: 0.3163 - val_mean_squared_error: 0.3163 - val_mean_absolute_error: 0.4648\n",
            "\n",
            "Epoch 00001: val_loss improved from inf to 0.31630, saving model to best2.hdf5\n",
            "Epoch 2/150\n",
            "810/810 [==============================] - 0s 37us/step - loss: 0.3100 - mean_squared_error: 0.3100 - mean_absolute_error: 0.4693 - val_loss: 0.2538 - val_mean_squared_error: 0.2538 - val_mean_absolute_error: 0.4138\n",
            "\n",
            "Epoch 00002: val_loss improved from 0.31630 to 0.25380, saving model to best2.hdf5\n",
            "Epoch 3/150\n",
            "810/810 [==============================] - 0s 42us/step - loss: 0.2372 - mean_squared_error: 0.2372 - mean_absolute_error: 0.4080 - val_loss: 0.1756 - val_mean_squared_error: 0.1756 - val_mean_absolute_error: 0.3421\n",
            "\n",
            "Epoch 00003: val_loss improved from 0.25380 to 0.17561, saving model to best2.hdf5\n",
            "Epoch 4/150\n",
            "810/810 [==============================] - 0s 33us/step - loss: 0.1574 - mean_squared_error: 0.1574 - mean_absolute_error: 0.3271 - val_loss: 0.1033 - val_mean_squared_error: 0.1033 - val_mean_absolute_error: 0.2598\n",
            "\n",
            "Epoch 00004: val_loss improved from 0.17561 to 0.10334, saving model to best2.hdf5\n",
            "Epoch 5/150\n",
            "810/810 [==============================] - 0s 36us/step - loss: 0.0907 - mean_squared_error: 0.0907 - mean_absolute_error: 0.2427 - val_loss: 0.0548 - val_mean_squared_error: 0.0548 - val_mean_absolute_error: 0.1846\n",
            "\n",
            "Epoch 00005: val_loss improved from 0.10334 to 0.05476, saving model to best2.hdf5\n",
            "Epoch 6/150\n",
            "810/810 [==============================] - 0s 35us/step - loss: 0.0535 - mean_squared_error: 0.0535 - mean_absolute_error: 0.1851 - val_loss: 0.0399 - val_mean_squared_error: 0.0399 - val_mean_absolute_error: 0.1604\n",
            "\n",
            "Epoch 00006: val_loss improved from 0.05476 to 0.03990, saving model to best2.hdf5\n",
            "Epoch 7/150\n",
            "810/810 [==============================] - 0s 31us/step - loss: 0.0530 - mean_squared_error: 0.0530 - mean_absolute_error: 0.1847 - val_loss: 0.0447 - val_mean_squared_error: 0.0447 - val_mean_absolute_error: 0.1725\n",
            "\n",
            "Epoch 00007: val_loss did not improve from 0.03990\n",
            "Epoch 8/150\n",
            "810/810 [==============================] - 0s 37us/step - loss: 0.0544 - mean_squared_error: 0.0544 - mean_absolute_error: 0.1891 - val_loss: 0.0420 - val_mean_squared_error: 0.0420 - val_mean_absolute_error: 0.1667\n",
            "\n",
            "Epoch 00008: val_loss did not improve from 0.03990\n",
            "Epoch 9/150\n",
            "810/810 [==============================] - 0s 48us/step - loss: 0.0501 - mean_squared_error: 0.0501 - mean_absolute_error: 0.1790 - val_loss: 0.0390 - val_mean_squared_error: 0.0390 - val_mean_absolute_error: 0.1585\n",
            "\n",
            "Epoch 00009: val_loss improved from 0.03990 to 0.03897, saving model to best2.hdf5\n",
            "Epoch 10/150\n",
            "810/810 [==============================] - 0s 40us/step - loss: 0.0502 - mean_squared_error: 0.0502 - mean_absolute_error: 0.1794 - val_loss: 0.0394 - val_mean_squared_error: 0.0394 - val_mean_absolute_error: 0.1567\n",
            "\n",
            "Epoch 00010: val_loss did not improve from 0.03897\n",
            "Epoch 11/150\n",
            "810/810 [==============================] - 0s 42us/step - loss: 0.0476 - mean_squared_error: 0.0476 - mean_absolute_error: 0.1753 - val_loss: 0.0393 - val_mean_squared_error: 0.0393 - val_mean_absolute_error: 0.1561\n",
            "\n",
            "Epoch 00011: val_loss did not improve from 0.03897\n",
            "Epoch 12/150\n",
            "810/810 [==============================] - 0s 44us/step - loss: 0.0472 - mean_squared_error: 0.0472 - mean_absolute_error: 0.1745 - val_loss: 0.0385 - val_mean_squared_error: 0.0385 - val_mean_absolute_error: 0.1561\n",
            "\n",
            "Epoch 00012: val_loss improved from 0.03897 to 0.03852, saving model to best2.hdf5\n",
            "Epoch 13/150\n",
            "810/810 [==============================] - 0s 38us/step - loss: 0.0470 - mean_squared_error: 0.0470 - mean_absolute_error: 0.1758 - val_loss: 0.0382 - val_mean_squared_error: 0.0382 - val_mean_absolute_error: 0.1561\n",
            "\n",
            "Epoch 00013: val_loss improved from 0.03852 to 0.03817, saving model to best2.hdf5\n",
            "Epoch 14/150\n",
            "810/810 [==============================] - 0s 35us/step - loss: 0.0469 - mean_squared_error: 0.0469 - mean_absolute_error: 0.1752 - val_loss: 0.0381 - val_mean_squared_error: 0.0381 - val_mean_absolute_error: 0.1554\n",
            "\n",
            "Epoch 00014: val_loss improved from 0.03817 to 0.03806, saving model to best2.hdf5\n",
            "Epoch 15/150\n",
            "810/810 [==============================] - 0s 42us/step - loss: 0.0479 - mean_squared_error: 0.0479 - mean_absolute_error: 0.1785 - val_loss: 0.0381 - val_mean_squared_error: 0.0381 - val_mean_absolute_error: 0.1548\n",
            "\n",
            "Epoch 00015: val_loss did not improve from 0.03806\n",
            "Epoch 16/150\n",
            "810/810 [==============================] - 0s 42us/step - loss: 0.0452 - mean_squared_error: 0.0452 - mean_absolute_error: 0.1726 - val_loss: 0.0379 - val_mean_squared_error: 0.0379 - val_mean_absolute_error: 0.1545\n",
            "\n",
            "Epoch 00016: val_loss improved from 0.03806 to 0.03788, saving model to best2.hdf5\n",
            "Epoch 17/150\n",
            "810/810 [==============================] - 0s 45us/step - loss: 0.0467 - mean_squared_error: 0.0467 - mean_absolute_error: 0.1750 - val_loss: 0.0377 - val_mean_squared_error: 0.0377 - val_mean_absolute_error: 0.1542\n",
            "\n",
            "Epoch 00017: val_loss improved from 0.03788 to 0.03774, saving model to best2.hdf5\n",
            "Epoch 18/150\n",
            "810/810 [==============================] - 0s 37us/step - loss: 0.0447 - mean_squared_error: 0.0447 - mean_absolute_error: 0.1711 - val_loss: 0.0378 - val_mean_squared_error: 0.0378 - val_mean_absolute_error: 0.1535\n",
            "\n",
            "Epoch 00018: val_loss did not improve from 0.03774\n",
            "Epoch 19/150\n",
            "810/810 [==============================] - 0s 34us/step - loss: 0.0456 - mean_squared_error: 0.0456 - mean_absolute_error: 0.1725 - val_loss: 0.0378 - val_mean_squared_error: 0.0378 - val_mean_absolute_error: 0.1533\n",
            "\n",
            "Epoch 00019: val_loss did not improve from 0.03774\n",
            "Epoch 20/150\n",
            "810/810 [==============================] - 0s 33us/step - loss: 0.0460 - mean_squared_error: 0.0460 - mean_absolute_error: 0.1737 - val_loss: 0.0377 - val_mean_squared_error: 0.0377 - val_mean_absolute_error: 0.1532\n",
            "\n",
            "Epoch 00020: ReduceLROnPlateau reducing learning rate to 0.0005000000237487257.\n",
            "\n",
            "Epoch 00020: val_loss improved from 0.03774 to 0.03774, saving model to best2.hdf5\n",
            "Epoch 21/150\n",
            "810/810 [==============================] - 0s 38us/step - loss: 0.0465 - mean_squared_error: 0.0465 - mean_absolute_error: 0.1755 - val_loss: 0.0377 - val_mean_squared_error: 0.0377 - val_mean_absolute_error: 0.1532\n",
            "\n",
            "Epoch 00021: val_loss improved from 0.03774 to 0.03765, saving model to best2.hdf5\n",
            "Epoch 22/150\n",
            "810/810 [==============================] - 0s 35us/step - loss: 0.0465 - mean_squared_error: 0.0465 - mean_absolute_error: 0.1753 - val_loss: 0.0378 - val_mean_squared_error: 0.0378 - val_mean_absolute_error: 0.1532\n",
            "\n",
            "Epoch 00022: val_loss did not improve from 0.03765\n",
            "Epoch 23/150\n",
            "810/810 [==============================] - 0s 36us/step - loss: 0.0442 - mean_squared_error: 0.0442 - mean_absolute_error: 0.1709 - val_loss: 0.0378 - val_mean_squared_error: 0.0378 - val_mean_absolute_error: 0.1531\n",
            "\n",
            "Epoch 00023: ReduceLROnPlateau reducing learning rate to 0.0002500000118743628.\n",
            "\n",
            "Epoch 00023: val_loss did not improve from 0.03765\n",
            "Epoch 24/150\n",
            "810/810 [==============================] - 0s 33us/step - loss: 0.0434 - mean_squared_error: 0.0434 - mean_absolute_error: 0.1700 - val_loss: 0.0378 - val_mean_squared_error: 0.0378 - val_mean_absolute_error: 0.1531\n",
            "\n",
            "Epoch 00024: val_loss did not improve from 0.03765\n",
            "Epoch 25/150\n",
            "810/810 [==============================] - 0s 37us/step - loss: 0.0468 - mean_squared_error: 0.0468 - mean_absolute_error: 0.1752 - val_loss: 0.0377 - val_mean_squared_error: 0.0377 - val_mean_absolute_error: 0.1531\n",
            "\n",
            "Epoch 00025: val_loss did not improve from 0.03765\n",
            "Epoch 26/150\n",
            "810/810 [==============================] - 0s 37us/step - loss: 0.0465 - mean_squared_error: 0.0465 - mean_absolute_error: 0.1735 - val_loss: 0.0378 - val_mean_squared_error: 0.0378 - val_mean_absolute_error: 0.1531\n",
            "\n",
            "Epoch 00026: ReduceLROnPlateau reducing learning rate to 0.0001250000059371814.\n",
            "\n",
            "Epoch 00026: val_loss did not improve from 0.03765\n",
            "Epoch 27/150\n",
            "810/810 [==============================] - 0s 37us/step - loss: 0.0451 - mean_squared_error: 0.0451 - mean_absolute_error: 0.1716 - val_loss: 0.0378 - val_mean_squared_error: 0.0378 - val_mean_absolute_error: 0.1531\n",
            "\n",
            "Epoch 00027: val_loss did not improve from 0.03765\n",
            "Epoch 28/150\n",
            "810/810 [==============================] - 0s 44us/step - loss: 0.0452 - mean_squared_error: 0.0452 - mean_absolute_error: 0.1708 - val_loss: 0.0378 - val_mean_squared_error: 0.0378 - val_mean_absolute_error: 0.1532\n",
            "\n",
            "Epoch 00028: val_loss did not improve from 0.03765\n",
            "Epoch 29/150\n",
            "810/810 [==============================] - 0s 40us/step - loss: 0.0457 - mean_squared_error: 0.0457 - mean_absolute_error: 0.1735 - val_loss: 0.0378 - val_mean_squared_error: 0.0378 - val_mean_absolute_error: 0.1532\n",
            "\n",
            "Epoch 00029: ReduceLROnPlateau reducing learning rate to 6.25000029685907e-05.\n",
            "\n",
            "Epoch 00029: val_loss did not improve from 0.03765\n",
            "Epoch 30/150\n",
            "810/810 [==============================] - 0s 49us/step - loss: 0.0447 - mean_squared_error: 0.0447 - mean_absolute_error: 0.1716 - val_loss: 0.0378 - val_mean_squared_error: 0.0378 - val_mean_absolute_error: 0.1532\n",
            "\n",
            "Epoch 00030: val_loss did not improve from 0.03765\n",
            "Epoch 31/150\n",
            "810/810 [==============================] - 0s 33us/step - loss: 0.0460 - mean_squared_error: 0.0460 - mean_absolute_error: 0.1738 - val_loss: 0.0378 - val_mean_squared_error: 0.0378 - val_mean_absolute_error: 0.1532\n",
            "\n",
            "Epoch 00031: val_loss did not improve from 0.03765\n",
            "Epoch 32/150\n",
            "810/810 [==============================] - 0s 32us/step - loss: 0.0457 - mean_squared_error: 0.0457 - mean_absolute_error: 0.1712 - val_loss: 0.0378 - val_mean_squared_error: 0.0378 - val_mean_absolute_error: 0.1532\n",
            "\n",
            "Epoch 00032: ReduceLROnPlateau reducing learning rate to 3.125000148429535e-05.\n",
            "\n",
            "Epoch 00032: val_loss did not improve from 0.03765\n",
            "Epoch 33/150\n",
            "810/810 [==============================] - 0s 36us/step - loss: 0.0453 - mean_squared_error: 0.0453 - mean_absolute_error: 0.1722 - val_loss: 0.0378 - val_mean_squared_error: 0.0378 - val_mean_absolute_error: 0.1532\n",
            "\n",
            "Epoch 00033: val_loss did not improve from 0.03765\n",
            "Epoch 34/150\n",
            "810/810 [==============================] - 0s 39us/step - loss: 0.0452 - mean_squared_error: 0.0452 - mean_absolute_error: 0.1713 - val_loss: 0.0378 - val_mean_squared_error: 0.0378 - val_mean_absolute_error: 0.1532\n",
            "\n",
            "Epoch 00034: val_loss did not improve from 0.03765\n",
            "Epoch 35/150\n",
            "810/810 [==============================] - 0s 36us/step - loss: 0.0466 - mean_squared_error: 0.0466 - mean_absolute_error: 0.1736 - val_loss: 0.0378 - val_mean_squared_error: 0.0378 - val_mean_absolute_error: 0.1532\n",
            "\n",
            "Epoch 00035: ReduceLROnPlateau reducing learning rate to 1.5625000742147677e-05.\n",
            "\n",
            "Epoch 00035: val_loss did not improve from 0.03765\n",
            "Epoch 36/150\n",
            "810/810 [==============================] - 0s 38us/step - loss: 0.0448 - mean_squared_error: 0.0448 - mean_absolute_error: 0.1713 - val_loss: 0.0378 - val_mean_squared_error: 0.0378 - val_mean_absolute_error: 0.1532\n",
            "\n",
            "Epoch 00036: val_loss did not improve from 0.03765\n",
            "Epoch 37/150\n",
            "810/810 [==============================] - 0s 33us/step - loss: 0.0450 - mean_squared_error: 0.0450 - mean_absolute_error: 0.1720 - val_loss: 0.0378 - val_mean_squared_error: 0.0378 - val_mean_absolute_error: 0.1532\n",
            "\n",
            "Epoch 00037: val_loss did not improve from 0.03765\n",
            "Epoch 38/150\n",
            "810/810 [==============================] - 0s 35us/step - loss: 0.0461 - mean_squared_error: 0.0461 - mean_absolute_error: 0.1727 - val_loss: 0.0378 - val_mean_squared_error: 0.0378 - val_mean_absolute_error: 0.1532\n",
            "\n",
            "Epoch 00038: ReduceLROnPlateau reducing learning rate to 1e-05.\n",
            "\n",
            "Epoch 00038: val_loss did not improve from 0.03765\n",
            "Epoch 39/150\n",
            "810/810 [==============================] - 0s 36us/step - loss: 0.0465 - mean_squared_error: 0.0465 - mean_absolute_error: 0.1744 - val_loss: 0.0378 - val_mean_squared_error: 0.0378 - val_mean_absolute_error: 0.1532\n",
            "\n",
            "Epoch 00039: val_loss did not improve from 0.03765\n",
            "Epoch 40/150\n",
            "810/810 [==============================] - 0s 38us/step - loss: 0.0441 - mean_squared_error: 0.0441 - mean_absolute_error: 0.1698 - val_loss: 0.0378 - val_mean_squared_error: 0.0378 - val_mean_absolute_error: 0.1531\n",
            "\n",
            "Epoch 00040: val_loss did not improve from 0.03765\n",
            "Epoch 41/150\n",
            "810/810 [==============================] - 0s 39us/step - loss: 0.0451 - mean_squared_error: 0.0451 - mean_absolute_error: 0.1739 - val_loss: 0.0378 - val_mean_squared_error: 0.0378 - val_mean_absolute_error: 0.1531\n",
            "\n",
            "Epoch 00041: val_loss did not improve from 0.03765\n",
            "Epoch 42/150\n",
            "810/810 [==============================] - 0s 38us/step - loss: 0.0464 - mean_squared_error: 0.0464 - mean_absolute_error: 0.1741 - val_loss: 0.0378 - val_mean_squared_error: 0.0378 - val_mean_absolute_error: 0.1531\n",
            "\n",
            "Epoch 00042: val_loss did not improve from 0.03765\n",
            "Epoch 43/150\n",
            "810/810 [==============================] - 0s 45us/step - loss: 0.0433 - mean_squared_error: 0.0433 - mean_absolute_error: 0.1675 - val_loss: 0.0378 - val_mean_squared_error: 0.0378 - val_mean_absolute_error: 0.1531\n",
            "\n",
            "Epoch 00043: val_loss did not improve from 0.03765\n",
            "Epoch 44/150\n",
            "810/810 [==============================] - 0s 40us/step - loss: 0.0454 - mean_squared_error: 0.0454 - mean_absolute_error: 0.1717 - val_loss: 0.0378 - val_mean_squared_error: 0.0378 - val_mean_absolute_error: 0.1531\n",
            "\n",
            "Epoch 00044: val_loss did not improve from 0.03765\n",
            "Epoch 45/150\n",
            "810/810 [==============================] - 0s 35us/step - loss: 0.0456 - mean_squared_error: 0.0456 - mean_absolute_error: 0.1729 - val_loss: 0.0378 - val_mean_squared_error: 0.0378 - val_mean_absolute_error: 0.1531\n",
            "\n",
            "Epoch 00045: val_loss did not improve from 0.03765\n",
            "Epoch 46/150\n",
            "810/810 [==============================] - 0s 35us/step - loss: 0.0454 - mean_squared_error: 0.0454 - mean_absolute_error: 0.1721 - val_loss: 0.0378 - val_mean_squared_error: 0.0378 - val_mean_absolute_error: 0.1531\n",
            "\n",
            "Epoch 00046: val_loss did not improve from 0.03765\n",
            "Epoch 47/150\n",
            "810/810 [==============================] - 0s 36us/step - loss: 0.0438 - mean_squared_error: 0.0438 - mean_absolute_error: 0.1721 - val_loss: 0.0378 - val_mean_squared_error: 0.0378 - val_mean_absolute_error: 0.1531\n",
            "\n",
            "Epoch 00047: val_loss did not improve from 0.03765\n",
            "Epoch 48/150\n",
            "810/810 [==============================] - 0s 39us/step - loss: 0.0451 - mean_squared_error: 0.0451 - mean_absolute_error: 0.1722 - val_loss: 0.0378 - val_mean_squared_error: 0.0378 - val_mean_absolute_error: 0.1532\n",
            "\n",
            "Epoch 00048: val_loss did not improve from 0.03765\n",
            "Epoch 49/150\n",
            "810/810 [==============================] - 0s 49us/step - loss: 0.0456 - mean_squared_error: 0.0456 - mean_absolute_error: 0.1727 - val_loss: 0.0378 - val_mean_squared_error: 0.0378 - val_mean_absolute_error: 0.1531\n",
            "\n",
            "Epoch 00049: val_loss did not improve from 0.03765\n",
            "Epoch 50/150\n",
            "810/810 [==============================] - 0s 35us/step - loss: 0.0459 - mean_squared_error: 0.0459 - mean_absolute_error: 0.1738 - val_loss: 0.0377 - val_mean_squared_error: 0.0377 - val_mean_absolute_error: 0.1531\n",
            "\n",
            "Epoch 00050: val_loss did not improve from 0.03765\n",
            "Epoch 51/150\n",
            "810/810 [==============================] - 0s 36us/step - loss: 0.0474 - mean_squared_error: 0.0474 - mean_absolute_error: 0.1772 - val_loss: 0.0378 - val_mean_squared_error: 0.0378 - val_mean_absolute_error: 0.1531\n",
            "\n",
            "Epoch 00051: val_loss did not improve from 0.03765\n",
            "Epoch 52/150\n",
            "810/810 [==============================] - 0s 32us/step - loss: 0.0451 - mean_squared_error: 0.0451 - mean_absolute_error: 0.1699 - val_loss: 0.0378 - val_mean_squared_error: 0.0378 - val_mean_absolute_error: 0.1531\n",
            "\n",
            "Epoch 00052: val_loss did not improve from 0.03765\n",
            "Epoch 53/150\n",
            "810/810 [==============================] - 0s 36us/step - loss: 0.0450 - mean_squared_error: 0.0450 - mean_absolute_error: 0.1720 - val_loss: 0.0378 - val_mean_squared_error: 0.0378 - val_mean_absolute_error: 0.1531\n",
            "\n",
            "Epoch 00053: val_loss did not improve from 0.03765\n",
            "Epoch 54/150\n",
            "810/810 [==============================] - 0s 34us/step - loss: 0.0457 - mean_squared_error: 0.0457 - mean_absolute_error: 0.1736 - val_loss: 0.0378 - val_mean_squared_error: 0.0378 - val_mean_absolute_error: 0.1531\n",
            "\n",
            "Epoch 00054: val_loss did not improve from 0.03765\n",
            "Epoch 55/150\n",
            "810/810 [==============================] - 0s 31us/step - loss: 0.0447 - mean_squared_error: 0.0447 - mean_absolute_error: 0.1718 - val_loss: 0.0378 - val_mean_squared_error: 0.0378 - val_mean_absolute_error: 0.1532\n",
            "\n",
            "Epoch 00055: val_loss did not improve from 0.03765\n",
            "Epoch 56/150\n",
            "810/810 [==============================] - 0s 34us/step - loss: 0.0449 - mean_squared_error: 0.0449 - mean_absolute_error: 0.1702 - val_loss: 0.0378 - val_mean_squared_error: 0.0378 - val_mean_absolute_error: 0.1532\n",
            "\n",
            "Epoch 00056: val_loss did not improve from 0.03765\n",
            "Epoch 57/150\n",
            "810/810 [==============================] - 0s 29us/step - loss: 0.0470 - mean_squared_error: 0.0470 - mean_absolute_error: 0.1763 - val_loss: 0.0378 - val_mean_squared_error: 0.0378 - val_mean_absolute_error: 0.1532\n",
            "\n",
            "Epoch 00057: val_loss did not improve from 0.03765\n",
            "Epoch 58/150\n",
            "810/810 [==============================] - 0s 36us/step - loss: 0.0440 - mean_squared_error: 0.0440 - mean_absolute_error: 0.1695 - val_loss: 0.0378 - val_mean_squared_error: 0.0378 - val_mean_absolute_error: 0.1532\n",
            "\n",
            "Epoch 00058: val_loss did not improve from 0.03765\n",
            "Epoch 59/150\n",
            "810/810 [==============================] - 0s 35us/step - loss: 0.0452 - mean_squared_error: 0.0452 - mean_absolute_error: 0.1722 - val_loss: 0.0378 - val_mean_squared_error: 0.0378 - val_mean_absolute_error: 0.1532\n",
            "\n",
            "Epoch 00059: val_loss did not improve from 0.03765\n",
            "Epoch 60/150\n",
            "810/810 [==============================] - 0s 34us/step - loss: 0.0453 - mean_squared_error: 0.0453 - mean_absolute_error: 0.1747 - val_loss: 0.0378 - val_mean_squared_error: 0.0378 - val_mean_absolute_error: 0.1532\n",
            "\n",
            "Epoch 00060: val_loss did not improve from 0.03765\n",
            "Epoch 61/150\n",
            "810/810 [==============================] - 0s 42us/step - loss: 0.0465 - mean_squared_error: 0.0465 - mean_absolute_error: 0.1738 - val_loss: 0.0378 - val_mean_squared_error: 0.0378 - val_mean_absolute_error: 0.1532\n",
            "\n",
            "Epoch 00061: val_loss did not improve from 0.03765\n",
            "Epoch 62/150\n",
            "810/810 [==============================] - 0s 33us/step - loss: 0.0453 - mean_squared_error: 0.0453 - mean_absolute_error: 0.1719 - val_loss: 0.0378 - val_mean_squared_error: 0.0378 - val_mean_absolute_error: 0.1532\n",
            "\n",
            "Epoch 00062: val_loss did not improve from 0.03765\n",
            "Epoch 63/150\n",
            "810/810 [==============================] - 0s 36us/step - loss: 0.0457 - mean_squared_error: 0.0457 - mean_absolute_error: 0.1733 - val_loss: 0.0378 - val_mean_squared_error: 0.0378 - val_mean_absolute_error: 0.1532\n",
            "\n",
            "Epoch 00063: val_loss did not improve from 0.03765\n",
            "Epoch 64/150\n",
            "810/810 [==============================] - 0s 35us/step - loss: 0.0467 - mean_squared_error: 0.0467 - mean_absolute_error: 0.1727 - val_loss: 0.0378 - val_mean_squared_error: 0.0378 - val_mean_absolute_error: 0.1532\n",
            "\n",
            "Epoch 00064: val_loss did not improve from 0.03765\n",
            "Epoch 65/150\n",
            "810/810 [==============================] - 0s 32us/step - loss: 0.0468 - mean_squared_error: 0.0468 - mean_absolute_error: 0.1748 - val_loss: 0.0378 - val_mean_squared_error: 0.0378 - val_mean_absolute_error: 0.1532\n",
            "\n",
            "Epoch 00065: val_loss did not improve from 0.03765\n",
            "Epoch 66/150\n",
            "810/810 [==============================] - 0s 37us/step - loss: 0.0465 - mean_squared_error: 0.0465 - mean_absolute_error: 0.1749 - val_loss: 0.0378 - val_mean_squared_error: 0.0378 - val_mean_absolute_error: 0.1532\n",
            "\n",
            "Epoch 00066: val_loss did not improve from 0.03765\n",
            "Epoch 67/150\n",
            "810/810 [==============================] - 0s 39us/step - loss: 0.0448 - mean_squared_error: 0.0448 - mean_absolute_error: 0.1716 - val_loss: 0.0378 - val_mean_squared_error: 0.0378 - val_mean_absolute_error: 0.1532\n",
            "\n",
            "Epoch 00067: val_loss did not improve from 0.03765\n",
            "Epoch 68/150\n",
            "810/810 [==============================] - 0s 33us/step - loss: 0.0457 - mean_squared_error: 0.0457 - mean_absolute_error: 0.1714 - val_loss: 0.0378 - val_mean_squared_error: 0.0378 - val_mean_absolute_error: 0.1532\n",
            "\n",
            "Epoch 00068: val_loss did not improve from 0.03765\n",
            "Epoch 69/150\n",
            "810/810 [==============================] - 0s 32us/step - loss: 0.0464 - mean_squared_error: 0.0464 - mean_absolute_error: 0.1747 - val_loss: 0.0378 - val_mean_squared_error: 0.0378 - val_mean_absolute_error: 0.1532\n",
            "\n",
            "Epoch 00069: val_loss did not improve from 0.03765\n",
            "Epoch 70/150\n",
            "810/810 [==============================] - 0s 31us/step - loss: 0.0462 - mean_squared_error: 0.0462 - mean_absolute_error: 0.1732 - val_loss: 0.0378 - val_mean_squared_error: 0.0378 - val_mean_absolute_error: 0.1532\n",
            "\n",
            "Epoch 00070: val_loss did not improve from 0.03765\n",
            "Epoch 71/150\n",
            "810/810 [==============================] - 0s 34us/step - loss: 0.0444 - mean_squared_error: 0.0444 - mean_absolute_error: 0.1713 - val_loss: 0.0378 - val_mean_squared_error: 0.0378 - val_mean_absolute_error: 0.1532\n",
            "\n",
            "Epoch 00071: val_loss did not improve from 0.03765\n",
            "Epoch 72/150\n",
            "810/810 [==============================] - 0s 33us/step - loss: 0.0454 - mean_squared_error: 0.0454 - mean_absolute_error: 0.1723 - val_loss: 0.0378 - val_mean_squared_error: 0.0378 - val_mean_absolute_error: 0.1532\n",
            "\n",
            "Epoch 00072: val_loss did not improve from 0.03765\n",
            "Epoch 73/150\n",
            "810/810 [==============================] - 0s 34us/step - loss: 0.0456 - mean_squared_error: 0.0456 - mean_absolute_error: 0.1731 - val_loss: 0.0378 - val_mean_squared_error: 0.0378 - val_mean_absolute_error: 0.1532\n",
            "\n",
            "Epoch 00073: val_loss did not improve from 0.03765\n",
            "Epoch 74/150\n",
            "810/810 [==============================] - 0s 36us/step - loss: 0.0466 - mean_squared_error: 0.0466 - mean_absolute_error: 0.1749 - val_loss: 0.0378 - val_mean_squared_error: 0.0378 - val_mean_absolute_error: 0.1532\n",
            "\n",
            "Epoch 00074: val_loss did not improve from 0.03765\n",
            "Epoch 75/150\n",
            "810/810 [==============================] - 0s 29us/step - loss: 0.0452 - mean_squared_error: 0.0452 - mean_absolute_error: 0.1714 - val_loss: 0.0378 - val_mean_squared_error: 0.0378 - val_mean_absolute_error: 0.1532\n",
            "\n",
            "Epoch 00075: val_loss did not improve from 0.03765\n",
            "Epoch 76/150\n",
            "810/810 [==============================] - 0s 33us/step - loss: 0.0463 - mean_squared_error: 0.0463 - mean_absolute_error: 0.1725 - val_loss: 0.0378 - val_mean_squared_error: 0.0378 - val_mean_absolute_error: 0.1532\n",
            "\n",
            "Epoch 00076: val_loss did not improve from 0.03765\n",
            "Epoch 77/150\n",
            "810/810 [==============================] - 0s 32us/step - loss: 0.0458 - mean_squared_error: 0.0458 - mean_absolute_error: 0.1720 - val_loss: 0.0378 - val_mean_squared_error: 0.0378 - val_mean_absolute_error: 0.1532\n",
            "\n",
            "Epoch 00077: val_loss did not improve from 0.03765\n",
            "Epoch 78/150\n",
            "810/810 [==============================] - 0s 35us/step - loss: 0.0463 - mean_squared_error: 0.0463 - mean_absolute_error: 0.1745 - val_loss: 0.0378 - val_mean_squared_error: 0.0378 - val_mean_absolute_error: 0.1532\n",
            "\n",
            "Epoch 00078: val_loss did not improve from 0.03765\n",
            "Epoch 79/150\n",
            "810/810 [==============================] - 0s 36us/step - loss: 0.0457 - mean_squared_error: 0.0457 - mean_absolute_error: 0.1730 - val_loss: 0.0378 - val_mean_squared_error: 0.0378 - val_mean_absolute_error: 0.1532\n",
            "\n",
            "Epoch 00079: val_loss did not improve from 0.03765\n",
            "Epoch 80/150\n",
            "810/810 [==============================] - 0s 32us/step - loss: 0.0461 - mean_squared_error: 0.0461 - mean_absolute_error: 0.1730 - val_loss: 0.0378 - val_mean_squared_error: 0.0378 - val_mean_absolute_error: 0.1532\n",
            "\n",
            "Epoch 00080: val_loss did not improve from 0.03765\n",
            "Epoch 81/150\n",
            "810/810 [==============================] - 0s 36us/step - loss: 0.0470 - mean_squared_error: 0.0470 - mean_absolute_error: 0.1739 - val_loss: 0.0378 - val_mean_squared_error: 0.0378 - val_mean_absolute_error: 0.1532\n",
            "\n",
            "Epoch 00081: val_loss did not improve from 0.03765\n",
            "Epoch 82/150\n",
            "810/810 [==============================] - 0s 36us/step - loss: 0.0444 - mean_squared_error: 0.0444 - mean_absolute_error: 0.1716 - val_loss: 0.0378 - val_mean_squared_error: 0.0378 - val_mean_absolute_error: 0.1532\n",
            "\n",
            "Epoch 00082: val_loss did not improve from 0.03765\n",
            "Epoch 83/150\n",
            "810/810 [==============================] - 0s 34us/step - loss: 0.0467 - mean_squared_error: 0.0467 - mean_absolute_error: 0.1729 - val_loss: 0.0378 - val_mean_squared_error: 0.0378 - val_mean_absolute_error: 0.1532\n",
            "\n",
            "Epoch 00083: val_loss did not improve from 0.03765\n",
            "Epoch 84/150\n",
            "810/810 [==============================] - 0s 33us/step - loss: 0.0447 - mean_squared_error: 0.0447 - mean_absolute_error: 0.1715 - val_loss: 0.0378 - val_mean_squared_error: 0.0378 - val_mean_absolute_error: 0.1532\n",
            "\n",
            "Epoch 00084: val_loss did not improve from 0.03765\n",
            "Epoch 85/150\n",
            "810/810 [==============================] - 0s 34us/step - loss: 0.0458 - mean_squared_error: 0.0458 - mean_absolute_error: 0.1732 - val_loss: 0.0378 - val_mean_squared_error: 0.0378 - val_mean_absolute_error: 0.1532\n",
            "\n",
            "Epoch 00085: val_loss did not improve from 0.03765\n",
            "Epoch 86/150\n",
            "810/810 [==============================] - 0s 33us/step - loss: 0.0447 - mean_squared_error: 0.0447 - mean_absolute_error: 0.1707 - val_loss: 0.0378 - val_mean_squared_error: 0.0378 - val_mean_absolute_error: 0.1532\n",
            "\n",
            "Epoch 00086: val_loss did not improve from 0.03765\n",
            "Epoch 87/150\n",
            "810/810 [==============================] - 0s 40us/step - loss: 0.0457 - mean_squared_error: 0.0457 - mean_absolute_error: 0.1735 - val_loss: 0.0378 - val_mean_squared_error: 0.0378 - val_mean_absolute_error: 0.1532\n",
            "\n",
            "Epoch 00087: val_loss did not improve from 0.03765\n",
            "Epoch 88/150\n",
            "810/810 [==============================] - 0s 34us/step - loss: 0.0452 - mean_squared_error: 0.0452 - mean_absolute_error: 0.1714 - val_loss: 0.0378 - val_mean_squared_error: 0.0378 - val_mean_absolute_error: 0.1532\n",
            "\n",
            "Epoch 00088: val_loss did not improve from 0.03765\n",
            "Epoch 89/150\n",
            "810/810 [==============================] - 0s 36us/step - loss: 0.0453 - mean_squared_error: 0.0453 - mean_absolute_error: 0.1730 - val_loss: 0.0378 - val_mean_squared_error: 0.0378 - val_mean_absolute_error: 0.1532\n",
            "\n",
            "Epoch 00089: val_loss did not improve from 0.03765\n",
            "Epoch 90/150\n",
            "810/810 [==============================] - 0s 34us/step - loss: 0.0470 - mean_squared_error: 0.0470 - mean_absolute_error: 0.1746 - val_loss: 0.0378 - val_mean_squared_error: 0.0378 - val_mean_absolute_error: 0.1532\n",
            "\n",
            "Epoch 00090: val_loss did not improve from 0.03765\n",
            "Epoch 91/150\n",
            "810/810 [==============================] - 0s 37us/step - loss: 0.0452 - mean_squared_error: 0.0452 - mean_absolute_error: 0.1726 - val_loss: 0.0378 - val_mean_squared_error: 0.0378 - val_mean_absolute_error: 0.1532\n",
            "\n",
            "Epoch 00091: val_loss did not improve from 0.03765\n",
            "Epoch 92/150\n",
            "810/810 [==============================] - 0s 34us/step - loss: 0.0452 - mean_squared_error: 0.0452 - mean_absolute_error: 0.1716 - val_loss: 0.0378 - val_mean_squared_error: 0.0378 - val_mean_absolute_error: 0.1532\n",
            "\n",
            "Epoch 00092: val_loss did not improve from 0.03765\n",
            "Epoch 93/150\n",
            "810/810 [==============================] - 0s 47us/step - loss: 0.0454 - mean_squared_error: 0.0454 - mean_absolute_error: 0.1723 - val_loss: 0.0378 - val_mean_squared_error: 0.0378 - val_mean_absolute_error: 0.1532\n",
            "\n",
            "Epoch 00093: val_loss did not improve from 0.03765\n",
            "Epoch 94/150\n",
            "810/810 [==============================] - 0s 32us/step - loss: 0.0466 - mean_squared_error: 0.0466 - mean_absolute_error: 0.1744 - val_loss: 0.0378 - val_mean_squared_error: 0.0378 - val_mean_absolute_error: 0.1532\n",
            "\n",
            "Epoch 00094: val_loss did not improve from 0.03765\n",
            "Epoch 95/150\n",
            "810/810 [==============================] - 0s 33us/step - loss: 0.0454 - mean_squared_error: 0.0454 - mean_absolute_error: 0.1733 - val_loss: 0.0378 - val_mean_squared_error: 0.0378 - val_mean_absolute_error: 0.1532\n",
            "\n",
            "Epoch 00095: val_loss did not improve from 0.03765\n",
            "Epoch 96/150\n",
            "810/810 [==============================] - 0s 38us/step - loss: 0.0466 - mean_squared_error: 0.0466 - mean_absolute_error: 0.1742 - val_loss: 0.0378 - val_mean_squared_error: 0.0378 - val_mean_absolute_error: 0.1532\n",
            "\n",
            "Epoch 00096: val_loss did not improve from 0.03765\n",
            "Epoch 97/150\n",
            "810/810 [==============================] - 0s 37us/step - loss: 0.0453 - mean_squared_error: 0.0453 - mean_absolute_error: 0.1755 - val_loss: 0.0378 - val_mean_squared_error: 0.0378 - val_mean_absolute_error: 0.1532\n",
            "\n",
            "Epoch 00097: val_loss did not improve from 0.03765\n",
            "Epoch 98/150\n",
            "810/810 [==============================] - 0s 36us/step - loss: 0.0451 - mean_squared_error: 0.0451 - mean_absolute_error: 0.1721 - val_loss: 0.0378 - val_mean_squared_error: 0.0378 - val_mean_absolute_error: 0.1532\n",
            "\n",
            "Epoch 00098: val_loss did not improve from 0.03765\n",
            "Epoch 99/150\n",
            "810/810 [==============================] - 0s 34us/step - loss: 0.0462 - mean_squared_error: 0.0462 - mean_absolute_error: 0.1728 - val_loss: 0.0378 - val_mean_squared_error: 0.0378 - val_mean_absolute_error: 0.1532\n",
            "\n",
            "Epoch 00099: val_loss did not improve from 0.03765\n",
            "Epoch 100/150\n",
            "810/810 [==============================] - 0s 32us/step - loss: 0.0443 - mean_squared_error: 0.0443 - mean_absolute_error: 0.1703 - val_loss: 0.0378 - val_mean_squared_error: 0.0378 - val_mean_absolute_error: 0.1532\n",
            "\n",
            "Epoch 00100: val_loss did not improve from 0.03765\n",
            "Epoch 101/150\n",
            "810/810 [==============================] - 0s 33us/step - loss: 0.0475 - mean_squared_error: 0.0475 - mean_absolute_error: 0.1762 - val_loss: 0.0378 - val_mean_squared_error: 0.0378 - val_mean_absolute_error: 0.1532\n",
            "\n",
            "Epoch 00101: val_loss did not improve from 0.03765\n",
            "Epoch 102/150\n",
            "810/810 [==============================] - 0s 36us/step - loss: 0.0454 - mean_squared_error: 0.0454 - mean_absolute_error: 0.1719 - val_loss: 0.0378 - val_mean_squared_error: 0.0378 - val_mean_absolute_error: 0.1532\n",
            "\n",
            "Epoch 00102: val_loss did not improve from 0.03765\n",
            "Epoch 103/150\n",
            "810/810 [==============================] - 0s 34us/step - loss: 0.0456 - mean_squared_error: 0.0456 - mean_absolute_error: 0.1733 - val_loss: 0.0378 - val_mean_squared_error: 0.0378 - val_mean_absolute_error: 0.1532\n",
            "\n",
            "Epoch 00103: val_loss did not improve from 0.03765\n",
            "Epoch 104/150\n",
            "810/810 [==============================] - 0s 34us/step - loss: 0.0448 - mean_squared_error: 0.0448 - mean_absolute_error: 0.1697 - val_loss: 0.0378 - val_mean_squared_error: 0.0378 - val_mean_absolute_error: 0.1532\n",
            "\n",
            "Epoch 00104: val_loss did not improve from 0.03765\n",
            "Epoch 105/150\n",
            "810/810 [==============================] - 0s 33us/step - loss: 0.0450 - mean_squared_error: 0.0450 - mean_absolute_error: 0.1705 - val_loss: 0.0378 - val_mean_squared_error: 0.0378 - val_mean_absolute_error: 0.1532\n",
            "\n",
            "Epoch 00105: val_loss did not improve from 0.03765\n",
            "Epoch 106/150\n",
            "810/810 [==============================] - 0s 32us/step - loss: 0.0449 - mean_squared_error: 0.0449 - mean_absolute_error: 0.1726 - val_loss: 0.0378 - val_mean_squared_error: 0.0378 - val_mean_absolute_error: 0.1532\n",
            "\n",
            "Epoch 00106: val_loss did not improve from 0.03765\n",
            "Epoch 107/150\n",
            "810/810 [==============================] - 0s 29us/step - loss: 0.0445 - mean_squared_error: 0.0445 - mean_absolute_error: 0.1718 - val_loss: 0.0378 - val_mean_squared_error: 0.0378 - val_mean_absolute_error: 0.1532\n",
            "\n",
            "Epoch 00107: val_loss did not improve from 0.03765\n",
            "Epoch 108/150\n",
            "810/810 [==============================] - 0s 40us/step - loss: 0.0454 - mean_squared_error: 0.0454 - mean_absolute_error: 0.1721 - val_loss: 0.0378 - val_mean_squared_error: 0.0378 - val_mean_absolute_error: 0.1532\n",
            "\n",
            "Epoch 00108: val_loss did not improve from 0.03765\n",
            "Epoch 109/150\n",
            "810/810 [==============================] - 0s 37us/step - loss: 0.0467 - mean_squared_error: 0.0467 - mean_absolute_error: 0.1743 - val_loss: 0.0378 - val_mean_squared_error: 0.0378 - val_mean_absolute_error: 0.1532\n",
            "\n",
            "Epoch 00109: val_loss did not improve from 0.03765\n",
            "Epoch 110/150\n",
            "810/810 [==============================] - 0s 35us/step - loss: 0.0466 - mean_squared_error: 0.0466 - mean_absolute_error: 0.1741 - val_loss: 0.0378 - val_mean_squared_error: 0.0378 - val_mean_absolute_error: 0.1532\n",
            "\n",
            "Epoch 00110: val_loss did not improve from 0.03765\n",
            "Epoch 111/150\n",
            "810/810 [==============================] - 0s 31us/step - loss: 0.0449 - mean_squared_error: 0.0449 - mean_absolute_error: 0.1719 - val_loss: 0.0378 - val_mean_squared_error: 0.0378 - val_mean_absolute_error: 0.1532\n",
            "\n",
            "Epoch 00111: val_loss did not improve from 0.03765\n",
            "Epoch 112/150\n",
            "810/810 [==============================] - 0s 31us/step - loss: 0.0443 - mean_squared_error: 0.0443 - mean_absolute_error: 0.1699 - val_loss: 0.0378 - val_mean_squared_error: 0.0378 - val_mean_absolute_error: 0.1532\n",
            "\n",
            "Epoch 00112: val_loss did not improve from 0.03765\n",
            "Epoch 113/150\n",
            "810/810 [==============================] - 0s 33us/step - loss: 0.0460 - mean_squared_error: 0.0460 - mean_absolute_error: 0.1730 - val_loss: 0.0378 - val_mean_squared_error: 0.0378 - val_mean_absolute_error: 0.1532\n",
            "\n",
            "Epoch 00113: val_loss did not improve from 0.03765\n",
            "Epoch 114/150\n",
            "810/810 [==============================] - 0s 32us/step - loss: 0.0451 - mean_squared_error: 0.0451 - mean_absolute_error: 0.1725 - val_loss: 0.0378 - val_mean_squared_error: 0.0378 - val_mean_absolute_error: 0.1532\n",
            "\n",
            "Epoch 00114: val_loss did not improve from 0.03765\n",
            "Epoch 115/150\n",
            "810/810 [==============================] - 0s 31us/step - loss: 0.0452 - mean_squared_error: 0.0452 - mean_absolute_error: 0.1719 - val_loss: 0.0378 - val_mean_squared_error: 0.0378 - val_mean_absolute_error: 0.1532\n",
            "\n",
            "Epoch 00115: val_loss did not improve from 0.03765\n",
            "Epoch 116/150\n",
            "810/810 [==============================] - 0s 45us/step - loss: 0.0459 - mean_squared_error: 0.0459 - mean_absolute_error: 0.1719 - val_loss: 0.0378 - val_mean_squared_error: 0.0378 - val_mean_absolute_error: 0.1532\n",
            "\n",
            "Epoch 00116: val_loss did not improve from 0.03765\n",
            "Epoch 117/150\n",
            "810/810 [==============================] - 0s 33us/step - loss: 0.0453 - mean_squared_error: 0.0453 - mean_absolute_error: 0.1736 - val_loss: 0.0378 - val_mean_squared_error: 0.0378 - val_mean_absolute_error: 0.1532\n",
            "\n",
            "Epoch 00117: val_loss did not improve from 0.03765\n",
            "Epoch 118/150\n",
            "810/810 [==============================] - 0s 33us/step - loss: 0.0467 - mean_squared_error: 0.0467 - mean_absolute_error: 0.1754 - val_loss: 0.0378 - val_mean_squared_error: 0.0378 - val_mean_absolute_error: 0.1532\n",
            "\n",
            "Epoch 00118: val_loss did not improve from 0.03765\n",
            "Epoch 119/150\n",
            "810/810 [==============================] - 0s 31us/step - loss: 0.0446 - mean_squared_error: 0.0446 - mean_absolute_error: 0.1715 - val_loss: 0.0378 - val_mean_squared_error: 0.0378 - val_mean_absolute_error: 0.1532\n",
            "\n",
            "Epoch 00119: val_loss did not improve from 0.03765\n",
            "Epoch 120/150\n",
            "810/810 [==============================] - 0s 29us/step - loss: 0.0464 - mean_squared_error: 0.0464 - mean_absolute_error: 0.1740 - val_loss: 0.0378 - val_mean_squared_error: 0.0378 - val_mean_absolute_error: 0.1532\n",
            "\n",
            "Epoch 00120: val_loss did not improve from 0.03765\n",
            "Epoch 121/150\n",
            "810/810 [==============================] - 0s 31us/step - loss: 0.0462 - mean_squared_error: 0.0462 - mean_absolute_error: 0.1722 - val_loss: 0.0378 - val_mean_squared_error: 0.0378 - val_mean_absolute_error: 0.1532\n",
            "\n",
            "Epoch 00121: val_loss did not improve from 0.03765\n",
            "Epoch 122/150\n",
            "810/810 [==============================] - 0s 31us/step - loss: 0.0472 - mean_squared_error: 0.0472 - mean_absolute_error: 0.1752 - val_loss: 0.0378 - val_mean_squared_error: 0.0378 - val_mean_absolute_error: 0.1532\n",
            "\n",
            "Epoch 00122: val_loss did not improve from 0.03765\n",
            "Epoch 123/150\n",
            "810/810 [==============================] - 0s 31us/step - loss: 0.0465 - mean_squared_error: 0.0465 - mean_absolute_error: 0.1730 - val_loss: 0.0378 - val_mean_squared_error: 0.0378 - val_mean_absolute_error: 0.1532\n",
            "\n",
            "Epoch 00123: val_loss did not improve from 0.03765\n",
            "Epoch 124/150\n",
            "810/810 [==============================] - 0s 38us/step - loss: 0.0460 - mean_squared_error: 0.0460 - mean_absolute_error: 0.1747 - val_loss: 0.0378 - val_mean_squared_error: 0.0378 - val_mean_absolute_error: 0.1532\n",
            "\n",
            "Epoch 00124: val_loss did not improve from 0.03765\n",
            "Epoch 125/150\n",
            "810/810 [==============================] - 0s 40us/step - loss: 0.0455 - mean_squared_error: 0.0455 - mean_absolute_error: 0.1720 - val_loss: 0.0378 - val_mean_squared_error: 0.0378 - val_mean_absolute_error: 0.1532\n",
            "\n",
            "Epoch 00125: val_loss did not improve from 0.03765\n",
            "Epoch 126/150\n",
            "810/810 [==============================] - 0s 52us/step - loss: 0.0454 - mean_squared_error: 0.0454 - mean_absolute_error: 0.1722 - val_loss: 0.0378 - val_mean_squared_error: 0.0378 - val_mean_absolute_error: 0.1532\n",
            "\n",
            "Epoch 00126: val_loss did not improve from 0.03765\n",
            "Epoch 127/150\n",
            "810/810 [==============================] - 0s 45us/step - loss: 0.0461 - mean_squared_error: 0.0461 - mean_absolute_error: 0.1737 - val_loss: 0.0378 - val_mean_squared_error: 0.0378 - val_mean_absolute_error: 0.1532\n",
            "\n",
            "Epoch 00127: val_loss did not improve from 0.03765\n",
            "Epoch 128/150\n",
            "810/810 [==============================] - 0s 37us/step - loss: 0.0449 - mean_squared_error: 0.0449 - mean_absolute_error: 0.1708 - val_loss: 0.0378 - val_mean_squared_error: 0.0378 - val_mean_absolute_error: 0.1532\n",
            "\n",
            "Epoch 00128: val_loss did not improve from 0.03765\n",
            "Epoch 129/150\n",
            "810/810 [==============================] - 0s 43us/step - loss: 0.0449 - mean_squared_error: 0.0449 - mean_absolute_error: 0.1706 - val_loss: 0.0378 - val_mean_squared_error: 0.0378 - val_mean_absolute_error: 0.1532\n",
            "\n",
            "Epoch 00129: val_loss did not improve from 0.03765\n",
            "Epoch 130/150\n",
            "810/810 [==============================] - 0s 37us/step - loss: 0.0452 - mean_squared_error: 0.0452 - mean_absolute_error: 0.1710 - val_loss: 0.0378 - val_mean_squared_error: 0.0378 - val_mean_absolute_error: 0.1532\n",
            "\n",
            "Epoch 00130: val_loss did not improve from 0.03765\n",
            "Epoch 131/150\n",
            "810/810 [==============================] - 0s 34us/step - loss: 0.0473 - mean_squared_error: 0.0473 - mean_absolute_error: 0.1760 - val_loss: 0.0378 - val_mean_squared_error: 0.0378 - val_mean_absolute_error: 0.1532\n",
            "\n",
            "Epoch 00131: val_loss did not improve from 0.03765\n",
            "Epoch 132/150\n",
            "810/810 [==============================] - 0s 31us/step - loss: 0.0456 - mean_squared_error: 0.0456 - mean_absolute_error: 0.1732 - val_loss: 0.0379 - val_mean_squared_error: 0.0379 - val_mean_absolute_error: 0.1532\n",
            "\n",
            "Epoch 00132: val_loss did not improve from 0.03765\n",
            "Epoch 133/150\n",
            "810/810 [==============================] - 0s 37us/step - loss: 0.0458 - mean_squared_error: 0.0458 - mean_absolute_error: 0.1730 - val_loss: 0.0379 - val_mean_squared_error: 0.0379 - val_mean_absolute_error: 0.1532\n",
            "\n",
            "Epoch 00133: val_loss did not improve from 0.03765\n",
            "Epoch 134/150\n",
            "810/810 [==============================] - 0s 34us/step - loss: 0.0456 - mean_squared_error: 0.0456 - mean_absolute_error: 0.1721 - val_loss: 0.0378 - val_mean_squared_error: 0.0378 - val_mean_absolute_error: 0.1532\n",
            "\n",
            "Epoch 00134: val_loss did not improve from 0.03765\n",
            "Epoch 135/150\n",
            "810/810 [==============================] - 0s 44us/step - loss: 0.0452 - mean_squared_error: 0.0452 - mean_absolute_error: 0.1714 - val_loss: 0.0378 - val_mean_squared_error: 0.0378 - val_mean_absolute_error: 0.1532\n",
            "\n",
            "Epoch 00135: val_loss did not improve from 0.03765\n",
            "Epoch 136/150\n",
            "810/810 [==============================] - 0s 43us/step - loss: 0.0445 - mean_squared_error: 0.0445 - mean_absolute_error: 0.1716 - val_loss: 0.0378 - val_mean_squared_error: 0.0378 - val_mean_absolute_error: 0.1532\n",
            "\n",
            "Epoch 00136: val_loss did not improve from 0.03765\n",
            "Epoch 137/150\n",
            "810/810 [==============================] - 0s 37us/step - loss: 0.0457 - mean_squared_error: 0.0457 - mean_absolute_error: 0.1744 - val_loss: 0.0378 - val_mean_squared_error: 0.0378 - val_mean_absolute_error: 0.1532\n",
            "\n",
            "Epoch 00137: val_loss did not improve from 0.03765\n",
            "Epoch 138/150\n",
            "810/810 [==============================] - 0s 36us/step - loss: 0.0451 - mean_squared_error: 0.0451 - mean_absolute_error: 0.1708 - val_loss: 0.0378 - val_mean_squared_error: 0.0378 - val_mean_absolute_error: 0.1532\n",
            "\n",
            "Epoch 00138: val_loss did not improve from 0.03765\n",
            "Epoch 139/150\n",
            "810/810 [==============================] - 0s 31us/step - loss: 0.0447 - mean_squared_error: 0.0447 - mean_absolute_error: 0.1695 - val_loss: 0.0378 - val_mean_squared_error: 0.0378 - val_mean_absolute_error: 0.1532\n",
            "\n",
            "Epoch 00139: val_loss did not improve from 0.03765\n",
            "Epoch 140/150\n",
            "810/810 [==============================] - 0s 32us/step - loss: 0.0462 - mean_squared_error: 0.0462 - mean_absolute_error: 0.1759 - val_loss: 0.0378 - val_mean_squared_error: 0.0378 - val_mean_absolute_error: 0.1532\n",
            "\n",
            "Epoch 00140: val_loss did not improve from 0.03765\n",
            "Epoch 141/150\n",
            "810/810 [==============================] - 0s 33us/step - loss: 0.0467 - mean_squared_error: 0.0467 - mean_absolute_error: 0.1752 - val_loss: 0.0378 - val_mean_squared_error: 0.0378 - val_mean_absolute_error: 0.1532\n",
            "\n",
            "Epoch 00141: val_loss did not improve from 0.03765\n",
            "Epoch 142/150\n",
            "810/810 [==============================] - 0s 47us/step - loss: 0.0441 - mean_squared_error: 0.0441 - mean_absolute_error: 0.1708 - val_loss: 0.0378 - val_mean_squared_error: 0.0378 - val_mean_absolute_error: 0.1532\n",
            "\n",
            "Epoch 00142: val_loss did not improve from 0.03765\n",
            "Epoch 143/150\n",
            "810/810 [==============================] - 0s 40us/step - loss: 0.0467 - mean_squared_error: 0.0467 - mean_absolute_error: 0.1748 - val_loss: 0.0378 - val_mean_squared_error: 0.0378 - val_mean_absolute_error: 0.1532\n",
            "\n",
            "Epoch 00143: val_loss did not improve from 0.03765\n",
            "Epoch 144/150\n",
            "810/810 [==============================] - 0s 33us/step - loss: 0.0460 - mean_squared_error: 0.0460 - mean_absolute_error: 0.1732 - val_loss: 0.0379 - val_mean_squared_error: 0.0379 - val_mean_absolute_error: 0.1532\n",
            "\n",
            "Epoch 00144: val_loss did not improve from 0.03765\n",
            "Epoch 145/150\n",
            "810/810 [==============================] - 0s 33us/step - loss: 0.0454 - mean_squared_error: 0.0454 - mean_absolute_error: 0.1727 - val_loss: 0.0379 - val_mean_squared_error: 0.0379 - val_mean_absolute_error: 0.1532\n",
            "\n",
            "Epoch 00145: val_loss did not improve from 0.03765\n",
            "Epoch 146/150\n",
            "810/810 [==============================] - 0s 33us/step - loss: 0.0452 - mean_squared_error: 0.0452 - mean_absolute_error: 0.1719 - val_loss: 0.0379 - val_mean_squared_error: 0.0379 - val_mean_absolute_error: 0.1532\n",
            "\n",
            "Epoch 00146: val_loss did not improve from 0.03765\n",
            "Epoch 147/150\n",
            "810/810 [==============================] - 0s 38us/step - loss: 0.0461 - mean_squared_error: 0.0461 - mean_absolute_error: 0.1730 - val_loss: 0.0379 - val_mean_squared_error: 0.0379 - val_mean_absolute_error: 0.1532\n",
            "\n",
            "Epoch 00147: val_loss did not improve from 0.03765\n",
            "Epoch 148/150\n",
            "810/810 [==============================] - 0s 45us/step - loss: 0.0460 - mean_squared_error: 0.0460 - mean_absolute_error: 0.1728 - val_loss: 0.0379 - val_mean_squared_error: 0.0379 - val_mean_absolute_error: 0.1532\n",
            "\n",
            "Epoch 00148: val_loss did not improve from 0.03765\n",
            "Epoch 149/150\n",
            "810/810 [==============================] - 0s 37us/step - loss: 0.0461 - mean_squared_error: 0.0461 - mean_absolute_error: 0.1731 - val_loss: 0.0379 - val_mean_squared_error: 0.0379 - val_mean_absolute_error: 0.1532\n",
            "\n",
            "Epoch 00149: val_loss did not improve from 0.03765\n",
            "Epoch 150/150\n",
            "810/810 [==============================] - 0s 35us/step - loss: 0.0451 - mean_squared_error: 0.0451 - mean_absolute_error: 0.1717 - val_loss: 0.0379 - val_mean_squared_error: 0.0379 - val_mean_absolute_error: 0.1532\n",
            "\n",
            "Epoch 00150: val_loss did not improve from 0.03765\n"
          ],
          "name": "stdout"
        }
      ]
    },
    {
      "cell_type": "code",
      "metadata": {
        "id": "My0B2HpX401t",
        "colab_type": "code",
        "outputId": "b181b3c0-6f14-479d-a01d-023d1d4f4acb",
        "colab": {
          "base_uri": "https://localhost:8080/",
          "height": 332
        }
      },
      "source": [
        "print(history.history.keys())\n",
        "# \"Loss\"\n",
        "plt.plot(history.history['loss'])\n",
        "plt.plot(history.history['val_loss'])\n",
        "plt.title('model loss')\n",
        "plt.ylabel('loss')\n",
        "plt.xlabel('epoch')\n",
        "plt.legend(['train', 'validation'], loc='upper left')\n",
        "plt.show()"
      ],
      "execution_count": 54,
      "outputs": [
        {
          "output_type": "stream",
          "text": [
            "dict_keys(['val_loss', 'val_mean_squared_error', 'val_mean_absolute_error', 'loss', 'mean_squared_error', 'mean_absolute_error', 'lr'])\n"
          ],
          "name": "stdout"
        },
        {
          "output_type": "display_data",
          "data": {
            "image/png": "[encoded data removed]",
            "text/plain": [
              "<Figure size 432x288 with 1 Axes>"
            ]
          },
          "metadata": {
            "tags": []
          }
        }
      ]
    },
    {
      "cell_type": "code",
      "metadata": {
        "id": "eM1dy-1L45gg",
        "colab_type": "code",
        "colab": {}
      },
      "source": [
        "# load the weights that yielded the best validation accuracy\n",
        "model2.load_weights('best2.hdf5')"
      ],
      "execution_count": 0,
      "outputs": []
    },
    {
      "cell_type": "code",
      "metadata": {
        "id": "2QPwuz_WXuPf",
        "colab_type": "code",
        "outputId": "5e9ccd7e-8bdd-4e54-dd2e-de698b0814d0",
        "colab": {
          "base_uri": "https://localhost:8080/",
          "height": 283
        }
      },
      "source": [
        "test_predictions =model2.predict(X_test).flatten()\n",
        "\n",
        "a = plt.axes(aspect='equal')\n",
        "plt.scatter(y_test, test_predictions)\n",
        "plt.xlabel('True Values')\n",
        "plt.ylabel('Predictions')\n",
        "lims = [-0.2, 1.2]\n",
        "plt.xlim(lims)\n",
        "plt.ylim(lims)\n",
        "_ = plt.plot(lims, lims)"
      ],
      "execution_count": 56,
      "outputs": [
        {
          "output_type": "display_data",
          "data": {
            "image/png": "[encoded data removed]",
            "text/plain": [
              "<Figure size 432x288 with 1 Axes>"
            ]
          },
          "metadata": {
            "tags": []
          }
        }
      ]
    },
    {
      "cell_type": "code",
      "metadata": {
        "id": "bFbLKSzD49dc",
        "colab_type": "code",
        "outputId": "406d947d-e514-4cef-b82e-c01e5e272b12",
        "colab": {
          "base_uri": "https://localhost:8080/",
          "height": 279
        }
      },
      "source": [
        "error = test_predictions - y_test\n",
        "plt.hist(error, bins = 25)\n",
        "plt.xlabel(\"Prediction Error\")\n",
        "_ = plt.ylabel(\"Count\")"
      ],
      "execution_count": 57,
      "outputs": [
        {
          "output_type": "display_data",
          "data": {
            "image/png": "[encoded data removed]",
            "text/plain": [
              "<Figure size 432x288 with 1 Axes>"
            ]
          },
          "metadata": {
            "tags": []
          }
        }
      ]
    },
    {
      "cell_type": "code",
      "metadata": {
        "id": "CDcr-iVu5DRx",
        "colab_type": "code",
        "outputId": "c287dcf4-2080-4968-bc0a-5542173a3002",
        "colab": {
          "base_uri": "https://localhost:8080/",
          "height": 1000
        }
      },
      "source": [
        "for true, pred in zip(y_test, test_predictions):\n",
        "  if pred == true:\n",
        "    print(\"{}\\t -> {}\".format(true, pred))\n",
        "  else:\n",
        "    print(\"\\033[1m{}\\t -> {}\\033[0m\".format(true, pred))"
      ],
      "execution_count": 58,
      "outputs": [
        {
          "output_type": "stream",
          "text": [
            "\u001b[1m0.04940067126296254\t -> 0.03772113099694252\u001b[0m\n",
            "\u001b[1m0.6141615708285969\t -> 0.21918201446533203\u001b[0m\n",
            "\u001b[1m0.3984123188096231\t -> 0.20027264952659607\u001b[0m\n",
            "\u001b[1m0.9978965840938206\t -> 0.7994385957717896\u001b[0m\n",
            "\u001b[1m-0.0924840175744363\t -> 0.23408962786197662\u001b[0m\n",
            "\u001b[1m0.7400801865108377\t -> 0.7088557481765747\u001b[0m\n",
            "\u001b[1m0.7880631014606603\t -> 0.6146700382232666\u001b[0m\n",
            "\u001b[1m0.19017066247159695\t -> 0.10042734444141388\u001b[0m\n",
            "\u001b[1m0.9813700907273696\t -> 0.9005074501037598\u001b[0m\n",
            "\u001b[1m0.5427034494596268\t -> 0.23008815944194794\u001b[0m\n",
            "\u001b[1m-0.15827173836667852\t -> 0.08531442284584045\u001b[0m\n",
            "\u001b[1m0.8229868397396964\t -> 0.7739593982696533\u001b[0m\n",
            "\u001b[1m0.7496656304517695\t -> 0.8862939476966858\u001b[0m\n",
            "\u001b[1m-0.09687982334768708\t -> 0.19341649115085602\u001b[0m\n",
            "\u001b[1m0.8578917013474171\t -> 0.916383683681488\u001b[0m\n",
            "\u001b[1m0.5032766589850517\t -> 0.5774786472320557\u001b[0m\n",
            "\u001b[1m0.7676995005918128\t -> 0.6359958648681641\u001b[0m\n",
            "\u001b[1m0.8326112381985449\t -> 0.8852530121803284\u001b[0m\n",
            "\u001b[1m0.4668473144244382\t -> 0.5594300031661987\u001b[0m\n",
            "\u001b[1m0.1141439097782604\t -> 0.23375558853149414\u001b[0m\n",
            "\u001b[1m1.1705448469846258\t -> 0.9904158711433411\u001b[0m\n",
            "\u001b[1m0.0912964741572509\t -> 0.3080108165740967\u001b[0m\n",
            "\u001b[1m0.5369660348415364\t -> 0.6570884585380554\u001b[0m\n",
            "\u001b[1m0.5818078806926502\t -> 0.6241964101791382\u001b[0m\n",
            "\u001b[1m-0.12183621308803005\t -> 0.04980221018195152\u001b[0m\n",
            "\u001b[1m0.246101392420723\t -> 0.3046860694885254\u001b[0m\n",
            "\u001b[1m0.5838574154239156\t -> 0.49932944774627686\u001b[0m\n",
            "\u001b[1m0.3230444634760027\t -> 0.036151010543107986\u001b[0m\n",
            "\u001b[1m-0.040726545800889885\t -> 0.10759086906909943\u001b[0m\n",
            "\u001b[1m0.30629858330128434\t -> 0.25896090269088745\u001b[0m\n",
            "\u001b[1m0.5588735148562831\t -> 0.9068948030471802\u001b[0m\n",
            "\u001b[1m0.6154330974944502\t -> 0.34801027178764343\u001b[0m\n",
            "\u001b[1m0.2467598557212166\t -> 0.3143271803855896\u001b[0m\n",
            "\u001b[1m0.8421466061360654\t -> 0.49700623750686646\u001b[0m\n",
            "\u001b[1m0.995682497315486\t -> 0.9056312441825867\u001b[0m\n",
            "\u001b[1m0.4648727066882094\t -> 0.8564955592155457\u001b[0m\n",
            "\u001b[1m0.15235856016750193\t -> 0.43971797823905945\u001b[0m\n",
            "\u001b[1m0.5157469305022929\t -> 0.19823172688484192\u001b[0m\n",
            "\u001b[1m0.526396707263313\t -> 0.5722334980964661\u001b[0m\n",
            "\u001b[1m1.066246939393248\t -> 0.7176142334938049\u001b[0m\n",
            "\u001b[1m0.21366126598969964\t -> 0.18868990242481232\u001b[0m\n",
            "\u001b[1m0.738651585146243\t -> 0.8554521203041077\u001b[0m\n",
            "\u001b[1m0.5976001703551042\t -> 0.7119543552398682\u001b[0m\n",
            "\u001b[1m0.8965720135867492\t -> 0.7164159417152405\u001b[0m\n",
            "\u001b[1m0.2918163359483885\t -> 0.5997945666313171\u001b[0m\n",
            "\u001b[1m0.09383130984376134\t -> 0.3122101128101349\u001b[0m\n",
            "\u001b[1m0.05317445209492247\t -> 0.1214943528175354\u001b[0m\n",
            "\u001b[1m0.3417704476051067\t -> 0.29649341106414795\u001b[0m\n",
            "\u001b[1m0.5807984708767605\t -> 0.39439401030540466\u001b[0m\n",
            "\u001b[1m0.6178861489683178\t -> 0.24488455057144165\u001b[0m\n",
            "\u001b[1m0.35294600215198824\t -> 0.3021778166294098\u001b[0m\n",
            "\u001b[1m1.3739759229541313\t -> 0.9725005030632019\u001b[0m\n",
            "\u001b[1m0.4421049134868611\t -> 0.5710024237632751\u001b[0m\n",
            "\u001b[1m0.7850475361681925\t -> 0.7634907960891724\u001b[0m\n",
            "\u001b[1m0.7593733123808108\t -> 0.8633877038955688\u001b[0m\n",
            "\u001b[1m0.5253201383431159\t -> 0.589888334274292\u001b[0m\n",
            "\u001b[1m0.227611417878339\t -> 0.4666111171245575\u001b[0m\n",
            "\u001b[1m0.20788177655173876\t -> 0.10636825859546661\u001b[0m\n",
            "\u001b[1m0.92173591757194\t -> 0.6343217492103577\u001b[0m\n",
            "\u001b[1m0.8733453977802219\t -> 0.742488443851471\u001b[0m\n",
            "\u001b[1m0.03805019141229071\t -> 0.5545224547386169\u001b[0m\n",
            "\u001b[1m0.5330522245825803\t -> 0.5628035664558411\u001b[0m\n",
            "\u001b[1m0.6593000166334421\t -> 0.4017888903617859\u001b[0m\n",
            "\u001b[1m0.7503494604588995\t -> 0.8119550347328186\u001b[0m\n",
            "\u001b[1m0.5683930176542001\t -> 0.6552448272705078\u001b[0m\n",
            "\u001b[1m0.1976948809373632\t -> 0.08742133527994156\u001b[0m\n",
            "\u001b[1m1.1104731015027671\t -> 0.9371762871742249\u001b[0m\n",
            "\u001b[1m0.08623158429892047\t -> 0.10727378726005554\u001b[0m\n",
            "\u001b[1m0.7758986410463862\t -> 0.9628479480743408\u001b[0m\n",
            "\u001b[1m0.3539494079222173\t -> 0.340173602104187\u001b[0m\n",
            "\u001b[1m0.6522474937170316\t -> 0.5244759917259216\u001b[0m\n",
            "\u001b[1m0.6820513477969606\t -> 0.9037892818450928\u001b[0m\n",
            "\u001b[1m-0.07768753133079595\t -> 0.08557139337062836\u001b[0m\n",
            "\u001b[1m0.7353213613311321\t -> 0.7103379964828491\u001b[0m\n",
            "\u001b[1m0.480373460411111\t -> 0.890435516834259\u001b[0m\n",
            "\u001b[1m0.4161128055651391\t -> 0.6400769352912903\u001b[0m\n",
            "\u001b[1m0.8652244130339954\t -> 0.8875093460083008\u001b[0m\n",
            "\u001b[1m0.2378005291787024\t -> 0.5794087648391724\u001b[0m\n",
            "\u001b[1m0.255629183198977\t -> 0.4647768437862396\u001b[0m\n",
            "\u001b[1m0.14224755921459215\t -> 0.21201880276203156\u001b[0m\n",
            "\u001b[1m0.1948715566077324\t -> 0.18416328728199005\u001b[0m\n",
            "\u001b[1m-0.3353099326971009\t -> 0.03658253699541092\u001b[0m\n",
            "\u001b[1m0.06873515774405725\t -> 0.18471594154834747\u001b[0m\n",
            "\u001b[1m0.58313955281421\t -> 0.8701609969139099\u001b[0m\n",
            "\u001b[1m1.1685280127975282\t -> 0.9301396012306213\u001b[0m\n",
            "\u001b[1m0.6607666463275005\t -> 0.7214527726173401\u001b[0m\n",
            "\u001b[1m0.9127941108108104\t -> 0.550405740737915\u001b[0m\n",
            "\u001b[1m0.14670945020315912\t -> 0.12197216600179672\u001b[0m\n",
            "\u001b[1m0.16775337912151522\t -> 0.2518543004989624\u001b[0m\n",
            "\u001b[1m0.856363853211518\t -> 0.527133584022522\u001b[0m\n",
            "\u001b[1m0.7545973083678182\t -> 0.7552783489227295\u001b[0m\n",
            "\u001b[1m0.8995400721342153\t -> 0.6719303131103516\u001b[0m\n",
            "\u001b[1m0.17447379419115436\t -> 0.18866807222366333\u001b[0m\n",
            "\u001b[1m1.2472085232640264\t -> 0.6947645545005798\u001b[0m\n",
            "\u001b[1m0.2506961238991525\t -> 0.44926774501800537\u001b[0m\n",
            "\u001b[1m0.6849491349263321\t -> 0.4700973629951477\u001b[0m\n",
            "\u001b[1m0.5258030493278713\t -> 0.4900072515010834\u001b[0m\n",
            "\u001b[1m0.2315373173142349\t -> 0.2844941020011902\u001b[0m\n",
            "\u001b[1m0.8554630985652867\t -> 0.8216776847839355\u001b[0m\n",
            "\u001b[1m0.9332437318216223\t -> 0.5645349025726318\u001b[0m\n"
          ],
          "name": "stdout"
        }
      ]
    },
    {
      "cell_type": "code",
      "metadata": {
        "id": "SH4II32L5G4Z",
        "colab_type": "code",
        "outputId": "3c8a8001-cdc3-40c5-91f9-108f57a49493",
        "colab": {
          "base_uri": "https://localhost:8080/",
          "height": 34
        }
      },
      "source": [
        "oss, mae, mse = model2.evaluate(X_test, y_test, verbose=2)\n",
        "\n",
        "print(\"Testing set Mean Abs Error: {:5.4f}\".format(mae))"
      ],
      "execution_count": 59,
      "outputs": [
        {
          "output_type": "stream",
          "text": [
            "Testing set Mean Abs Error: 0.0450\n"
          ],
          "name": "stdout"
        }
      ]
    },
    {
      "cell_type": "markdown",
      "metadata": {
        "id": "_Vd-Q_n-qnyO",
        "colab_type": "text"
      },
      "source": [
        "### Conclusion (2)\n",
        "\n",
        "The results are almost the same with predicting `z` from `x ` and `y`. This is due to both of them have more than 0.5 correlations with `z`. So, next, maybe we can transform (scale) the features before fitting it into machine learning models."
      ]
    },
    {
      "cell_type": "markdown",
      "metadata": {
        "id": "toeqYRkcbWuy",
        "colab_type": "text"
      },
      "source": [
        "### Transform features before fit into machine learning models"
      ]
    },
    {
      "cell_type": "code",
      "metadata": {
        "id": "73zX4bZDb-Sc",
        "colab_type": "code",
        "colab": {
          "base_uri": "https://localhost:8080/",
          "height": 51
        },
        "outputId": "2380bbc0-a3ba-4ff0-de3e-1de4f72deec6"
      },
      "source": [
        "from sklearn.model_selection import train_test_split as split\n",
        "train, test = split(df, test_size = 0.1)\n",
        "print (train.shape)\n",
        "print (test.shape)"
      ],
      "execution_count": 60,
      "outputs": [
        {
          "output_type": "stream",
          "text": [
            "(900, 3)\n",
            "(100, 3)\n"
          ],
          "name": "stdout"
        }
      ]
    },
    {
      "cell_type": "code",
      "metadata": {
        "id": "14gPhrkldTNu",
        "colab_type": "code",
        "colab": {
          "base_uri": "https://localhost:8080/",
          "height": 34
        },
        "outputId": "ee687b45-5b6c-4cad-c230-d7365b1c7753"
      },
      "source": [
        "#get the features for training data\n",
        "X_train = train[['x','y']]\n",
        "#output(label) of training data\n",
        "y_train = train['z']\n",
        "#get the testing data features and output(label)\n",
        "X_test = test[['x', 'y']]\n",
        "y_test = test['z']\n",
        "\n",
        "print(X_train.shape)"
      ],
      "execution_count": 61,
      "outputs": [
        {
          "output_type": "stream",
          "text": [
            "(900, 2)\n"
          ],
          "name": "stdout"
        }
      ]
    },
    {
      "cell_type": "code",
      "metadata": {
        "id": "a8obDiZmcCkB",
        "colab_type": "code",
        "colab": {
          "base_uri": "https://localhost:8080/",
          "height": 204
        },
        "outputId": "82b77f43-e3f8-4111-8680-a6a284ed95e7"
      },
      "source": [
        "#normalize the data by using MinMaxScaler in sklearn\n",
        "\n",
        "from sklearn.preprocessing import MinMaxScaler\n",
        "\n",
        "scaler = MinMaxScaler()\n",
        "X_train= scaler.fit_transform(X_train)\n",
        "X_train = pd.DataFrame(X_train, columns=[\"x\",\"y\"])\n",
        "\n",
        "X_train.head()"
      ],
      "execution_count": 62,
      "outputs": [
        {
          "output_type": "execute_result",
          "data": {
            "text/html": [
              "<div>\n",
              "<style scoped>\n",
              "    .dataframe tbody tr th:only-of-type {\n",
              "        vertical-align: middle;\n",
              "    }\n",
              "\n",
              "    .dataframe tbody tr th {\n",
              "        vertical-align: top;\n",
              "    }\n",
              "\n",
              "    .dataframe thead th {\n",
              "        text-align: right;\n",
              "    }\n",
              "</style>\n",
              "<table border=\"1\" class=\"dataframe\">\n",
              "  <thead>\n",
              "    <tr style=\"text-align: right;\">\n",
              "      <th></th>\n",
              "      <th>x</th>\n",
              "      <th>y</th>\n",
              "    </tr>\n",
              "  </thead>\n",
              "  <tbody>\n",
              "    <tr>\n",
              "      <th>0</th>\n",
              "      <td>0.078565</td>\n",
              "      <td>0.299199</td>\n",
              "    </tr>\n",
              "    <tr>\n",
              "      <th>1</th>\n",
              "      <td>0.187089</td>\n",
              "      <td>0.037151</td>\n",
              "    </tr>\n",
              "    <tr>\n",
              "      <th>2</th>\n",
              "      <td>0.391946</td>\n",
              "      <td>0.589443</td>\n",
              "    </tr>\n",
              "    <tr>\n",
              "      <th>3</th>\n",
              "      <td>0.578100</td>\n",
              "      <td>0.499916</td>\n",
              "    </tr>\n",
              "    <tr>\n",
              "      <th>4</th>\n",
              "      <td>0.664203</td>\n",
              "      <td>0.590054</td>\n",
              "    </tr>\n",
              "  </tbody>\n",
              "</table>\n",
              "</div>"
            ],
            "text/plain": [
              "          x         y\n",
              "0  0.078565  0.299199\n",
              "1  0.187089  0.037151\n",
              "2  0.391946  0.589443\n",
              "3  0.578100  0.499916\n",
              "4  0.664203  0.590054"
            ]
          },
          "metadata": {
            "tags": []
          },
          "execution_count": 62
        }
      ]
    },
    {
      "cell_type": "code",
      "metadata": {
        "id": "inJU-21whIvd",
        "colab_type": "code",
        "colab": {
          "base_uri": "https://localhost:8080/",
          "height": 204
        },
        "outputId": "d5034f58-c8dd-4678-fb06-556699d0b648"
      },
      "source": [
        "X_test= scaler.fit_transform(X_test)\n",
        "X_test = pd.DataFrame(X_test, columns=[\"x\",\"y\"])\n",
        "\n",
        "X_test.head()"
      ],
      "execution_count": 63,
      "outputs": [
        {
          "output_type": "execute_result",
          "data": {
            "text/html": [
              "<div>\n",
              "<style scoped>\n",
              "    .dataframe tbody tr th:only-of-type {\n",
              "        vertical-align: middle;\n",
              "    }\n",
              "\n",
              "    .dataframe tbody tr th {\n",
              "        vertical-align: top;\n",
              "    }\n",
              "\n",
              "    .dataframe thead th {\n",
              "        text-align: right;\n",
              "    }\n",
              "</style>\n",
              "<table border=\"1\" class=\"dataframe\">\n",
              "  <thead>\n",
              "    <tr style=\"text-align: right;\">\n",
              "      <th></th>\n",
              "      <th>x</th>\n",
              "      <th>y</th>\n",
              "    </tr>\n",
              "  </thead>\n",
              "  <tbody>\n",
              "    <tr>\n",
              "      <th>0</th>\n",
              "      <td>0.817659</td>\n",
              "      <td>0.645069</td>\n",
              "    </tr>\n",
              "    <tr>\n",
              "      <th>1</th>\n",
              "      <td>0.746303</td>\n",
              "      <td>0.544541</td>\n",
              "    </tr>\n",
              "    <tr>\n",
              "      <th>2</th>\n",
              "      <td>0.637878</td>\n",
              "      <td>0.443329</td>\n",
              "    </tr>\n",
              "    <tr>\n",
              "      <th>3</th>\n",
              "      <td>0.702502</td>\n",
              "      <td>0.576539</td>\n",
              "    </tr>\n",
              "    <tr>\n",
              "      <th>4</th>\n",
              "      <td>0.341308</td>\n",
              "      <td>0.429974</td>\n",
              "    </tr>\n",
              "  </tbody>\n",
              "</table>\n",
              "</div>"
            ],
            "text/plain": [
              "          x         y\n",
              "0  0.817659  0.645069\n",
              "1  0.746303  0.544541\n",
              "2  0.637878  0.443329\n",
              "3  0.702502  0.576539\n",
              "4  0.341308  0.429974"
            ]
          },
          "metadata": {
            "tags": []
          },
          "execution_count": 63
        }
      ]
    },
    {
      "cell_type": "code",
      "metadata": {
        "id": "fqHKrcYUdFe_",
        "colab_type": "code",
        "colab": {
          "base_uri": "https://localhost:8080/",
          "height": 51
        },
        "outputId": "dc663282-d45c-4b52-ac05-dca4d7ccdde1"
      },
      "source": [
        "# Create and train the Support Vector Machine (Regressor) \n",
        "\n",
        "from sklearn.svm import SVR\n",
        "\n",
        "svr = SVR(kernel='rbf', C=1e3, gamma=0.1) \n",
        "svr.fit(X_train, y_train)"
      ],
      "execution_count": 64,
      "outputs": [
        {
          "output_type": "execute_result",
          "data": {
            "text/plain": [
              "SVR(C=1000.0, cache_size=200, coef0=0.0, degree=3, epsilon=0.1, gamma=0.1,\n",
              "    kernel='rbf', max_iter=-1, shrinking=True, tol=0.001, verbose=False)"
            ]
          },
          "metadata": {
            "tags": []
          },
          "execution_count": 64
        }
      ]
    },
    {
      "cell_type": "code",
      "metadata": {
        "id": "dfPonzNZdKQ1",
        "colab_type": "code",
        "colab": {
          "base_uri": "https://localhost:8080/",
          "height": 34
        },
        "outputId": "5e4f0729-ed10-492a-9885-780338cd46be"
      },
      "source": [
        "# Testing Model: Score returns the coefficient of determination R^2 of the prediction. \n",
        "# The best possible score is 1.0\n",
        "svm_confidence = svr.score(X_test, y_test)\n",
        "print(\"svm confidence: \", svm_confidence)"
      ],
      "execution_count": 65,
      "outputs": [
        {
          "output_type": "stream",
          "text": [
            "svm confidence:  0.6849300936533622\n"
          ],
          "name": "stdout"
        }
      ]
    },
    {
      "cell_type": "code",
      "metadata": {
        "id": "XbeATZfldXVf",
        "colab_type": "code",
        "colab": {
          "base_uri": "https://localhost:8080/",
          "height": 419
        },
        "outputId": "fb28323d-94b9-4dd4-e2bf-55cf96b812f1"
      },
      "source": [
        "y_pred = svr.predict(X_test)\n",
        "df_pred = pd.DataFrame({'Actual': y_test, 'Predicted': y_pred})\n",
        "df_pred"
      ],
      "execution_count": 66,
      "outputs": [
        {
          "output_type": "execute_result",
          "data": {
            "text/html": [
              "<div>\n",
              "<style scoped>\n",
              "    .dataframe tbody tr th:only-of-type {\n",
              "        vertical-align: middle;\n",
              "    }\n",
              "\n",
              "    .dataframe tbody tr th {\n",
              "        vertical-align: top;\n",
              "    }\n",
              "\n",
              "    .dataframe thead th {\n",
              "        text-align: right;\n",
              "    }\n",
              "</style>\n",
              "<table border=\"1\" class=\"dataframe\">\n",
              "  <thead>\n",
              "    <tr style=\"text-align: right;\">\n",
              "      <th></th>\n",
              "      <th>Actual</th>\n",
              "      <th>Predicted</th>\n",
              "    </tr>\n",
              "  </thead>\n",
              "  <tbody>\n",
              "    <tr>\n",
              "      <th>379</th>\n",
              "      <td>0.750349</td>\n",
              "      <td>0.802755</td>\n",
              "    </tr>\n",
              "    <tr>\n",
              "      <th>272</th>\n",
              "      <td>1.131077</td>\n",
              "      <td>0.743022</td>\n",
              "    </tr>\n",
              "    <tr>\n",
              "      <th>362</th>\n",
              "      <td>0.767700</td>\n",
              "      <td>0.649205</td>\n",
              "    </tr>\n",
              "    <tr>\n",
              "      <th>108</th>\n",
              "      <td>0.533360</td>\n",
              "      <td>0.699349</td>\n",
              "    </tr>\n",
              "    <tr>\n",
              "      <th>154</th>\n",
              "      <td>0.353477</td>\n",
              "      <td>0.350938</td>\n",
              "    </tr>\n",
              "    <tr>\n",
              "      <th>...</th>\n",
              "      <td>...</td>\n",
              "      <td>...</td>\n",
              "    </tr>\n",
              "    <tr>\n",
              "      <th>401</th>\n",
              "      <td>0.539850</td>\n",
              "      <td>0.932425</td>\n",
              "    </tr>\n",
              "    <tr>\n",
              "      <th>410</th>\n",
              "      <td>0.339011</td>\n",
              "      <td>0.020745</td>\n",
              "    </tr>\n",
              "    <tr>\n",
              "      <th>521</th>\n",
              "      <td>0.585683</td>\n",
              "      <td>0.726468</td>\n",
              "    </tr>\n",
              "    <tr>\n",
              "      <th>309</th>\n",
              "      <td>0.538525</td>\n",
              "      <td>0.445729</td>\n",
              "    </tr>\n",
              "    <tr>\n",
              "      <th>164</th>\n",
              "      <td>0.742783</td>\n",
              "      <td>0.829421</td>\n",
              "    </tr>\n",
              "  </tbody>\n",
              "</table>\n",
              "<p>100 rows × 2 columns</p>\n",
              "</div>"
            ],
            "text/plain": [
              "       Actual  Predicted\n",
              "379  0.750349   0.802755\n",
              "272  1.131077   0.743022\n",
              "362  0.767700   0.649205\n",
              "108  0.533360   0.699349\n",
              "154  0.353477   0.350938\n",
              "..        ...        ...\n",
              "401  0.539850   0.932425\n",
              "410  0.339011   0.020745\n",
              "521  0.585683   0.726468\n",
              "309  0.538525   0.445729\n",
              "164  0.742783   0.829421\n",
              "\n",
              "[100 rows x 2 columns]"
            ]
          },
          "metadata": {
            "tags": []
          },
          "execution_count": 66
        }
      ]
    },
    {
      "cell_type": "code",
      "metadata": {
        "id": "6QjQXZjDdZtF",
        "colab_type": "code",
        "colab": {
          "base_uri": "https://localhost:8080/",
          "height": 34
        },
        "outputId": "ebe29107-e6ea-484d-9f07-f52a2133ec08"
      },
      "source": [
        "from sklearn.metrics import mean_absolute_error\n",
        "\n",
        "print(\"MAE by using SVM is {}.\".format(mean_absolute_error(y_test,y_pred)))"
      ],
      "execution_count": 67,
      "outputs": [
        {
          "output_type": "stream",
          "text": [
            "MAE by using SVM is 0.1546197800514787.\n"
          ],
          "name": "stdout"
        }
      ]
    },
    {
      "cell_type": "markdown",
      "metadata": {
        "id": "RlxfIygfjfN9",
        "colab_type": "text"
      },
      "source": [
        "#### Predict by using MLP"
      ]
    },
    {
      "cell_type": "code",
      "metadata": {
        "id": "C7cQ8Kwtcyes",
        "colab_type": "code",
        "colab": {}
      },
      "source": [
        "X_train, X_val, y_train, y_val = split(X_train, y_train, test_size = 0.1)"
      ],
      "execution_count": 0,
      "outputs": []
    },
    {
      "cell_type": "code",
      "metadata": {
        "id": "wKAUsEmDdea_",
        "colab_type": "code",
        "colab": {
          "base_uri": "https://localhost:8080/",
          "height": 323
        },
        "outputId": "ee3da0a5-72b2-4d08-ac25-82b8611cb14c"
      },
      "source": [
        "model3 = Sequential()\n",
        "model3.add(Dense(1000, input_dim=2,activation='relu'))\n",
        "model3.add(Dropout(0.5))\n",
        "model3.add(Dense(500, activation=\"relu\"))\n",
        "model3.add(Dropout(0.5))\n",
        "model3.add(Dense(1, activation='linear'))\n",
        "model3.summary()"
      ],
      "execution_count": 69,
      "outputs": [
        {
          "output_type": "stream",
          "text": [
            "Model: \"sequential_3\"\n",
            "_________________________________________________________________\n",
            "Layer (type)                 Output Shape              Param #   \n",
            "=================================================================\n",
            "dense_7 (Dense)              (None, 1000)              3000      \n",
            "_________________________________________________________________\n",
            "dropout_5 (Dropout)          (None, 1000)              0         \n",
            "_________________________________________________________________\n",
            "dense_8 (Dense)              (None, 500)               500500    \n",
            "_________________________________________________________________\n",
            "dropout_6 (Dropout)          (None, 500)               0         \n",
            "_________________________________________________________________\n",
            "dense_9 (Dense)              (None, 1)                 501       \n",
            "=================================================================\n",
            "Total params: 504,001\n",
            "Trainable params: 504,001\n",
            "Non-trainable params: 0\n",
            "_________________________________________________________________\n"
          ],
          "name": "stdout"
        }
      ]
    },
    {
      "cell_type": "code",
      "metadata": {
        "id": "gFwidwSXdj8Y",
        "colab_type": "code",
        "colab": {
          "base_uri": "https://localhost:8080/",
          "height": 1000
        },
        "outputId": "3a845718-6a36-4b2a-e9e1-e804be9ff4cd"
      },
      "source": [
        "from keras_radam import RAdam\n",
        "\n",
        "model3.compile(loss='mse', optimizer=RAdam(), metrics=['mse','mae'])\n",
        "checkpointer = [\n",
        "    ReduceLROnPlateau(monitor='val_loss', \n",
        "                      patience=3, \n",
        "                      verbose=1,\n",
        "                      factor=0.5,\n",
        "                      min_lr = 0.00001,\n",
        "                      cooldown=0),\n",
        "    ModelCheckpoint(filepath='best3.hdf5', verbose=1, \n",
        "                               save_best_only=True)\n",
        "]\n",
        "history = model3.fit(X_train, y_train, epochs=150, batch_size=128,  verbose=1, validation_data=[X_val, y_val], shuffle=True, callbacks=checkpointer)\n",
        "train_acc = model3.evaluate(X_train, y_train, verbose=0)\n",
        "val_acc = model3.evaluate(X_val, y_val, verbose=0)"
      ],
      "execution_count": 70,
      "outputs": [
        {
          "output_type": "stream",
          "text": [
            "Train on 810 samples, validate on 90 samples\n",
            "Epoch 1/150\n",
            "810/810 [==============================] - 0s 563us/step - loss: 0.3085 - mean_squared_error: 0.3085 - mean_absolute_error: 0.4674 - val_loss: 0.3118 - val_mean_squared_error: 0.3118 - val_mean_absolute_error: 0.4784\n",
            "\n",
            "Epoch 00001: val_loss improved from inf to 0.31181, saving model to best3.hdf5\n",
            "Epoch 2/150\n",
            "810/810 [==============================] - 0s 33us/step - loss: 0.2587 - mean_squared_error: 0.2587 - mean_absolute_error: 0.4228 - val_loss: 0.2236 - val_mean_squared_error: 0.2236 - val_mean_absolute_error: 0.4009\n",
            "\n",
            "Epoch 00002: val_loss improved from 0.31181 to 0.22362, saving model to best3.hdf5\n",
            "Epoch 3/150\n",
            "810/810 [==============================] - 0s 42us/step - loss: 0.1704 - mean_squared_error: 0.1704 - mean_absolute_error: 0.3367 - val_loss: 0.1314 - val_mean_squared_error: 0.1314 - val_mean_absolute_error: 0.3057\n",
            "\n",
            "Epoch 00003: val_loss improved from 0.22362 to 0.13145, saving model to best3.hdf5\n",
            "Epoch 4/150\n",
            "810/810 [==============================] - 0s 32us/step - loss: 0.1019 - mean_squared_error: 0.1019 - mean_absolute_error: 0.2573 - val_loss: 0.0704 - val_mean_squared_error: 0.0704 - val_mean_absolute_error: 0.2099\n",
            "\n",
            "Epoch 00004: val_loss improved from 0.13145 to 0.07035, saving model to best3.hdf5\n",
            "Epoch 5/150\n",
            "810/810 [==============================] - 0s 36us/step - loss: 0.0629 - mean_squared_error: 0.0629 - mean_absolute_error: 0.1994 - val_loss: 0.0556 - val_mean_squared_error: 0.0556 - val_mean_absolute_error: 0.1834\n",
            "\n",
            "Epoch 00005: val_loss improved from 0.07035 to 0.05559, saving model to best3.hdf5\n",
            "Epoch 6/150\n",
            "810/810 [==============================] - 0s 37us/step - loss: 0.0609 - mean_squared_error: 0.0609 - mean_absolute_error: 0.2015 - val_loss: 0.0576 - val_mean_squared_error: 0.0576 - val_mean_absolute_error: 0.1865\n",
            "\n",
            "Epoch 00006: val_loss did not improve from 0.05559\n",
            "Epoch 7/150\n",
            "810/810 [==============================] - 0s 36us/step - loss: 0.0591 - mean_squared_error: 0.0591 - mean_absolute_error: 0.1971 - val_loss: 0.0519 - val_mean_squared_error: 0.0519 - val_mean_absolute_error: 0.1766\n",
            "\n",
            "Epoch 00007: val_loss improved from 0.05559 to 0.05189, saving model to best3.hdf5\n",
            "Epoch 8/150\n",
            "810/810 [==============================] - 0s 33us/step - loss: 0.0544 - mean_squared_error: 0.0544 - mean_absolute_error: 0.1885 - val_loss: 0.0484 - val_mean_squared_error: 0.0484 - val_mean_absolute_error: 0.1729\n",
            "\n",
            "Epoch 00008: val_loss improved from 0.05189 to 0.04841, saving model to best3.hdf5\n",
            "Epoch 9/150\n",
            "810/810 [==============================] - 0s 38us/step - loss: 0.0520 - mean_squared_error: 0.0520 - mean_absolute_error: 0.1850 - val_loss: 0.0482 - val_mean_squared_error: 0.0482 - val_mean_absolute_error: 0.1731\n",
            "\n",
            "Epoch 00009: val_loss improved from 0.04841 to 0.04820, saving model to best3.hdf5\n",
            "Epoch 10/150\n",
            "810/810 [==============================] - 0s 34us/step - loss: 0.0506 - mean_squared_error: 0.0506 - mean_absolute_error: 0.1821 - val_loss: 0.0466 - val_mean_squared_error: 0.0466 - val_mean_absolute_error: 0.1714\n",
            "\n",
            "Epoch 00010: val_loss improved from 0.04820 to 0.04656, saving model to best3.hdf5\n",
            "Epoch 11/150\n",
            "810/810 [==============================] - 0s 30us/step - loss: 0.0466 - mean_squared_error: 0.0466 - mean_absolute_error: 0.1737 - val_loss: 0.0442 - val_mean_squared_error: 0.0442 - val_mean_absolute_error: 0.1684\n",
            "\n",
            "Epoch 00011: val_loss improved from 0.04656 to 0.04416, saving model to best3.hdf5\n",
            "Epoch 12/150\n",
            "810/810 [==============================] - 0s 38us/step - loss: 0.0477 - mean_squared_error: 0.0477 - mean_absolute_error: 0.1758 - val_loss: 0.0431 - val_mean_squared_error: 0.0431 - val_mean_absolute_error: 0.1667\n",
            "\n",
            "Epoch 00012: val_loss improved from 0.04416 to 0.04312, saving model to best3.hdf5\n",
            "Epoch 13/150\n",
            "810/810 [==============================] - 0s 38us/step - loss: 0.0491 - mean_squared_error: 0.0491 - mean_absolute_error: 0.1782 - val_loss: 0.0435 - val_mean_squared_error: 0.0435 - val_mean_absolute_error: 0.1680\n",
            "\n",
            "Epoch 00013: val_loss did not improve from 0.04312\n",
            "Epoch 14/150\n",
            "810/810 [==============================] - 0s 33us/step - loss: 0.0474 - mean_squared_error: 0.0474 - mean_absolute_error: 0.1768 - val_loss: 0.0447 - val_mean_squared_error: 0.0447 - val_mean_absolute_error: 0.1711\n",
            "\n",
            "Epoch 00014: val_loss did not improve from 0.04312\n",
            "Epoch 15/150\n",
            "810/810 [==============================] - 0s 30us/step - loss: 0.0499 - mean_squared_error: 0.0499 - mean_absolute_error: 0.1810 - val_loss: 0.0434 - val_mean_squared_error: 0.0434 - val_mean_absolute_error: 0.1676\n",
            "\n",
            "Epoch 00015: ReduceLROnPlateau reducing learning rate to 0.0005000000237487257.\n",
            "\n",
            "Epoch 00015: val_loss did not improve from 0.04312\n",
            "Epoch 16/150\n",
            "810/810 [==============================] - 0s 45us/step - loss: 0.0482 - mean_squared_error: 0.0482 - mean_absolute_error: 0.1773 - val_loss: 0.0432 - val_mean_squared_error: 0.0432 - val_mean_absolute_error: 0.1669\n",
            "\n",
            "Epoch 00016: val_loss did not improve from 0.04312\n",
            "Epoch 17/150\n",
            "810/810 [==============================] - 0s 38us/step - loss: 0.0487 - mean_squared_error: 0.0487 - mean_absolute_error: 0.1790 - val_loss: 0.0434 - val_mean_squared_error: 0.0434 - val_mean_absolute_error: 0.1675\n",
            "\n",
            "Epoch 00017: val_loss did not improve from 0.04312\n",
            "Epoch 18/150\n",
            "810/810 [==============================] - 0s 38us/step - loss: 0.0489 - mean_squared_error: 0.0489 - mean_absolute_error: 0.1790 - val_loss: 0.0434 - val_mean_squared_error: 0.0434 - val_mean_absolute_error: 0.1676\n",
            "\n",
            "Epoch 00018: ReduceLROnPlateau reducing learning rate to 0.0002500000118743628.\n",
            "\n",
            "Epoch 00018: val_loss did not improve from 0.04312\n",
            "Epoch 19/150\n",
            "810/810 [==============================] - 0s 38us/step - loss: 0.0457 - mean_squared_error: 0.0457 - mean_absolute_error: 0.1724 - val_loss: 0.0435 - val_mean_squared_error: 0.0435 - val_mean_absolute_error: 0.1679\n",
            "\n",
            "Epoch 00019: val_loss did not improve from 0.04312\n",
            "Epoch 20/150\n",
            "810/810 [==============================] - 0s 36us/step - loss: 0.0468 - mean_squared_error: 0.0468 - mean_absolute_error: 0.1749 - val_loss: 0.0436 - val_mean_squared_error: 0.0436 - val_mean_absolute_error: 0.1681\n",
            "\n",
            "Epoch 00020: val_loss did not improve from 0.04312\n",
            "Epoch 21/150\n",
            "810/810 [==============================] - 0s 36us/step - loss: 0.0487 - mean_squared_error: 0.0487 - mean_absolute_error: 0.1769 - val_loss: 0.0436 - val_mean_squared_error: 0.0436 - val_mean_absolute_error: 0.1681\n",
            "\n",
            "Epoch 00021: ReduceLROnPlateau reducing learning rate to 0.0001250000059371814.\n",
            "\n",
            "Epoch 00021: val_loss did not improve from 0.04312\n",
            "Epoch 22/150\n",
            "810/810 [==============================] - 0s 35us/step - loss: 0.0467 - mean_squared_error: 0.0467 - mean_absolute_error: 0.1751 - val_loss: 0.0437 - val_mean_squared_error: 0.0437 - val_mean_absolute_error: 0.1682\n",
            "\n",
            "Epoch 00022: val_loss did not improve from 0.04312\n",
            "Epoch 23/150\n",
            "810/810 [==============================] - 0s 39us/step - loss: 0.0462 - mean_squared_error: 0.0462 - mean_absolute_error: 0.1746 - val_loss: 0.0438 - val_mean_squared_error: 0.0438 - val_mean_absolute_error: 0.1684\n",
            "\n",
            "Epoch 00023: val_loss did not improve from 0.04312\n",
            "Epoch 24/150\n",
            "810/810 [==============================] - 0s 37us/step - loss: 0.0481 - mean_squared_error: 0.0481 - mean_absolute_error: 0.1799 - val_loss: 0.0437 - val_mean_squared_error: 0.0437 - val_mean_absolute_error: 0.1682\n",
            "\n",
            "Epoch 00024: ReduceLROnPlateau reducing learning rate to 6.25000029685907e-05.\n",
            "\n",
            "Epoch 00024: val_loss did not improve from 0.04312\n",
            "Epoch 25/150\n",
            "810/810 [==============================] - 0s 32us/step - loss: 0.0468 - mean_squared_error: 0.0468 - mean_absolute_error: 0.1728 - val_loss: 0.0436 - val_mean_squared_error: 0.0436 - val_mean_absolute_error: 0.1681\n",
            "\n",
            "Epoch 00025: val_loss did not improve from 0.04312\n",
            "Epoch 26/150\n",
            "810/810 [==============================] - 0s 35us/step - loss: 0.0476 - mean_squared_error: 0.0476 - mean_absolute_error: 0.1788 - val_loss: 0.0436 - val_mean_squared_error: 0.0436 - val_mean_absolute_error: 0.1681\n",
            "\n",
            "Epoch 00026: val_loss did not improve from 0.04312\n",
            "Epoch 27/150\n",
            "810/810 [==============================] - 0s 39us/step - loss: 0.0465 - mean_squared_error: 0.0465 - mean_absolute_error: 0.1735 - val_loss: 0.0437 - val_mean_squared_error: 0.0437 - val_mean_absolute_error: 0.1682\n",
            "\n",
            "Epoch 00027: ReduceLROnPlateau reducing learning rate to 3.125000148429535e-05.\n",
            "\n",
            "Epoch 00027: val_loss did not improve from 0.04312\n",
            "Epoch 28/150\n",
            "810/810 [==============================] - 0s 39us/step - loss: 0.0455 - mean_squared_error: 0.0455 - mean_absolute_error: 0.1716 - val_loss: 0.0437 - val_mean_squared_error: 0.0437 - val_mean_absolute_error: 0.1683\n",
            "\n",
            "Epoch 00028: val_loss did not improve from 0.04312\n",
            "Epoch 29/150\n",
            "810/810 [==============================] - 0s 34us/step - loss: 0.0485 - mean_squared_error: 0.0485 - mean_absolute_error: 0.1772 - val_loss: 0.0437 - val_mean_squared_error: 0.0437 - val_mean_absolute_error: 0.1683\n",
            "\n",
            "Epoch 00029: val_loss did not improve from 0.04312\n",
            "Epoch 30/150\n",
            "810/810 [==============================] - 0s 37us/step - loss: 0.0469 - mean_squared_error: 0.0469 - mean_absolute_error: 0.1775 - val_loss: 0.0437 - val_mean_squared_error: 0.0437 - val_mean_absolute_error: 0.1683\n",
            "\n",
            "Epoch 00030: ReduceLROnPlateau reducing learning rate to 1.5625000742147677e-05.\n",
            "\n",
            "Epoch 00030: val_loss did not improve from 0.04312\n",
            "Epoch 31/150\n",
            "810/810 [==============================] - 0s 36us/step - loss: 0.0440 - mean_squared_error: 0.0440 - mean_absolute_error: 0.1693 - val_loss: 0.0437 - val_mean_squared_error: 0.0437 - val_mean_absolute_error: 0.1683\n",
            "\n",
            "Epoch 00031: val_loss did not improve from 0.04312\n",
            "Epoch 32/150\n",
            "810/810 [==============================] - 0s 38us/step - loss: 0.0487 - mean_squared_error: 0.0487 - mean_absolute_error: 0.1781 - val_loss: 0.0437 - val_mean_squared_error: 0.0437 - val_mean_absolute_error: 0.1683\n",
            "\n",
            "Epoch 00032: val_loss did not improve from 0.04312\n",
            "Epoch 33/150\n",
            "810/810 [==============================] - 0s 37us/step - loss: 0.0482 - mean_squared_error: 0.0482 - mean_absolute_error: 0.1769 - val_loss: 0.0437 - val_mean_squared_error: 0.0437 - val_mean_absolute_error: 0.1683\n",
            "\n",
            "Epoch 00033: ReduceLROnPlateau reducing learning rate to 1e-05.\n",
            "\n",
            "Epoch 00033: val_loss did not improve from 0.04312\n",
            "Epoch 34/150\n",
            "810/810 [==============================] - 0s 30us/step - loss: 0.0482 - mean_squared_error: 0.0482 - mean_absolute_error: 0.1774 - val_loss: 0.0437 - val_mean_squared_error: 0.0437 - val_mean_absolute_error: 0.1683\n",
            "\n",
            "Epoch 00034: val_loss did not improve from 0.04312\n",
            "Epoch 35/150\n",
            "810/810 [==============================] - 0s 37us/step - loss: 0.0470 - mean_squared_error: 0.0470 - mean_absolute_error: 0.1739 - val_loss: 0.0437 - val_mean_squared_error: 0.0437 - val_mean_absolute_error: 0.1683\n",
            "\n",
            "Epoch 00035: val_loss did not improve from 0.04312\n",
            "Epoch 36/150\n",
            "810/810 [==============================] - 0s 52us/step - loss: 0.0464 - mean_squared_error: 0.0464 - mean_absolute_error: 0.1741 - val_loss: 0.0437 - val_mean_squared_error: 0.0437 - val_mean_absolute_error: 0.1683\n",
            "\n",
            "Epoch 00036: val_loss did not improve from 0.04312\n",
            "Epoch 37/150\n",
            "810/810 [==============================] - 0s 36us/step - loss: 0.0477 - mean_squared_error: 0.0477 - mean_absolute_error: 0.1755 - val_loss: 0.0437 - val_mean_squared_error: 0.0437 - val_mean_absolute_error: 0.1683\n",
            "\n",
            "Epoch 00037: val_loss did not improve from 0.04312\n",
            "Epoch 38/150\n",
            "810/810 [==============================] - 0s 35us/step - loss: 0.0479 - mean_squared_error: 0.0479 - mean_absolute_error: 0.1759 - val_loss: 0.0437 - val_mean_squared_error: 0.0437 - val_mean_absolute_error: 0.1683\n",
            "\n",
            "Epoch 00038: val_loss did not improve from 0.04312\n",
            "Epoch 39/150\n",
            "810/810 [==============================] - 0s 31us/step - loss: 0.0476 - mean_squared_error: 0.0476 - mean_absolute_error: 0.1761 - val_loss: 0.0437 - val_mean_squared_error: 0.0437 - val_mean_absolute_error: 0.1683\n",
            "\n",
            "Epoch 00039: val_loss did not improve from 0.04312\n",
            "Epoch 40/150\n",
            "810/810 [==============================] - 0s 36us/step - loss: 0.0468 - mean_squared_error: 0.0468 - mean_absolute_error: 0.1737 - val_loss: 0.0437 - val_mean_squared_error: 0.0437 - val_mean_absolute_error: 0.1683\n",
            "\n",
            "Epoch 00040: val_loss did not improve from 0.04312\n",
            "Epoch 41/150\n",
            "810/810 [==============================] - 0s 42us/step - loss: 0.0472 - mean_squared_error: 0.0472 - mean_absolute_error: 0.1749 - val_loss: 0.0437 - val_mean_squared_error: 0.0437 - val_mean_absolute_error: 0.1683\n",
            "\n",
            "Epoch 00041: val_loss did not improve from 0.04312\n",
            "Epoch 42/150\n",
            "810/810 [==============================] - 0s 42us/step - loss: 0.0469 - mean_squared_error: 0.0469 - mean_absolute_error: 0.1735 - val_loss: 0.0437 - val_mean_squared_error: 0.0437 - val_mean_absolute_error: 0.1683\n",
            "\n",
            "Epoch 00042: val_loss did not improve from 0.04312\n",
            "Epoch 43/150\n",
            "810/810 [==============================] - 0s 33us/step - loss: 0.0458 - mean_squared_error: 0.0458 - mean_absolute_error: 0.1731 - val_loss: 0.0437 - val_mean_squared_error: 0.0437 - val_mean_absolute_error: 0.1683\n",
            "\n",
            "Epoch 00043: val_loss did not improve from 0.04312\n",
            "Epoch 44/150\n",
            "810/810 [==============================] - 0s 35us/step - loss: 0.0473 - mean_squared_error: 0.0473 - mean_absolute_error: 0.1746 - val_loss: 0.0438 - val_mean_squared_error: 0.0438 - val_mean_absolute_error: 0.1683\n",
            "\n",
            "Epoch 00044: val_loss did not improve from 0.04312\n",
            "Epoch 45/150\n",
            "810/810 [==============================] - 0s 42us/step - loss: 0.0476 - mean_squared_error: 0.0476 - mean_absolute_error: 0.1769 - val_loss: 0.0438 - val_mean_squared_error: 0.0438 - val_mean_absolute_error: 0.1683\n",
            "\n",
            "Epoch 00045: val_loss did not improve from 0.04312\n",
            "Epoch 46/150\n",
            "810/810 [==============================] - 0s 39us/step - loss: 0.0474 - mean_squared_error: 0.0474 - mean_absolute_error: 0.1772 - val_loss: 0.0438 - val_mean_squared_error: 0.0438 - val_mean_absolute_error: 0.1683\n",
            "\n",
            "Epoch 00046: val_loss did not improve from 0.04312\n",
            "Epoch 47/150\n",
            "810/810 [==============================] - 0s 33us/step - loss: 0.0465 - mean_squared_error: 0.0465 - mean_absolute_error: 0.1742 - val_loss: 0.0438 - val_mean_squared_error: 0.0438 - val_mean_absolute_error: 0.1683\n",
            "\n",
            "Epoch 00047: val_loss did not improve from 0.04312\n",
            "Epoch 48/150\n",
            "810/810 [==============================] - 0s 31us/step - loss: 0.0475 - mean_squared_error: 0.0475 - mean_absolute_error: 0.1770 - val_loss: 0.0438 - val_mean_squared_error: 0.0438 - val_mean_absolute_error: 0.1683\n",
            "\n",
            "Epoch 00048: val_loss did not improve from 0.04312\n",
            "Epoch 49/150\n",
            "810/810 [==============================] - 0s 36us/step - loss: 0.0488 - mean_squared_error: 0.0488 - mean_absolute_error: 0.1785 - val_loss: 0.0438 - val_mean_squared_error: 0.0438 - val_mean_absolute_error: 0.1684\n",
            "\n",
            "Epoch 00049: val_loss did not improve from 0.04312\n",
            "Epoch 50/150\n",
            "810/810 [==============================] - 0s 30us/step - loss: 0.0479 - mean_squared_error: 0.0479 - mean_absolute_error: 0.1754 - val_loss: 0.0438 - val_mean_squared_error: 0.0438 - val_mean_absolute_error: 0.1684\n",
            "\n",
            "Epoch 00050: val_loss did not improve from 0.04312\n",
            "Epoch 51/150\n",
            "810/810 [==============================] - 0s 38us/step - loss: 0.0467 - mean_squared_error: 0.0467 - mean_absolute_error: 0.1743 - val_loss: 0.0438 - val_mean_squared_error: 0.0438 - val_mean_absolute_error: 0.1684\n",
            "\n",
            "Epoch 00051: val_loss did not improve from 0.04312\n",
            "Epoch 52/150\n",
            "810/810 [==============================] - 0s 42us/step - loss: 0.0466 - mean_squared_error: 0.0466 - mean_absolute_error: 0.1745 - val_loss: 0.0438 - val_mean_squared_error: 0.0438 - val_mean_absolute_error: 0.1684\n",
            "\n",
            "Epoch 00052: val_loss did not improve from 0.04312\n",
            "Epoch 53/150\n",
            "810/810 [==============================] - 0s 36us/step - loss: 0.0483 - mean_squared_error: 0.0483 - mean_absolute_error: 0.1766 - val_loss: 0.0438 - val_mean_squared_error: 0.0438 - val_mean_absolute_error: 0.1684\n",
            "\n",
            "Epoch 00053: val_loss did not improve from 0.04312\n",
            "Epoch 54/150\n",
            "810/810 [==============================] - 0s 35us/step - loss: 0.0468 - mean_squared_error: 0.0468 - mean_absolute_error: 0.1747 - val_loss: 0.0438 - val_mean_squared_error: 0.0438 - val_mean_absolute_error: 0.1684\n",
            "\n",
            "Epoch 00054: val_loss did not improve from 0.04312\n",
            "Epoch 55/150\n",
            "810/810 [==============================] - 0s 34us/step - loss: 0.0483 - mean_squared_error: 0.0483 - mean_absolute_error: 0.1771 - val_loss: 0.0438 - val_mean_squared_error: 0.0438 - val_mean_absolute_error: 0.1684\n",
            "\n",
            "Epoch 00055: val_loss did not improve from 0.04312\n",
            "Epoch 56/150\n",
            "810/810 [==============================] - 0s 37us/step - loss: 0.0478 - mean_squared_error: 0.0478 - mean_absolute_error: 0.1767 - val_loss: 0.0438 - val_mean_squared_error: 0.0438 - val_mean_absolute_error: 0.1684\n",
            "\n",
            "Epoch 00056: val_loss did not improve from 0.04312\n",
            "Epoch 57/150\n",
            "810/810 [==============================] - 0s 33us/step - loss: 0.0480 - mean_squared_error: 0.0480 - mean_absolute_error: 0.1755 - val_loss: 0.0438 - val_mean_squared_error: 0.0438 - val_mean_absolute_error: 0.1684\n",
            "\n",
            "Epoch 00057: val_loss did not improve from 0.04312\n",
            "Epoch 58/150\n",
            "810/810 [==============================] - 0s 38us/step - loss: 0.0492 - mean_squared_error: 0.0492 - mean_absolute_error: 0.1801 - val_loss: 0.0438 - val_mean_squared_error: 0.0438 - val_mean_absolute_error: 0.1684\n",
            "\n",
            "Epoch 00058: val_loss did not improve from 0.04312\n",
            "Epoch 59/150\n",
            "810/810 [==============================] - 0s 36us/step - loss: 0.0476 - mean_squared_error: 0.0476 - mean_absolute_error: 0.1752 - val_loss: 0.0438 - val_mean_squared_error: 0.0438 - val_mean_absolute_error: 0.1684\n",
            "\n",
            "Epoch 00059: val_loss did not improve from 0.04312\n",
            "Epoch 60/150\n",
            "810/810 [==============================] - 0s 32us/step - loss: 0.0476 - mean_squared_error: 0.0476 - mean_absolute_error: 0.1753 - val_loss: 0.0438 - val_mean_squared_error: 0.0438 - val_mean_absolute_error: 0.1684\n",
            "\n",
            "Epoch 00060: val_loss did not improve from 0.04312\n",
            "Epoch 61/150\n",
            "810/810 [==============================] - 0s 34us/step - loss: 0.0474 - mean_squared_error: 0.0474 - mean_absolute_error: 0.1748 - val_loss: 0.0438 - val_mean_squared_error: 0.0438 - val_mean_absolute_error: 0.1684\n",
            "\n",
            "Epoch 00061: val_loss did not improve from 0.04312\n",
            "Epoch 62/150\n",
            "810/810 [==============================] - 0s 39us/step - loss: 0.0468 - mean_squared_error: 0.0468 - mean_absolute_error: 0.1756 - val_loss: 0.0438 - val_mean_squared_error: 0.0438 - val_mean_absolute_error: 0.1684\n",
            "\n",
            "Epoch 00062: val_loss did not improve from 0.04312\n",
            "Epoch 63/150\n",
            "810/810 [==============================] - 0s 31us/step - loss: 0.0478 - mean_squared_error: 0.0478 - mean_absolute_error: 0.1768 - val_loss: 0.0438 - val_mean_squared_error: 0.0438 - val_mean_absolute_error: 0.1684\n",
            "\n",
            "Epoch 00063: val_loss did not improve from 0.04312\n",
            "Epoch 64/150\n",
            "810/810 [==============================] - 0s 33us/step - loss: 0.0473 - mean_squared_error: 0.0473 - mean_absolute_error: 0.1753 - val_loss: 0.0438 - val_mean_squared_error: 0.0438 - val_mean_absolute_error: 0.1684\n",
            "\n",
            "Epoch 00064: val_loss did not improve from 0.04312\n",
            "Epoch 65/150\n",
            "810/810 [==============================] - 0s 35us/step - loss: 0.0488 - mean_squared_error: 0.0488 - mean_absolute_error: 0.1786 - val_loss: 0.0438 - val_mean_squared_error: 0.0438 - val_mean_absolute_error: 0.1684\n",
            "\n",
            "Epoch 00065: val_loss did not improve from 0.04312\n",
            "Epoch 66/150\n",
            "810/810 [==============================] - 0s 36us/step - loss: 0.0468 - mean_squared_error: 0.0468 - mean_absolute_error: 0.1730 - val_loss: 0.0438 - val_mean_squared_error: 0.0438 - val_mean_absolute_error: 0.1684\n",
            "\n",
            "Epoch 00066: val_loss did not improve from 0.04312\n",
            "Epoch 67/150\n",
            "810/810 [==============================] - 0s 31us/step - loss: 0.0456 - mean_squared_error: 0.0456 - mean_absolute_error: 0.1724 - val_loss: 0.0438 - val_mean_squared_error: 0.0438 - val_mean_absolute_error: 0.1683\n",
            "\n",
            "Epoch 00067: val_loss did not improve from 0.04312\n",
            "Epoch 68/150\n",
            "810/810 [==============================] - 0s 44us/step - loss: 0.0474 - mean_squared_error: 0.0474 - mean_absolute_error: 0.1749 - val_loss: 0.0438 - val_mean_squared_error: 0.0438 - val_mean_absolute_error: 0.1683\n",
            "\n",
            "Epoch 00068: val_loss did not improve from 0.04312\n",
            "Epoch 69/150\n",
            "810/810 [==============================] - 0s 34us/step - loss: 0.0472 - mean_squared_error: 0.0472 - mean_absolute_error: 0.1766 - val_loss: 0.0438 - val_mean_squared_error: 0.0438 - val_mean_absolute_error: 0.1684\n",
            "\n",
            "Epoch 00069: val_loss did not improve from 0.04312\n",
            "Epoch 70/150\n",
            "810/810 [==============================] - 0s 30us/step - loss: 0.0452 - mean_squared_error: 0.0452 - mean_absolute_error: 0.1724 - val_loss: 0.0438 - val_mean_squared_error: 0.0438 - val_mean_absolute_error: 0.1684\n",
            "\n",
            "Epoch 00070: val_loss did not improve from 0.04312\n",
            "Epoch 71/150\n",
            "810/810 [==============================] - 0s 33us/step - loss: 0.0470 - mean_squared_error: 0.0470 - mean_absolute_error: 0.1751 - val_loss: 0.0438 - val_mean_squared_error: 0.0438 - val_mean_absolute_error: 0.1683\n",
            "\n",
            "Epoch 00071: val_loss did not improve from 0.04312\n",
            "Epoch 72/150\n",
            "810/810 [==============================] - 0s 33us/step - loss: 0.0486 - mean_squared_error: 0.0486 - mean_absolute_error: 0.1798 - val_loss: 0.0438 - val_mean_squared_error: 0.0438 - val_mean_absolute_error: 0.1683\n",
            "\n",
            "Epoch 00072: val_loss did not improve from 0.04312\n",
            "Epoch 73/150\n",
            "810/810 [==============================] - 0s 33us/step - loss: 0.0467 - mean_squared_error: 0.0467 - mean_absolute_error: 0.1734 - val_loss: 0.0437 - val_mean_squared_error: 0.0437 - val_mean_absolute_error: 0.1683\n",
            "\n",
            "Epoch 00073: val_loss did not improve from 0.04312\n",
            "Epoch 74/150\n",
            "810/810 [==============================] - 0s 35us/step - loss: 0.0469 - mean_squared_error: 0.0469 - mean_absolute_error: 0.1747 - val_loss: 0.0437 - val_mean_squared_error: 0.0437 - val_mean_absolute_error: 0.1683\n",
            "\n",
            "Epoch 00074: val_loss did not improve from 0.04312\n",
            "Epoch 75/150\n",
            "810/810 [==============================] - 0s 35us/step - loss: 0.0463 - mean_squared_error: 0.0463 - mean_absolute_error: 0.1741 - val_loss: 0.0437 - val_mean_squared_error: 0.0437 - val_mean_absolute_error: 0.1683\n",
            "\n",
            "Epoch 00075: val_loss did not improve from 0.04312\n",
            "Epoch 76/150\n",
            "810/810 [==============================] - 0s 41us/step - loss: 0.0458 - mean_squared_error: 0.0458 - mean_absolute_error: 0.1734 - val_loss: 0.0437 - val_mean_squared_error: 0.0437 - val_mean_absolute_error: 0.1683\n",
            "\n",
            "Epoch 00076: val_loss did not improve from 0.04312\n",
            "Epoch 77/150\n",
            "810/810 [==============================] - 0s 45us/step - loss: 0.0501 - mean_squared_error: 0.0501 - mean_absolute_error: 0.1811 - val_loss: 0.0438 - val_mean_squared_error: 0.0438 - val_mean_absolute_error: 0.1683\n",
            "\n",
            "Epoch 00077: val_loss did not improve from 0.04312\n",
            "Epoch 78/150\n",
            "810/810 [==============================] - 0s 44us/step - loss: 0.0457 - mean_squared_error: 0.0457 - mean_absolute_error: 0.1720 - val_loss: 0.0438 - val_mean_squared_error: 0.0438 - val_mean_absolute_error: 0.1683\n",
            "\n",
            "Epoch 00078: val_loss did not improve from 0.04312\n",
            "Epoch 79/150\n",
            "810/810 [==============================] - 0s 35us/step - loss: 0.0465 - mean_squared_error: 0.0465 - mean_absolute_error: 0.1726 - val_loss: 0.0438 - val_mean_squared_error: 0.0438 - val_mean_absolute_error: 0.1683\n",
            "\n",
            "Epoch 00079: val_loss did not improve from 0.04312\n",
            "Epoch 80/150\n",
            "810/810 [==============================] - 0s 32us/step - loss: 0.0477 - mean_squared_error: 0.0477 - mean_absolute_error: 0.1768 - val_loss: 0.0438 - val_mean_squared_error: 0.0438 - val_mean_absolute_error: 0.1683\n",
            "\n",
            "Epoch 00080: val_loss did not improve from 0.04312\n",
            "Epoch 81/150\n",
            "810/810 [==============================] - 0s 33us/step - loss: 0.0447 - mean_squared_error: 0.0447 - mean_absolute_error: 0.1699 - val_loss: 0.0438 - val_mean_squared_error: 0.0438 - val_mean_absolute_error: 0.1683\n",
            "\n",
            "Epoch 00081: val_loss did not improve from 0.04312\n",
            "Epoch 82/150\n",
            "810/810 [==============================] - 0s 39us/step - loss: 0.0473 - mean_squared_error: 0.0473 - mean_absolute_error: 0.1771 - val_loss: 0.0438 - val_mean_squared_error: 0.0438 - val_mean_absolute_error: 0.1683\n",
            "\n",
            "Epoch 00082: val_loss did not improve from 0.04312\n",
            "Epoch 83/150\n",
            "810/810 [==============================] - 0s 30us/step - loss: 0.0479 - mean_squared_error: 0.0479 - mean_absolute_error: 0.1765 - val_loss: 0.0438 - val_mean_squared_error: 0.0438 - val_mean_absolute_error: 0.1683\n",
            "\n",
            "Epoch 00083: val_loss did not improve from 0.04312\n",
            "Epoch 84/150\n",
            "810/810 [==============================] - 0s 42us/step - loss: 0.0468 - mean_squared_error: 0.0468 - mean_absolute_error: 0.1746 - val_loss: 0.0438 - val_mean_squared_error: 0.0438 - val_mean_absolute_error: 0.1683\n",
            "\n",
            "Epoch 00084: val_loss did not improve from 0.04312\n",
            "Epoch 85/150\n",
            "810/810 [==============================] - 0s 35us/step - loss: 0.0473 - mean_squared_error: 0.0473 - mean_absolute_error: 0.1762 - val_loss: 0.0437 - val_mean_squared_error: 0.0437 - val_mean_absolute_error: 0.1682\n",
            "\n",
            "Epoch 00085: val_loss did not improve from 0.04312\n",
            "Epoch 86/150\n",
            "810/810 [==============================] - 0s 36us/step - loss: 0.0471 - mean_squared_error: 0.0471 - mean_absolute_error: 0.1769 - val_loss: 0.0437 - val_mean_squared_error: 0.0437 - val_mean_absolute_error: 0.1681\n",
            "\n",
            "Epoch 00086: val_loss did not improve from 0.04312\n",
            "Epoch 87/150\n",
            "810/810 [==============================] - 0s 36us/step - loss: 0.0484 - mean_squared_error: 0.0484 - mean_absolute_error: 0.1757 - val_loss: 0.0437 - val_mean_squared_error: 0.0437 - val_mean_absolute_error: 0.1681\n",
            "\n",
            "Epoch 00087: val_loss did not improve from 0.04312\n",
            "Epoch 88/150\n",
            "810/810 [==============================] - 0s 40us/step - loss: 0.0471 - mean_squared_error: 0.0471 - mean_absolute_error: 0.1760 - val_loss: 0.0437 - val_mean_squared_error: 0.0437 - val_mean_absolute_error: 0.1681\n",
            "\n",
            "Epoch 00088: val_loss did not improve from 0.04312\n",
            "Epoch 89/150\n",
            "810/810 [==============================] - 0s 35us/step - loss: 0.0473 - mean_squared_error: 0.0473 - mean_absolute_error: 0.1752 - val_loss: 0.0437 - val_mean_squared_error: 0.0437 - val_mean_absolute_error: 0.1681\n",
            "\n",
            "Epoch 00089: val_loss did not improve from 0.04312\n",
            "Epoch 90/150\n",
            "810/810 [==============================] - 0s 40us/step - loss: 0.0474 - mean_squared_error: 0.0474 - mean_absolute_error: 0.1770 - val_loss: 0.0437 - val_mean_squared_error: 0.0437 - val_mean_absolute_error: 0.1682\n",
            "\n",
            "Epoch 00090: val_loss did not improve from 0.04312\n",
            "Epoch 91/150\n",
            "810/810 [==============================] - 0s 34us/step - loss: 0.0465 - mean_squared_error: 0.0465 - mean_absolute_error: 0.1730 - val_loss: 0.0437 - val_mean_squared_error: 0.0437 - val_mean_absolute_error: 0.1681\n",
            "\n",
            "Epoch 00091: val_loss did not improve from 0.04312\n",
            "Epoch 92/150\n",
            "810/810 [==============================] - 0s 46us/step - loss: 0.0474 - mean_squared_error: 0.0474 - mean_absolute_error: 0.1760 - val_loss: 0.0437 - val_mean_squared_error: 0.0437 - val_mean_absolute_error: 0.1681\n",
            "\n",
            "Epoch 00092: val_loss did not improve from 0.04312\n",
            "Epoch 93/150\n",
            "810/810 [==============================] - 0s 38us/step - loss: 0.0470 - mean_squared_error: 0.0470 - mean_absolute_error: 0.1734 - val_loss: 0.0437 - val_mean_squared_error: 0.0437 - val_mean_absolute_error: 0.1682\n",
            "\n",
            "Epoch 00093: val_loss did not improve from 0.04312\n",
            "Epoch 94/150\n",
            "810/810 [==============================] - 0s 35us/step - loss: 0.0495 - mean_squared_error: 0.0495 - mean_absolute_error: 0.1768 - val_loss: 0.0438 - val_mean_squared_error: 0.0438 - val_mean_absolute_error: 0.1683\n",
            "\n",
            "Epoch 00094: val_loss did not improve from 0.04312\n",
            "Epoch 95/150\n",
            "810/810 [==============================] - 0s 38us/step - loss: 0.0446 - mean_squared_error: 0.0446 - mean_absolute_error: 0.1692 - val_loss: 0.0438 - val_mean_squared_error: 0.0438 - val_mean_absolute_error: 0.1683\n",
            "\n",
            "Epoch 00095: val_loss did not improve from 0.04312\n",
            "Epoch 96/150\n",
            "810/810 [==============================] - 0s 34us/step - loss: 0.0459 - mean_squared_error: 0.0459 - mean_absolute_error: 0.1738 - val_loss: 0.0438 - val_mean_squared_error: 0.0438 - val_mean_absolute_error: 0.1684\n",
            "\n",
            "Epoch 00096: val_loss did not improve from 0.04312\n",
            "Epoch 97/150\n",
            "810/810 [==============================] - 0s 34us/step - loss: 0.0477 - mean_squared_error: 0.0477 - mean_absolute_error: 0.1763 - val_loss: 0.0439 - val_mean_squared_error: 0.0439 - val_mean_absolute_error: 0.1685\n",
            "\n",
            "Epoch 00097: val_loss did not improve from 0.04312\n",
            "Epoch 98/150\n",
            "810/810 [==============================] - 0s 36us/step - loss: 0.0475 - mean_squared_error: 0.0475 - mean_absolute_error: 0.1761 - val_loss: 0.0439 - val_mean_squared_error: 0.0439 - val_mean_absolute_error: 0.1685\n",
            "\n",
            "Epoch 00098: val_loss did not improve from 0.04312\n",
            "Epoch 99/150\n",
            "810/810 [==============================] - 0s 37us/step - loss: 0.0462 - mean_squared_error: 0.0462 - mean_absolute_error: 0.1749 - val_loss: 0.0439 - val_mean_squared_error: 0.0439 - val_mean_absolute_error: 0.1686\n",
            "\n",
            "Epoch 00099: val_loss did not improve from 0.04312\n",
            "Epoch 100/150\n",
            "810/810 [==============================] - 0s 38us/step - loss: 0.0468 - mean_squared_error: 0.0468 - mean_absolute_error: 0.1749 - val_loss: 0.0439 - val_mean_squared_error: 0.0439 - val_mean_absolute_error: 0.1686\n",
            "\n",
            "Epoch 00100: val_loss did not improve from 0.04312\n",
            "Epoch 101/150\n",
            "810/810 [==============================] - 0s 33us/step - loss: 0.0470 - mean_squared_error: 0.0470 - mean_absolute_error: 0.1747 - val_loss: 0.0439 - val_mean_squared_error: 0.0439 - val_mean_absolute_error: 0.1686\n",
            "\n",
            "Epoch 00101: val_loss did not improve from 0.04312\n",
            "Epoch 102/150\n",
            "810/810 [==============================] - 0s 38us/step - loss: 0.0471 - mean_squared_error: 0.0471 - mean_absolute_error: 0.1743 - val_loss: 0.0439 - val_mean_squared_error: 0.0439 - val_mean_absolute_error: 0.1685\n",
            "\n",
            "Epoch 00102: val_loss did not improve from 0.04312\n",
            "Epoch 103/150\n",
            "810/810 [==============================] - 0s 33us/step - loss: 0.0482 - mean_squared_error: 0.0482 - mean_absolute_error: 0.1777 - val_loss: 0.0439 - val_mean_squared_error: 0.0439 - val_mean_absolute_error: 0.1685\n",
            "\n",
            "Epoch 00103: val_loss did not improve from 0.04312\n",
            "Epoch 104/150\n",
            "810/810 [==============================] - 0s 37us/step - loss: 0.0462 - mean_squared_error: 0.0462 - mean_absolute_error: 0.1728 - val_loss: 0.0439 - val_mean_squared_error: 0.0439 - val_mean_absolute_error: 0.1685\n",
            "\n",
            "Epoch 00104: val_loss did not improve from 0.04312\n",
            "Epoch 105/150\n",
            "810/810 [==============================] - 0s 39us/step - loss: 0.0479 - mean_squared_error: 0.0479 - mean_absolute_error: 0.1769 - val_loss: 0.0439 - val_mean_squared_error: 0.0439 - val_mean_absolute_error: 0.1685\n",
            "\n",
            "Epoch 00105: val_loss did not improve from 0.04312\n",
            "Epoch 106/150\n",
            "810/810 [==============================] - 0s 30us/step - loss: 0.0474 - mean_squared_error: 0.0474 - mean_absolute_error: 0.1762 - val_loss: 0.0439 - val_mean_squared_error: 0.0439 - val_mean_absolute_error: 0.1685\n",
            "\n",
            "Epoch 00106: val_loss did not improve from 0.04312\n",
            "Epoch 107/150\n",
            "810/810 [==============================] - 0s 55us/step - loss: 0.0438 - mean_squared_error: 0.0438 - mean_absolute_error: 0.1677 - val_loss: 0.0439 - val_mean_squared_error: 0.0439 - val_mean_absolute_error: 0.1685\n",
            "\n",
            "Epoch 00107: val_loss did not improve from 0.04312\n",
            "Epoch 108/150\n",
            "810/810 [==============================] - 0s 43us/step - loss: 0.0470 - mean_squared_error: 0.0470 - mean_absolute_error: 0.1750 - val_loss: 0.0439 - val_mean_squared_error: 0.0439 - val_mean_absolute_error: 0.1685\n",
            "\n",
            "Epoch 00108: val_loss did not improve from 0.04312\n",
            "Epoch 109/150\n",
            "810/810 [==============================] - 0s 40us/step - loss: 0.0472 - mean_squared_error: 0.0472 - mean_absolute_error: 0.1748 - val_loss: 0.0439 - val_mean_squared_error: 0.0439 - val_mean_absolute_error: 0.1685\n",
            "\n",
            "Epoch 00109: val_loss did not improve from 0.04312\n",
            "Epoch 110/150\n",
            "810/810 [==============================] - 0s 37us/step - loss: 0.0471 - mean_squared_error: 0.0471 - mean_absolute_error: 0.1729 - val_loss: 0.0439 - val_mean_squared_error: 0.0439 - val_mean_absolute_error: 0.1685\n",
            "\n",
            "Epoch 00110: val_loss did not improve from 0.04312\n",
            "Epoch 111/150\n",
            "810/810 [==============================] - 0s 34us/step - loss: 0.0468 - mean_squared_error: 0.0468 - mean_absolute_error: 0.1745 - val_loss: 0.0439 - val_mean_squared_error: 0.0439 - val_mean_absolute_error: 0.1685\n",
            "\n",
            "Epoch 00111: val_loss did not improve from 0.04312\n",
            "Epoch 112/150\n",
            "810/810 [==============================] - 0s 36us/step - loss: 0.0475 - mean_squared_error: 0.0475 - mean_absolute_error: 0.1745 - val_loss: 0.0439 - val_mean_squared_error: 0.0439 - val_mean_absolute_error: 0.1685\n",
            "\n",
            "Epoch 00112: val_loss did not improve from 0.04312\n",
            "Epoch 113/150\n",
            "810/810 [==============================] - 0s 37us/step - loss: 0.0462 - mean_squared_error: 0.0462 - mean_absolute_error: 0.1723 - val_loss: 0.0438 - val_mean_squared_error: 0.0438 - val_mean_absolute_error: 0.1684\n",
            "\n",
            "Epoch 00113: val_loss did not improve from 0.04312\n",
            "Epoch 114/150\n",
            "810/810 [==============================] - 0s 42us/step - loss: 0.0474 - mean_squared_error: 0.0474 - mean_absolute_error: 0.1774 - val_loss: 0.0438 - val_mean_squared_error: 0.0438 - val_mean_absolute_error: 0.1683\n",
            "\n",
            "Epoch 00114: val_loss did not improve from 0.04312\n",
            "Epoch 115/150\n",
            "810/810 [==============================] - 0s 39us/step - loss: 0.0478 - mean_squared_error: 0.0478 - mean_absolute_error: 0.1767 - val_loss: 0.0438 - val_mean_squared_error: 0.0438 - val_mean_absolute_error: 0.1683\n",
            "\n",
            "Epoch 00115: val_loss did not improve from 0.04312\n",
            "Epoch 116/150\n",
            "810/810 [==============================] - 0s 35us/step - loss: 0.0478 - mean_squared_error: 0.0478 - mean_absolute_error: 0.1776 - val_loss: 0.0438 - val_mean_squared_error: 0.0438 - val_mean_absolute_error: 0.1684\n",
            "\n",
            "Epoch 00116: val_loss did not improve from 0.04312\n",
            "Epoch 117/150\n",
            "810/810 [==============================] - 0s 38us/step - loss: 0.0475 - mean_squared_error: 0.0475 - mean_absolute_error: 0.1758 - val_loss: 0.0439 - val_mean_squared_error: 0.0439 - val_mean_absolute_error: 0.1684\n",
            "\n",
            "Epoch 00117: val_loss did not improve from 0.04312\n",
            "Epoch 118/150\n",
            "810/810 [==============================] - 0s 39us/step - loss: 0.0457 - mean_squared_error: 0.0457 - mean_absolute_error: 0.1721 - val_loss: 0.0438 - val_mean_squared_error: 0.0438 - val_mean_absolute_error: 0.1684\n",
            "\n",
            "Epoch 00118: val_loss did not improve from 0.04312\n",
            "Epoch 119/150\n",
            "810/810 [==============================] - 0s 38us/step - loss: 0.0454 - mean_squared_error: 0.0454 - mean_absolute_error: 0.1719 - val_loss: 0.0438 - val_mean_squared_error: 0.0438 - val_mean_absolute_error: 0.1684\n",
            "\n",
            "Epoch 00119: val_loss did not improve from 0.04312\n",
            "Epoch 120/150\n",
            "810/810 [==============================] - 0s 36us/step - loss: 0.0459 - mean_squared_error: 0.0459 - mean_absolute_error: 0.1742 - val_loss: 0.0438 - val_mean_squared_error: 0.0438 - val_mean_absolute_error: 0.1683\n",
            "\n",
            "Epoch 00120: val_loss did not improve from 0.04312\n",
            "Epoch 121/150\n",
            "810/810 [==============================] - 0s 43us/step - loss: 0.0471 - mean_squared_error: 0.0471 - mean_absolute_error: 0.1752 - val_loss: 0.0438 - val_mean_squared_error: 0.0438 - val_mean_absolute_error: 0.1682\n",
            "\n",
            "Epoch 00121: val_loss did not improve from 0.04312\n",
            "Epoch 122/150\n",
            "810/810 [==============================] - 0s 35us/step - loss: 0.0454 - mean_squared_error: 0.0454 - mean_absolute_error: 0.1721 - val_loss: 0.0437 - val_mean_squared_error: 0.0437 - val_mean_absolute_error: 0.1682\n",
            "\n",
            "Epoch 00122: val_loss did not improve from 0.04312\n",
            "Epoch 123/150\n",
            "810/810 [==============================] - 0s 34us/step - loss: 0.0496 - mean_squared_error: 0.0496 - mean_absolute_error: 0.1803 - val_loss: 0.0437 - val_mean_squared_error: 0.0437 - val_mean_absolute_error: 0.1681\n",
            "\n",
            "Epoch 00123: val_loss did not improve from 0.04312\n",
            "Epoch 124/150\n",
            "810/810 [==============================] - 0s 33us/step - loss: 0.0459 - mean_squared_error: 0.0459 - mean_absolute_error: 0.1747 - val_loss: 0.0437 - val_mean_squared_error: 0.0437 - val_mean_absolute_error: 0.1681\n",
            "\n",
            "Epoch 00124: val_loss did not improve from 0.04312\n",
            "Epoch 125/150\n",
            "810/810 [==============================] - 0s 33us/step - loss: 0.0476 - mean_squared_error: 0.0476 - mean_absolute_error: 0.1779 - val_loss: 0.0437 - val_mean_squared_error: 0.0437 - val_mean_absolute_error: 0.1682\n",
            "\n",
            "Epoch 00125: val_loss did not improve from 0.04312\n",
            "Epoch 126/150\n",
            "810/810 [==============================] - 0s 39us/step - loss: 0.0479 - mean_squared_error: 0.0479 - mean_absolute_error: 0.1778 - val_loss: 0.0438 - val_mean_squared_error: 0.0438 - val_mean_absolute_error: 0.1683\n",
            "\n",
            "Epoch 00126: val_loss did not improve from 0.04312\n",
            "Epoch 127/150\n",
            "810/810 [==============================] - 0s 42us/step - loss: 0.0474 - mean_squared_error: 0.0474 - mean_absolute_error: 0.1753 - val_loss: 0.0438 - val_mean_squared_error: 0.0438 - val_mean_absolute_error: 0.1683\n",
            "\n",
            "Epoch 00127: val_loss did not improve from 0.04312\n",
            "Epoch 128/150\n",
            "810/810 [==============================] - 0s 35us/step - loss: 0.0461 - mean_squared_error: 0.0461 - mean_absolute_error: 0.1722 - val_loss: 0.0438 - val_mean_squared_error: 0.0438 - val_mean_absolute_error: 0.1683\n",
            "\n",
            "Epoch 00128: val_loss did not improve from 0.04312\n",
            "Epoch 129/150\n",
            "810/810 [==============================] - 0s 35us/step - loss: 0.0465 - mean_squared_error: 0.0465 - mean_absolute_error: 0.1736 - val_loss: 0.0438 - val_mean_squared_error: 0.0438 - val_mean_absolute_error: 0.1683\n",
            "\n",
            "Epoch 00129: val_loss did not improve from 0.04312\n",
            "Epoch 130/150\n",
            "810/810 [==============================] - 0s 38us/step - loss: 0.0462 - mean_squared_error: 0.0462 - mean_absolute_error: 0.1731 - val_loss: 0.0438 - val_mean_squared_error: 0.0438 - val_mean_absolute_error: 0.1683\n",
            "\n",
            "Epoch 00130: val_loss did not improve from 0.04312\n",
            "Epoch 131/150\n",
            "810/810 [==============================] - 0s 37us/step - loss: 0.0474 - mean_squared_error: 0.0474 - mean_absolute_error: 0.1764 - val_loss: 0.0438 - val_mean_squared_error: 0.0438 - val_mean_absolute_error: 0.1684\n",
            "\n",
            "Epoch 00131: val_loss did not improve from 0.04312\n",
            "Epoch 132/150\n",
            "810/810 [==============================] - 0s 41us/step - loss: 0.0474 - mean_squared_error: 0.0474 - mean_absolute_error: 0.1752 - val_loss: 0.0438 - val_mean_squared_error: 0.0438 - val_mean_absolute_error: 0.1683\n",
            "\n",
            "Epoch 00132: val_loss did not improve from 0.04312\n",
            "Epoch 133/150\n",
            "810/810 [==============================] - 0s 33us/step - loss: 0.0467 - mean_squared_error: 0.0467 - mean_absolute_error: 0.1744 - val_loss: 0.0438 - val_mean_squared_error: 0.0438 - val_mean_absolute_error: 0.1683\n",
            "\n",
            "Epoch 00133: val_loss did not improve from 0.04312\n",
            "Epoch 134/150\n",
            "810/810 [==============================] - 0s 33us/step - loss: 0.0481 - mean_squared_error: 0.0481 - mean_absolute_error: 0.1767 - val_loss: 0.0439 - val_mean_squared_error: 0.0439 - val_mean_absolute_error: 0.1685\n",
            "\n",
            "Epoch 00134: val_loss did not improve from 0.04312\n",
            "Epoch 135/150\n",
            "810/810 [==============================] - 0s 36us/step - loss: 0.0470 - mean_squared_error: 0.0470 - mean_absolute_error: 0.1741 - val_loss: 0.0440 - val_mean_squared_error: 0.0440 - val_mean_absolute_error: 0.1686\n",
            "\n",
            "Epoch 00135: val_loss did not improve from 0.04312\n",
            "Epoch 136/150\n",
            "810/810 [==============================] - 0s 41us/step - loss: 0.0474 - mean_squared_error: 0.0474 - mean_absolute_error: 0.1740 - val_loss: 0.0440 - val_mean_squared_error: 0.0440 - val_mean_absolute_error: 0.1687\n",
            "\n",
            "Epoch 00136: val_loss did not improve from 0.04312\n",
            "Epoch 137/150\n",
            "810/810 [==============================] - 0s 45us/step - loss: 0.0473 - mean_squared_error: 0.0473 - mean_absolute_error: 0.1772 - val_loss: 0.0440 - val_mean_squared_error: 0.0440 - val_mean_absolute_error: 0.1687\n",
            "\n",
            "Epoch 00137: val_loss did not improve from 0.04312\n",
            "Epoch 138/150\n",
            "810/810 [==============================] - 0s 32us/step - loss: 0.0476 - mean_squared_error: 0.0476 - mean_absolute_error: 0.1758 - val_loss: 0.0439 - val_mean_squared_error: 0.0439 - val_mean_absolute_error: 0.1686\n",
            "\n",
            "Epoch 00138: val_loss did not improve from 0.04312\n",
            "Epoch 139/150\n",
            "810/810 [==============================] - 0s 30us/step - loss: 0.0454 - mean_squared_error: 0.0454 - mean_absolute_error: 0.1732 - val_loss: 0.0439 - val_mean_squared_error: 0.0439 - val_mean_absolute_error: 0.1685\n",
            "\n",
            "Epoch 00139: val_loss did not improve from 0.04312\n",
            "Epoch 140/150\n",
            "810/810 [==============================] - 0s 34us/step - loss: 0.0465 - mean_squared_error: 0.0465 - mean_absolute_error: 0.1749 - val_loss: 0.0439 - val_mean_squared_error: 0.0439 - val_mean_absolute_error: 0.1685\n",
            "\n",
            "Epoch 00140: val_loss did not improve from 0.04312\n",
            "Epoch 141/150\n",
            "810/810 [==============================] - 0s 35us/step - loss: 0.0441 - mean_squared_error: 0.0441 - mean_absolute_error: 0.1705 - val_loss: 0.0439 - val_mean_squared_error: 0.0439 - val_mean_absolute_error: 0.1685\n",
            "\n",
            "Epoch 00141: val_loss did not improve from 0.04312\n",
            "Epoch 142/150\n",
            "810/810 [==============================] - 0s 38us/step - loss: 0.0450 - mean_squared_error: 0.0450 - mean_absolute_error: 0.1724 - val_loss: 0.0439 - val_mean_squared_error: 0.0439 - val_mean_absolute_error: 0.1685\n",
            "\n",
            "Epoch 00142: val_loss did not improve from 0.04312\n",
            "Epoch 143/150\n",
            "810/810 [==============================] - 0s 35us/step - loss: 0.0476 - mean_squared_error: 0.0476 - mean_absolute_error: 0.1755 - val_loss: 0.0439 - val_mean_squared_error: 0.0439 - val_mean_absolute_error: 0.1685\n",
            "\n",
            "Epoch 00143: val_loss did not improve from 0.04312\n",
            "Epoch 144/150\n",
            "810/810 [==============================] - 0s 35us/step - loss: 0.0452 - mean_squared_error: 0.0452 - mean_absolute_error: 0.1714 - val_loss: 0.0438 - val_mean_squared_error: 0.0438 - val_mean_absolute_error: 0.1684\n",
            "\n",
            "Epoch 00144: val_loss did not improve from 0.04312\n",
            "Epoch 145/150\n",
            "810/810 [==============================] - 0s 35us/step - loss: 0.0474 - mean_squared_error: 0.0474 - mean_absolute_error: 0.1763 - val_loss: 0.0438 - val_mean_squared_error: 0.0438 - val_mean_absolute_error: 0.1684\n",
            "\n",
            "Epoch 00145: val_loss did not improve from 0.04312\n",
            "Epoch 146/150\n",
            "810/810 [==============================] - 0s 38us/step - loss: 0.0466 - mean_squared_error: 0.0466 - mean_absolute_error: 0.1759 - val_loss: 0.0438 - val_mean_squared_error: 0.0438 - val_mean_absolute_error: 0.1683\n",
            "\n",
            "Epoch 00146: val_loss did not improve from 0.04312\n",
            "Epoch 147/150\n",
            "810/810 [==============================] - 0s 42us/step - loss: 0.0473 - mean_squared_error: 0.0473 - mean_absolute_error: 0.1763 - val_loss: 0.0438 - val_mean_squared_error: 0.0438 - val_mean_absolute_error: 0.1683\n",
            "\n",
            "Epoch 00147: val_loss did not improve from 0.04312\n",
            "Epoch 148/150\n",
            "810/810 [==============================] - 0s 35us/step - loss: 0.0476 - mean_squared_error: 0.0476 - mean_absolute_error: 0.1765 - val_loss: 0.0438 - val_mean_squared_error: 0.0438 - val_mean_absolute_error: 0.1684\n",
            "\n",
            "Epoch 00148: val_loss did not improve from 0.04312\n",
            "Epoch 149/150\n",
            "810/810 [==============================] - 0s 36us/step - loss: 0.0491 - mean_squared_error: 0.0491 - mean_absolute_error: 0.1775 - val_loss: 0.0439 - val_mean_squared_error: 0.0439 - val_mean_absolute_error: 0.1684\n",
            "\n",
            "Epoch 00149: val_loss did not improve from 0.04312\n",
            "Epoch 150/150\n",
            "810/810 [==============================] - 0s 37us/step - loss: 0.0462 - mean_squared_error: 0.0462 - mean_absolute_error: 0.1721 - val_loss: 0.0439 - val_mean_squared_error: 0.0439 - val_mean_absolute_error: 0.1685\n",
            "\n",
            "Epoch 00150: val_loss did not improve from 0.04312\n"
          ],
          "name": "stdout"
        }
      ]
    },
    {
      "cell_type": "code",
      "metadata": {
        "id": "fObbFlSudyad",
        "colab_type": "code",
        "colab": {
          "base_uri": "https://localhost:8080/",
          "height": 332
        },
        "outputId": "4c27b8cd-493c-4e32-8b7c-7c546b61fa47"
      },
      "source": [
        "print(history.history.keys())\n",
        "# \"Loss\"\n",
        "plt.plot(history.history['loss'])\n",
        "plt.plot(history.history['val_loss'])\n",
        "plt.title('model loss')\n",
        "plt.ylabel('loss')\n",
        "plt.xlabel('epoch')\n",
        "plt.legend(['train', 'validation'], loc='upper left')\n",
        "plt.show()"
      ],
      "execution_count": 71,
      "outputs": [
        {
          "output_type": "stream",
          "text": [
            "dict_keys(['val_loss', 'val_mean_squared_error', 'val_mean_absolute_error', 'loss', 'mean_squared_error', 'mean_absolute_error', 'lr'])\n"
          ],
          "name": "stdout"
        },
        {
          "output_type": "display_data",
          "data": {
            "image/png": "[encoded data removed]",
            "text/plain": [
              "<Figure size 432x288 with 1 Axes>"
            ]
          },
          "metadata": {
            "tags": []
          }
        }
      ]
    },
    {
      "cell_type": "code",
      "metadata": {
        "id": "ZpGbHmYMd2AZ",
        "colab_type": "code",
        "colab": {}
      },
      "source": [
        "# load the weights that yielded the best validation accuracy\n",
        "model3.load_weights('best3.hdf5')"
      ],
      "execution_count": 0,
      "outputs": []
    },
    {
      "cell_type": "code",
      "metadata": {
        "id": "D7gOiRJgd51j",
        "colab_type": "code",
        "colab": {
          "base_uri": "https://localhost:8080/",
          "height": 283
        },
        "outputId": "365bb973-0531-49f2-e0f4-9564eb195f89"
      },
      "source": [
        "test_predictions =model3.predict(X_test).flatten()\n",
        "\n",
        "a = plt.axes(aspect='equal')\n",
        "plt.scatter(y_test, test_predictions)\n",
        "plt.xlabel('True Values')\n",
        "plt.ylabel('Predictions')\n",
        "lims = [-0.2, 1.2]\n",
        "plt.xlim(lims)\n",
        "plt.ylim(lims)\n",
        "_ = plt.plot(lims, lims)"
      ],
      "execution_count": 73,
      "outputs": [
        {
          "output_type": "display_data",
          "data": {
            "image/png": "[encoded data removed]",
            "text/plain": [
              "<Figure size 432x288 with 1 Axes>"
            ]
          },
          "metadata": {
            "tags": []
          }
        }
      ]
    },
    {
      "cell_type": "code",
      "metadata": {
        "id": "hXG-Ose3d9pp",
        "colab_type": "code",
        "colab": {
          "base_uri": "https://localhost:8080/",
          "height": 279
        },
        "outputId": "49d6ed71-6882-4e4c-dcc3-baed4b2059ab"
      },
      "source": [
        "error = test_predictions - y_test\n",
        "plt.hist(error, bins = 25)\n",
        "plt.xlabel(\"Prediction Error\")\n",
        "_ = plt.ylabel(\"Count\")"
      ],
      "execution_count": 74,
      "outputs": [
        {
          "output_type": "display_data",
          "data": {
            "image/png": "[encoded data removed]",
            "text/plain": [
              "<Figure size 432x288 with 1 Axes>"
            ]
          },
          "metadata": {
            "tags": []
          }
        }
      ]
    },
    {
      "cell_type": "code",
      "metadata": {
        "id": "qa0m8CbVeBlY",
        "colab_type": "code",
        "colab": {
          "base_uri": "https://localhost:8080/",
          "height": 1000
        },
        "outputId": "7f18eafe-b5d2-4be0-bb12-ad19533f4dc8"
      },
      "source": [
        "for true, pred in zip(y_test, test_predictions):\n",
        "  if pred == true:\n",
        "    print(\"{}\\t -> {}\".format(true, pred))\n",
        "  else:\n",
        "    print(\"\\033[1m{}\\t -> {}\\033[0m\".format(true, pred))"
      ],
      "execution_count": 75,
      "outputs": [
        {
          "output_type": "stream",
          "text": [
            "\u001b[1m0.7503494604588995\t -> 0.8279139399528503\u001b[0m\n",
            "\u001b[1m1.1310773300420234\t -> 0.7567045092582703\u001b[0m\n",
            "\u001b[1m0.7676995005918128\t -> 0.6513197422027588\u001b[0m\n",
            "\u001b[1m0.5333601027741507\t -> 0.7175859212875366\u001b[0m\n",
            "\u001b[1m0.3534774786826701\t -> 0.34694164991378784\u001b[0m\n",
            "\u001b[1m0.8136118610628993\t -> 0.668598473072052\u001b[0m\n",
            "\u001b[1m0.04909035523906497\t -> 0.01827472634613514\u001b[0m\n",
            "\u001b[1m0.573803535361349\t -> 0.5217421650886536\u001b[0m\n",
            "\u001b[1m-0.0526841513514372\t -> 0.13842345774173737\u001b[0m\n",
            "\u001b[1m0.4668473144244382\t -> 0.5753034949302673\u001b[0m\n",
            "\u001b[1m0.698977234474618\t -> 0.9416876435279846\u001b[0m\n",
            "\u001b[1m0.03805019141229071\t -> 0.5681901574134827\u001b[0m\n",
            "\u001b[1m0.31820708188985897\t -> 0.3789852261543274\u001b[0m\n",
            "\u001b[1m0.3003182038425564\t -> 0.3607007563114166\u001b[0m\n",
            "\u001b[1m0.7537097819097021\t -> 0.49838635325431824\u001b[0m\n",
            "\u001b[1m0.7361368769015761\t -> 0.7901482582092285\u001b[0m\n",
            "\u001b[1m0.2406021882906227\t -> 0.11264543980360031\u001b[0m\n",
            "\u001b[1m0.6979236405964098\t -> 0.7094410061836243\u001b[0m\n",
            "\u001b[1m0.09845648370323123\t -> 0.14289335906505585\u001b[0m\n",
            "\u001b[1m1.0452869653271601\t -> 0.8197736144065857\u001b[0m\n",
            "\u001b[1m0.8080235172396657\t -> 0.6300062537193298\u001b[0m\n",
            "\u001b[1m0.9750093372854116\t -> 0.9405978322029114\u001b[0m\n",
            "\u001b[1m0.612313220832349\t -> 0.7568948268890381\u001b[0m\n",
            "\u001b[1m0.4902889236420346\t -> 0.5688266158103943\u001b[0m\n",
            "\u001b[1m1.3045360195583906\t -> 0.9255440831184387\u001b[0m\n",
            "\u001b[1m0.7912571826063375\t -> 0.9008426070213318\u001b[0m\n",
            "\u001b[1m0.05645749214878744\t -> 0.40139254927635193\u001b[0m\n",
            "\u001b[1m0.3820312514501079\t -> 0.27732670307159424\u001b[0m\n",
            "\u001b[1m0.42883557839642383\t -> 0.2956036925315857\u001b[0m\n",
            "\u001b[1m0.2443224545424729\t -> 0.6513903141021729\u001b[0m\n",
            "\u001b[1m-0.09928655623230734\t -> 0.04907640069723129\u001b[0m\n",
            "\u001b[1m0.9568164448658972\t -> 0.9502394199371338\u001b[0m\n",
            "\u001b[1m0.2391376042013215\t -> 0.378709614276886\u001b[0m\n",
            "\u001b[1m0.6557647376480469\t -> 0.822455644607544\u001b[0m\n",
            "\u001b[1m0.7684974494077386\t -> 0.7767918705940247\u001b[0m\n",
            "\u001b[1m0.8417785583844328\t -> 0.8245939016342163\u001b[0m\n",
            "\u001b[1m0.17211346525125898\t -> 0.34966418147087097\u001b[0m\n",
            "\u001b[1m0.05524710901688387\t -> 0.15181151032447815\u001b[0m\n",
            "\u001b[1m0.26379966339125965\t -> 0.7418679594993591\u001b[0m\n",
            "\u001b[1m0.017874575529153502\t -> 0.4017915427684784\u001b[0m\n",
            "\u001b[1m0.6614877597121882\t -> 0.8613583445549011\u001b[0m\n",
            "\u001b[1m0.1845762790806576\t -> 0.1899435818195343\u001b[0m\n",
            "\u001b[1m1.158988132680803\t -> 0.9755219221115112\u001b[0m\n",
            "\u001b[1m-0.13265190159570725\t -> 0.03779623657464981\u001b[0m\n",
            "\u001b[1m0.5838574154239156\t -> 0.5159136056900024\u001b[0m\n",
            "\u001b[1m0.5369660348415364\t -> 0.6758680939674377\u001b[0m\n",
            "\u001b[1m0.5338944813972377\t -> 0.30009904503822327\u001b[0m\n",
            "\u001b[1m0.4500019031668138\t -> 0.4233466684818268\u001b[0m\n",
            "\u001b[1m0.4744674113590102\t -> 0.8395983576774597\u001b[0m\n",
            "\u001b[1m-0.13945047895027834\t -> 0.12091603130102158\u001b[0m\n",
            "\u001b[1m0.5811767707893347\t -> 0.4943365454673767\u001b[0m\n",
            "\u001b[1m-0.0017015780949773721\t -> 0.029691416770219803\u001b[0m\n",
            "\u001b[1m0.8095658438611042\t -> 0.915568470954895\u001b[0m\n",
            "\u001b[1m0.4169998544257897\t -> 0.5516061782836914\u001b[0m\n",
            "\u001b[1m0.7169172225351657\t -> 0.7558524012565613\u001b[0m\n",
            "\u001b[1m0.3498696175429492\t -> 0.2530578076839447\u001b[0m\n",
            "\u001b[1m0.328713024652743\t -> 0.37202325463294983\u001b[0m\n",
            "\u001b[1m0.011231975809692818\t -> 0.32784727215766907\u001b[0m\n",
            "\u001b[1m0.277178903306984\t -> 0.21038784086704254\u001b[0m\n",
            "\u001b[1m1.1705448469846258\t -> 1.0089324712753296\u001b[0m\n",
            "\u001b[1m-0.09563619474560886\t -> 0.1942709982395172\u001b[0m\n",
            "\u001b[1m0.6817621801376179\t -> 0.5207081437110901\u001b[0m\n",
            "\u001b[1m0.06613051569723638\t -> 0.406349241733551\u001b[0m\n",
            "\u001b[1m0.8514960142878759\t -> 0.6243816018104553\u001b[0m\n",
            "\u001b[1m0.00015326605329096105\t -> 0.048146724700927734\u001b[0m\n",
            "\u001b[1m0.3678993626512776\t -> 0.5075214505195618\u001b[0m\n",
            "\u001b[1m-0.06723477454474787\t -> 0.11586712300777435\u001b[0m\n",
            "\u001b[1m0.3120968417847927\t -> 0.5324209928512573\u001b[0m\n",
            "\u001b[1m0.6607666463275005\t -> 0.7412760257720947\u001b[0m\n",
            "\u001b[1m0.06601943455777161\t -> 0.18507835268974304\u001b[0m\n",
            "\u001b[1m0.6908802113432743\t -> 0.9023005366325378\u001b[0m\n",
            "\u001b[1m0.1450557369605116\t -> 0.07270026952028275\u001b[0m\n",
            "\u001b[1m0.41269612944593775\t -> 0.4123637080192566\u001b[0m\n",
            "\u001b[1m0.4260344791139209\t -> 0.6501222252845764\u001b[0m\n",
            "\u001b[1m0.8015096474166976\t -> 0.803752064704895\u001b[0m\n",
            "\u001b[1m0.6318249073557011\t -> 0.7834132313728333\u001b[0m\n",
            "\u001b[1m-0.10993084193775683\t -> 0.09486392885446548\u001b[0m\n",
            "\u001b[1m-0.26468708283709497\t -> 0.07214870303869247\u001b[0m\n",
            "\u001b[1m0.3807708800096088\t -> 0.5811544060707092\u001b[0m\n",
            "\u001b[1m0.5200579865157603\t -> 0.2902885973453522\u001b[0m\n",
            "\u001b[1m0.039006495195354485\t -> 0.20748651027679443\u001b[0m\n",
            "\u001b[1m0.21120968375083146\t -> 0.07376530766487122\u001b[0m\n",
            "\u001b[1m0.15235856016750193\t -> 0.4565671980381012\u001b[0m\n",
            "\u001b[1m0.35294600215198824\t -> 0.3250274658203125\u001b[0m\n",
            "\u001b[1m0.7640107419049971\t -> 0.44758665561676025\u001b[0m\n",
            "\u001b[1m0.436290414473468\t -> 0.4296249449253082\u001b[0m\n",
            "\u001b[1m0.3533841175252946\t -> 0.1494762897491455\u001b[0m\n",
            "\u001b[1m1.0655017542424232\t -> 0.8949479460716248\u001b[0m\n",
            "\u001b[1m0.9925866452450198\t -> 0.8692154884338379\u001b[0m\n",
            "\u001b[1m0.6350547871993133\t -> 0.7650214433670044\u001b[0m\n",
            "\u001b[1m0.33619085953787103\t -> 0.36761903762817383\u001b[0m\n",
            "\u001b[1m0.1171516304210059\t -> 0.0474274605512619\u001b[0m\n",
            "\u001b[1m0.5125589470792218\t -> 0.38461989164352417\u001b[0m\n",
            "\u001b[1m0.4414838808436168\t -> 0.5008981823921204\u001b[0m\n",
            "\u001b[1m0.03540592353702544\t -> 0.04018385335803032\u001b[0m\n",
            "\u001b[1m0.5398495815568596\t -> 0.9521655440330505\u001b[0m\n",
            "\u001b[1m0.339011388054594\t -> 0.07533098757266998\u001b[0m\n",
            "\u001b[1m0.5856830459396706\t -> 0.7352762222290039\u001b[0m\n",
            "\u001b[1m0.5385247946595308\t -> 0.4494750201702118\u001b[0m\n",
            "\u001b[1m0.7427832909479052\t -> 0.8389629125595093\u001b[0m\n"
          ],
          "name": "stdout"
        }
      ]
    },
    {
      "cell_type": "code",
      "metadata": {
        "id": "t3Ejx81MeD_4",
        "colab_type": "code",
        "colab": {
          "base_uri": "https://localhost:8080/",
          "height": 34
        },
        "outputId": "c42f3966-d525-4c31-d74e-4329243800c5"
      },
      "source": [
        "oss, mae, mse = model3.evaluate(X_test, y_test, verbose=2)\n",
        "\n",
        "print(\"Testing set Mean Abs Error: {:5.4f}\".format(mae))"
      ],
      "execution_count": 76,
      "outputs": [
        {
          "output_type": "stream",
          "text": [
            "Testing set Mean Abs Error: 0.0375\n"
          ],
          "name": "stdout"
        }
      ]
    },
    {
      "cell_type": "markdown",
      "metadata": {
        "id": "TuYaczO458Lb",
        "colab_type": "text"
      },
      "source": [
        "### Discussions\n",
        "\n",
        "\n",
        "Multi layer perceptron (MLP) gives you lower mean absolute error compared to the classical machine learning algorithms.\n",
        "\n",
        " [Mean Squared Error (MSE)](https://en.wikipedia.org/wiki/Mean_squared_error) is a common loss function used for regression problems (different loss functions are used for classification problems).\n",
        "\n",
        "Similarly, evaluation metrics used for regression differ from classification. A common regression metric is [Mean Absolute Error (MAE)](https://en.wikipedia.org/wiki/Mean_absolute_error).\n",
        "\n",
        "When numeric input data features have values with different ranges, each feature should be scaled independently to the same range, so I used the [MinMaxScaler](https://scikit-learn.org/stable/modules/generated/sklearn.preprocessing.MinMaxScaler.html) from Sklearn to do this. I also tried the StandardScaler for feature scaling, but it turns out that MinMaxScaler gives better results than StandardScaler feature scaling.\n",
        "\n",
        "If there is not much training data, one technique is to prefer a small network with few hidden layers to avoid overfitting. \n",
        "\n",
        "I have tested with more hidden layers, different batch size and I have found that 2 layers are enough to get a lower MAE. Batch size between 64 to 256 is usually considered good enough for MLP.  \n",
        "\n",
        "I used [Rectified Adam (RAdam)](https://arxiv.org/pdf/1908.03265.pdf) as the optimizer as it is the newest one and proved to learn better than Adam.\n",
        "\n",
        "I reduced the learning rate when the validation loss isn't improving and load the best model's weight to predict the data.\n",
        "\n",
        "I also split the train and test data for classical machine learning algorithms to 9:1 ratio and for MLP, train, validation and test data to 8:1:1 ratio. This is because the more we have for training data, the better the results will it usually be. \n",
        "\n",
        "So, below are the full results to predict the `z` from `x` and `y`. \n",
        "\n",
        "<table>\n",
        "  <caption> Table 1 Experimental Results </caption>\n",
        "  <tr>\n",
        "    <th>Algorithms</th>\n",
        "    <th>Feature Scaling</th> \n",
        "    <th>Mean Abs Error </th>\n",
        "  </tr>\n",
        "    <td>Support Vector Machine Regressor</td>\n",
        "    <td>No</td>\n",
        "    <td>0.1670<td>\n",
        "  </tr>\n",
        "  <tr>\n",
        "    <td>Linear Regression </td>\n",
        "    <td>No</td>\n",
        "    <td>0.1691</td>\n",
        "  </tr>\n",
        "  <tr>\n",
        "    <td>Random Forest Regressor </td>\n",
        "    <td>No</td>\n",
        "    <td>0.1834</td>\n",
        "  </tr>\n",
        "  <tr>\n",
        "    <td>XGBoost Regressor </td>\n",
        "    <td>No</td>\n",
        "    <td>0.1753</td>\n",
        "  </tr>\n",
        "  <tr>\n",
        "    <td>Multi-layer Perceptron </td>\n",
        "    <td>No</td>\n",
        "    <td>0.0461</td>\n",
        "  </tr>\n",
        "  <tr>\n",
        "    <td>Support Vector Machine Regressor </td>\n",
        "    <td>Yes</td>\n",
        "    <td>0.1546<td>\n",
        "  </tr>\n",
        "  <tr>\n",
        "    <td>Multi-layer Perceptron </td>\n",
        "    <td>Yes</td>\n",
        "    <td>0.0375</td>\n",
        "  </tr>\n",
        "</table>\n",
        "\n",
        "**Future Works**\n",
        "\n",
        "1. Increase the accuracy by using LSTM or RNN for neural networks model. But this should only be done if we have more data. Or else, maybe fine tuning the hyperparameters of MLP and other machine learning models will turn out better.\n",
        "2. Use k-fold cross validation to split the training and validation data.\n",
        "\n",
        "## Conclusion\n",
        "\n",
        "Data analysis and machine learning problems are more like trial and error, we need to experiments more to know which models works the best. Besides that, we also need to consider the computing resources and data availability before design the algorithms.\n"
      ]
    }
  ]
}