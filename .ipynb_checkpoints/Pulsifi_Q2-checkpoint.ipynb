{
 "cells": [
  {
   "cell_type": "markdown",
   "metadata": {
    "colab_type": "text",
    "id": "vmDQsQOYuq3K"
   },
   "source": [
    "# PULSIFI Coding Test Question 2\n",
    "\n",
    "Build a model to **predict z from x and y**. Some questions to consider: \n",
    "\n",
    "1.   What kind of model is appropriate in this case considering the graphs?\n",
    "2.   How to do feature selection?\n",
    "3.   How to measure the performance of the model?\n",
    "4.  How to interpret the result?"
   ]
  },
  {
   "cell_type": "markdown",
   "metadata": {
    "colab_type": "text",
    "id": "fBpvxQgAvUtu"
   },
   "source": [
    "## Import necessary libraries"
   ]
  },
  {
   "cell_type": "code",
   "execution_count": 0,
   "metadata": {
    "colab": {},
    "colab_type": "code",
    "id": "QriZSDfVvK36"
   },
   "outputs": [],
   "source": [
    "import numpy as np\n",
    "import pandas as pd\n",
    "import matplotlib.pyplot as plt\n",
    "%matplotlib inline\n",
    "\n",
    "import seaborn as sns"
   ]
  },
  {
   "cell_type": "markdown",
   "metadata": {
    "colab_type": "text",
    "id": "Y4e5LRYqu5d0"
   },
   "source": [
    "## Get the data"
   ]
  },
  {
   "cell_type": "code",
   "execution_count": 0,
   "metadata": {
    "colab": {
     "base_uri": "https://localhost:8080/",
     "height": 54
    },
    "colab_type": "code",
    "id": "7rmylu_fug6O",
    "outputId": "a37ccfa5-48a3-4d43-b2bf-ce86f664ce27"
   },
   "outputs": [
    {
     "name": "stdout",
     "output_type": "stream",
     "text": [
      "Drive already mounted at /content/drive; to attempt to forcibly remount, call drive.mount(\"/content/drive\", force_remount=True).\n"
     ]
    }
   ],
   "source": [
    "#mount google drive\n",
    "from google.colab import drive\n",
    "drive.mount('/content/drive')"
   ]
  },
  {
   "cell_type": "code",
   "execution_count": 0,
   "metadata": {
    "colab": {
     "base_uri": "https://localhost:8080/",
     "height": 34
    },
    "colab_type": "code",
    "id": "tX2Kc9pzw8HO",
    "outputId": "e0632f18-9dcb-407e-eeec-d6729e60451b"
   },
   "outputs": [
    {
     "name": "stdout",
     "output_type": "stream",
     "text": [
      "'Data Assessment.gdoc'\t Pulsifi_Q2.ipynb   test.csv\n"
     ]
    }
   ],
   "source": [
    "#locate the data\n",
    "!ls \"../content/drive/My Drive/ColabNotebooks/pulsifi\""
   ]
  },
  {
   "cell_type": "markdown",
   "metadata": {
    "colab_type": "text",
    "id": "R2dwg-caxKgH"
   },
   "source": [
    "## Exploratory Data Analysis\n",
    "\n",
    "Let's look what does this data looks like."
   ]
  },
  {
   "cell_type": "code",
   "execution_count": 0,
   "metadata": {
    "colab": {
     "base_uri": "https://localhost:8080/",
     "height": 297
    },
    "colab_type": "code",
    "id": "pdVld-QqxQtB",
    "outputId": "ea16b116-17d7-4ffd-dfbf-3b5569caada0"
   },
   "outputs": [
    {
     "data": {
      "text/html": [
       "<div>\n",
       "<style scoped>\n",
       "    .dataframe tbody tr th:only-of-type {\n",
       "        vertical-align: middle;\n",
       "    }\n",
       "\n",
       "    .dataframe tbody tr th {\n",
       "        vertical-align: top;\n",
       "    }\n",
       "\n",
       "    .dataframe thead th {\n",
       "        text-align: right;\n",
       "    }\n",
       "</style>\n",
       "<table border=\"1\" class=\"dataframe\">\n",
       "  <thead>\n",
       "    <tr style=\"text-align: right;\">\n",
       "      <th></th>\n",
       "      <th>Unnamed: 0</th>\n",
       "      <th>x</th>\n",
       "      <th>y</th>\n",
       "      <th>z</th>\n",
       "    </tr>\n",
       "  </thead>\n",
       "  <tbody>\n",
       "    <tr>\n",
       "      <th>count</th>\n",
       "      <td>1000.000000</td>\n",
       "      <td>1000.000000</td>\n",
       "      <td>1000.000000</td>\n",
       "      <td>1000.000000</td>\n",
       "    </tr>\n",
       "    <tr>\n",
       "      <th>mean</th>\n",
       "      <td>499.500000</td>\n",
       "      <td>0.499059</td>\n",
       "      <td>0.493749</td>\n",
       "      <td>0.496727</td>\n",
       "    </tr>\n",
       "    <tr>\n",
       "      <th>std</th>\n",
       "      <td>288.819436</td>\n",
       "      <td>0.287739</td>\n",
       "      <td>0.346935</td>\n",
       "      <td>0.354016</td>\n",
       "    </tr>\n",
       "    <tr>\n",
       "      <th>min</th>\n",
       "      <td>0.000000</td>\n",
       "      <td>0.000070</td>\n",
       "      <td>-0.405017</td>\n",
       "      <td>-0.396111</td>\n",
       "    </tr>\n",
       "    <tr>\n",
       "      <th>25%</th>\n",
       "      <td>249.750000</td>\n",
       "      <td>0.248916</td>\n",
       "      <td>0.230222</td>\n",
       "      <td>0.236340</td>\n",
       "    </tr>\n",
       "    <tr>\n",
       "      <th>50%</th>\n",
       "      <td>499.500000</td>\n",
       "      <td>0.489521</td>\n",
       "      <td>0.485361</td>\n",
       "      <td>0.501613</td>\n",
       "    </tr>\n",
       "    <tr>\n",
       "      <th>75%</th>\n",
       "      <td>749.250000</td>\n",
       "      <td>0.745500</td>\n",
       "      <td>0.756520</td>\n",
       "      <td>0.755619</td>\n",
       "    </tr>\n",
       "    <tr>\n",
       "      <th>max</th>\n",
       "      <td>999.000000</td>\n",
       "      <td>0.999722</td>\n",
       "      <td>1.387614</td>\n",
       "      <td>1.373976</td>\n",
       "    </tr>\n",
       "  </tbody>\n",
       "</table>\n",
       "</div>"
      ],
      "text/plain": [
       "        Unnamed: 0            x            y            z\n",
       "count  1000.000000  1000.000000  1000.000000  1000.000000\n",
       "mean    499.500000     0.499059     0.493749     0.496727\n",
       "std     288.819436     0.287739     0.346935     0.354016\n",
       "min       0.000000     0.000070    -0.405017    -0.396111\n",
       "25%     249.750000     0.248916     0.230222     0.236340\n",
       "50%     499.500000     0.489521     0.485361     0.501613\n",
       "75%     749.250000     0.745500     0.756520     0.755619\n",
       "max     999.000000     0.999722     1.387614     1.373976"
      ]
     },
     "execution_count": 4,
     "metadata": {
      "tags": []
     },
     "output_type": "execute_result"
    }
   ],
   "source": [
    "df = pd.read_csv(\"../content/drive/My Drive/ColabNotebooks/pulsifi/test.csv\")\n",
    "df.describe()"
   ]
  },
  {
   "cell_type": "code",
   "execution_count": 0,
   "metadata": {
    "colab": {
     "base_uri": "https://localhost:8080/",
     "height": 204
    },
    "colab_type": "code",
    "id": "iWYzuOKhxl8b",
    "outputId": "b79d16af-3423-48c3-d630-124401db7653"
   },
   "outputs": [
    {
     "data": {
      "text/html": [
       "<div>\n",
       "<style scoped>\n",
       "    .dataframe tbody tr th:only-of-type {\n",
       "        vertical-align: middle;\n",
       "    }\n",
       "\n",
       "    .dataframe tbody tr th {\n",
       "        vertical-align: top;\n",
       "    }\n",
       "\n",
       "    .dataframe thead th {\n",
       "        text-align: right;\n",
       "    }\n",
       "</style>\n",
       "<table border=\"1\" class=\"dataframe\">\n",
       "  <thead>\n",
       "    <tr style=\"text-align: right;\">\n",
       "      <th></th>\n",
       "      <th>Unnamed: 0</th>\n",
       "      <th>x</th>\n",
       "      <th>y</th>\n",
       "      <th>z</th>\n",
       "    </tr>\n",
       "  </thead>\n",
       "  <tbody>\n",
       "    <tr>\n",
       "      <th>0</th>\n",
       "      <td>0</td>\n",
       "      <td>0.824922</td>\n",
       "      <td>0.812338</td>\n",
       "      <td>0.698686</td>\n",
       "    </tr>\n",
       "    <tr>\n",
       "      <th>1</th>\n",
       "      <td>1</td>\n",
       "      <td>0.288478</td>\n",
       "      <td>0.697308</td>\n",
       "      <td>0.544378</td>\n",
       "    </tr>\n",
       "    <tr>\n",
       "      <th>2</th>\n",
       "      <td>2</td>\n",
       "      <td>0.586509</td>\n",
       "      <td>0.715296</td>\n",
       "      <td>0.655423</td>\n",
       "    </tr>\n",
       "    <tr>\n",
       "      <th>3</th>\n",
       "      <td>3</td>\n",
       "      <td>0.225562</td>\n",
       "      <td>0.355839</td>\n",
       "      <td>0.542703</td>\n",
       "    </tr>\n",
       "    <tr>\n",
       "      <th>4</th>\n",
       "      <td>4</td>\n",
       "      <td>0.030121</td>\n",
       "      <td>-0.097980</td>\n",
       "      <td>0.389870</td>\n",
       "    </tr>\n",
       "  </tbody>\n",
       "</table>\n",
       "</div>"
      ],
      "text/plain": [
       "   Unnamed: 0         x         y         z\n",
       "0           0  0.824922  0.812338  0.698686\n",
       "1           1  0.288478  0.697308  0.544378\n",
       "2           2  0.586509  0.715296  0.655423\n",
       "3           3  0.225562  0.355839  0.542703\n",
       "4           4  0.030121 -0.097980  0.389870"
      ]
     },
     "execution_count": 5,
     "metadata": {
      "tags": []
     },
     "output_type": "execute_result"
    }
   ],
   "source": [
    "df.head()"
   ]
  },
  {
   "cell_type": "code",
   "execution_count": 0,
   "metadata": {
    "colab": {
     "base_uri": "https://localhost:8080/",
     "height": 170
    },
    "colab_type": "code",
    "id": "LtQ7CgiYxsxI",
    "outputId": "58f40e70-6c61-4d19-e8b5-8afa95748b02"
   },
   "outputs": [
    {
     "name": "stdout",
     "output_type": "stream",
     "text": [
      "<class 'pandas.core.frame.DataFrame'>\n",
      "RangeIndex: 1000 entries, 0 to 999\n",
      "Data columns (total 4 columns):\n",
      "Unnamed: 0    1000 non-null int64\n",
      "x             1000 non-null float64\n",
      "y             1000 non-null float64\n",
      "z             1000 non-null float64\n",
      "dtypes: float64(3), int64(1)\n",
      "memory usage: 31.4 KB\n"
     ]
    }
   ],
   "source": [
    "df.info()"
   ]
  },
  {
   "cell_type": "code",
   "execution_count": 0,
   "metadata": {
    "colab": {
     "base_uri": "https://localhost:8080/",
     "height": 204
    },
    "colab_type": "code",
    "id": "kpHbNdGCxxtI",
    "outputId": "85f053f0-a89c-4dd3-fe45-c709d0b12310"
   },
   "outputs": [
    {
     "data": {
      "text/html": [
       "<div>\n",
       "<style scoped>\n",
       "    .dataframe tbody tr th:only-of-type {\n",
       "        vertical-align: middle;\n",
       "    }\n",
       "\n",
       "    .dataframe tbody tr th {\n",
       "        vertical-align: top;\n",
       "    }\n",
       "\n",
       "    .dataframe thead th {\n",
       "        text-align: right;\n",
       "    }\n",
       "</style>\n",
       "<table border=\"1\" class=\"dataframe\">\n",
       "  <thead>\n",
       "    <tr style=\"text-align: right;\">\n",
       "      <th></th>\n",
       "      <th>x</th>\n",
       "      <th>y</th>\n",
       "      <th>z</th>\n",
       "    </tr>\n",
       "  </thead>\n",
       "  <tbody>\n",
       "    <tr>\n",
       "      <th>0</th>\n",
       "      <td>0.824922</td>\n",
       "      <td>0.812338</td>\n",
       "      <td>0.698686</td>\n",
       "    </tr>\n",
       "    <tr>\n",
       "      <th>1</th>\n",
       "      <td>0.288478</td>\n",
       "      <td>0.697308</td>\n",
       "      <td>0.544378</td>\n",
       "    </tr>\n",
       "    <tr>\n",
       "      <th>2</th>\n",
       "      <td>0.586509</td>\n",
       "      <td>0.715296</td>\n",
       "      <td>0.655423</td>\n",
       "    </tr>\n",
       "    <tr>\n",
       "      <th>3</th>\n",
       "      <td>0.225562</td>\n",
       "      <td>0.355839</td>\n",
       "      <td>0.542703</td>\n",
       "    </tr>\n",
       "    <tr>\n",
       "      <th>4</th>\n",
       "      <td>0.030121</td>\n",
       "      <td>-0.097980</td>\n",
       "      <td>0.389870</td>\n",
       "    </tr>\n",
       "  </tbody>\n",
       "</table>\n",
       "</div>"
      ],
      "text/plain": [
       "          x         y         z\n",
       "0  0.824922  0.812338  0.698686\n",
       "1  0.288478  0.697308  0.544378\n",
       "2  0.586509  0.715296  0.655423\n",
       "3  0.225562  0.355839  0.542703\n",
       "4  0.030121 -0.097980  0.389870"
      ]
     },
     "execution_count": 7,
     "metadata": {
      "tags": []
     },
     "output_type": "execute_result"
    }
   ],
   "source": [
    "df = df.drop(columns=[\"Unnamed: 0\"])\n",
    "df.head()"
   ]
  },
  {
   "cell_type": "code",
   "execution_count": 0,
   "metadata": {
    "colab": {
     "base_uri": "https://localhost:8080/",
     "height": 279
    },
    "colab_type": "code",
    "id": "BadEV9PWya0Q",
    "outputId": "1f25c706-8bb4-4c90-b772-12c445aafb55"
   },
   "outputs": [
    {
     "data": {
      "image/png": "[encoded data removed]",
      "text/plain": [
       "<Figure size 432x288 with 1 Axes>"
      ]
     },
     "metadata": {
      "tags": []
     },
     "output_type": "display_data"
    }
   ],
   "source": [
    "# create a scatter plot for the data for x vs z\n",
    "\n",
    "ax1 = df.plot.scatter(x='x',\n",
    "                      y='z',\n",
    "                      c=\"DarkBlue\")"
   ]
  },
  {
   "cell_type": "code",
   "execution_count": 0,
   "metadata": {
    "colab": {
     "base_uri": "https://localhost:8080/",
     "height": 279
    },
    "colab_type": "code",
    "id": "2FNB2sRNyv33",
    "outputId": "ffa0d7e0-b9bc-4b25-d0dc-cdf8a46adae2"
   },
   "outputs": [
    {
     "data": {
      "image/png": "[encoded data removed]",
      "text/plain": [
       "<Figure size 432x288 with 1 Axes>"
      ]
     },
     "metadata": {
      "tags": []
     },
     "output_type": "display_data"
    }
   ],
   "source": [
    "# create a scatter plot for the data for y vs z\n",
    "\n",
    "ax2 = df.plot.scatter(x='y',\n",
    "                      y='z',\n",
    "                      c=\"DarkBlue\")"
   ]
  },
  {
   "cell_type": "code",
   "execution_count": 0,
   "metadata": {
    "colab": {
     "base_uri": "https://localhost:8080/",
     "height": 279
    },
    "colab_type": "code",
    "id": "Mu6mJ0FJ1S3f",
    "outputId": "610e44bd-c19a-4dea-ec87-9664a34aff2a"
   },
   "outputs": [
    {
     "data": {
      "image/png": "[encoded data removed]",
      "text/plain": [
       "<Figure size 432x288 with 1 Axes>"
      ]
     },
     "metadata": {
      "tags": []
     },
     "output_type": "display_data"
    }
   ],
   "source": [
    "# create a scatter plot for the data for x,y vs z\n",
    "\n",
    "ax = df.plot(kind='scatter', x='x', y='z', color='DarkBlue', label='x')\n",
    "df.plot(kind='scatter', x='y', y='z',color='DarkGreen', label='y', ax=ax);\n"
   ]
  },
  {
   "cell_type": "markdown",
   "metadata": {
    "colab_type": "text",
    "id": "9cBfqUz249W9"
   },
   "source": [
    "### Plot a desicion boundary for the data\n",
    "\n"
   ]
  },
  {
   "cell_type": "code",
   "execution_count": 0,
   "metadata": {
    "colab": {
     "base_uri": "https://localhost:8080/",
     "height": 386
    },
    "colab_type": "code",
    "id": "qXPaQzWQ5RvL",
    "outputId": "20da9ff1-b5b7-45bb-b5f7-3b985228583c"
   },
   "outputs": [
    {
     "data": {
      "text/plain": [
       "<seaborn.axisgrid.FacetGrid at 0x7f40ad4011d0>"
      ]
     },
     "execution_count": 11,
     "metadata": {
      "tags": []
     },
     "output_type": "execute_result"
    },
    {
     "data": {
      "image/png": "[encoded data removed]",
      "text/plain": [
       "<Figure size 360x360 with 1 Axes>"
      ]
     },
     "metadata": {
      "tags": []
     },
     "output_type": "display_data"
    }
   ],
   "source": [
    "sns.lmplot(x='x',y='z',data=df)"
   ]
  },
  {
   "cell_type": "code",
   "execution_count": 0,
   "metadata": {
    "colab": {
     "base_uri": "https://localhost:8080/",
     "height": 386
    },
    "colab_type": "code",
    "id": "OT2KGG_M5dsN",
    "outputId": "e2fd5bd9-0a14-4af1-e30e-36578ce098c0"
   },
   "outputs": [
    {
     "data": {
      "text/plain": [
       "<seaborn.axisgrid.FacetGrid at 0x7f409c2ee2e8>"
      ]
     },
     "execution_count": 12,
     "metadata": {
      "tags": []
     },
     "output_type": "execute_result"
    },
    {
     "data": {
      "image/png": "[encoded data removed]",
      "text/plain": [
       "<Figure size 360x360 with 1 Axes>"
      ]
     },
     "metadata": {
      "tags": []
     },
     "output_type": "display_data"
    }
   ],
   "source": [
    "sns.lmplot(x='y',y='z',data=df)"
   ]
  },
  {
   "cell_type": "code",
   "execution_count": 0,
   "metadata": {
    "colab": {
     "base_uri": "https://localhost:8080/",
     "height": 562
    },
    "colab_type": "code",
    "id": "_bY1dQuyY39e",
    "outputId": "b912341f-17bb-40dd-984a-956c50f88f66"
   },
   "outputs": [
    {
     "data": {
      "text/plain": [
       "<seaborn.axisgrid.PairGrid at 0x7f409c323d68>"
      ]
     },
     "execution_count": 13,
     "metadata": {
      "tags": []
     },
     "output_type": "execute_result"
    },
    {
     "data": {
      "image/png": "[encoded data removed]",
      "text/plain": [
       "<Figure size 540x540 with 12 Axes>"
      ]
     },
     "metadata": {
      "tags": []
     },
     "output_type": "display_data"
    }
   ],
   "source": [
    "sns.pairplot(df[[\"x\",\"y\",\"z\"]], diag_kind=\"kde\")"
   ]
  },
  {
   "cell_type": "markdown",
   "metadata": {
    "colab_type": "text",
    "id": "aaCuRnNH5iZW"
   },
   "source": [
    "### Check the features correlation"
   ]
  },
  {
   "cell_type": "code",
   "execution_count": 0,
   "metadata": {
    "colab": {
     "base_uri": "https://localhost:8080/",
     "height": 211
    },
    "colab_type": "code",
    "id": "mNSne84_5n-x",
    "outputId": "3f45e7cc-5eb4-47c2-cad6-642f26844ac0"
   },
   "outputs": [
    {
     "data": {
      "image/png": "[encoded data removed]",
      "text/plain": [
       "<Figure size 504x216 with 2 Axes>"
      ]
     },
     "metadata": {
      "tags": []
     },
     "output_type": "display_data"
    }
   ],
   "source": [
    "plt.figure(figsize=(7,3)) \n",
    "sns.heatmap(df.corr(),annot=True,cmap='cubehelix_r') \n",
    "plt.show()"
   ]
  },
  {
   "cell_type": "markdown",
   "metadata": {
    "colab_type": "text",
    "id": "RfG8f-ie7439"
   },
   "source": [
    "Conclusion:\n",
    "\n",
    "1.   x and y are directly proportional to z\n",
    "2.   x has a correlation of 0.82 to y, same goes to x to z.\n",
    "3.   y has a correlation of 0.66 to z. \n",
    "\n"
   ]
  },
  {
   "cell_type": "markdown",
   "metadata": {
    "colab_type": "text",
    "id": "R6u73kad8mWq"
   },
   "source": [
    "## Machine Learning\n",
    "\n",
    "### Split the data into train and test set\n"
   ]
  },
  {
   "cell_type": "code",
   "execution_count": 0,
   "metadata": {
    "colab": {
     "base_uri": "https://localhost:8080/",
     "height": 51
    },
    "colab_type": "code",
    "id": "7ux2hjfr9IEe",
    "outputId": "d2e0dad9-831b-436c-d262-6cfbae7b8fbb"
   },
   "outputs": [
    {
     "name": "stdout",
     "output_type": "stream",
     "text": [
      "(900, 3)\n",
      "(100, 3)\n"
     ]
    }
   ],
   "source": [
    "from sklearn.model_selection import train_test_split as split\n",
    "train, test = split(df, test_size = 0.1)\n",
    "print (train.shape)\n",
    "print (test.shape)"
   ]
  },
  {
   "cell_type": "code",
   "execution_count": 0,
   "metadata": {
    "colab": {
     "base_uri": "https://localhost:8080/",
     "height": 34
    },
    "colab_type": "code",
    "id": "r5TauLu4ANtG",
    "outputId": "95459742-f6f5-49c6-e72d-7312fe0b231e"
   },
   "outputs": [
    {
     "name": "stdout",
     "output_type": "stream",
     "text": [
      "(900, 2)\n"
     ]
    }
   ],
   "source": [
    "#get the features for training data\n",
    "X_train = train[['x','y']]\n",
    "#output(label) of training data\n",
    "y_train = train['z']\n",
    "#get the testing data features and output(label)\n",
    "X_test = test[['x', 'y']]\n",
    "y_test = test['z']\n",
    "\n",
    "print(X_train.shape)"
   ]
  },
  {
   "cell_type": "markdown",
   "metadata": {
    "colab_type": "text",
    "id": "nLcKfLviAkm4"
   },
   "source": [
    "#### Train and Predict by using Support Vector Machine Regressor"
   ]
  },
  {
   "cell_type": "code",
   "execution_count": 0,
   "metadata": {
    "colab": {
     "base_uri": "https://localhost:8080/",
     "height": 51
    },
    "colab_type": "code",
    "id": "PlVB6rJZ9v3M",
    "outputId": "14bbaac6-c42b-4070-a3cf-d6eaa32cc3f4"
   },
   "outputs": [
    {
     "data": {
      "text/plain": [
       "SVR(C=1000.0, cache_size=200, coef0=0.0, degree=3, epsilon=0.1, gamma=0.1,\n",
       "    kernel='rbf', max_iter=-1, shrinking=True, tol=0.001, verbose=False)"
      ]
     },
     "execution_count": 17,
     "metadata": {
      "tags": []
     },
     "output_type": "execute_result"
    }
   ],
   "source": [
    "# Create and train the Support Vector Machine (Regressor) \n",
    "\n",
    "from sklearn.svm import SVR\n",
    "\n",
    "svr = SVR(kernel='rbf', C=1e3, gamma=0.1) \n",
    "svr.fit(X_train, y_train)"
   ]
  },
  {
   "cell_type": "code",
   "execution_count": 0,
   "metadata": {
    "colab": {
     "base_uri": "https://localhost:8080/",
     "height": 34
    },
    "colab_type": "code",
    "id": "hCEN1qpFAfXX",
    "outputId": "a1807399-a5a6-4927-f5b3-0232cf6c9051"
   },
   "outputs": [
    {
     "name": "stdout",
     "output_type": "stream",
     "text": [
      "svm confidence:  0.6629846620622567\n"
     ]
    }
   ],
   "source": [
    "# Testing Model: Score returns the coefficient of determination R^2 of the prediction. \n",
    "# The best possible score is 1.0\n",
    "svm_confidence = svr.score(X_test, y_test)\n",
    "print(\"svm confidence: \", svm_confidence)"
   ]
  },
  {
   "cell_type": "code",
   "execution_count": 0,
   "metadata": {
    "colab": {
     "base_uri": "https://localhost:8080/",
     "height": 419
    },
    "colab_type": "code",
    "id": "DSu11JLXDLMF",
    "outputId": "e0794c41-bdd7-45ec-ed2a-355b4f717e4e"
   },
   "outputs": [
    {
     "data": {
      "text/html": [
       "<div>\n",
       "<style scoped>\n",
       "    .dataframe tbody tr th:only-of-type {\n",
       "        vertical-align: middle;\n",
       "    }\n",
       "\n",
       "    .dataframe tbody tr th {\n",
       "        vertical-align: top;\n",
       "    }\n",
       "\n",
       "    .dataframe thead th {\n",
       "        text-align: right;\n",
       "    }\n",
       "</style>\n",
       "<table border=\"1\" class=\"dataframe\">\n",
       "  <thead>\n",
       "    <tr style=\"text-align: right;\">\n",
       "      <th></th>\n",
       "      <th>Actual</th>\n",
       "      <th>Predicted</th>\n",
       "    </tr>\n",
       "  </thead>\n",
       "  <tbody>\n",
       "    <tr>\n",
       "      <th>995</th>\n",
       "      <td>0.925310</td>\n",
       "      <td>0.842632</td>\n",
       "    </tr>\n",
       "    <tr>\n",
       "      <th>649</th>\n",
       "      <td>0.437670</td>\n",
       "      <td>0.698509</td>\n",
       "    </tr>\n",
       "    <tr>\n",
       "      <th>920</th>\n",
       "      <td>0.575230</td>\n",
       "      <td>0.492523</td>\n",
       "    </tr>\n",
       "    <tr>\n",
       "      <th>391</th>\n",
       "      <td>-0.119957</td>\n",
       "      <td>0.069351</td>\n",
       "    </tr>\n",
       "    <tr>\n",
       "      <th>259</th>\n",
       "      <td>0.405973</td>\n",
       "      <td>0.304468</td>\n",
       "    </tr>\n",
       "    <tr>\n",
       "      <th>...</th>\n",
       "      <td>...</td>\n",
       "      <td>...</td>\n",
       "    </tr>\n",
       "    <tr>\n",
       "      <th>654</th>\n",
       "      <td>0.618067</td>\n",
       "      <td>0.550514</td>\n",
       "    </tr>\n",
       "    <tr>\n",
       "      <th>190</th>\n",
       "      <td>0.074303</td>\n",
       "      <td>0.215327</td>\n",
       "    </tr>\n",
       "    <tr>\n",
       "      <th>489</th>\n",
       "      <td>0.941529</td>\n",
       "      <td>0.916873</td>\n",
       "    </tr>\n",
       "    <tr>\n",
       "      <th>719</th>\n",
       "      <td>0.062745</td>\n",
       "      <td>0.225448</td>\n",
       "    </tr>\n",
       "    <tr>\n",
       "      <th>679</th>\n",
       "      <td>0.052089</td>\n",
       "      <td>0.163712</td>\n",
       "    </tr>\n",
       "  </tbody>\n",
       "</table>\n",
       "<p>100 rows × 2 columns</p>\n",
       "</div>"
      ],
      "text/plain": [
       "       Actual  Predicted\n",
       "995  0.925310   0.842632\n",
       "649  0.437670   0.698509\n",
       "920  0.575230   0.492523\n",
       "391 -0.119957   0.069351\n",
       "259  0.405973   0.304468\n",
       "..        ...        ...\n",
       "654  0.618067   0.550514\n",
       "190  0.074303   0.215327\n",
       "489  0.941529   0.916873\n",
       "719  0.062745   0.225448\n",
       "679  0.052089   0.163712\n",
       "\n",
       "[100 rows x 2 columns]"
      ]
     },
     "execution_count": 19,
     "metadata": {
      "tags": []
     },
     "output_type": "execute_result"
    }
   ],
   "source": [
    "y_pred = svr.predict(X_test)\n",
    "df_pred = pd.DataFrame({'Actual': y_test, 'Predicted': y_pred})\n",
    "df_pred"
   ]
  },
  {
   "cell_type": "code",
   "execution_count": 0,
   "metadata": {
    "colab": {
     "base_uri": "https://localhost:8080/",
     "height": 34
    },
    "colab_type": "code",
    "id": "oI-0-3r_0TGE",
    "outputId": "0d921d10-37f1-4573-9dbd-75f9f5701852"
   },
   "outputs": [
    {
     "name": "stdout",
     "output_type": "stream",
     "text": [
      "MAE by using SVM is 0.17012805675498527.\n"
     ]
    }
   ],
   "source": [
    "from sklearn.metrics import mean_absolute_error\n",
    "\n",
    "print(\"MAE by using SVM is {}.\".format(mean_absolute_error(y_test,y_pred)))"
   ]
  },
  {
   "cell_type": "markdown",
   "metadata": {
    "colab_type": "text",
    "id": "YeZ6MautArbq"
   },
   "source": [
    "#### Train and Predict by using Linear Regression"
   ]
  },
  {
   "cell_type": "code",
   "execution_count": 0,
   "metadata": {
    "colab": {
     "base_uri": "https://localhost:8080/",
     "height": 34
    },
    "colab_type": "code",
    "id": "bEnw5-NSAyjb",
    "outputId": "29bffe55-78d1-438e-de52-5ff4d675c421"
   },
   "outputs": [
    {
     "data": {
      "text/plain": [
       "LinearRegression(copy_X=True, fit_intercept=True, n_jobs=None, normalize=False)"
      ]
     },
     "execution_count": 21,
     "metadata": {
      "tags": []
     },
     "output_type": "execute_result"
    }
   ],
   "source": [
    "from sklearn.linear_model import LinearRegression\n",
    "\n",
    "lr = LinearRegression()\n",
    "# Train the model\n",
    "lr.fit(X_train, y_train)"
   ]
  },
  {
   "cell_type": "code",
   "execution_count": 0,
   "metadata": {
    "colab": {
     "base_uri": "https://localhost:8080/",
     "height": 51
    },
    "colab_type": "code",
    "id": "5sytX6arCdrw",
    "outputId": "e86d3d9b-7f38-4d39-f59a-f4ffe71db254"
   },
   "outputs": [
    {
     "name": "stdout",
     "output_type": "stream",
     "text": [
      "0.0005001904497988208\n",
      "[ 1.03140631 -0.03603493]\n"
     ]
    }
   ],
   "source": [
    "#To retrieve the intercept:\n",
    "print(lr.intercept_)\n",
    "#For retrieving the slope:\n",
    "print(lr.coef_)"
   ]
  },
  {
   "cell_type": "code",
   "execution_count": 0,
   "metadata": {
    "colab": {
     "base_uri": "https://localhost:8080/",
     "height": 34
    },
    "colab_type": "code",
    "id": "DUyYkInwA9iq",
    "outputId": "bed1803f-4996-42c5-a107-47c0b5550292"
   },
   "outputs": [
    {
     "name": "stdout",
     "output_type": "stream",
     "text": [
      "lr confidence:  0.6662462840246344\n"
     ]
    }
   ],
   "source": [
    "# Testing Model: Score returns the coefficient of determination R^2 of the prediction. \n",
    "# The best possible score is 1.0\n",
    "lr_confidence = lr.score(X_test, y_test)\n",
    "print(\"lr confidence: \", lr_confidence)"
   ]
  },
  {
   "cell_type": "code",
   "execution_count": 0,
   "metadata": {
    "colab": {
     "base_uri": "https://localhost:8080/",
     "height": 419
    },
    "colab_type": "code",
    "id": "KgCE9R7qb11f",
    "outputId": "38c1912e-c222-40e2-e179-0b4c9718cafa"
   },
   "outputs": [
    {
     "data": {
      "text/html": [
       "<div>\n",
       "<style scoped>\n",
       "    .dataframe tbody tr th:only-of-type {\n",
       "        vertical-align: middle;\n",
       "    }\n",
       "\n",
       "    .dataframe tbody tr th {\n",
       "        vertical-align: top;\n",
       "    }\n",
       "\n",
       "    .dataframe thead th {\n",
       "        text-align: right;\n",
       "    }\n",
       "</style>\n",
       "<table border=\"1\" class=\"dataframe\">\n",
       "  <thead>\n",
       "    <tr style=\"text-align: right;\">\n",
       "      <th></th>\n",
       "      <th>Actual</th>\n",
       "      <th>Predicted</th>\n",
       "    </tr>\n",
       "  </thead>\n",
       "  <tbody>\n",
       "    <tr>\n",
       "      <th>995</th>\n",
       "      <td>0.925310</td>\n",
       "      <td>0.860811</td>\n",
       "    </tr>\n",
       "    <tr>\n",
       "      <th>649</th>\n",
       "      <td>0.437670</td>\n",
       "      <td>0.702125</td>\n",
       "    </tr>\n",
       "    <tr>\n",
       "      <th>920</th>\n",
       "      <td>0.575230</td>\n",
       "      <td>0.484318</td>\n",
       "    </tr>\n",
       "    <tr>\n",
       "      <th>391</th>\n",
       "      <td>-0.119957</td>\n",
       "      <td>0.089105</td>\n",
       "    </tr>\n",
       "    <tr>\n",
       "      <th>259</th>\n",
       "      <td>0.405973</td>\n",
       "      <td>0.286394</td>\n",
       "    </tr>\n",
       "    <tr>\n",
       "      <th>...</th>\n",
       "      <td>...</td>\n",
       "      <td>...</td>\n",
       "    </tr>\n",
       "    <tr>\n",
       "      <th>654</th>\n",
       "      <td>0.618067</td>\n",
       "      <td>0.543920</td>\n",
       "    </tr>\n",
       "    <tr>\n",
       "      <th>190</th>\n",
       "      <td>0.074303</td>\n",
       "      <td>0.213078</td>\n",
       "    </tr>\n",
       "    <tr>\n",
       "      <th>489</th>\n",
       "      <td>0.941529</td>\n",
       "      <td>0.930064</td>\n",
       "    </tr>\n",
       "    <tr>\n",
       "      <th>719</th>\n",
       "      <td>0.062745</td>\n",
       "      <td>0.238257</td>\n",
       "    </tr>\n",
       "    <tr>\n",
       "      <th>679</th>\n",
       "      <td>0.052089</td>\n",
       "      <td>0.183677</td>\n",
       "    </tr>\n",
       "  </tbody>\n",
       "</table>\n",
       "<p>100 rows × 2 columns</p>\n",
       "</div>"
      ],
      "text/plain": [
       "       Actual  Predicted\n",
       "995  0.925310   0.860811\n",
       "649  0.437670   0.702125\n",
       "920  0.575230   0.484318\n",
       "391 -0.119957   0.089105\n",
       "259  0.405973   0.286394\n",
       "..        ...        ...\n",
       "654  0.618067   0.543920\n",
       "190  0.074303   0.213078\n",
       "489  0.941529   0.930064\n",
       "719  0.062745   0.238257\n",
       "679  0.052089   0.183677\n",
       "\n",
       "[100 rows x 2 columns]"
      ]
     },
     "execution_count": 24,
     "metadata": {
      "tags": []
     },
     "output_type": "execute_result"
    }
   ],
   "source": [
    "y_pred = lr.predict(X_test)\n",
    "df_pred = pd.DataFrame({'Actual': y_test, 'Predicted': y_pred})\n",
    "df_pred"
   ]
  },
  {
   "cell_type": "code",
   "execution_count": 0,
   "metadata": {
    "colab": {
     "base_uri": "https://localhost:8080/",
     "height": 34
    },
    "colab_type": "code",
    "id": "amie4GAa0vzQ",
    "outputId": "e5aa7c9b-1be9-4e60-a7fd-b7ba4bd99308"
   },
   "outputs": [
    {
     "name": "stdout",
     "output_type": "stream",
     "text": [
      "MAE by using linear regression is 0.17061476874157275 \n"
     ]
    }
   ],
   "source": [
    "print(\"MAE by using linear regression is {} \".format(mean_absolute_error(y_test,y_pred)))"
   ]
  },
  {
   "cell_type": "markdown",
   "metadata": {
    "colab_type": "text",
    "id": "rFvn9gc-s9Cm"
   },
   "source": [
    "#### Train and Predict by using Random Forest"
   ]
  },
  {
   "cell_type": "code",
   "execution_count": 0,
   "metadata": {
    "colab": {
     "base_uri": "https://localhost:8080/",
     "height": 136
    },
    "colab_type": "code",
    "id": "XAbiir0ytG6l",
    "outputId": "862edfcb-cea3-43b1-eede-a0e224e73ed9"
   },
   "outputs": [
    {
     "data": {
      "text/plain": [
       "RandomForestRegressor(bootstrap=True, criterion='mse', max_depth=None,\n",
       "                      max_features='auto', max_leaf_nodes=None,\n",
       "                      min_impurity_decrease=0.0, min_impurity_split=None,\n",
       "                      min_samples_leaf=1, min_samples_split=2,\n",
       "                      min_weight_fraction_leaf=0.0, n_estimators=1000,\n",
       "                      n_jobs=None, oob_score=False, random_state=42, verbose=0,\n",
       "                      warm_start=False)"
      ]
     },
     "execution_count": 26,
     "metadata": {
      "tags": []
     },
     "output_type": "execute_result"
    }
   ],
   "source": [
    "from sklearn.ensemble import RandomForestRegressor\n",
    "\n",
    "rf = RandomForestRegressor(n_estimators = 1000, random_state = 42)\n",
    "# Train the model\n",
    "rf.fit(X_train, y_train)"
   ]
  },
  {
   "cell_type": "code",
   "execution_count": 0,
   "metadata": {
    "colab": {
     "base_uri": "https://localhost:8080/",
     "height": 34
    },
    "colab_type": "code",
    "id": "jEglAT6XtdFM",
    "outputId": "91a7028a-9f9c-4090-a4a5-2e734f55b401"
   },
   "outputs": [
    {
     "name": "stdout",
     "output_type": "stream",
     "text": [
      "rf confidence:  0.5752063560896445\n"
     ]
    }
   ],
   "source": [
    "# Testing Model: Score returns the coefficient of determination R^2 of the prediction. \n",
    "# The best possible score is 1.0\n",
    "rf_confidence = rf.score(X_test, y_test)\n",
    "print(\"rf confidence: \", rf_confidence)"
   ]
  },
  {
   "cell_type": "code",
   "execution_count": 0,
   "metadata": {
    "colab": {
     "base_uri": "https://localhost:8080/",
     "height": 419
    },
    "colab_type": "code",
    "id": "Mn7xw434tfkp",
    "outputId": "8e8dce04-506d-4a39-ef26-8ce56b64d434"
   },
   "outputs": [
    {
     "data": {
      "text/html": [
       "<div>\n",
       "<style scoped>\n",
       "    .dataframe tbody tr th:only-of-type {\n",
       "        vertical-align: middle;\n",
       "    }\n",
       "\n",
       "    .dataframe tbody tr th {\n",
       "        vertical-align: top;\n",
       "    }\n",
       "\n",
       "    .dataframe thead th {\n",
       "        text-align: right;\n",
       "    }\n",
       "</style>\n",
       "<table border=\"1\" class=\"dataframe\">\n",
       "  <thead>\n",
       "    <tr style=\"text-align: right;\">\n",
       "      <th></th>\n",
       "      <th>Actual</th>\n",
       "      <th>Predicted</th>\n",
       "    </tr>\n",
       "  </thead>\n",
       "  <tbody>\n",
       "    <tr>\n",
       "      <th>995</th>\n",
       "      <td>0.925310</td>\n",
       "      <td>0.710012</td>\n",
       "    </tr>\n",
       "    <tr>\n",
       "      <th>649</th>\n",
       "      <td>0.437670</td>\n",
       "      <td>0.844283</td>\n",
       "    </tr>\n",
       "    <tr>\n",
       "      <th>920</th>\n",
       "      <td>0.575230</td>\n",
       "      <td>0.556996</td>\n",
       "    </tr>\n",
       "    <tr>\n",
       "      <th>391</th>\n",
       "      <td>-0.119957</td>\n",
       "      <td>0.074892</td>\n",
       "    </tr>\n",
       "    <tr>\n",
       "      <th>259</th>\n",
       "      <td>0.405973</td>\n",
       "      <td>0.375036</td>\n",
       "    </tr>\n",
       "    <tr>\n",
       "      <th>...</th>\n",
       "      <td>...</td>\n",
       "      <td>...</td>\n",
       "    </tr>\n",
       "    <tr>\n",
       "      <th>654</th>\n",
       "      <td>0.618067</td>\n",
       "      <td>0.506536</td>\n",
       "    </tr>\n",
       "    <tr>\n",
       "      <th>190</th>\n",
       "      <td>0.074303</td>\n",
       "      <td>0.204774</td>\n",
       "    </tr>\n",
       "    <tr>\n",
       "      <th>489</th>\n",
       "      <td>0.941529</td>\n",
       "      <td>0.794922</td>\n",
       "    </tr>\n",
       "    <tr>\n",
       "      <th>719</th>\n",
       "      <td>0.062745</td>\n",
       "      <td>0.201862</td>\n",
       "    </tr>\n",
       "    <tr>\n",
       "      <th>679</th>\n",
       "      <td>0.052089</td>\n",
       "      <td>0.096144</td>\n",
       "    </tr>\n",
       "  </tbody>\n",
       "</table>\n",
       "<p>100 rows × 2 columns</p>\n",
       "</div>"
      ],
      "text/plain": [
       "       Actual  Predicted\n",
       "995  0.925310   0.710012\n",
       "649  0.437670   0.844283\n",
       "920  0.575230   0.556996\n",
       "391 -0.119957   0.074892\n",
       "259  0.405973   0.375036\n",
       "..        ...        ...\n",
       "654  0.618067   0.506536\n",
       "190  0.074303   0.204774\n",
       "489  0.941529   0.794922\n",
       "719  0.062745   0.201862\n",
       "679  0.052089   0.096144\n",
       "\n",
       "[100 rows x 2 columns]"
      ]
     },
     "execution_count": 28,
     "metadata": {
      "tags": []
     },
     "output_type": "execute_result"
    }
   ],
   "source": [
    "y_pred = rf.predict(X_test)\n",
    "df_pred = pd.DataFrame({'Actual': y_test, 'Predicted': y_pred})\n",
    "df_pred"
   ]
  },
  {
   "cell_type": "code",
   "execution_count": 0,
   "metadata": {
    "colab": {
     "base_uri": "https://localhost:8080/",
     "height": 34
    },
    "colab_type": "code",
    "id": "d1ToSH9l007W",
    "outputId": "182316c2-2bc6-441d-b06e-fd17845d8418"
   },
   "outputs": [
    {
     "name": "stdout",
     "output_type": "stream",
     "text": [
      "MAE by using random forest regressor is 0.1923201891428613 \n"
     ]
    }
   ],
   "source": [
    "print(\"MAE by using random forest regressor is {} \".format(mean_absolute_error(y_test,y_pred)))"
   ]
  },
  {
   "cell_type": "markdown",
   "metadata": {
    "colab_type": "text",
    "id": "tgmKgRKguhiv"
   },
   "source": [
    "#### Train Model by using XGBoost Regressor\n",
    "\n"
   ]
  },
  {
   "cell_type": "code",
   "execution_count": 0,
   "metadata": {
    "colab": {
     "base_uri": "https://localhost:8080/",
     "height": 241
    },
    "colab_type": "code",
    "id": "jU58fY2Tunau",
    "outputId": "d2da2650-bed7-4e81-90c2-84b0e0ea9d52"
   },
   "outputs": [
    {
     "name": "stdout",
     "output_type": "stream",
     "text": [
      "[07:52:59] WARNING: /workspace/src/objective/regression_obj.cu:152: reg:linear is now deprecated in favor of reg:squarederror.\n"
     ]
    },
    {
     "name": "stderr",
     "output_type": "stream",
     "text": [
      "/usr/local/lib/python3.6/dist-packages/xgboost/core.py:587: FutureWarning: Series.base is deprecated and will be removed in a future version\n",
      "  if getattr(data, 'base', None) is not None and \\\n",
      "/usr/local/lib/python3.6/dist-packages/xgboost/core.py:588: FutureWarning: Series.base is deprecated and will be removed in a future version\n",
      "  data.base is not None and isinstance(data, np.ndarray) \\\n"
     ]
    },
    {
     "data": {
      "text/plain": [
       "XGBRegressor(base_score=0.5, booster='gbtree', colsample_bylevel=1,\n",
       "             colsample_bynode=1, colsample_bytree=1, gamma=0,\n",
       "             importance_type='gain', learning_rate=0.1, max_delta_step=0,\n",
       "             max_depth=3, min_child_weight=1, missing=None, n_estimators=100,\n",
       "             n_jobs=1, nthread=None, objective='reg:linear', random_state=0,\n",
       "             reg_alpha=0, reg_lambda=1, scale_pos_weight=1, seed=None,\n",
       "             silent=None, subsample=1, verbosity=1)"
      ]
     },
     "execution_count": 30,
     "metadata": {
      "tags": []
     },
     "output_type": "execute_result"
    }
   ],
   "source": [
    "from xgboost import XGBRegressor\n",
    "\n",
    "xgb = XGBRegressor()\n",
    "# Train the model\n",
    "xgb.fit(X_train, y_train)"
   ]
  },
  {
   "cell_type": "code",
   "execution_count": 0,
   "metadata": {
    "colab": {
     "base_uri": "https://localhost:8080/",
     "height": 34
    },
    "colab_type": "code",
    "id": "I-uGsXZEvH6G",
    "outputId": "bd8a9838-7f16-4bd0-c8f7-62a85e7c1e4b"
   },
   "outputs": [
    {
     "name": "stdout",
     "output_type": "stream",
     "text": [
      "xgb confidence:  0.6369530008186006\n"
     ]
    }
   ],
   "source": [
    "# Testing Model: Score returns the coefficient of determination R^2 of the prediction. \n",
    "# The best possible score is 1.0\n",
    "xgb_confidence = xgb.score(X_test, y_test)\n",
    "print(\"xgb confidence: \", xgb_confidence)"
   ]
  },
  {
   "cell_type": "code",
   "execution_count": 0,
   "metadata": {
    "colab": {
     "base_uri": "https://localhost:8080/",
     "height": 419
    },
    "colab_type": "code",
    "id": "s0zCcuLivKfq",
    "outputId": "acb47573-cf30-4140-cbf3-2f935001f511"
   },
   "outputs": [
    {
     "data": {
      "text/html": [
       "<div>\n",
       "<style scoped>\n",
       "    .dataframe tbody tr th:only-of-type {\n",
       "        vertical-align: middle;\n",
       "    }\n",
       "\n",
       "    .dataframe tbody tr th {\n",
       "        vertical-align: top;\n",
       "    }\n",
       "\n",
       "    .dataframe thead th {\n",
       "        text-align: right;\n",
       "    }\n",
       "</style>\n",
       "<table border=\"1\" class=\"dataframe\">\n",
       "  <thead>\n",
       "    <tr style=\"text-align: right;\">\n",
       "      <th></th>\n",
       "      <th>Actual</th>\n",
       "      <th>Predicted</th>\n",
       "    </tr>\n",
       "  </thead>\n",
       "  <tbody>\n",
       "    <tr>\n",
       "      <th>995</th>\n",
       "      <td>0.925310</td>\n",
       "      <td>0.794544</td>\n",
       "    </tr>\n",
       "    <tr>\n",
       "      <th>649</th>\n",
       "      <td>0.437670</td>\n",
       "      <td>0.816617</td>\n",
       "    </tr>\n",
       "    <tr>\n",
       "      <th>920</th>\n",
       "      <td>0.575230</td>\n",
       "      <td>0.516899</td>\n",
       "    </tr>\n",
       "    <tr>\n",
       "      <th>391</th>\n",
       "      <td>-0.119957</td>\n",
       "      <td>0.026289</td>\n",
       "    </tr>\n",
       "    <tr>\n",
       "      <th>259</th>\n",
       "      <td>0.405973</td>\n",
       "      <td>0.352632</td>\n",
       "    </tr>\n",
       "    <tr>\n",
       "      <th>...</th>\n",
       "      <td>...</td>\n",
       "      <td>...</td>\n",
       "    </tr>\n",
       "    <tr>\n",
       "      <th>654</th>\n",
       "      <td>0.618067</td>\n",
       "      <td>0.573748</td>\n",
       "    </tr>\n",
       "    <tr>\n",
       "      <th>190</th>\n",
       "      <td>0.074303</td>\n",
       "      <td>0.219399</td>\n",
       "    </tr>\n",
       "    <tr>\n",
       "      <th>489</th>\n",
       "      <td>0.941529</td>\n",
       "      <td>0.835687</td>\n",
       "    </tr>\n",
       "    <tr>\n",
       "      <th>719</th>\n",
       "      <td>0.062745</td>\n",
       "      <td>0.245834</td>\n",
       "    </tr>\n",
       "    <tr>\n",
       "      <th>679</th>\n",
       "      <td>0.052089</td>\n",
       "      <td>0.228311</td>\n",
       "    </tr>\n",
       "  </tbody>\n",
       "</table>\n",
       "<p>100 rows × 2 columns</p>\n",
       "</div>"
      ],
      "text/plain": [
       "       Actual  Predicted\n",
       "995  0.925310   0.794544\n",
       "649  0.437670   0.816617\n",
       "920  0.575230   0.516899\n",
       "391 -0.119957   0.026289\n",
       "259  0.405973   0.352632\n",
       "..        ...        ...\n",
       "654  0.618067   0.573748\n",
       "190  0.074303   0.219399\n",
       "489  0.941529   0.835687\n",
       "719  0.062745   0.245834\n",
       "679  0.052089   0.228311\n",
       "\n",
       "[100 rows x 2 columns]"
      ]
     },
     "execution_count": 32,
     "metadata": {
      "tags": []
     },
     "output_type": "execute_result"
    }
   ],
   "source": [
    "y_pred = xgb.predict(X_test)\n",
    "df_pred = pd.DataFrame({'Actual': y_test, 'Predicted': y_pred})\n",
    "df_pred"
   ]
  },
  {
   "cell_type": "code",
   "execution_count": 0,
   "metadata": {
    "colab": {
     "base_uri": "https://localhost:8080/",
     "height": 34
    },
    "colab_type": "code",
    "id": "yz9L5iQR04IM",
    "outputId": "3badaafb-4896-4fc2-9ea6-0460540034b6"
   },
   "outputs": [
    {
     "name": "stdout",
     "output_type": "stream",
     "text": [
      "MAE by using XGBoost regressor is 0.1807833372713416 \n"
     ]
    }
   ],
   "source": [
    "print(\"MAE by using XGBoost regressor is {} \".format(mean_absolute_error(y_test,y_pred)))"
   ]
  },
  {
   "cell_type": "markdown",
   "metadata": {
    "colab_type": "text",
    "id": "e5l0iPWXDV8o"
   },
   "source": [
    "#### Train and Predict by using MLP"
   ]
  },
  {
   "cell_type": "code",
   "execution_count": 0,
   "metadata": {
    "colab": {
     "base_uri": "https://localhost:8080/",
     "height": 97
    },
    "colab_type": "code",
    "id": "UAj3RDVDDYwa",
    "outputId": "b132df65-bb07-4094-b95d-dd08382c7588"
   },
   "outputs": [
    {
     "name": "stderr",
     "output_type": "stream",
     "text": [
      "Using TensorFlow backend.\n"
     ]
    },
    {
     "data": {
      "text/html": [
       "<p style=\"color: red;\">\n",
       "The default version of TensorFlow in Colab will soon switch to TensorFlow 2.x.<br>\n",
       "We recommend you <a href=\"https://www.tensorflow.org/guide/migrate\" target=\"_blank\">upgrade</a> now \n",
       "or ensure your notebook will continue to use TensorFlow 1.x via the <code>%tensorflow_version 1.x</code> magic:\n",
       "<a href=\"https://colab.research.google.com/notebooks/tensorflow_version.ipynb\" target=\"_blank\">more info</a>.</p>\n"
      ],
      "text/plain": [
       "<IPython.core.display.HTML object>"
      ]
     },
     "metadata": {
      "tags": []
     },
     "output_type": "display_data"
    }
   ],
   "source": [
    "from sklearn.preprocessing import MinMaxScaler\n",
    "from sklearn.metrics import mean_squared_error\n",
    "from keras.models import Sequential\n",
    "from keras.layers import Dense, Dropout,  Activation\n",
    "from keras.callbacks import ModelCheckpoint, EarlyStopping, ReduceLROnPlateau"
   ]
  },
  {
   "cell_type": "code",
   "execution_count": 0,
   "metadata": {
    "colab": {},
    "colab_type": "code",
    "id": "AxweJRp3kTdf"
   },
   "outputs": [],
   "source": [
    "X_train, X_val, y_train, y_val = split(X_train, y_train, test_size = 0.1)"
   ]
  },
  {
   "cell_type": "code",
   "execution_count": 0,
   "metadata": {
    "colab": {
     "base_uri": "https://localhost:8080/",
     "height": 530
    },
    "colab_type": "code",
    "id": "XLNxBvezV7BW",
    "outputId": "cf0bd4e6-e801-4ca1-fb57-20e950ecc880"
   },
   "outputs": [
    {
     "name": "stdout",
     "output_type": "stream",
     "text": [
      "WARNING:tensorflow:From /usr/local/lib/python3.6/dist-packages/keras/backend/tensorflow_backend.py:66: The name tf.get_default_graph is deprecated. Please use tf.compat.v1.get_default_graph instead.\n",
      "\n",
      "WARNING:tensorflow:From /usr/local/lib/python3.6/dist-packages/keras/backend/tensorflow_backend.py:541: The name tf.placeholder is deprecated. Please use tf.compat.v1.placeholder instead.\n",
      "\n",
      "WARNING:tensorflow:From /usr/local/lib/python3.6/dist-packages/keras/backend/tensorflow_backend.py:4432: The name tf.random_uniform is deprecated. Please use tf.random.uniform instead.\n",
      "\n",
      "WARNING:tensorflow:From /usr/local/lib/python3.6/dist-packages/keras/backend/tensorflow_backend.py:148: The name tf.placeholder_with_default is deprecated. Please use tf.compat.v1.placeholder_with_default instead.\n",
      "\n",
      "WARNING:tensorflow:From /usr/local/lib/python3.6/dist-packages/keras/backend/tensorflow_backend.py:3733: calling dropout (from tensorflow.python.ops.nn_ops) with keep_prob is deprecated and will be removed in a future version.\n",
      "Instructions for updating:\n",
      "Please use `rate` instead of `keep_prob`. Rate should be set to `rate = 1 - keep_prob`.\n",
      "Model: \"sequential_1\"\n",
      "_________________________________________________________________\n",
      "Layer (type)                 Output Shape              Param #   \n",
      "=================================================================\n",
      "dense_1 (Dense)              (None, 1000)              3000      \n",
      "_________________________________________________________________\n",
      "dropout_1 (Dropout)          (None, 1000)              0         \n",
      "_________________________________________________________________\n",
      "dense_2 (Dense)              (None, 500)               500500    \n",
      "_________________________________________________________________\n",
      "dropout_2 (Dropout)          (None, 500)               0         \n",
      "_________________________________________________________________\n",
      "dense_3 (Dense)              (None, 1)                 501       \n",
      "=================================================================\n",
      "Total params: 504,001\n",
      "Trainable params: 504,001\n",
      "Non-trainable params: 0\n",
      "_________________________________________________________________\n"
     ]
    }
   ],
   "source": [
    "model = Sequential()\n",
    "model.add(Dense(1000, input_dim=2,activation='relu'))\n",
    "model.add(Dropout(0.5))\n",
    "model.add(Dense(500, activation=\"relu\"))\n",
    "model.add(Dropout(0.5))\n",
    "model.add(Dense(1, activation='linear'))\n",
    "model.summary()"
   ]
  },
  {
   "cell_type": "code",
   "execution_count": 0,
   "metadata": {
    "colab": {
     "base_uri": "https://localhost:8080/",
     "height": 190
    },
    "colab_type": "code",
    "id": "jM4G02Ghjo3s",
    "outputId": "b9450bdb-40d0-478e-ac73-1bd047714504"
   },
   "outputs": [
    {
     "name": "stdout",
     "output_type": "stream",
     "text": [
      "Requirement already satisfied: keras-rectified-adam in /usr/local/lib/python3.6/dist-packages (0.17.0)\n",
      "Requirement already satisfied: Keras in /usr/local/lib/python3.6/dist-packages (from keras-rectified-adam) (2.2.5)\n",
      "Requirement already satisfied: numpy in /usr/local/lib/python3.6/dist-packages (from keras-rectified-adam) (1.17.4)\n",
      "Requirement already satisfied: keras-applications>=1.0.8 in /usr/local/lib/python3.6/dist-packages (from Keras->keras-rectified-adam) (1.0.8)\n",
      "Requirement already satisfied: pyyaml in /usr/local/lib/python3.6/dist-packages (from Keras->keras-rectified-adam) (3.13)\n",
      "Requirement already satisfied: six>=1.9.0 in /usr/local/lib/python3.6/dist-packages (from Keras->keras-rectified-adam) (1.12.0)\n",
      "Requirement already satisfied: scipy>=0.14 in /usr/local/lib/python3.6/dist-packages (from Keras->keras-rectified-adam) (1.3.3)\n",
      "Requirement already satisfied: keras-preprocessing>=1.1.0 in /usr/local/lib/python3.6/dist-packages (from Keras->keras-rectified-adam) (1.1.0)\n",
      "Requirement already satisfied: h5py in /usr/local/lib/python3.6/dist-packages (from Keras->keras-rectified-adam) (2.8.0)\n"
     ]
    }
   ],
   "source": [
    "!pip install keras-rectified-adam"
   ]
  },
  {
   "cell_type": "code",
   "execution_count": 0,
   "metadata": {
    "colab": {
     "base_uri": "https://localhost:8080/",
     "height": 1000
    },
    "colab_type": "code",
    "id": "LxsVgWy9YGIr",
    "outputId": "083f5d5e-16fc-4fa7-ebdd-f52c708cdda4"
   },
   "outputs": [
    {
     "name": "stdout",
     "output_type": "stream",
     "text": [
      "WARNING:tensorflow:From /usr/local/lib/python3.6/dist-packages/keras/optimizers.py:793: The name tf.train.Optimizer is deprecated. Please use tf.compat.v1.train.Optimizer instead.\n",
      "\n",
      "WARNING:tensorflow:From /usr/local/lib/python3.6/dist-packages/keras/backend/tensorflow_backend.py:1033: The name tf.assign_add is deprecated. Please use tf.compat.v1.assign_add instead.\n",
      "\n",
      "WARNING:tensorflow:From /usr/local/lib/python3.6/dist-packages/keras/backend/tensorflow_backend.py:1020: The name tf.assign is deprecated. Please use tf.compat.v1.assign instead.\n",
      "\n",
      "WARNING:tensorflow:From /usr/local/lib/python3.6/dist-packages/keras/backend/tensorflow_backend.py:3005: The name tf.Session is deprecated. Please use tf.compat.v1.Session instead.\n",
      "\n",
      "Train on 810 samples, validate on 90 samples\n",
      "Epoch 1/150\n",
      "WARNING:tensorflow:From /usr/local/lib/python3.6/dist-packages/keras/backend/tensorflow_backend.py:190: The name tf.get_default_session is deprecated. Please use tf.compat.v1.get_default_session instead.\n",
      "\n",
      "WARNING:tensorflow:From /usr/local/lib/python3.6/dist-packages/keras/backend/tensorflow_backend.py:197: The name tf.ConfigProto is deprecated. Please use tf.compat.v1.ConfigProto instead.\n",
      "\n",
      "WARNING:tensorflow:From /usr/local/lib/python3.6/dist-packages/keras/backend/tensorflow_backend.py:207: The name tf.global_variables is deprecated. Please use tf.compat.v1.global_variables instead.\n",
      "\n",
      "WARNING:tensorflow:From /usr/local/lib/python3.6/dist-packages/keras/backend/tensorflow_backend.py:216: The name tf.is_variable_initialized is deprecated. Please use tf.compat.v1.is_variable_initialized instead.\n",
      "\n",
      "WARNING:tensorflow:From /usr/local/lib/python3.6/dist-packages/keras/backend/tensorflow_backend.py:223: The name tf.variables_initializer is deprecated. Please use tf.compat.v1.variables_initializer instead.\n",
      "\n",
      "810/810 [==============================] - 1s 1ms/step - loss: 0.3198 - mean_squared_error: 0.3198 - mean_absolute_error: 0.4752 - val_loss: 0.2924 - val_mean_squared_error: 0.2924 - val_mean_absolute_error: 0.4598\n",
      "\n",
      "Epoch 00001: val_loss improved from inf to 0.29242, saving model to best.hdf5\n",
      "Epoch 2/150\n",
      "810/810 [==============================] - 0s 36us/step - loss: 0.2674 - mean_squared_error: 0.2674 - mean_absolute_error: 0.4328 - val_loss: 0.2019 - val_mean_squared_error: 0.2019 - val_mean_absolute_error: 0.3790\n",
      "\n",
      "Epoch 00002: val_loss improved from 0.29242 to 0.20186, saving model to best.hdf5\n",
      "Epoch 3/150\n",
      "810/810 [==============================] - 0s 41us/step - loss: 0.1773 - mean_squared_error: 0.1773 - mean_absolute_error: 0.3460 - val_loss: 0.1100 - val_mean_squared_error: 0.1100 - val_mean_absolute_error: 0.2789\n",
      "\n",
      "Epoch 00003: val_loss improved from 0.20186 to 0.10999, saving model to best.hdf5\n",
      "Epoch 4/150\n",
      "810/810 [==============================] - 0s 45us/step - loss: 0.0971 - mean_squared_error: 0.0971 - mean_absolute_error: 0.2501 - val_loss: 0.0554 - val_mean_squared_error: 0.0554 - val_mean_absolute_error: 0.1873\n",
      "\n",
      "Epoch 00004: val_loss improved from 0.10999 to 0.05537, saving model to best.hdf5\n",
      "Epoch 5/150\n",
      "810/810 [==============================] - 0s 40us/step - loss: 0.0610 - mean_squared_error: 0.0610 - mean_absolute_error: 0.2004 - val_loss: 0.0474 - val_mean_squared_error: 0.0474 - val_mean_absolute_error: 0.1728\n",
      "\n",
      "Epoch 00005: val_loss improved from 0.05537 to 0.04739, saving model to best.hdf5\n",
      "Epoch 6/150\n",
      "810/810 [==============================] - 0s 54us/step - loss: 0.0565 - mean_squared_error: 0.0565 - mean_absolute_error: 0.1926 - val_loss: 0.0551 - val_mean_squared_error: 0.0551 - val_mean_absolute_error: 0.1856\n",
      "\n",
      "Epoch 00006: val_loss did not improve from 0.04739\n",
      "Epoch 7/150\n",
      "810/810 [==============================] - 0s 46us/step - loss: 0.0613 - mean_squared_error: 0.0613 - mean_absolute_error: 0.1998 - val_loss: 0.0473 - val_mean_squared_error: 0.0473 - val_mean_absolute_error: 0.1735\n",
      "\n",
      "Epoch 00007: val_loss improved from 0.04739 to 0.04732, saving model to best.hdf5\n",
      "Epoch 8/150\n",
      "810/810 [==============================] - 0s 39us/step - loss: 0.0561 - mean_squared_error: 0.0561 - mean_absolute_error: 0.1917 - val_loss: 0.0406 - val_mean_squared_error: 0.0406 - val_mean_absolute_error: 0.1599\n",
      "\n",
      "Epoch 00008: val_loss improved from 0.04732 to 0.04063, saving model to best.hdf5\n",
      "Epoch 9/150\n",
      "810/810 [==============================] - 0s 36us/step - loss: 0.0507 - mean_squared_error: 0.0507 - mean_absolute_error: 0.1821 - val_loss: 0.0399 - val_mean_squared_error: 0.0399 - val_mean_absolute_error: 0.1566\n",
      "\n",
      "Epoch 00009: val_loss improved from 0.04063 to 0.03989, saving model to best.hdf5\n",
      "Epoch 10/150\n",
      "810/810 [==============================] - 0s 36us/step - loss: 0.0529 - mean_squared_error: 0.0529 - mean_absolute_error: 0.1855 - val_loss: 0.0389 - val_mean_squared_error: 0.0389 - val_mean_absolute_error: 0.1531\n",
      "\n",
      "Epoch 00010: val_loss improved from 0.03989 to 0.03886, saving model to best.hdf5\n",
      "Epoch 11/150\n",
      "810/810 [==============================] - 0s 40us/step - loss: 0.0510 - mean_squared_error: 0.0510 - mean_absolute_error: 0.1823 - val_loss: 0.0366 - val_mean_squared_error: 0.0366 - val_mean_absolute_error: 0.1500\n",
      "\n",
      "Epoch 00011: val_loss improved from 0.03886 to 0.03656, saving model to best.hdf5\n",
      "Epoch 12/150\n",
      "810/810 [==============================] - 0s 33us/step - loss: 0.0498 - mean_squared_error: 0.0498 - mean_absolute_error: 0.1813 - val_loss: 0.0359 - val_mean_squared_error: 0.0359 - val_mean_absolute_error: 0.1498\n",
      "\n",
      "Epoch 00012: val_loss improved from 0.03656 to 0.03585, saving model to best.hdf5\n",
      "Epoch 13/150\n",
      "810/810 [==============================] - 0s 43us/step - loss: 0.0485 - mean_squared_error: 0.0485 - mean_absolute_error: 0.1784 - val_loss: 0.0351 - val_mean_squared_error: 0.0351 - val_mean_absolute_error: 0.1454\n",
      "\n",
      "Epoch 00013: val_loss improved from 0.03585 to 0.03510, saving model to best.hdf5\n",
      "Epoch 14/150\n",
      "810/810 [==============================] - 0s 39us/step - loss: 0.0506 - mean_squared_error: 0.0506 - mean_absolute_error: 0.1833 - val_loss: 0.0352 - val_mean_squared_error: 0.0352 - val_mean_absolute_error: 0.1437\n",
      "\n",
      "Epoch 00014: val_loss did not improve from 0.03510\n",
      "Epoch 15/150\n",
      "810/810 [==============================] - 0s 34us/step - loss: 0.0493 - mean_squared_error: 0.0493 - mean_absolute_error: 0.1793 - val_loss: 0.0351 - val_mean_squared_error: 0.0351 - val_mean_absolute_error: 0.1435\n",
      "\n",
      "Epoch 00015: val_loss did not improve from 0.03510\n",
      "Epoch 16/150\n",
      "810/810 [==============================] - 0s 37us/step - loss: 0.0466 - mean_squared_error: 0.0466 - mean_absolute_error: 0.1732 - val_loss: 0.0350 - val_mean_squared_error: 0.0350 - val_mean_absolute_error: 0.1436\n",
      "\n",
      "Epoch 00016: ReduceLROnPlateau reducing learning rate to 0.0005000000237487257.\n",
      "\n",
      "Epoch 00016: val_loss improved from 0.03510 to 0.03502, saving model to best.hdf5\n",
      "Epoch 17/150\n",
      "810/810 [==============================] - 0s 40us/step - loss: 0.0496 - mean_squared_error: 0.0496 - mean_absolute_error: 0.1805 - val_loss: 0.0350 - val_mean_squared_error: 0.0350 - val_mean_absolute_error: 0.1443\n",
      "\n",
      "Epoch 00017: val_loss improved from 0.03502 to 0.03496, saving model to best.hdf5\n",
      "Epoch 18/150\n",
      "810/810 [==============================] - 0s 36us/step - loss: 0.0490 - mean_squared_error: 0.0490 - mean_absolute_error: 0.1799 - val_loss: 0.0349 - val_mean_squared_error: 0.0349 - val_mean_absolute_error: 0.1441\n",
      "\n",
      "Epoch 00018: val_loss improved from 0.03496 to 0.03494, saving model to best.hdf5\n",
      "Epoch 19/150\n",
      "810/810 [==============================] - 0s 33us/step - loss: 0.0477 - mean_squared_error: 0.0477 - mean_absolute_error: 0.1763 - val_loss: 0.0349 - val_mean_squared_error: 0.0349 - val_mean_absolute_error: 0.1433\n",
      "\n",
      "Epoch 00019: val_loss improved from 0.03494 to 0.03493, saving model to best.hdf5\n",
      "Epoch 20/150\n",
      "810/810 [==============================] - 0s 34us/step - loss: 0.0478 - mean_squared_error: 0.0478 - mean_absolute_error: 0.1770 - val_loss: 0.0350 - val_mean_squared_error: 0.0350 - val_mean_absolute_error: 0.1432\n",
      "\n",
      "Epoch 00020: ReduceLROnPlateau reducing learning rate to 0.0002500000118743628.\n",
      "\n",
      "Epoch 00020: val_loss did not improve from 0.03493\n",
      "Epoch 21/150\n",
      "810/810 [==============================] - 0s 43us/step - loss: 0.0461 - mean_squared_error: 0.0461 - mean_absolute_error: 0.1717 - val_loss: 0.0352 - val_mean_squared_error: 0.0352 - val_mean_absolute_error: 0.1432\n",
      "\n",
      "Epoch 00021: val_loss did not improve from 0.03493\n",
      "Epoch 22/150\n",
      "810/810 [==============================] - 0s 40us/step - loss: 0.0473 - mean_squared_error: 0.0473 - mean_absolute_error: 0.1757 - val_loss: 0.0350 - val_mean_squared_error: 0.0350 - val_mean_absolute_error: 0.1431\n",
      "\n",
      "Epoch 00022: val_loss did not improve from 0.03493\n",
      "Epoch 23/150\n",
      "810/810 [==============================] - 0s 47us/step - loss: 0.0484 - mean_squared_error: 0.0484 - mean_absolute_error: 0.1759 - val_loss: 0.0349 - val_mean_squared_error: 0.0349 - val_mean_absolute_error: 0.1432\n",
      "\n",
      "Epoch 00023: ReduceLROnPlateau reducing learning rate to 0.0001250000059371814.\n",
      "\n",
      "Epoch 00023: val_loss did not improve from 0.03493\n",
      "Epoch 24/150\n",
      "810/810 [==============================] - 0s 44us/step - loss: 0.0467 - mean_squared_error: 0.0467 - mean_absolute_error: 0.1740 - val_loss: 0.0349 - val_mean_squared_error: 0.0349 - val_mean_absolute_error: 0.1432\n",
      "\n",
      "Epoch 00024: val_loss improved from 0.03493 to 0.03492, saving model to best.hdf5\n",
      "Epoch 25/150\n",
      "810/810 [==============================] - 0s 41us/step - loss: 0.0485 - mean_squared_error: 0.0485 - mean_absolute_error: 0.1786 - val_loss: 0.0349 - val_mean_squared_error: 0.0349 - val_mean_absolute_error: 0.1432\n",
      "\n",
      "Epoch 00025: val_loss did not improve from 0.03492\n",
      "Epoch 26/150\n",
      "810/810 [==============================] - 0s 37us/step - loss: 0.0469 - mean_squared_error: 0.0469 - mean_absolute_error: 0.1756 - val_loss: 0.0349 - val_mean_squared_error: 0.0349 - val_mean_absolute_error: 0.1432\n",
      "\n",
      "Epoch 00026: ReduceLROnPlateau reducing learning rate to 6.25000029685907e-05.\n",
      "\n",
      "Epoch 00026: val_loss improved from 0.03492 to 0.03491, saving model to best.hdf5\n",
      "Epoch 27/150\n",
      "810/810 [==============================] - 0s 33us/step - loss: 0.0483 - mean_squared_error: 0.0483 - mean_absolute_error: 0.1783 - val_loss: 0.0349 - val_mean_squared_error: 0.0349 - val_mean_absolute_error: 0.1432\n",
      "\n",
      "Epoch 00027: val_loss improved from 0.03491 to 0.03489, saving model to best.hdf5\n",
      "Epoch 28/150\n",
      "810/810 [==============================] - 0s 35us/step - loss: 0.0466 - mean_squared_error: 0.0466 - mean_absolute_error: 0.1740 - val_loss: 0.0349 - val_mean_squared_error: 0.0349 - val_mean_absolute_error: 0.1432\n",
      "\n",
      "Epoch 00028: val_loss improved from 0.03489 to 0.03489, saving model to best.hdf5\n",
      "Epoch 29/150\n",
      "810/810 [==============================] - 0s 37us/step - loss: 0.0496 - mean_squared_error: 0.0496 - mean_absolute_error: 0.1798 - val_loss: 0.0349 - val_mean_squared_error: 0.0349 - val_mean_absolute_error: 0.1432\n",
      "\n",
      "Epoch 00029: ReduceLROnPlateau reducing learning rate to 3.125000148429535e-05.\n",
      "\n",
      "Epoch 00029: val_loss improved from 0.03489 to 0.03488, saving model to best.hdf5\n",
      "Epoch 30/150\n",
      "810/810 [==============================] - 0s 41us/step - loss: 0.0464 - mean_squared_error: 0.0464 - mean_absolute_error: 0.1734 - val_loss: 0.0349 - val_mean_squared_error: 0.0349 - val_mean_absolute_error: 0.1432\n",
      "\n",
      "Epoch 00030: val_loss did not improve from 0.03488\n",
      "Epoch 31/150\n",
      "810/810 [==============================] - 0s 31us/step - loss: 0.0460 - mean_squared_error: 0.0460 - mean_absolute_error: 0.1723 - val_loss: 0.0349 - val_mean_squared_error: 0.0349 - val_mean_absolute_error: 0.1432\n",
      "\n",
      "Epoch 00031: val_loss did not improve from 0.03488\n",
      "Epoch 32/150\n",
      "810/810 [==============================] - 0s 36us/step - loss: 0.0492 - mean_squared_error: 0.0492 - mean_absolute_error: 0.1784 - val_loss: 0.0349 - val_mean_squared_error: 0.0349 - val_mean_absolute_error: 0.1432\n",
      "\n",
      "Epoch 00032: ReduceLROnPlateau reducing learning rate to 1.5625000742147677e-05.\n",
      "\n",
      "Epoch 00032: val_loss did not improve from 0.03488\n",
      "Epoch 33/150\n",
      "810/810 [==============================] - 0s 34us/step - loss: 0.0472 - mean_squared_error: 0.0472 - mean_absolute_error: 0.1741 - val_loss: 0.0349 - val_mean_squared_error: 0.0349 - val_mean_absolute_error: 0.1432\n",
      "\n",
      "Epoch 00033: val_loss did not improve from 0.03488\n",
      "Epoch 34/150\n",
      "810/810 [==============================] - 0s 34us/step - loss: 0.0448 - mean_squared_error: 0.0448 - mean_absolute_error: 0.1716 - val_loss: 0.0349 - val_mean_squared_error: 0.0349 - val_mean_absolute_error: 0.1431\n",
      "\n",
      "Epoch 00034: val_loss did not improve from 0.03488\n",
      "Epoch 35/150\n",
      "810/810 [==============================] - 0s 37us/step - loss: 0.0470 - mean_squared_error: 0.0470 - mean_absolute_error: 0.1760 - val_loss: 0.0349 - val_mean_squared_error: 0.0349 - val_mean_absolute_error: 0.1431\n",
      "\n",
      "Epoch 00035: ReduceLROnPlateau reducing learning rate to 1e-05.\n",
      "\n",
      "Epoch 00035: val_loss did not improve from 0.03488\n",
      "Epoch 36/150\n",
      "810/810 [==============================] - 0s 34us/step - loss: 0.0466 - mean_squared_error: 0.0466 - mean_absolute_error: 0.1742 - val_loss: 0.0349 - val_mean_squared_error: 0.0349 - val_mean_absolute_error: 0.1431\n",
      "\n",
      "Epoch 00036: val_loss did not improve from 0.03488\n",
      "Epoch 37/150\n",
      "810/810 [==============================] - 0s 38us/step - loss: 0.0463 - mean_squared_error: 0.0463 - mean_absolute_error: 0.1738 - val_loss: 0.0349 - val_mean_squared_error: 0.0349 - val_mean_absolute_error: 0.1431\n",
      "\n",
      "Epoch 00037: val_loss did not improve from 0.03488\n",
      "Epoch 38/150\n",
      "810/810 [==============================] - 0s 42us/step - loss: 0.0480 - mean_squared_error: 0.0480 - mean_absolute_error: 0.1761 - val_loss: 0.0349 - val_mean_squared_error: 0.0349 - val_mean_absolute_error: 0.1431\n",
      "\n",
      "Epoch 00038: val_loss did not improve from 0.03488\n",
      "Epoch 39/150\n",
      "810/810 [==============================] - 0s 39us/step - loss: 0.0473 - mean_squared_error: 0.0473 - mean_absolute_error: 0.1748 - val_loss: 0.0349 - val_mean_squared_error: 0.0349 - val_mean_absolute_error: 0.1432\n",
      "\n",
      "Epoch 00039: val_loss did not improve from 0.03488\n",
      "Epoch 40/150\n",
      "810/810 [==============================] - 0s 35us/step - loss: 0.0474 - mean_squared_error: 0.0474 - mean_absolute_error: 0.1753 - val_loss: 0.0349 - val_mean_squared_error: 0.0349 - val_mean_absolute_error: 0.1432\n",
      "\n",
      "Epoch 00040: val_loss did not improve from 0.03488\n",
      "Epoch 41/150\n",
      "810/810 [==============================] - 0s 39us/step - loss: 0.0447 - mean_squared_error: 0.0447 - mean_absolute_error: 0.1685 - val_loss: 0.0349 - val_mean_squared_error: 0.0349 - val_mean_absolute_error: 0.1432\n",
      "\n",
      "Epoch 00041: val_loss did not improve from 0.03488\n",
      "Epoch 42/150\n",
      "810/810 [==============================] - 0s 39us/step - loss: 0.0463 - mean_squared_error: 0.0463 - mean_absolute_error: 0.1743 - val_loss: 0.0349 - val_mean_squared_error: 0.0349 - val_mean_absolute_error: 0.1432\n",
      "\n",
      "Epoch 00042: val_loss did not improve from 0.03488\n",
      "Epoch 43/150\n",
      "810/810 [==============================] - 0s 36us/step - loss: 0.0486 - mean_squared_error: 0.0486 - mean_absolute_error: 0.1792 - val_loss: 0.0349 - val_mean_squared_error: 0.0349 - val_mean_absolute_error: 0.1432\n",
      "\n",
      "Epoch 00043: val_loss did not improve from 0.03488\n",
      "Epoch 44/150\n",
      "810/810 [==============================] - 0s 43us/step - loss: 0.0453 - mean_squared_error: 0.0453 - mean_absolute_error: 0.1725 - val_loss: 0.0349 - val_mean_squared_error: 0.0349 - val_mean_absolute_error: 0.1432\n",
      "\n",
      "Epoch 00044: val_loss did not improve from 0.03488\n",
      "Epoch 45/150\n",
      "810/810 [==============================] - 0s 40us/step - loss: 0.0468 - mean_squared_error: 0.0468 - mean_absolute_error: 0.1736 - val_loss: 0.0349 - val_mean_squared_error: 0.0349 - val_mean_absolute_error: 0.1432\n",
      "\n",
      "Epoch 00045: val_loss did not improve from 0.03488\n",
      "Epoch 46/150\n",
      "810/810 [==============================] - 0s 32us/step - loss: 0.0473 - mean_squared_error: 0.0473 - mean_absolute_error: 0.1745 - val_loss: 0.0349 - val_mean_squared_error: 0.0349 - val_mean_absolute_error: 0.1432\n",
      "\n",
      "Epoch 00046: val_loss did not improve from 0.03488\n",
      "Epoch 47/150\n",
      "810/810 [==============================] - 0s 46us/step - loss: 0.0452 - mean_squared_error: 0.0452 - mean_absolute_error: 0.1709 - val_loss: 0.0349 - val_mean_squared_error: 0.0349 - val_mean_absolute_error: 0.1432\n",
      "\n",
      "Epoch 00047: val_loss did not improve from 0.03488\n",
      "Epoch 48/150\n",
      "810/810 [==============================] - 0s 37us/step - loss: 0.0484 - mean_squared_error: 0.0484 - mean_absolute_error: 0.1777 - val_loss: 0.0349 - val_mean_squared_error: 0.0349 - val_mean_absolute_error: 0.1432\n",
      "\n",
      "Epoch 00048: val_loss did not improve from 0.03488\n",
      "Epoch 49/150\n",
      "810/810 [==============================] - 0s 32us/step - loss: 0.0481 - mean_squared_error: 0.0481 - mean_absolute_error: 0.1744 - val_loss: 0.0349 - val_mean_squared_error: 0.0349 - val_mean_absolute_error: 0.1432\n",
      "\n",
      "Epoch 00049: val_loss did not improve from 0.03488\n",
      "Epoch 50/150\n",
      "810/810 [==============================] - 0s 38us/step - loss: 0.0461 - mean_squared_error: 0.0461 - mean_absolute_error: 0.1727 - val_loss: 0.0349 - val_mean_squared_error: 0.0349 - val_mean_absolute_error: 0.1432\n",
      "\n",
      "Epoch 00050: val_loss did not improve from 0.03488\n",
      "Epoch 51/150\n",
      "810/810 [==============================] - 0s 39us/step - loss: 0.0449 - mean_squared_error: 0.0449 - mean_absolute_error: 0.1696 - val_loss: 0.0349 - val_mean_squared_error: 0.0349 - val_mean_absolute_error: 0.1432\n",
      "\n",
      "Epoch 00051: val_loss did not improve from 0.03488\n",
      "Epoch 52/150\n",
      "810/810 [==============================] - 0s 39us/step - loss: 0.0461 - mean_squared_error: 0.0461 - mean_absolute_error: 0.1734 - val_loss: 0.0349 - val_mean_squared_error: 0.0349 - val_mean_absolute_error: 0.1432\n",
      "\n",
      "Epoch 00052: val_loss did not improve from 0.03488\n",
      "Epoch 53/150\n",
      "810/810 [==============================] - 0s 40us/step - loss: 0.0464 - mean_squared_error: 0.0464 - mean_absolute_error: 0.1736 - val_loss: 0.0349 - val_mean_squared_error: 0.0349 - val_mean_absolute_error: 0.1432\n",
      "\n",
      "Epoch 00053: val_loss did not improve from 0.03488\n",
      "Epoch 54/150\n",
      "810/810 [==============================] - 0s 37us/step - loss: 0.0456 - mean_squared_error: 0.0456 - mean_absolute_error: 0.1717 - val_loss: 0.0349 - val_mean_squared_error: 0.0349 - val_mean_absolute_error: 0.1432\n",
      "\n",
      "Epoch 00054: val_loss did not improve from 0.03488\n",
      "Epoch 55/150\n",
      "810/810 [==============================] - 0s 38us/step - loss: 0.0463 - mean_squared_error: 0.0463 - mean_absolute_error: 0.1733 - val_loss: 0.0349 - val_mean_squared_error: 0.0349 - val_mean_absolute_error: 0.1432\n",
      "\n",
      "Epoch 00055: val_loss improved from 0.03488 to 0.03488, saving model to best.hdf5\n",
      "Epoch 56/150\n",
      "810/810 [==============================] - 0s 46us/step - loss: 0.0475 - mean_squared_error: 0.0475 - mean_absolute_error: 0.1743 - val_loss: 0.0349 - val_mean_squared_error: 0.0349 - val_mean_absolute_error: 0.1432\n",
      "\n",
      "Epoch 00056: val_loss improved from 0.03488 to 0.03487, saving model to best.hdf5\n",
      "Epoch 57/150\n",
      "810/810 [==============================] - 0s 37us/step - loss: 0.0461 - mean_squared_error: 0.0461 - mean_absolute_error: 0.1755 - val_loss: 0.0349 - val_mean_squared_error: 0.0349 - val_mean_absolute_error: 0.1432\n",
      "\n",
      "Epoch 00057: val_loss improved from 0.03487 to 0.03487, saving model to best.hdf5\n",
      "Epoch 58/150\n",
      "810/810 [==============================] - 0s 37us/step - loss: 0.0455 - mean_squared_error: 0.0455 - mean_absolute_error: 0.1725 - val_loss: 0.0349 - val_mean_squared_error: 0.0349 - val_mean_absolute_error: 0.1432\n",
      "\n",
      "Epoch 00058: val_loss improved from 0.03487 to 0.03487, saving model to best.hdf5\n",
      "Epoch 59/150\n",
      "810/810 [==============================] - 0s 37us/step - loss: 0.0448 - mean_squared_error: 0.0448 - mean_absolute_error: 0.1708 - val_loss: 0.0349 - val_mean_squared_error: 0.0349 - val_mean_absolute_error: 0.1432\n",
      "\n",
      "Epoch 00059: val_loss did not improve from 0.03487\n",
      "Epoch 60/150\n",
      "810/810 [==============================] - 0s 39us/step - loss: 0.0469 - mean_squared_error: 0.0469 - mean_absolute_error: 0.1756 - val_loss: 0.0349 - val_mean_squared_error: 0.0349 - val_mean_absolute_error: 0.1432\n",
      "\n",
      "Epoch 00060: val_loss did not improve from 0.03487\n",
      "Epoch 61/150\n",
      "810/810 [==============================] - 0s 37us/step - loss: 0.0460 - mean_squared_error: 0.0460 - mean_absolute_error: 0.1725 - val_loss: 0.0349 - val_mean_squared_error: 0.0349 - val_mean_absolute_error: 0.1432\n",
      "\n",
      "Epoch 00061: val_loss did not improve from 0.03487\n",
      "Epoch 62/150\n",
      "810/810 [==============================] - 0s 36us/step - loss: 0.0461 - mean_squared_error: 0.0461 - mean_absolute_error: 0.1720 - val_loss: 0.0349 - val_mean_squared_error: 0.0349 - val_mean_absolute_error: 0.1432\n",
      "\n",
      "Epoch 00062: val_loss did not improve from 0.03487\n",
      "Epoch 63/150\n",
      "810/810 [==============================] - 0s 39us/step - loss: 0.0461 - mean_squared_error: 0.0461 - mean_absolute_error: 0.1736 - val_loss: 0.0349 - val_mean_squared_error: 0.0349 - val_mean_absolute_error: 0.1432\n",
      "\n",
      "Epoch 00063: val_loss did not improve from 0.03487\n",
      "Epoch 64/150\n",
      "810/810 [==============================] - 0s 35us/step - loss: 0.0470 - mean_squared_error: 0.0470 - mean_absolute_error: 0.1749 - val_loss: 0.0349 - val_mean_squared_error: 0.0349 - val_mean_absolute_error: 0.1431\n",
      "\n",
      "Epoch 00064: val_loss did not improve from 0.03487\n",
      "Epoch 65/150\n",
      "810/810 [==============================] - 0s 36us/step - loss: 0.0478 - mean_squared_error: 0.0478 - mean_absolute_error: 0.1750 - val_loss: 0.0349 - val_mean_squared_error: 0.0349 - val_mean_absolute_error: 0.1431\n",
      "\n",
      "Epoch 00065: val_loss did not improve from 0.03487\n",
      "Epoch 66/150\n",
      "810/810 [==============================] - 0s 31us/step - loss: 0.0480 - mean_squared_error: 0.0480 - mean_absolute_error: 0.1764 - val_loss: 0.0349 - val_mean_squared_error: 0.0349 - val_mean_absolute_error: 0.1431\n",
      "\n",
      "Epoch 00066: val_loss did not improve from 0.03487\n",
      "Epoch 67/150\n",
      "810/810 [==============================] - 0s 37us/step - loss: 0.0463 - mean_squared_error: 0.0463 - mean_absolute_error: 0.1746 - val_loss: 0.0349 - val_mean_squared_error: 0.0349 - val_mean_absolute_error: 0.1431\n",
      "\n",
      "Epoch 00067: val_loss did not improve from 0.03487\n",
      "Epoch 68/150\n",
      "810/810 [==============================] - 0s 38us/step - loss: 0.0478 - mean_squared_error: 0.0478 - mean_absolute_error: 0.1774 - val_loss: 0.0349 - val_mean_squared_error: 0.0349 - val_mean_absolute_error: 0.1431\n",
      "\n",
      "Epoch 00068: val_loss did not improve from 0.03487\n",
      "Epoch 69/150\n",
      "810/810 [==============================] - 0s 39us/step - loss: 0.0475 - mean_squared_error: 0.0475 - mean_absolute_error: 0.1753 - val_loss: 0.0349 - val_mean_squared_error: 0.0349 - val_mean_absolute_error: 0.1431\n",
      "\n",
      "Epoch 00069: val_loss did not improve from 0.03487\n",
      "Epoch 70/150\n",
      "810/810 [==============================] - 0s 36us/step - loss: 0.0468 - mean_squared_error: 0.0468 - mean_absolute_error: 0.1750 - val_loss: 0.0349 - val_mean_squared_error: 0.0349 - val_mean_absolute_error: 0.1431\n",
      "\n",
      "Epoch 00070: val_loss did not improve from 0.03487\n",
      "Epoch 71/150\n",
      "810/810 [==============================] - 0s 35us/step - loss: 0.0466 - mean_squared_error: 0.0466 - mean_absolute_error: 0.1744 - val_loss: 0.0349 - val_mean_squared_error: 0.0349 - val_mean_absolute_error: 0.1431\n",
      "\n",
      "Epoch 00071: val_loss did not improve from 0.03487\n",
      "Epoch 72/150\n",
      "810/810 [==============================] - 0s 32us/step - loss: 0.0470 - mean_squared_error: 0.0470 - mean_absolute_error: 0.1759 - val_loss: 0.0349 - val_mean_squared_error: 0.0349 - val_mean_absolute_error: 0.1432\n",
      "\n",
      "Epoch 00072: val_loss did not improve from 0.03487\n",
      "Epoch 73/150\n",
      "810/810 [==============================] - 0s 37us/step - loss: 0.0483 - mean_squared_error: 0.0483 - mean_absolute_error: 0.1792 - val_loss: 0.0349 - val_mean_squared_error: 0.0349 - val_mean_absolute_error: 0.1431\n",
      "\n",
      "Epoch 00073: val_loss did not improve from 0.03487\n",
      "Epoch 74/150\n",
      "810/810 [==============================] - 0s 40us/step - loss: 0.0480 - mean_squared_error: 0.0480 - mean_absolute_error: 0.1778 - val_loss: 0.0349 - val_mean_squared_error: 0.0349 - val_mean_absolute_error: 0.1431\n",
      "\n",
      "Epoch 00074: val_loss did not improve from 0.03487\n",
      "Epoch 75/150\n",
      "810/810 [==============================] - 0s 32us/step - loss: 0.0479 - mean_squared_error: 0.0479 - mean_absolute_error: 0.1765 - val_loss: 0.0349 - val_mean_squared_error: 0.0349 - val_mean_absolute_error: 0.1431\n",
      "\n",
      "Epoch 00075: val_loss did not improve from 0.03487\n",
      "Epoch 76/150\n",
      "810/810 [==============================] - 0s 36us/step - loss: 0.0452 - mean_squared_error: 0.0452 - mean_absolute_error: 0.1713 - val_loss: 0.0349 - val_mean_squared_error: 0.0349 - val_mean_absolute_error: 0.1431\n",
      "\n",
      "Epoch 00076: val_loss did not improve from 0.03487\n",
      "Epoch 77/150\n",
      "810/810 [==============================] - 0s 36us/step - loss: 0.0459 - mean_squared_error: 0.0459 - mean_absolute_error: 0.1721 - val_loss: 0.0349 - val_mean_squared_error: 0.0349 - val_mean_absolute_error: 0.1431\n",
      "\n",
      "Epoch 00077: val_loss did not improve from 0.03487\n",
      "Epoch 78/150\n",
      "810/810 [==============================] - 0s 47us/step - loss: 0.0472 - mean_squared_error: 0.0472 - mean_absolute_error: 0.1751 - val_loss: 0.0349 - val_mean_squared_error: 0.0349 - val_mean_absolute_error: 0.1431\n",
      "\n",
      "Epoch 00078: val_loss did not improve from 0.03487\n",
      "Epoch 79/150\n",
      "810/810 [==============================] - 0s 50us/step - loss: 0.0469 - mean_squared_error: 0.0469 - mean_absolute_error: 0.1743 - val_loss: 0.0349 - val_mean_squared_error: 0.0349 - val_mean_absolute_error: 0.1431\n",
      "\n",
      "Epoch 00079: val_loss did not improve from 0.03487\n",
      "Epoch 80/150\n",
      "810/810 [==============================] - 0s 38us/step - loss: 0.0484 - mean_squared_error: 0.0484 - mean_absolute_error: 0.1775 - val_loss: 0.0349 - val_mean_squared_error: 0.0349 - val_mean_absolute_error: 0.1431\n",
      "\n",
      "Epoch 00080: val_loss did not improve from 0.03487\n",
      "Epoch 81/150\n",
      "810/810 [==============================] - 0s 43us/step - loss: 0.0477 - mean_squared_error: 0.0477 - mean_absolute_error: 0.1754 - val_loss: 0.0349 - val_mean_squared_error: 0.0349 - val_mean_absolute_error: 0.1431\n",
      "\n",
      "Epoch 00081: val_loss did not improve from 0.03487\n",
      "Epoch 82/150\n",
      "810/810 [==============================] - 0s 44us/step - loss: 0.0463 - mean_squared_error: 0.0463 - mean_absolute_error: 0.1730 - val_loss: 0.0349 - val_mean_squared_error: 0.0349 - val_mean_absolute_error: 0.1431\n",
      "\n",
      "Epoch 00082: val_loss did not improve from 0.03487\n",
      "Epoch 83/150\n",
      "810/810 [==============================] - 0s 46us/step - loss: 0.0468 - mean_squared_error: 0.0468 - mean_absolute_error: 0.1747 - val_loss: 0.0349 - val_mean_squared_error: 0.0349 - val_mean_absolute_error: 0.1431\n",
      "\n",
      "Epoch 00083: val_loss did not improve from 0.03487\n",
      "Epoch 84/150\n",
      "810/810 [==============================] - 0s 47us/step - loss: 0.0463 - mean_squared_error: 0.0463 - mean_absolute_error: 0.1749 - val_loss: 0.0349 - val_mean_squared_error: 0.0349 - val_mean_absolute_error: 0.1431\n",
      "\n",
      "Epoch 00084: val_loss did not improve from 0.03487\n",
      "Epoch 85/150\n",
      "810/810 [==============================] - 0s 44us/step - loss: 0.0471 - mean_squared_error: 0.0471 - mean_absolute_error: 0.1752 - val_loss: 0.0349 - val_mean_squared_error: 0.0349 - val_mean_absolute_error: 0.1431\n",
      "\n",
      "Epoch 00085: val_loss did not improve from 0.03487\n",
      "Epoch 86/150\n",
      "810/810 [==============================] - 0s 39us/step - loss: 0.0478 - mean_squared_error: 0.0478 - mean_absolute_error: 0.1768 - val_loss: 0.0349 - val_mean_squared_error: 0.0349 - val_mean_absolute_error: 0.1431\n",
      "\n",
      "Epoch 00086: val_loss did not improve from 0.03487\n",
      "Epoch 87/150\n",
      "810/810 [==============================] - 0s 52us/step - loss: 0.0484 - mean_squared_error: 0.0484 - mean_absolute_error: 0.1772 - val_loss: 0.0349 - val_mean_squared_error: 0.0349 - val_mean_absolute_error: 0.1431\n",
      "\n",
      "Epoch 00087: val_loss did not improve from 0.03487\n",
      "Epoch 88/150\n",
      "810/810 [==============================] - 0s 33us/step - loss: 0.0464 - mean_squared_error: 0.0464 - mean_absolute_error: 0.1735 - val_loss: 0.0349 - val_mean_squared_error: 0.0349 - val_mean_absolute_error: 0.1431\n",
      "\n",
      "Epoch 00088: val_loss did not improve from 0.03487\n",
      "Epoch 89/150\n",
      "810/810 [==============================] - 0s 37us/step - loss: 0.0462 - mean_squared_error: 0.0462 - mean_absolute_error: 0.1726 - val_loss: 0.0349 - val_mean_squared_error: 0.0349 - val_mean_absolute_error: 0.1431\n",
      "\n",
      "Epoch 00089: val_loss did not improve from 0.03487\n",
      "Epoch 90/150\n",
      "810/810 [==============================] - 0s 32us/step - loss: 0.0460 - mean_squared_error: 0.0460 - mean_absolute_error: 0.1738 - val_loss: 0.0349 - val_mean_squared_error: 0.0349 - val_mean_absolute_error: 0.1432\n",
      "\n",
      "Epoch 00090: val_loss did not improve from 0.03487\n",
      "Epoch 91/150\n",
      "810/810 [==============================] - 0s 32us/step - loss: 0.0455 - mean_squared_error: 0.0455 - mean_absolute_error: 0.1735 - val_loss: 0.0349 - val_mean_squared_error: 0.0349 - val_mean_absolute_error: 0.1432\n",
      "\n",
      "Epoch 00091: val_loss did not improve from 0.03487\n",
      "Epoch 92/150\n",
      "810/810 [==============================] - 0s 44us/step - loss: 0.0462 - mean_squared_error: 0.0462 - mean_absolute_error: 0.1724 - val_loss: 0.0349 - val_mean_squared_error: 0.0349 - val_mean_absolute_error: 0.1432\n",
      "\n",
      "Epoch 00092: val_loss did not improve from 0.03487\n",
      "Epoch 93/150\n",
      "810/810 [==============================] - 0s 40us/step - loss: 0.0478 - mean_squared_error: 0.0478 - mean_absolute_error: 0.1759 - val_loss: 0.0349 - val_mean_squared_error: 0.0349 - val_mean_absolute_error: 0.1432\n",
      "\n",
      "Epoch 00093: val_loss did not improve from 0.03487\n",
      "Epoch 94/150\n",
      "810/810 [==============================] - 0s 45us/step - loss: 0.0469 - mean_squared_error: 0.0469 - mean_absolute_error: 0.1736 - val_loss: 0.0349 - val_mean_squared_error: 0.0349 - val_mean_absolute_error: 0.1432\n",
      "\n",
      "Epoch 00094: val_loss did not improve from 0.03487\n",
      "Epoch 95/150\n",
      "810/810 [==============================] - 0s 31us/step - loss: 0.0466 - mean_squared_error: 0.0466 - mean_absolute_error: 0.1757 - val_loss: 0.0349 - val_mean_squared_error: 0.0349 - val_mean_absolute_error: 0.1432\n",
      "\n",
      "Epoch 00095: val_loss did not improve from 0.03487\n",
      "Epoch 96/150\n",
      "810/810 [==============================] - 0s 34us/step - loss: 0.0475 - mean_squared_error: 0.0475 - mean_absolute_error: 0.1766 - val_loss: 0.0349 - val_mean_squared_error: 0.0349 - val_mean_absolute_error: 0.1432\n",
      "\n",
      "Epoch 00096: val_loss did not improve from 0.03487\n",
      "Epoch 97/150\n",
      "810/810 [==============================] - 0s 30us/step - loss: 0.0462 - mean_squared_error: 0.0462 - mean_absolute_error: 0.1751 - val_loss: 0.0349 - val_mean_squared_error: 0.0349 - val_mean_absolute_error: 0.1432\n",
      "\n",
      "Epoch 00097: val_loss did not improve from 0.03487\n",
      "Epoch 98/150\n",
      "810/810 [==============================] - 0s 36us/step - loss: 0.0463 - mean_squared_error: 0.0463 - mean_absolute_error: 0.1743 - val_loss: 0.0349 - val_mean_squared_error: 0.0349 - val_mean_absolute_error: 0.1432\n",
      "\n",
      "Epoch 00098: val_loss did not improve from 0.03487\n",
      "Epoch 99/150\n",
      "810/810 [==============================] - 0s 34us/step - loss: 0.0489 - mean_squared_error: 0.0489 - mean_absolute_error: 0.1788 - val_loss: 0.0349 - val_mean_squared_error: 0.0349 - val_mean_absolute_error: 0.1432\n",
      "\n",
      "Epoch 00099: val_loss did not improve from 0.03487\n",
      "Epoch 100/150\n",
      "810/810 [==============================] - 0s 34us/step - loss: 0.0471 - mean_squared_error: 0.0471 - mean_absolute_error: 0.1750 - val_loss: 0.0349 - val_mean_squared_error: 0.0349 - val_mean_absolute_error: 0.1432\n",
      "\n",
      "Epoch 00100: val_loss did not improve from 0.03487\n",
      "Epoch 101/150\n",
      "810/810 [==============================] - 0s 31us/step - loss: 0.0484 - mean_squared_error: 0.0484 - mean_absolute_error: 0.1785 - val_loss: 0.0349 - val_mean_squared_error: 0.0349 - val_mean_absolute_error: 0.1431\n",
      "\n",
      "Epoch 00101: val_loss did not improve from 0.03487\n",
      "Epoch 102/150\n",
      "810/810 [==============================] - 0s 32us/step - loss: 0.0464 - mean_squared_error: 0.0464 - mean_absolute_error: 0.1732 - val_loss: 0.0349 - val_mean_squared_error: 0.0349 - val_mean_absolute_error: 0.1431\n",
      "\n",
      "Epoch 00102: val_loss did not improve from 0.03487\n",
      "Epoch 103/150\n",
      "810/810 [==============================] - 0s 44us/step - loss: 0.0460 - mean_squared_error: 0.0460 - mean_absolute_error: 0.1728 - val_loss: 0.0349 - val_mean_squared_error: 0.0349 - val_mean_absolute_error: 0.1432\n",
      "\n",
      "Epoch 00103: val_loss did not improve from 0.03487\n",
      "Epoch 104/150\n",
      "810/810 [==============================] - 0s 39us/step - loss: 0.0464 - mean_squared_error: 0.0464 - mean_absolute_error: 0.1734 - val_loss: 0.0349 - val_mean_squared_error: 0.0349 - val_mean_absolute_error: 0.1432\n",
      "\n",
      "Epoch 00104: val_loss did not improve from 0.03487\n",
      "Epoch 105/150\n",
      "810/810 [==============================] - 0s 41us/step - loss: 0.0472 - mean_squared_error: 0.0472 - mean_absolute_error: 0.1773 - val_loss: 0.0349 - val_mean_squared_error: 0.0349 - val_mean_absolute_error: 0.1432\n",
      "\n",
      "Epoch 00105: val_loss did not improve from 0.03487\n",
      "Epoch 106/150\n",
      "810/810 [==============================] - 0s 40us/step - loss: 0.0457 - mean_squared_error: 0.0457 - mean_absolute_error: 0.1723 - val_loss: 0.0349 - val_mean_squared_error: 0.0349 - val_mean_absolute_error: 0.1431\n",
      "\n",
      "Epoch 00106: val_loss did not improve from 0.03487\n",
      "Epoch 107/150\n",
      "810/810 [==============================] - 0s 49us/step - loss: 0.0459 - mean_squared_error: 0.0459 - mean_absolute_error: 0.1731 - val_loss: 0.0349 - val_mean_squared_error: 0.0349 - val_mean_absolute_error: 0.1431\n",
      "\n",
      "Epoch 00107: val_loss did not improve from 0.03487\n",
      "Epoch 108/150\n",
      "810/810 [==============================] - 0s 42us/step - loss: 0.0467 - mean_squared_error: 0.0467 - mean_absolute_error: 0.1746 - val_loss: 0.0349 - val_mean_squared_error: 0.0349 - val_mean_absolute_error: 0.1431\n",
      "\n",
      "Epoch 00108: val_loss did not improve from 0.03487\n",
      "Epoch 109/150\n",
      "810/810 [==============================] - 0s 46us/step - loss: 0.0477 - mean_squared_error: 0.0477 - mean_absolute_error: 0.1764 - val_loss: 0.0349 - val_mean_squared_error: 0.0349 - val_mean_absolute_error: 0.1431\n",
      "\n",
      "Epoch 00109: val_loss did not improve from 0.03487\n",
      "Epoch 110/150\n",
      "810/810 [==============================] - 0s 40us/step - loss: 0.0449 - mean_squared_error: 0.0449 - mean_absolute_error: 0.1726 - val_loss: 0.0349 - val_mean_squared_error: 0.0349 - val_mean_absolute_error: 0.1431\n",
      "\n",
      "Epoch 00110: val_loss did not improve from 0.03487\n",
      "Epoch 111/150\n",
      "810/810 [==============================] - 0s 36us/step - loss: 0.0466 - mean_squared_error: 0.0466 - mean_absolute_error: 0.1734 - val_loss: 0.0349 - val_mean_squared_error: 0.0349 - val_mean_absolute_error: 0.1431\n",
      "\n",
      "Epoch 00111: val_loss did not improve from 0.03487\n",
      "Epoch 112/150\n",
      "810/810 [==============================] - 0s 34us/step - loss: 0.0477 - mean_squared_error: 0.0477 - mean_absolute_error: 0.1786 - val_loss: 0.0349 - val_mean_squared_error: 0.0349 - val_mean_absolute_error: 0.1431\n",
      "\n",
      "Epoch 00112: val_loss did not improve from 0.03487\n",
      "Epoch 113/150\n",
      "810/810 [==============================] - 0s 32us/step - loss: 0.0453 - mean_squared_error: 0.0453 - mean_absolute_error: 0.1720 - val_loss: 0.0349 - val_mean_squared_error: 0.0349 - val_mean_absolute_error: 0.1431\n",
      "\n",
      "Epoch 00113: val_loss did not improve from 0.03487\n",
      "Epoch 114/150\n",
      "810/810 [==============================] - 0s 36us/step - loss: 0.0486 - mean_squared_error: 0.0486 - mean_absolute_error: 0.1789 - val_loss: 0.0349 - val_mean_squared_error: 0.0349 - val_mean_absolute_error: 0.1431\n",
      "\n",
      "Epoch 00114: val_loss did not improve from 0.03487\n",
      "Epoch 115/150\n",
      "810/810 [==============================] - 0s 35us/step - loss: 0.0463 - mean_squared_error: 0.0463 - mean_absolute_error: 0.1744 - val_loss: 0.0349 - val_mean_squared_error: 0.0349 - val_mean_absolute_error: 0.1431\n",
      "\n",
      "Epoch 00115: val_loss did not improve from 0.03487\n",
      "Epoch 116/150\n",
      "810/810 [==============================] - 0s 32us/step - loss: 0.0475 - mean_squared_error: 0.0475 - mean_absolute_error: 0.1750 - val_loss: 0.0349 - val_mean_squared_error: 0.0349 - val_mean_absolute_error: 0.1431\n",
      "\n",
      "Epoch 00116: val_loss did not improve from 0.03487\n",
      "Epoch 117/150\n",
      "810/810 [==============================] - 0s 34us/step - loss: 0.0466 - mean_squared_error: 0.0466 - mean_absolute_error: 0.1745 - val_loss: 0.0349 - val_mean_squared_error: 0.0349 - val_mean_absolute_error: 0.1431\n",
      "\n",
      "Epoch 00117: val_loss did not improve from 0.03487\n",
      "Epoch 118/150\n",
      "810/810 [==============================] - 0s 33us/step - loss: 0.0474 - mean_squared_error: 0.0474 - mean_absolute_error: 0.1766 - val_loss: 0.0349 - val_mean_squared_error: 0.0349 - val_mean_absolute_error: 0.1431\n",
      "\n",
      "Epoch 00118: val_loss did not improve from 0.03487\n",
      "Epoch 119/150\n",
      "810/810 [==============================] - 0s 36us/step - loss: 0.0471 - mean_squared_error: 0.0471 - mean_absolute_error: 0.1753 - val_loss: 0.0349 - val_mean_squared_error: 0.0349 - val_mean_absolute_error: 0.1431\n",
      "\n",
      "Epoch 00119: val_loss did not improve from 0.03487\n",
      "Epoch 120/150\n",
      "810/810 [==============================] - 0s 33us/step - loss: 0.0478 - mean_squared_error: 0.0478 - mean_absolute_error: 0.1755 - val_loss: 0.0349 - val_mean_squared_error: 0.0349 - val_mean_absolute_error: 0.1431\n",
      "\n",
      "Epoch 00120: val_loss did not improve from 0.03487\n",
      "Epoch 121/150\n",
      "810/810 [==============================] - 0s 31us/step - loss: 0.0463 - mean_squared_error: 0.0463 - mean_absolute_error: 0.1747 - val_loss: 0.0349 - val_mean_squared_error: 0.0349 - val_mean_absolute_error: 0.1431\n",
      "\n",
      "Epoch 00121: val_loss did not improve from 0.03487\n",
      "Epoch 122/150\n",
      "810/810 [==============================] - 0s 31us/step - loss: 0.0474 - mean_squared_error: 0.0474 - mean_absolute_error: 0.1753 - val_loss: 0.0349 - val_mean_squared_error: 0.0349 - val_mean_absolute_error: 0.1431\n",
      "\n",
      "Epoch 00122: val_loss did not improve from 0.03487\n",
      "Epoch 123/150\n",
      "810/810 [==============================] - 0s 37us/step - loss: 0.0478 - mean_squared_error: 0.0478 - mean_absolute_error: 0.1744 - val_loss: 0.0349 - val_mean_squared_error: 0.0349 - val_mean_absolute_error: 0.1431\n",
      "\n",
      "Epoch 00123: val_loss did not improve from 0.03487\n",
      "Epoch 124/150\n",
      "810/810 [==============================] - 0s 39us/step - loss: 0.0480 - mean_squared_error: 0.0480 - mean_absolute_error: 0.1789 - val_loss: 0.0349 - val_mean_squared_error: 0.0349 - val_mean_absolute_error: 0.1431\n",
      "\n",
      "Epoch 00124: val_loss did not improve from 0.03487\n",
      "Epoch 125/150\n",
      "810/810 [==============================] - 0s 33us/step - loss: 0.0460 - mean_squared_error: 0.0460 - mean_absolute_error: 0.1736 - val_loss: 0.0349 - val_mean_squared_error: 0.0349 - val_mean_absolute_error: 0.1431\n",
      "\n",
      "Epoch 00125: val_loss did not improve from 0.03487\n",
      "Epoch 126/150\n",
      "810/810 [==============================] - 0s 34us/step - loss: 0.0468 - mean_squared_error: 0.0468 - mean_absolute_error: 0.1745 - val_loss: 0.0349 - val_mean_squared_error: 0.0349 - val_mean_absolute_error: 0.1431\n",
      "\n",
      "Epoch 00126: val_loss did not improve from 0.03487\n",
      "Epoch 127/150\n",
      "810/810 [==============================] - 0s 33us/step - loss: 0.0468 - mean_squared_error: 0.0468 - mean_absolute_error: 0.1737 - val_loss: 0.0349 - val_mean_squared_error: 0.0349 - val_mean_absolute_error: 0.1431\n",
      "\n",
      "Epoch 00127: val_loss did not improve from 0.03487\n",
      "Epoch 128/150\n",
      "810/810 [==============================] - 0s 36us/step - loss: 0.0455 - mean_squared_error: 0.0455 - mean_absolute_error: 0.1705 - val_loss: 0.0349 - val_mean_squared_error: 0.0349 - val_mean_absolute_error: 0.1431\n",
      "\n",
      "Epoch 00128: val_loss did not improve from 0.03487\n",
      "Epoch 129/150\n",
      "810/810 [==============================] - 0s 33us/step - loss: 0.0475 - mean_squared_error: 0.0475 - mean_absolute_error: 0.1760 - val_loss: 0.0349 - val_mean_squared_error: 0.0349 - val_mean_absolute_error: 0.1431\n",
      "\n",
      "Epoch 00129: val_loss improved from 0.03487 to 0.03487, saving model to best.hdf5\n",
      "Epoch 130/150\n",
      "810/810 [==============================] - 0s 36us/step - loss: 0.0483 - mean_squared_error: 0.0483 - mean_absolute_error: 0.1763 - val_loss: 0.0349 - val_mean_squared_error: 0.0349 - val_mean_absolute_error: 0.1431\n",
      "\n",
      "Epoch 00130: val_loss did not improve from 0.03487\n",
      "Epoch 131/150\n",
      "810/810 [==============================] - 0s 33us/step - loss: 0.0468 - mean_squared_error: 0.0468 - mean_absolute_error: 0.1739 - val_loss: 0.0349 - val_mean_squared_error: 0.0349 - val_mean_absolute_error: 0.1431\n",
      "\n",
      "Epoch 00131: val_loss did not improve from 0.03487\n",
      "Epoch 132/150\n",
      "810/810 [==============================] - 0s 40us/step - loss: 0.0452 - mean_squared_error: 0.0452 - mean_absolute_error: 0.1714 - val_loss: 0.0349 - val_mean_squared_error: 0.0349 - val_mean_absolute_error: 0.1431\n",
      "\n",
      "Epoch 00132: val_loss did not improve from 0.03487\n",
      "Epoch 133/150\n",
      "810/810 [==============================] - 0s 47us/step - loss: 0.0470 - mean_squared_error: 0.0470 - mean_absolute_error: 0.1758 - val_loss: 0.0349 - val_mean_squared_error: 0.0349 - val_mean_absolute_error: 0.1431\n",
      "\n",
      "Epoch 00133: val_loss did not improve from 0.03487\n",
      "Epoch 134/150\n",
      "810/810 [==============================] - 0s 34us/step - loss: 0.0483 - mean_squared_error: 0.0483 - mean_absolute_error: 0.1778 - val_loss: 0.0349 - val_mean_squared_error: 0.0349 - val_mean_absolute_error: 0.1431\n",
      "\n",
      "Epoch 00134: val_loss did not improve from 0.03487\n",
      "Epoch 135/150\n",
      "810/810 [==============================] - 0s 34us/step - loss: 0.0474 - mean_squared_error: 0.0474 - mean_absolute_error: 0.1763 - val_loss: 0.0349 - val_mean_squared_error: 0.0349 - val_mean_absolute_error: 0.1431\n",
      "\n",
      "Epoch 00135: val_loss did not improve from 0.03487\n",
      "Epoch 136/150\n",
      "810/810 [==============================] - 0s 37us/step - loss: 0.0470 - mean_squared_error: 0.0470 - mean_absolute_error: 0.1759 - val_loss: 0.0349 - val_mean_squared_error: 0.0349 - val_mean_absolute_error: 0.1431\n",
      "\n",
      "Epoch 00136: val_loss did not improve from 0.03487\n",
      "Epoch 137/150\n",
      "810/810 [==============================] - 0s 32us/step - loss: 0.0473 - mean_squared_error: 0.0473 - mean_absolute_error: 0.1755 - val_loss: 0.0349 - val_mean_squared_error: 0.0349 - val_mean_absolute_error: 0.1431\n",
      "\n",
      "Epoch 00137: val_loss did not improve from 0.03487\n",
      "Epoch 138/150\n",
      "810/810 [==============================] - 0s 33us/step - loss: 0.0488 - mean_squared_error: 0.0488 - mean_absolute_error: 0.1797 - val_loss: 0.0349 - val_mean_squared_error: 0.0349 - val_mean_absolute_error: 0.1431\n",
      "\n",
      "Epoch 00138: val_loss did not improve from 0.03487\n",
      "Epoch 139/150\n",
      "810/810 [==============================] - 0s 37us/step - loss: 0.0467 - mean_squared_error: 0.0467 - mean_absolute_error: 0.1737 - val_loss: 0.0349 - val_mean_squared_error: 0.0349 - val_mean_absolute_error: 0.1431\n",
      "\n",
      "Epoch 00139: val_loss did not improve from 0.03487\n",
      "Epoch 140/150\n",
      "810/810 [==============================] - 0s 39us/step - loss: 0.0455 - mean_squared_error: 0.0455 - mean_absolute_error: 0.1713 - val_loss: 0.0348 - val_mean_squared_error: 0.0348 - val_mean_absolute_error: 0.1431\n",
      "\n",
      "Epoch 00140: val_loss improved from 0.03487 to 0.03485, saving model to best.hdf5\n",
      "Epoch 141/150\n",
      "810/810 [==============================] - 0s 50us/step - loss: 0.0471 - mean_squared_error: 0.0471 - mean_absolute_error: 0.1751 - val_loss: 0.0348 - val_mean_squared_error: 0.0348 - val_mean_absolute_error: 0.1431\n",
      "\n",
      "Epoch 00141: val_loss improved from 0.03485 to 0.03484, saving model to best.hdf5\n",
      "Epoch 142/150\n",
      "810/810 [==============================] - 0s 40us/step - loss: 0.0495 - mean_squared_error: 0.0495 - mean_absolute_error: 0.1780 - val_loss: 0.0348 - val_mean_squared_error: 0.0348 - val_mean_absolute_error: 0.1431\n",
      "\n",
      "Epoch 00142: val_loss did not improve from 0.03484\n",
      "Epoch 143/150\n",
      "810/810 [==============================] - 0s 38us/step - loss: 0.0485 - mean_squared_error: 0.0485 - mean_absolute_error: 0.1770 - val_loss: 0.0349 - val_mean_squared_error: 0.0349 - val_mean_absolute_error: 0.1431\n",
      "\n",
      "Epoch 00143: val_loss did not improve from 0.03484\n",
      "Epoch 144/150\n",
      "810/810 [==============================] - 0s 33us/step - loss: 0.0471 - mean_squared_error: 0.0471 - mean_absolute_error: 0.1788 - val_loss: 0.0349 - val_mean_squared_error: 0.0349 - val_mean_absolute_error: 0.1431\n",
      "\n",
      "Epoch 00144: val_loss did not improve from 0.03484\n",
      "Epoch 145/150\n",
      "810/810 [==============================] - 0s 31us/step - loss: 0.0479 - mean_squared_error: 0.0479 - mean_absolute_error: 0.1761 - val_loss: 0.0348 - val_mean_squared_error: 0.0348 - val_mean_absolute_error: 0.1431\n",
      "\n",
      "Epoch 00145: val_loss improved from 0.03484 to 0.03484, saving model to best.hdf5\n",
      "Epoch 146/150\n",
      "810/810 [==============================] - 0s 37us/step - loss: 0.0470 - mean_squared_error: 0.0470 - mean_absolute_error: 0.1748 - val_loss: 0.0348 - val_mean_squared_error: 0.0348 - val_mean_absolute_error: 0.1431\n",
      "\n",
      "Epoch 00146: val_loss did not improve from 0.03484\n",
      "Epoch 147/150\n",
      "810/810 [==============================] - 0s 33us/step - loss: 0.0459 - mean_squared_error: 0.0459 - mean_absolute_error: 0.1733 - val_loss: 0.0348 - val_mean_squared_error: 0.0348 - val_mean_absolute_error: 0.1431\n",
      "\n",
      "Epoch 00147: val_loss improved from 0.03484 to 0.03484, saving model to best.hdf5\n",
      "Epoch 148/150\n",
      "810/810 [==============================] - 0s 38us/step - loss: 0.0490 - mean_squared_error: 0.0490 - mean_absolute_error: 0.1779 - val_loss: 0.0348 - val_mean_squared_error: 0.0348 - val_mean_absolute_error: 0.1431\n",
      "\n",
      "Epoch 00148: val_loss did not improve from 0.03484\n",
      "Epoch 149/150\n",
      "810/810 [==============================] - 0s 36us/step - loss: 0.0464 - mean_squared_error: 0.0464 - mean_absolute_error: 0.1731 - val_loss: 0.0349 - val_mean_squared_error: 0.0349 - val_mean_absolute_error: 0.1431\n",
      "\n",
      "Epoch 00149: val_loss did not improve from 0.03484\n",
      "Epoch 150/150\n",
      "810/810 [==============================] - 0s 35us/step - loss: 0.0465 - mean_squared_error: 0.0465 - mean_absolute_error: 0.1738 - val_loss: 0.0349 - val_mean_squared_error: 0.0349 - val_mean_absolute_error: 0.1431\n",
      "\n",
      "Epoch 00150: val_loss did not improve from 0.03484\n"
     ]
    }
   ],
   "source": [
    "from keras_radam import RAdam\n",
    "\n",
    "model.compile(loss='mse', optimizer=RAdam(), metrics=['mse','mae'])\n",
    "checkpointer = [\n",
    "    ReduceLROnPlateau(monitor='val_loss', \n",
    "                      patience=3, \n",
    "                      verbose=1,\n",
    "                      factor=0.5,\n",
    "                      min_lr = 0.00001,\n",
    "                      cooldown=0),\n",
    "    ModelCheckpoint(filepath='best.hdf5', verbose=1, \n",
    "                               save_best_only=True)\n",
    "]\n",
    "history = model.fit(X_train, y_train, epochs=150, batch_size=128,  verbose=1, validation_data=[X_val, y_val], shuffle=True, callbacks=checkpointer)\n",
    "train_acc = model.evaluate(X_train, y_train, verbose=0)\n",
    "val_acc = model.evaluate(X_val, y_val, verbose=0)"
   ]
  },
  {
   "cell_type": "code",
   "execution_count": 0,
   "metadata": {
    "colab": {
     "base_uri": "https://localhost:8080/",
     "height": 332
    },
    "colab_type": "code",
    "id": "gChhqO2LakeV",
    "outputId": "929e05a6-144b-47c0-bff0-9f518b645f4f"
   },
   "outputs": [
    {
     "name": "stdout",
     "output_type": "stream",
     "text": [
      "dict_keys(['val_loss', 'val_mean_squared_error', 'val_mean_absolute_error', 'loss', 'mean_squared_error', 'mean_absolute_error', 'lr'])\n"
     ]
    },
    {
     "data": {
      "image/png": "[encoded data removed]",
      "text/plain": [
       "<Figure size 432x288 with 1 Axes>"
      ]
     },
     "metadata": {
      "tags": []
     },
     "output_type": "display_data"
    }
   ],
   "source": [
    "print(history.history.keys())\n",
    "# \"Loss\"\n",
    "plt.plot(history.history['loss'])\n",
    "plt.plot(history.history['val_loss'])\n",
    "plt.title('model loss')\n",
    "plt.ylabel('loss')\n",
    "plt.xlabel('epoch')\n",
    "plt.legend(['train', 'validation'], loc='upper left')\n",
    "plt.show()"
   ]
  },
  {
   "cell_type": "code",
   "execution_count": 0,
   "metadata": {
    "colab": {},
    "colab_type": "code",
    "id": "5gaIVTuFl1ei"
   },
   "outputs": [],
   "source": [
    "# load the weights that yielded the best validation accuracy\n",
    "model.load_weights('best.hdf5')"
   ]
  },
  {
   "cell_type": "code",
   "execution_count": 0,
   "metadata": {
    "colab": {
     "base_uri": "https://localhost:8080/",
     "height": 283
    },
    "colab_type": "code",
    "id": "RuKQa71kf2UB",
    "outputId": "376f7fa0-de51-4871-b95e-1e7073a9c30e"
   },
   "outputs": [
    {
     "data": {
      "image/png": "[encoded data removed]",
      "text/plain": [
       "<Figure size 432x288 with 1 Axes>"
      ]
     },
     "metadata": {
      "tags": []
     },
     "output_type": "display_data"
    }
   ],
   "source": [
    "test_predictions =model.predict(X_test).flatten()\n",
    "\n",
    "a = plt.axes(aspect='equal')\n",
    "plt.scatter(y_test, test_predictions)\n",
    "plt.xlabel('True Values')\n",
    "plt.ylabel('Predictions')\n",
    "lims = [-0.2, 1.2]\n",
    "plt.xlim(lims)\n",
    "plt.ylim(lims)\n",
    "_ = plt.plot(lims, lims)"
   ]
  },
  {
   "cell_type": "code",
   "execution_count": 0,
   "metadata": {
    "colab": {
     "base_uri": "https://localhost:8080/",
     "height": 279
    },
    "colab_type": "code",
    "id": "nmsctnH6gJc3",
    "outputId": "2c0a521e-480e-4b5c-91f8-3b9ed919034b"
   },
   "outputs": [
    {
     "data": {
      "image/png": "[encoded data removed]",
      "text/plain": [
       "<Figure size 432x288 with 1 Axes>"
      ]
     },
     "metadata": {
      "tags": []
     },
     "output_type": "display_data"
    }
   ],
   "source": [
    "error = test_predictions - y_test\n",
    "plt.hist(error, bins = 25)\n",
    "plt.xlabel(\"Prediction Error\")\n",
    "_ = plt.ylabel(\"Count\")"
   ]
  },
  {
   "cell_type": "code",
   "execution_count": 0,
   "metadata": {
    "colab": {
     "base_uri": "https://localhost:8080/",
     "height": 1000
    },
    "colab_type": "code",
    "id": "blXKgICFi0Ro",
    "outputId": "8050966e-c309-4367-c062-248b3e14df24"
   },
   "outputs": [
    {
     "name": "stdout",
     "output_type": "stream",
     "text": [
      "\u001b[1m0.9253101183873768\t -> 0.844771146774292\u001b[0m\n",
      "\u001b[1m0.4376695812367682\t -> 0.6900036334991455\u001b[0m\n",
      "\u001b[1m0.5752299800645881\t -> 0.4775069057941437\u001b[0m\n",
      "\u001b[1m-0.1199569910550245\t -> 0.08443000912666321\u001b[0m\n",
      "\u001b[1m0.40597304550207225\t -> 0.2787952125072479\u001b[0m\n",
      "\u001b[1m0.5811767707893347\t -> 0.48165711760520935\u001b[0m\n",
      "\u001b[1m0.9750093372854116\t -> 0.909824013710022\u001b[0m\n",
      "\u001b[1m0.1401992933559522\t -> 0.23806262016296387\u001b[0m\n",
      "\u001b[1m1.3739759229541313\t -> 0.9423508644104004\u001b[0m\n",
      "\u001b[1m0.6946856898612881\t -> 0.8856624364852905\u001b[0m\n",
      "\u001b[1m-0.001150118603132133\t -> 0.020214471966028214\u001b[0m\n",
      "\u001b[1m0.5881237525125731\t -> 0.8030027747154236\u001b[0m\n",
      "\u001b[1m0.3812474960334663\t -> 0.6402677297592163\u001b[0m\n",
      "\u001b[1m0.4401341789134184\t -> 0.039944883435964584\u001b[0m\n",
      "\u001b[1m0.8900953279957494\t -> 0.7123289108276367\u001b[0m\n",
      "\u001b[1m-0.04802065567493513\t -> 0.28667429089546204\u001b[0m\n",
      "\u001b[1m1.0598547372781155\t -> 0.8584114909172058\u001b[0m\n",
      "\u001b[1m0.5604756454309442\t -> 0.2631811499595642\u001b[0m\n",
      "\u001b[1m0.4383320020923558\t -> 0.7479045987129211\u001b[0m\n",
      "\u001b[1m0.06387082984938093\t -> 0.17983266711235046\u001b[0m\n",
      "\u001b[1m0.37267295744045137\t -> 0.45645132660865784\u001b[0m\n",
      "\u001b[1m0.16156976060037262\t -> 0.25446784496307373\u001b[0m\n",
      "\u001b[1m1.0094223328306275\t -> 0.8620730638504028\u001b[0m\n",
      "\u001b[1m0.3531446238367933\t -> 0.3427896201610565\u001b[0m\n",
      "\u001b[1m0.6066797748035686\t -> 0.8607878684997559\u001b[0m\n",
      "\u001b[1m0.6195426921968434\t -> 0.5904040932655334\u001b[0m\n",
      "\u001b[1m0.35294600215198824\t -> 0.31184929609298706\u001b[0m\n",
      "\u001b[1m0.4969176964430765\t -> 0.7956302165985107\u001b[0m\n",
      "\u001b[1m1.0669672645263335\t -> 0.7654097080230713\u001b[0m\n",
      "\u001b[1m0.2654466576315809\t -> 0.45065736770629883\u001b[0m\n",
      "\u001b[1m0.5662071021930748\t -> 0.3616669476032257\u001b[0m\n",
      "\u001b[1m0.6020553272553246\t -> 0.5632442235946655\u001b[0m\n",
      "\u001b[1m0.4802704532463559\t -> 0.44991829991340637\u001b[0m\n",
      "\u001b[1m0.6828323569169343\t -> 0.5673984289169312\u001b[0m\n",
      "\u001b[1m1.290521354734619\t -> 0.7200254201889038\u001b[0m\n",
      "\u001b[1m0.28311841701373863\t -> 0.3900858163833618\u001b[0m\n",
      "\u001b[1m0.002633891674535392\t -> 0.0248115174472332\u001b[0m\n",
      "\u001b[1m1.1310773300420234\t -> 0.7330466508865356\u001b[0m\n",
      "\u001b[1m0.7620337413788524\t -> 0.6241433620452881\u001b[0m\n",
      "\u001b[1m-0.3353099326971009\t -> 0.018833134323358536\u001b[0m\n",
      "\u001b[1m0.4453257583476573\t -> 0.5685129165649414\u001b[0m\n",
      "\u001b[1m0.933031532635094\t -> 0.7402659058570862\u001b[0m\n",
      "\u001b[1m0.33826421528262746\t -> 0.08143958449363708\u001b[0m\n",
      "\u001b[1m0.1764348800902857\t -> 0.2914811074733734\u001b[0m\n",
      "\u001b[1m0.339011388054594\t -> 0.06391341239213943\u001b[0m\n",
      "\u001b[1m0.9813700907273696\t -> 0.8827467560768127\u001b[0m\n",
      "\u001b[1m0.5482372608933821\t -> 0.5981765985488892\u001b[0m\n",
      "\u001b[1m0.4993751100667943\t -> 0.5364428162574768\u001b[0m\n",
      "\u001b[1m-0.006546084720210677\t -> 0.5084649324417114\u001b[0m\n",
      "\u001b[1m0.40424656437827583\t -> 0.3565911650657654\u001b[0m\n",
      "\u001b[1m0.6730291884549872\t -> 0.6977885961532593\u001b[0m\n",
      "\u001b[1m0.4723420740719497\t -> 0.37708479166030884\u001b[0m\n",
      "\u001b[1m0.5369660348415364\t -> 0.6466634273529053\u001b[0m\n",
      "\u001b[1m1.2550128907035918\t -> 0.8176156282424927\u001b[0m\n",
      "\u001b[1m0.5210150118170401\t -> 0.6729208827018738\u001b[0m\n",
      "\u001b[1m-0.040726545800889885\t -> 0.1012038141489029\u001b[0m\n",
      "\u001b[1m0.7684974494077386\t -> 0.7090120911598206\u001b[0m\n",
      "\u001b[1m0.42180516209384417\t -> 0.3634275496006012\u001b[0m\n",
      "\u001b[1m0.2466129933888055\t -> 0.640043318271637\u001b[0m\n",
      "\u001b[1m0.41269612944593775\t -> 0.407998651266098\u001b[0m\n",
      "\u001b[1m0.8421466061360654\t -> 0.4753449559211731\u001b[0m\n",
      "\u001b[1m-0.2240293383760481\t -> 0.2011982649564743\u001b[0m\n",
      "\u001b[1m0.7907776710913652\t -> 0.47897660732269287\u001b[0m\n",
      "\u001b[1m-0.2293824748756764\t -> 0.1724442094564438\u001b[0m\n",
      "\u001b[1m-0.06723477454474787\t -> 0.09370125830173492\u001b[0m\n",
      "\u001b[1m0.8214326451260947\t -> 0.7193514704704285\u001b[0m\n",
      "\u001b[1m0.0073618473332215375\t -> 0.29817309975624084\u001b[0m\n",
      "\u001b[1m0.6829058199162925\t -> 0.4113079309463501\u001b[0m\n",
      "\u001b[1m0.3539494079222173\t -> 0.34807854890823364\u001b[0m\n",
      "\u001b[1m-0.1144984418438224\t -> 0.15191103518009186\u001b[0m\n",
      "\u001b[1m0.05990039968483004\t -> 0.11830831319093704\u001b[0m\n",
      "\u001b[1m-0.09326596736986137\t -> 0.16096428036689758\u001b[0m\n",
      "\u001b[1m0.5474457460485006\t -> 0.3688887059688568\u001b[0m\n",
      "\u001b[1m1.0906181020305463\t -> 0.8608303070068359\u001b[0m\n",
      "\u001b[1m0.4341449163640532\t -> 0.4478350877761841\u001b[0m\n",
      "\u001b[1m0.7516198686631809\t -> 0.8405174016952515\u001b[0m\n",
      "\u001b[1m0.6463195361636809\t -> 0.5441592931747437\u001b[0m\n",
      "\u001b[1m0.821293683637365\t -> 0.9228015542030334\u001b[0m\n",
      "\u001b[1m0.2937345159628221\t -> 0.11925944685935974\u001b[0m\n",
      "\u001b[1m0.6937541085446642\t -> 0.9370081424713135\u001b[0m\n",
      "\u001b[1m0.17913879038902694\t -> 0.15244251489639282\u001b[0m\n",
      "\u001b[1m0.8136118610628993\t -> 0.645201563835144\u001b[0m\n",
      "\u001b[1m0.9647895163352992\t -> 0.7773457169532776\u001b[0m\n",
      "\u001b[1m0.03240267024614507\t -> 0.2152331918478012\u001b[0m\n",
      "\u001b[1m0.35964767567327977\t -> 0.25842025876045227\u001b[0m\n",
      "\u001b[1m0.20203358274406302\t -> 0.38108131289482117\u001b[0m\n",
      "\u001b[1m0.7210899063424108\t -> 0.8240010142326355\u001b[0m\n",
      "\u001b[1m0.9901322110851972\t -> 0.4733365774154663\u001b[0m\n",
      "\u001b[1m0.7400801865108377\t -> 0.6823103427886963\u001b[0m\n",
      "\u001b[1m0.22713804852218156\t -> 0.16771933436393738\u001b[0m\n",
      "\u001b[1m0.9425239968513476\t -> 0.9737769365310669\u001b[0m\n",
      "\u001b[1m0.6448642649725753\t -> 0.758028507232666\u001b[0m\n",
      "\u001b[1m0.8191182166891139\t -> 0.8275008201599121\u001b[0m\n",
      "\u001b[1m0.5838574154239156\t -> 0.5070416331291199\u001b[0m\n",
      "\u001b[1m0.6014692770810796\t -> 0.7101496458053589\u001b[0m\n",
      "\u001b[1m0.6180673681597182\t -> 0.5423336625099182\u001b[0m\n",
      "\u001b[1m0.07430268057911688\t -> 0.2216913104057312\u001b[0m\n",
      "\u001b[1m0.9415289182321218\t -> 0.9082448482513428\u001b[0m\n",
      "\u001b[1m0.06274535463053654\t -> 0.23497316241264343\u001b[0m\n",
      "\u001b[1m0.05208900073458883\t -> 0.1820334792137146\u001b[0m\n"
     ]
    }
   ],
   "source": [
    "for true, pred in zip(y_test, test_predictions):\n",
    "  if pred == true:\n",
    "    print(\"{}\\t -> {}\".format(true, pred))\n",
    "  else:\n",
    "    print(\"\\033[1m{}\\t -> {}\\033[0m\".format(true, pred))"
   ]
  },
  {
   "cell_type": "code",
   "execution_count": 0,
   "metadata": {
    "colab": {
     "base_uri": "https://localhost:8080/",
     "height": 34
    },
    "colab_type": "code",
    "id": "FhHmKd8-zOlp",
    "outputId": "8aa562ab-f8af-4717-fb3a-8d308bbeddf6"
   },
   "outputs": [
    {
     "name": "stdout",
     "output_type": "stream",
     "text": [
      "Testing set Mean Abs Error: 0.0461\n"
     ]
    }
   ],
   "source": [
    "oss, mae, mse = model.evaluate(X_test, y_test, verbose=2)\n",
    "\n",
    "print(\"Testing set Mean Abs Error: {:5.4f}\".format(mae))"
   ]
  },
  {
   "cell_type": "markdown",
   "metadata": {
    "colab_type": "text",
    "id": "P3txja252bGo"
   },
   "source": [
    "## Conclusion(1):\n",
    "\n",
    "The classical machine learning model like SVM, XGBoost, Linear regression and random forest have mean absolute error of around 0.18, meanwhile the MLP has a mean absolute error of 0.0434.\n",
    "\n",
    "As x is correlate to y and z for 0.82, below, I am just going to predict the z by using x values only."
   ]
  },
  {
   "cell_type": "markdown",
   "metadata": {
    "colab_type": "text",
    "id": "iUuPHUQJ2-ki"
   },
   "source": [
    "## Predict the z by using x only\n",
    "\n",
    "#### Use x only as the features"
   ]
  },
  {
   "cell_type": "code",
   "execution_count": 0,
   "metadata": {
    "colab": {
     "base_uri": "https://localhost:8080/",
     "height": 34
    },
    "colab_type": "code",
    "id": "3HA8Y8wA3SP_",
    "outputId": "9a52ee2a-bdf9-48af-83d0-aa519a9dd09e"
   },
   "outputs": [
    {
     "name": "stdout",
     "output_type": "stream",
     "text": [
      "(900, 1)\n"
     ]
    }
   ],
   "source": [
    "#get the features for training data\n",
    "X_train = train[['x']]\n",
    "#output(label) of training data\n",
    "y_train = train['z']\n",
    "#get the testing data features and output(label)\n",
    "X_test = test[['x']]\n",
    "y_test = test['z']\n",
    "\n",
    "print(X_train.shape)"
   ]
  },
  {
   "cell_type": "markdown",
   "metadata": {
    "colab_type": "text",
    "id": "eGQ9ZKjm6A5J"
   },
   "source": [
    "### Using SVM regressor"
   ]
  },
  {
   "cell_type": "code",
   "execution_count": 0,
   "metadata": {
    "colab": {
     "base_uri": "https://localhost:8080/",
     "height": 51
    },
    "colab_type": "code",
    "id": "kKtpvFg43kRC",
    "outputId": "6caa1e58-0649-4e5a-c29a-30ac750d4bf9"
   },
   "outputs": [
    {
     "data": {
      "text/plain": [
       "SVR(C=1000.0, cache_size=200, coef0=0.0, degree=3, epsilon=0.1, gamma=0.1,\n",
       "    kernel='rbf', max_iter=-1, shrinking=True, tol=0.001, verbose=False)"
      ]
     },
     "execution_count": 46,
     "metadata": {
      "tags": []
     },
     "output_type": "execute_result"
    }
   ],
   "source": [
    "# Create and train the Support Vector Machine (Regressor) \n",
    "\n",
    "from sklearn.svm import SVR\n",
    "\n",
    "svr = SVR(kernel='rbf', C=1e3, gamma=0.1) \n",
    "svr.fit(X_train, y_train)"
   ]
  },
  {
   "cell_type": "code",
   "execution_count": 0,
   "metadata": {
    "colab": {
     "base_uri": "https://localhost:8080/",
     "height": 34
    },
    "colab_type": "code",
    "id": "qIN1ngWH3sD5",
    "outputId": "5406f9a2-2a68-4669-f4d9-ce2bd1d6e433"
   },
   "outputs": [
    {
     "name": "stdout",
     "output_type": "stream",
     "text": [
      "svm confidence:  0.6673259316522198\n"
     ]
    }
   ],
   "source": [
    "# Testing Model: Score returns the coefficient of determination R^2 of the prediction. \n",
    "# The best possible score is 1.0\n",
    "svm_confidence = svr.score(X_test, y_test)\n",
    "print(\"svm confidence: \", svm_confidence)"
   ]
  },
  {
   "cell_type": "code",
   "execution_count": 0,
   "metadata": {
    "colab": {
     "base_uri": "https://localhost:8080/",
     "height": 419
    },
    "colab_type": "code",
    "id": "Lt--EtWv331M",
    "outputId": "6da6e148-dc3a-493e-8601-51d961d58b48"
   },
   "outputs": [
    {
     "data": {
      "text/html": [
       "<div>\n",
       "<style scoped>\n",
       "    .dataframe tbody tr th:only-of-type {\n",
       "        vertical-align: middle;\n",
       "    }\n",
       "\n",
       "    .dataframe tbody tr th {\n",
       "        vertical-align: top;\n",
       "    }\n",
       "\n",
       "    .dataframe thead th {\n",
       "        text-align: right;\n",
       "    }\n",
       "</style>\n",
       "<table border=\"1\" class=\"dataframe\">\n",
       "  <thead>\n",
       "    <tr style=\"text-align: right;\">\n",
       "      <th></th>\n",
       "      <th>Actual</th>\n",
       "      <th>Predicted</th>\n",
       "    </tr>\n",
       "  </thead>\n",
       "  <tbody>\n",
       "    <tr>\n",
       "      <th>995</th>\n",
       "      <td>0.925310</td>\n",
       "      <td>0.849011</td>\n",
       "    </tr>\n",
       "    <tr>\n",
       "      <th>649</th>\n",
       "      <td>0.437670</td>\n",
       "      <td>0.688218</td>\n",
       "    </tr>\n",
       "    <tr>\n",
       "      <th>920</th>\n",
       "      <td>0.575230</td>\n",
       "      <td>0.496862</td>\n",
       "    </tr>\n",
       "    <tr>\n",
       "      <th>391</th>\n",
       "      <td>-0.119957</td>\n",
       "      <td>0.071893</td>\n",
       "    </tr>\n",
       "    <tr>\n",
       "      <th>259</th>\n",
       "      <td>0.405973</td>\n",
       "      <td>0.300544</td>\n",
       "    </tr>\n",
       "    <tr>\n",
       "      <th>...</th>\n",
       "      <td>...</td>\n",
       "      <td>...</td>\n",
       "    </tr>\n",
       "    <tr>\n",
       "      <th>654</th>\n",
       "      <td>0.618067</td>\n",
       "      <td>0.550775</td>\n",
       "    </tr>\n",
       "    <tr>\n",
       "      <th>190</th>\n",
       "      <td>0.074303</td>\n",
       "      <td>0.211449</td>\n",
       "    </tr>\n",
       "    <tr>\n",
       "      <th>489</th>\n",
       "      <td>0.941529</td>\n",
       "      <td>0.905176</td>\n",
       "    </tr>\n",
       "    <tr>\n",
       "      <th>719</th>\n",
       "      <td>0.062745</td>\n",
       "      <td>0.229058</td>\n",
       "    </tr>\n",
       "    <tr>\n",
       "      <th>679</th>\n",
       "      <td>0.052089</td>\n",
       "      <td>0.171705</td>\n",
       "    </tr>\n",
       "  </tbody>\n",
       "</table>\n",
       "<p>100 rows × 2 columns</p>\n",
       "</div>"
      ],
      "text/plain": [
       "       Actual  Predicted\n",
       "995  0.925310   0.849011\n",
       "649  0.437670   0.688218\n",
       "920  0.575230   0.496862\n",
       "391 -0.119957   0.071893\n",
       "259  0.405973   0.300544\n",
       "..        ...        ...\n",
       "654  0.618067   0.550775\n",
       "190  0.074303   0.211449\n",
       "489  0.941529   0.905176\n",
       "719  0.062745   0.229058\n",
       "679  0.052089   0.171705\n",
       "\n",
       "[100 rows x 2 columns]"
      ]
     },
     "execution_count": 48,
     "metadata": {
      "tags": []
     },
     "output_type": "execute_result"
    }
   ],
   "source": [
    "y_pred = svr.predict(X_test)\n",
    "df_pred = pd.DataFrame({'Actual': y_test, 'Predicted': y_pred})\n",
    "df_pred"
   ]
  },
  {
   "cell_type": "code",
   "execution_count": 0,
   "metadata": {
    "colab": {
     "base_uri": "https://localhost:8080/",
     "height": 283
    },
    "colab_type": "code",
    "id": "kApzTNHYXyyX",
    "outputId": "c30ea8c7-729d-4d65-812a-56c104e36e24"
   },
   "outputs": [
    {
     "data": {
      "image/png": "[encoded data removed]",
      "text/plain": [
       "<Figure size 432x288 with 1 Axes>"
      ]
     },
     "metadata": {
      "tags": []
     },
     "output_type": "display_data"
    }
   ],
   "source": [
    "a = plt.axes(aspect='equal')\n",
    "plt.scatter(y_test, y_pred.flatten())\n",
    "plt.xlabel('True Values')\n",
    "plt.ylabel('Predictions')\n",
    "lims = [-0.2, 1.2]\n",
    "plt.xlim(lims)\n",
    "plt.ylim(lims)\n",
    "_ = plt.plot(lims, lims)"
   ]
  },
  {
   "cell_type": "code",
   "execution_count": 0,
   "metadata": {
    "colab": {
     "base_uri": "https://localhost:8080/",
     "height": 34
    },
    "colab_type": "code",
    "id": "pH2c6-qB39HX",
    "outputId": "1596e552-cd12-4318-b597-8cc3c705abbb"
   },
   "outputs": [
    {
     "name": "stdout",
     "output_type": "stream",
     "text": [
      "MAE by using SVM is 0.16954612684456583.\n"
     ]
    }
   ],
   "source": [
    "print(\"MAE by using SVM is {}.\".format(mean_absolute_error(y_test,y_pred)))"
   ]
  },
  {
   "cell_type": "markdown",
   "metadata": {
    "colab_type": "text",
    "id": "8QVKHlUb6F1L"
   },
   "source": [
    "### Using MLP"
   ]
  },
  {
   "cell_type": "code",
   "execution_count": 0,
   "metadata": {
    "colab": {},
    "colab_type": "code",
    "id": "lDSNaAS14b09"
   },
   "outputs": [],
   "source": [
    "X_train, X_val, y_train, y_val = split(X_train, y_train, test_size = 0.1)"
   ]
  },
  {
   "cell_type": "code",
   "execution_count": 0,
   "metadata": {
    "colab": {
     "base_uri": "https://localhost:8080/",
     "height": 323
    },
    "colab_type": "code",
    "id": "cFYeAgXa5gof",
    "outputId": "f01cbef5-d045-4cee-fe13-1330e923e1f9"
   },
   "outputs": [
    {
     "name": "stdout",
     "output_type": "stream",
     "text": [
      "Model: \"sequential_2\"\n",
      "_________________________________________________________________\n",
      "Layer (type)                 Output Shape              Param #   \n",
      "=================================================================\n",
      "dense_4 (Dense)              (None, 1000)              2000      \n",
      "_________________________________________________________________\n",
      "dropout_3 (Dropout)          (None, 1000)              0         \n",
      "_________________________________________________________________\n",
      "dense_5 (Dense)              (None, 500)               500500    \n",
      "_________________________________________________________________\n",
      "dropout_4 (Dropout)          (None, 500)               0         \n",
      "_________________________________________________________________\n",
      "dense_6 (Dense)              (None, 1)                 501       \n",
      "=================================================================\n",
      "Total params: 503,001\n",
      "Trainable params: 503,001\n",
      "Non-trainable params: 0\n",
      "_________________________________________________________________\n"
     ]
    }
   ],
   "source": [
    "model2 = Sequential()\n",
    "model2.add(Dense(1000, input_dim=1,activation='relu'))\n",
    "model2.add(Dropout(0.5))\n",
    "model2.add(Dense(500, activation=\"relu\"))\n",
    "model2.add(Dropout(0.5))\n",
    "model2.add(Dense(1, activation='linear'))\n",
    "model2.summary()"
   ]
  },
  {
   "cell_type": "code",
   "execution_count": 0,
   "metadata": {
    "colab": {
     "base_uri": "https://localhost:8080/",
     "height": 1000
    },
    "colab_type": "code",
    "id": "3TTR1GJL4w-H",
    "outputId": "671cdd99-12ed-47ac-b501-f326194ab212"
   },
   "outputs": [
    {
     "name": "stdout",
     "output_type": "stream",
     "text": [
      "Train on 810 samples, validate on 90 samples\n",
      "Epoch 1/150\n",
      "810/810 [==============================] - 0s 461us/step - loss: 0.3394 - mean_squared_error: 0.3394 - mean_absolute_error: 0.4942 - val_loss: 0.3125 - val_mean_squared_error: 0.3125 - val_mean_absolute_error: 0.4706\n",
      "\n",
      "Epoch 00001: val_loss improved from inf to 0.31248, saving model to best2.hdf5\n",
      "Epoch 2/150\n",
      "810/810 [==============================] - 0s 33us/step - loss: 0.3046 - mean_squared_error: 0.3046 - mean_absolute_error: 0.4641 - val_loss: 0.2539 - val_mean_squared_error: 0.2539 - val_mean_absolute_error: 0.4222\n",
      "\n",
      "Epoch 00002: val_loss improved from 0.31248 to 0.25389, saving model to best2.hdf5\n",
      "Epoch 3/150\n",
      "810/810 [==============================] - 0s 39us/step - loss: 0.2319 - mean_squared_error: 0.2319 - mean_absolute_error: 0.4013 - val_loss: 0.1806 - val_mean_squared_error: 0.1806 - val_mean_absolute_error: 0.3547\n",
      "\n",
      "Epoch 00003: val_loss improved from 0.25389 to 0.18059, saving model to best2.hdf5\n",
      "Epoch 4/150\n",
      "810/810 [==============================] - 0s 43us/step - loss: 0.1523 - mean_squared_error: 0.1523 - mean_absolute_error: 0.3192 - val_loss: 0.1079 - val_mean_squared_error: 0.1079 - val_mean_absolute_error: 0.2711\n",
      "\n",
      "Epoch 00004: val_loss improved from 0.18059 to 0.10788, saving model to best2.hdf5\n",
      "Epoch 5/150\n",
      "810/810 [==============================] - 0s 32us/step - loss: 0.0843 - mean_squared_error: 0.0843 - mean_absolute_error: 0.2345 - val_loss: 0.0575 - val_mean_squared_error: 0.0575 - val_mean_absolute_error: 0.1936\n",
      "\n",
      "Epoch 00005: val_loss improved from 0.10788 to 0.05746, saving model to best2.hdf5\n",
      "Epoch 6/150\n",
      "810/810 [==============================] - 0s 37us/step - loss: 0.0513 - mean_squared_error: 0.0513 - mean_absolute_error: 0.1805 - val_loss: 0.0459 - val_mean_squared_error: 0.0459 - val_mean_absolute_error: 0.1807\n",
      "\n",
      "Epoch 00006: val_loss improved from 0.05746 to 0.04594, saving model to best2.hdf5\n",
      "Epoch 7/150\n",
      "810/810 [==============================] - 0s 32us/step - loss: 0.0503 - mean_squared_error: 0.0503 - mean_absolute_error: 0.1787 - val_loss: 0.0504 - val_mean_squared_error: 0.0504 - val_mean_absolute_error: 0.1881\n",
      "\n",
      "Epoch 00007: val_loss did not improve from 0.04594\n",
      "Epoch 8/150\n",
      "810/810 [==============================] - 0s 42us/step - loss: 0.0531 - mean_squared_error: 0.0531 - mean_absolute_error: 0.1876 - val_loss: 0.0469 - val_mean_squared_error: 0.0469 - val_mean_absolute_error: 0.1828\n",
      "\n",
      "Epoch 00008: val_loss did not improve from 0.04594\n",
      "Epoch 9/150\n",
      "810/810 [==============================] - 0s 37us/step - loss: 0.0489 - mean_squared_error: 0.0489 - mean_absolute_error: 0.1793 - val_loss: 0.0442 - val_mean_squared_error: 0.0442 - val_mean_absolute_error: 0.1771\n",
      "\n",
      "Epoch 00009: val_loss improved from 0.04594 to 0.04424, saving model to best2.hdf5\n",
      "Epoch 10/150\n",
      "810/810 [==============================] - 0s 34us/step - loss: 0.0474 - mean_squared_error: 0.0474 - mean_absolute_error: 0.1753 - val_loss: 0.0448 - val_mean_squared_error: 0.0448 - val_mean_absolute_error: 0.1763\n",
      "\n",
      "Epoch 00010: val_loss did not improve from 0.04424\n",
      "Epoch 11/150\n",
      "810/810 [==============================] - 0s 35us/step - loss: 0.0464 - mean_squared_error: 0.0464 - mean_absolute_error: 0.1722 - val_loss: 0.0443 - val_mean_squared_error: 0.0443 - val_mean_absolute_error: 0.1759\n",
      "\n",
      "Epoch 00011: val_loss did not improve from 0.04424\n",
      "Epoch 12/150\n",
      "810/810 [==============================] - 0s 41us/step - loss: 0.0460 - mean_squared_error: 0.0460 - mean_absolute_error: 0.1711 - val_loss: 0.0434 - val_mean_squared_error: 0.0434 - val_mean_absolute_error: 0.1755\n",
      "\n",
      "Epoch 00012: val_loss improved from 0.04424 to 0.04345, saving model to best2.hdf5\n",
      "Epoch 13/150\n",
      "810/810 [==============================] - 0s 52us/step - loss: 0.0461 - mean_squared_error: 0.0461 - mean_absolute_error: 0.1729 - val_loss: 0.0431 - val_mean_squared_error: 0.0431 - val_mean_absolute_error: 0.1752\n",
      "\n",
      "Epoch 00013: val_loss improved from 0.04345 to 0.04311, saving model to best2.hdf5\n",
      "Epoch 14/150\n",
      "810/810 [==============================] - 0s 36us/step - loss: 0.0449 - mean_squared_error: 0.0449 - mean_absolute_error: 0.1702 - val_loss: 0.0429 - val_mean_squared_error: 0.0429 - val_mean_absolute_error: 0.1746\n",
      "\n",
      "Epoch 00014: val_loss improved from 0.04311 to 0.04286, saving model to best2.hdf5\n",
      "Epoch 15/150\n",
      "810/810 [==============================] - 0s 33us/step - loss: 0.0450 - mean_squared_error: 0.0450 - mean_absolute_error: 0.1711 - val_loss: 0.0428 - val_mean_squared_error: 0.0428 - val_mean_absolute_error: 0.1741\n",
      "\n",
      "Epoch 00015: val_loss improved from 0.04286 to 0.04282, saving model to best2.hdf5\n",
      "Epoch 16/150\n",
      "810/810 [==============================] - 0s 42us/step - loss: 0.0456 - mean_squared_error: 0.0456 - mean_absolute_error: 0.1720 - val_loss: 0.0430 - val_mean_squared_error: 0.0430 - val_mean_absolute_error: 0.1738\n",
      "\n",
      "Epoch 00016: val_loss did not improve from 0.04282\n",
      "Epoch 17/150\n",
      "810/810 [==============================] - 0s 37us/step - loss: 0.0467 - mean_squared_error: 0.0467 - mean_absolute_error: 0.1734 - val_loss: 0.0425 - val_mean_squared_error: 0.0425 - val_mean_absolute_error: 0.1735\n",
      "\n",
      "Epoch 00017: val_loss improved from 0.04282 to 0.04250, saving model to best2.hdf5\n",
      "Epoch 18/150\n",
      "810/810 [==============================] - 0s 41us/step - loss: 0.0471 - mean_squared_error: 0.0471 - mean_absolute_error: 0.1748 - val_loss: 0.0423 - val_mean_squared_error: 0.0423 - val_mean_absolute_error: 0.1732\n",
      "\n",
      "Epoch 00018: val_loss improved from 0.04250 to 0.04225, saving model to best2.hdf5\n",
      "Epoch 19/150\n",
      "810/810 [==============================] - 0s 42us/step - loss: 0.0449 - mean_squared_error: 0.0449 - mean_absolute_error: 0.1712 - val_loss: 0.0422 - val_mean_squared_error: 0.0422 - val_mean_absolute_error: 0.1729\n",
      "\n",
      "Epoch 00019: val_loss improved from 0.04225 to 0.04217, saving model to best2.hdf5\n",
      "Epoch 20/150\n",
      "810/810 [==============================] - 0s 33us/step - loss: 0.0465 - mean_squared_error: 0.0465 - mean_absolute_error: 0.1730 - val_loss: 0.0421 - val_mean_squared_error: 0.0421 - val_mean_absolute_error: 0.1726\n",
      "\n",
      "Epoch 00020: val_loss improved from 0.04217 to 0.04209, saving model to best2.hdf5\n",
      "Epoch 21/150\n",
      "810/810 [==============================] - 0s 37us/step - loss: 0.0461 - mean_squared_error: 0.0461 - mean_absolute_error: 0.1741 - val_loss: 0.0419 - val_mean_squared_error: 0.0419 - val_mean_absolute_error: 0.1727\n",
      "\n",
      "Epoch 00021: val_loss improved from 0.04209 to 0.04188, saving model to best2.hdf5\n",
      "Epoch 22/150\n",
      "810/810 [==============================] - 0s 40us/step - loss: 0.0474 - mean_squared_error: 0.0474 - mean_absolute_error: 0.1752 - val_loss: 0.0418 - val_mean_squared_error: 0.0418 - val_mean_absolute_error: 0.1724\n",
      "\n",
      "Epoch 00022: val_loss improved from 0.04188 to 0.04183, saving model to best2.hdf5\n",
      "Epoch 23/150\n",
      "810/810 [==============================] - 0s 35us/step - loss: 0.0454 - mean_squared_error: 0.0454 - mean_absolute_error: 0.1703 - val_loss: 0.0421 - val_mean_squared_error: 0.0421 - val_mean_absolute_error: 0.1723\n",
      "\n",
      "Epoch 00023: val_loss did not improve from 0.04183\n",
      "Epoch 24/150\n",
      "810/810 [==============================] - 0s 34us/step - loss: 0.0441 - mean_squared_error: 0.0441 - mean_absolute_error: 0.1683 - val_loss: 0.0420 - val_mean_squared_error: 0.0420 - val_mean_absolute_error: 0.1722\n",
      "\n",
      "Epoch 00024: ReduceLROnPlateau reducing learning rate to 0.0005000000237487257.\n",
      "\n",
      "Epoch 00024: val_loss did not improve from 0.04183\n",
      "Epoch 25/150\n",
      "810/810 [==============================] - 0s 44us/step - loss: 0.0453 - mean_squared_error: 0.0453 - mean_absolute_error: 0.1710 - val_loss: 0.0419 - val_mean_squared_error: 0.0419 - val_mean_absolute_error: 0.1722\n",
      "\n",
      "Epoch 00025: val_loss did not improve from 0.04183\n",
      "Epoch 26/150\n",
      "810/810 [==============================] - 0s 49us/step - loss: 0.0452 - mean_squared_error: 0.0452 - mean_absolute_error: 0.1712 - val_loss: 0.0420 - val_mean_squared_error: 0.0420 - val_mean_absolute_error: 0.1722\n",
      "\n",
      "Epoch 00026: val_loss did not improve from 0.04183\n",
      "Epoch 27/150\n",
      "810/810 [==============================] - 0s 37us/step - loss: 0.0444 - mean_squared_error: 0.0444 - mean_absolute_error: 0.1691 - val_loss: 0.0419 - val_mean_squared_error: 0.0419 - val_mean_absolute_error: 0.1722\n",
      "\n",
      "Epoch 00027: ReduceLROnPlateau reducing learning rate to 0.0002500000118743628.\n",
      "\n",
      "Epoch 00027: val_loss did not improve from 0.04183\n",
      "Epoch 28/150\n",
      "810/810 [==============================] - 0s 35us/step - loss: 0.0455 - mean_squared_error: 0.0455 - mean_absolute_error: 0.1720 - val_loss: 0.0419 - val_mean_squared_error: 0.0419 - val_mean_absolute_error: 0.1722\n",
      "\n",
      "Epoch 00028: val_loss did not improve from 0.04183\n",
      "Epoch 29/150\n",
      "810/810 [==============================] - 0s 39us/step - loss: 0.0457 - mean_squared_error: 0.0457 - mean_absolute_error: 0.1707 - val_loss: 0.0418 - val_mean_squared_error: 0.0418 - val_mean_absolute_error: 0.1722\n",
      "\n",
      "Epoch 00029: val_loss did not improve from 0.04183\n",
      "Epoch 30/150\n",
      "810/810 [==============================] - 0s 35us/step - loss: 0.0446 - mean_squared_error: 0.0446 - mean_absolute_error: 0.1697 - val_loss: 0.0419 - val_mean_squared_error: 0.0419 - val_mean_absolute_error: 0.1721\n",
      "\n",
      "Epoch 00030: ReduceLROnPlateau reducing learning rate to 0.0001250000059371814.\n",
      "\n",
      "Epoch 00030: val_loss did not improve from 0.04183\n",
      "Epoch 31/150\n",
      "810/810 [==============================] - 0s 39us/step - loss: 0.0460 - mean_squared_error: 0.0460 - mean_absolute_error: 0.1727 - val_loss: 0.0419 - val_mean_squared_error: 0.0419 - val_mean_absolute_error: 0.1721\n",
      "\n",
      "Epoch 00031: val_loss did not improve from 0.04183\n",
      "Epoch 32/150\n",
      "810/810 [==============================] - 0s 42us/step - loss: 0.0469 - mean_squared_error: 0.0469 - mean_absolute_error: 0.1733 - val_loss: 0.0419 - val_mean_squared_error: 0.0419 - val_mean_absolute_error: 0.1721\n",
      "\n",
      "Epoch 00032: val_loss did not improve from 0.04183\n",
      "Epoch 33/150\n",
      "810/810 [==============================] - 0s 39us/step - loss: 0.0444 - mean_squared_error: 0.0444 - mean_absolute_error: 0.1681 - val_loss: 0.0419 - val_mean_squared_error: 0.0419 - val_mean_absolute_error: 0.1721\n",
      "\n",
      "Epoch 00033: ReduceLROnPlateau reducing learning rate to 6.25000029685907e-05.\n",
      "\n",
      "Epoch 00033: val_loss did not improve from 0.04183\n",
      "Epoch 34/150\n",
      "810/810 [==============================] - 0s 34us/step - loss: 0.0444 - mean_squared_error: 0.0444 - mean_absolute_error: 0.1693 - val_loss: 0.0419 - val_mean_squared_error: 0.0419 - val_mean_absolute_error: 0.1721\n",
      "\n",
      "Epoch 00034: val_loss did not improve from 0.04183\n",
      "Epoch 35/150\n",
      "810/810 [==============================] - 0s 39us/step - loss: 0.0455 - mean_squared_error: 0.0455 - mean_absolute_error: 0.1712 - val_loss: 0.0419 - val_mean_squared_error: 0.0419 - val_mean_absolute_error: 0.1721\n",
      "\n",
      "Epoch 00035: val_loss did not improve from 0.04183\n",
      "Epoch 36/150\n",
      "810/810 [==============================] - 0s 31us/step - loss: 0.0457 - mean_squared_error: 0.0457 - mean_absolute_error: 0.1700 - val_loss: 0.0419 - val_mean_squared_error: 0.0419 - val_mean_absolute_error: 0.1721\n",
      "\n",
      "Epoch 00036: ReduceLROnPlateau reducing learning rate to 3.125000148429535e-05.\n",
      "\n",
      "Epoch 00036: val_loss did not improve from 0.04183\n",
      "Epoch 37/150\n",
      "810/810 [==============================] - 0s 37us/step - loss: 0.0462 - mean_squared_error: 0.0462 - mean_absolute_error: 0.1733 - val_loss: 0.0419 - val_mean_squared_error: 0.0419 - val_mean_absolute_error: 0.1721\n",
      "\n",
      "Epoch 00037: val_loss did not improve from 0.04183\n",
      "Epoch 38/150\n",
      "810/810 [==============================] - 0s 34us/step - loss: 0.0445 - mean_squared_error: 0.0445 - mean_absolute_error: 0.1691 - val_loss: 0.0418 - val_mean_squared_error: 0.0418 - val_mean_absolute_error: 0.1721\n",
      "\n",
      "Epoch 00038: val_loss did not improve from 0.04183\n",
      "Epoch 39/150\n",
      "810/810 [==============================] - 0s 39us/step - loss: 0.0433 - mean_squared_error: 0.0433 - mean_absolute_error: 0.1677 - val_loss: 0.0418 - val_mean_squared_error: 0.0418 - val_mean_absolute_error: 0.1721\n",
      "\n",
      "Epoch 00039: ReduceLROnPlateau reducing learning rate to 1.5625000742147677e-05.\n",
      "\n",
      "Epoch 00039: val_loss improved from 0.04183 to 0.04182, saving model to best2.hdf5\n",
      "Epoch 40/150\n",
      "810/810 [==============================] - 0s 44us/step - loss: 0.0444 - mean_squared_error: 0.0444 - mean_absolute_error: 0.1684 - val_loss: 0.0418 - val_mean_squared_error: 0.0418 - val_mean_absolute_error: 0.1721\n",
      "\n",
      "Epoch 00040: val_loss improved from 0.04182 to 0.04182, saving model to best2.hdf5\n",
      "Epoch 41/150\n",
      "810/810 [==============================] - 0s 37us/step - loss: 0.0441 - mean_squared_error: 0.0441 - mean_absolute_error: 0.1690 - val_loss: 0.0418 - val_mean_squared_error: 0.0418 - val_mean_absolute_error: 0.1721\n",
      "\n",
      "Epoch 00041: val_loss improved from 0.04182 to 0.04182, saving model to best2.hdf5\n",
      "Epoch 42/150\n",
      "810/810 [==============================] - 0s 41us/step - loss: 0.0449 - mean_squared_error: 0.0449 - mean_absolute_error: 0.1708 - val_loss: 0.0418 - val_mean_squared_error: 0.0418 - val_mean_absolute_error: 0.1721\n",
      "\n",
      "Epoch 00042: ReduceLROnPlateau reducing learning rate to 1e-05.\n",
      "\n",
      "Epoch 00042: val_loss improved from 0.04182 to 0.04180, saving model to best2.hdf5\n",
      "Epoch 43/150\n",
      "810/810 [==============================] - 0s 42us/step - loss: 0.0451 - mean_squared_error: 0.0451 - mean_absolute_error: 0.1708 - val_loss: 0.0418 - val_mean_squared_error: 0.0418 - val_mean_absolute_error: 0.1721\n",
      "\n",
      "Epoch 00043: val_loss improved from 0.04180 to 0.04180, saving model to best2.hdf5\n",
      "Epoch 44/150\n",
      "810/810 [==============================] - 0s 48us/step - loss: 0.0443 - mean_squared_error: 0.0443 - mean_absolute_error: 0.1688 - val_loss: 0.0418 - val_mean_squared_error: 0.0418 - val_mean_absolute_error: 0.1721\n",
      "\n",
      "Epoch 00044: val_loss improved from 0.04180 to 0.04180, saving model to best2.hdf5\n",
      "Epoch 45/150\n",
      "810/810 [==============================] - 0s 36us/step - loss: 0.0452 - mean_squared_error: 0.0452 - mean_absolute_error: 0.1693 - val_loss: 0.0418 - val_mean_squared_error: 0.0418 - val_mean_absolute_error: 0.1721\n",
      "\n",
      "Epoch 00045: val_loss improved from 0.04180 to 0.04179, saving model to best2.hdf5\n",
      "Epoch 46/150\n",
      "810/810 [==============================] - 0s 35us/step - loss: 0.0440 - mean_squared_error: 0.0440 - mean_absolute_error: 0.1689 - val_loss: 0.0418 - val_mean_squared_error: 0.0418 - val_mean_absolute_error: 0.1721\n",
      "\n",
      "Epoch 00046: val_loss did not improve from 0.04179\n",
      "Epoch 47/150\n",
      "810/810 [==============================] - 0s 36us/step - loss: 0.0449 - mean_squared_error: 0.0449 - mean_absolute_error: 0.1710 - val_loss: 0.0418 - val_mean_squared_error: 0.0418 - val_mean_absolute_error: 0.1721\n",
      "\n",
      "Epoch 00047: val_loss improved from 0.04179 to 0.04179, saving model to best2.hdf5\n",
      "Epoch 48/150\n",
      "810/810 [==============================] - 0s 46us/step - loss: 0.0446 - mean_squared_error: 0.0446 - mean_absolute_error: 0.1701 - val_loss: 0.0418 - val_mean_squared_error: 0.0418 - val_mean_absolute_error: 0.1721\n",
      "\n",
      "Epoch 00048: val_loss did not improve from 0.04179\n",
      "Epoch 49/150\n",
      "810/810 [==============================] - 0s 35us/step - loss: 0.0445 - mean_squared_error: 0.0445 - mean_absolute_error: 0.1699 - val_loss: 0.0418 - val_mean_squared_error: 0.0418 - val_mean_absolute_error: 0.1721\n",
      "\n",
      "Epoch 00049: val_loss improved from 0.04179 to 0.04179, saving model to best2.hdf5\n",
      "Epoch 50/150\n",
      "810/810 [==============================] - 0s 34us/step - loss: 0.0446 - mean_squared_error: 0.0446 - mean_absolute_error: 0.1695 - val_loss: 0.0418 - val_mean_squared_error: 0.0418 - val_mean_absolute_error: 0.1721\n",
      "\n",
      "Epoch 00050: val_loss did not improve from 0.04179\n",
      "Epoch 51/150\n",
      "810/810 [==============================] - 0s 38us/step - loss: 0.0463 - mean_squared_error: 0.0463 - mean_absolute_error: 0.1726 - val_loss: 0.0418 - val_mean_squared_error: 0.0418 - val_mean_absolute_error: 0.1721\n",
      "\n",
      "Epoch 00051: val_loss did not improve from 0.04179\n",
      "Epoch 52/150\n",
      "810/810 [==============================] - 0s 33us/step - loss: 0.0454 - mean_squared_error: 0.0454 - mean_absolute_error: 0.1706 - val_loss: 0.0418 - val_mean_squared_error: 0.0418 - val_mean_absolute_error: 0.1721\n",
      "\n",
      "Epoch 00052: val_loss did not improve from 0.04179\n",
      "Epoch 53/150\n",
      "810/810 [==============================] - 0s 53us/step - loss: 0.0443 - mean_squared_error: 0.0443 - mean_absolute_error: 0.1678 - val_loss: 0.0418 - val_mean_squared_error: 0.0418 - val_mean_absolute_error: 0.1721\n",
      "\n",
      "Epoch 00053: val_loss improved from 0.04179 to 0.04178, saving model to best2.hdf5\n",
      "Epoch 54/150\n",
      "810/810 [==============================] - 0s 58us/step - loss: 0.0447 - mean_squared_error: 0.0447 - mean_absolute_error: 0.1711 - val_loss: 0.0418 - val_mean_squared_error: 0.0418 - val_mean_absolute_error: 0.1721\n",
      "\n",
      "Epoch 00054: val_loss improved from 0.04178 to 0.04177, saving model to best2.hdf5\n",
      "Epoch 55/150\n",
      "810/810 [==============================] - 0s 42us/step - loss: 0.0442 - mean_squared_error: 0.0442 - mean_absolute_error: 0.1689 - val_loss: 0.0418 - val_mean_squared_error: 0.0418 - val_mean_absolute_error: 0.1721\n",
      "\n",
      "Epoch 00055: val_loss improved from 0.04177 to 0.04177, saving model to best2.hdf5\n",
      "Epoch 56/150\n",
      "810/810 [==============================] - 0s 41us/step - loss: 0.0438 - mean_squared_error: 0.0438 - mean_absolute_error: 0.1694 - val_loss: 0.0418 - val_mean_squared_error: 0.0418 - val_mean_absolute_error: 0.1721\n",
      "\n",
      "Epoch 00056: val_loss improved from 0.04177 to 0.04177, saving model to best2.hdf5\n",
      "Epoch 57/150\n",
      "810/810 [==============================] - 0s 35us/step - loss: 0.0451 - mean_squared_error: 0.0451 - mean_absolute_error: 0.1707 - val_loss: 0.0418 - val_mean_squared_error: 0.0418 - val_mean_absolute_error: 0.1721\n",
      "\n",
      "Epoch 00057: val_loss improved from 0.04177 to 0.04176, saving model to best2.hdf5\n",
      "Epoch 58/150\n",
      "810/810 [==============================] - 0s 39us/step - loss: 0.0442 - mean_squared_error: 0.0442 - mean_absolute_error: 0.1691 - val_loss: 0.0418 - val_mean_squared_error: 0.0418 - val_mean_absolute_error: 0.1721\n",
      "\n",
      "Epoch 00058: val_loss improved from 0.04176 to 0.04175, saving model to best2.hdf5\n",
      "Epoch 59/150\n",
      "810/810 [==============================] - 0s 37us/step - loss: 0.0441 - mean_squared_error: 0.0441 - mean_absolute_error: 0.1687 - val_loss: 0.0417 - val_mean_squared_error: 0.0417 - val_mean_absolute_error: 0.1721\n",
      "\n",
      "Epoch 00059: val_loss improved from 0.04175 to 0.04175, saving model to best2.hdf5\n",
      "Epoch 60/150\n",
      "810/810 [==============================] - 0s 41us/step - loss: 0.0442 - mean_squared_error: 0.0442 - mean_absolute_error: 0.1691 - val_loss: 0.0417 - val_mean_squared_error: 0.0417 - val_mean_absolute_error: 0.1721\n",
      "\n",
      "Epoch 00060: val_loss improved from 0.04175 to 0.04175, saving model to best2.hdf5\n",
      "Epoch 61/150\n",
      "810/810 [==============================] - 0s 57us/step - loss: 0.0437 - mean_squared_error: 0.0437 - mean_absolute_error: 0.1671 - val_loss: 0.0418 - val_mean_squared_error: 0.0418 - val_mean_absolute_error: 0.1721\n",
      "\n",
      "Epoch 00061: val_loss did not improve from 0.04175\n",
      "Epoch 62/150\n",
      "810/810 [==============================] - 0s 43us/step - loss: 0.0447 - mean_squared_error: 0.0447 - mean_absolute_error: 0.1714 - val_loss: 0.0418 - val_mean_squared_error: 0.0418 - val_mean_absolute_error: 0.1721\n",
      "\n",
      "Epoch 00062: val_loss did not improve from 0.04175\n",
      "Epoch 63/150\n",
      "810/810 [==============================] - 0s 42us/step - loss: 0.0454 - mean_squared_error: 0.0454 - mean_absolute_error: 0.1715 - val_loss: 0.0418 - val_mean_squared_error: 0.0418 - val_mean_absolute_error: 0.1721\n",
      "\n",
      "Epoch 00063: val_loss did not improve from 0.04175\n",
      "Epoch 64/150\n",
      "810/810 [==============================] - 0s 44us/step - loss: 0.0440 - mean_squared_error: 0.0440 - mean_absolute_error: 0.1676 - val_loss: 0.0418 - val_mean_squared_error: 0.0418 - val_mean_absolute_error: 0.1721\n",
      "\n",
      "Epoch 00064: val_loss did not improve from 0.04175\n",
      "Epoch 65/150\n",
      "810/810 [==============================] - 0s 40us/step - loss: 0.0436 - mean_squared_error: 0.0436 - mean_absolute_error: 0.1679 - val_loss: 0.0418 - val_mean_squared_error: 0.0418 - val_mean_absolute_error: 0.1721\n",
      "\n",
      "Epoch 00065: val_loss did not improve from 0.04175\n",
      "Epoch 66/150\n",
      "810/810 [==============================] - 0s 36us/step - loss: 0.0454 - mean_squared_error: 0.0454 - mean_absolute_error: 0.1708 - val_loss: 0.0418 - val_mean_squared_error: 0.0418 - val_mean_absolute_error: 0.1721\n",
      "\n",
      "Epoch 00066: val_loss did not improve from 0.04175\n",
      "Epoch 67/150\n",
      "810/810 [==============================] - 0s 35us/step - loss: 0.0453 - mean_squared_error: 0.0453 - mean_absolute_error: 0.1706 - val_loss: 0.0418 - val_mean_squared_error: 0.0418 - val_mean_absolute_error: 0.1721\n",
      "\n",
      "Epoch 00067: val_loss did not improve from 0.04175\n",
      "Epoch 68/150\n",
      "810/810 [==============================] - 0s 32us/step - loss: 0.0450 - mean_squared_error: 0.0450 - mean_absolute_error: 0.1704 - val_loss: 0.0418 - val_mean_squared_error: 0.0418 - val_mean_absolute_error: 0.1721\n",
      "\n",
      "Epoch 00068: val_loss did not improve from 0.04175\n",
      "Epoch 69/150\n",
      "810/810 [==============================] - 0s 37us/step - loss: 0.0449 - mean_squared_error: 0.0449 - mean_absolute_error: 0.1691 - val_loss: 0.0418 - val_mean_squared_error: 0.0418 - val_mean_absolute_error: 0.1721\n",
      "\n",
      "Epoch 00069: val_loss did not improve from 0.04175\n",
      "Epoch 70/150\n",
      "810/810 [==============================] - 0s 37us/step - loss: 0.0453 - mean_squared_error: 0.0453 - mean_absolute_error: 0.1713 - val_loss: 0.0418 - val_mean_squared_error: 0.0418 - val_mean_absolute_error: 0.1721\n",
      "\n",
      "Epoch 00070: val_loss did not improve from 0.04175\n",
      "Epoch 71/150\n",
      "810/810 [==============================] - 0s 38us/step - loss: 0.0465 - mean_squared_error: 0.0465 - mean_absolute_error: 0.1747 - val_loss: 0.0418 - val_mean_squared_error: 0.0418 - val_mean_absolute_error: 0.1721\n",
      "\n",
      "Epoch 00071: val_loss did not improve from 0.04175\n",
      "Epoch 72/150\n",
      "810/810 [==============================] - 0s 32us/step - loss: 0.0453 - mean_squared_error: 0.0453 - mean_absolute_error: 0.1721 - val_loss: 0.0418 - val_mean_squared_error: 0.0418 - val_mean_absolute_error: 0.1721\n",
      "\n",
      "Epoch 00072: val_loss did not improve from 0.04175\n",
      "Epoch 73/150\n",
      "810/810 [==============================] - 0s 34us/step - loss: 0.0452 - mean_squared_error: 0.0452 - mean_absolute_error: 0.1713 - val_loss: 0.0418 - val_mean_squared_error: 0.0418 - val_mean_absolute_error: 0.1721\n",
      "\n",
      "Epoch 00073: val_loss did not improve from 0.04175\n",
      "Epoch 74/150\n",
      "810/810 [==============================] - 0s 49us/step - loss: 0.0470 - mean_squared_error: 0.0470 - mean_absolute_error: 0.1741 - val_loss: 0.0418 - val_mean_squared_error: 0.0418 - val_mean_absolute_error: 0.1721\n",
      "\n",
      "Epoch 00074: val_loss did not improve from 0.04175\n",
      "Epoch 75/150\n",
      "810/810 [==============================] - 0s 44us/step - loss: 0.0464 - mean_squared_error: 0.0464 - mean_absolute_error: 0.1726 - val_loss: 0.0418 - val_mean_squared_error: 0.0418 - val_mean_absolute_error: 0.1721\n",
      "\n",
      "Epoch 00075: val_loss did not improve from 0.04175\n",
      "Epoch 76/150\n",
      "810/810 [==============================] - 0s 37us/step - loss: 0.0448 - mean_squared_error: 0.0448 - mean_absolute_error: 0.1697 - val_loss: 0.0418 - val_mean_squared_error: 0.0418 - val_mean_absolute_error: 0.1721\n",
      "\n",
      "Epoch 00076: val_loss did not improve from 0.04175\n",
      "Epoch 77/150\n",
      "810/810 [==============================] - 0s 38us/step - loss: 0.0453 - mean_squared_error: 0.0453 - mean_absolute_error: 0.1704 - val_loss: 0.0418 - val_mean_squared_error: 0.0418 - val_mean_absolute_error: 0.1721\n",
      "\n",
      "Epoch 00077: val_loss did not improve from 0.04175\n",
      "Epoch 78/150\n",
      "810/810 [==============================] - 0s 41us/step - loss: 0.0455 - mean_squared_error: 0.0455 - mean_absolute_error: 0.1710 - val_loss: 0.0418 - val_mean_squared_error: 0.0418 - val_mean_absolute_error: 0.1721\n",
      "\n",
      "Epoch 00078: val_loss did not improve from 0.04175\n",
      "Epoch 79/150\n",
      "810/810 [==============================] - 0s 33us/step - loss: 0.0446 - mean_squared_error: 0.0446 - mean_absolute_error: 0.1704 - val_loss: 0.0418 - val_mean_squared_error: 0.0418 - val_mean_absolute_error: 0.1721\n",
      "\n",
      "Epoch 00079: val_loss did not improve from 0.04175\n",
      "Epoch 80/150\n",
      "810/810 [==============================] - 0s 34us/step - loss: 0.0439 - mean_squared_error: 0.0439 - mean_absolute_error: 0.1677 - val_loss: 0.0418 - val_mean_squared_error: 0.0418 - val_mean_absolute_error: 0.1721\n",
      "\n",
      "Epoch 00080: val_loss did not improve from 0.04175\n",
      "Epoch 81/150\n",
      "810/810 [==============================] - 0s 32us/step - loss: 0.0456 - mean_squared_error: 0.0456 - mean_absolute_error: 0.1709 - val_loss: 0.0418 - val_mean_squared_error: 0.0418 - val_mean_absolute_error: 0.1721\n",
      "\n",
      "Epoch 00081: val_loss did not improve from 0.04175\n",
      "Epoch 82/150\n",
      "810/810 [==============================] - 0s 37us/step - loss: 0.0441 - mean_squared_error: 0.0441 - mean_absolute_error: 0.1703 - val_loss: 0.0418 - val_mean_squared_error: 0.0418 - val_mean_absolute_error: 0.1721\n",
      "\n",
      "Epoch 00082: val_loss did not improve from 0.04175\n",
      "Epoch 83/150\n",
      "810/810 [==============================] - 0s 41us/step - loss: 0.0453 - mean_squared_error: 0.0453 - mean_absolute_error: 0.1711 - val_loss: 0.0418 - val_mean_squared_error: 0.0418 - val_mean_absolute_error: 0.1721\n",
      "\n",
      "Epoch 00083: val_loss did not improve from 0.04175\n",
      "Epoch 84/150\n",
      "810/810 [==============================] - 0s 37us/step - loss: 0.0473 - mean_squared_error: 0.0473 - mean_absolute_error: 0.1757 - val_loss: 0.0418 - val_mean_squared_error: 0.0418 - val_mean_absolute_error: 0.1721\n",
      "\n",
      "Epoch 00084: val_loss did not improve from 0.04175\n",
      "Epoch 85/150\n",
      "810/810 [==============================] - 0s 36us/step - loss: 0.0433 - mean_squared_error: 0.0433 - mean_absolute_error: 0.1687 - val_loss: 0.0417 - val_mean_squared_error: 0.0417 - val_mean_absolute_error: 0.1721\n",
      "\n",
      "Epoch 00085: val_loss improved from 0.04175 to 0.04174, saving model to best2.hdf5\n",
      "Epoch 86/150\n",
      "810/810 [==============================] - 0s 50us/step - loss: 0.0446 - mean_squared_error: 0.0446 - mean_absolute_error: 0.1718 - val_loss: 0.0417 - val_mean_squared_error: 0.0417 - val_mean_absolute_error: 0.1721\n",
      "\n",
      "Epoch 00086: val_loss improved from 0.04174 to 0.04174, saving model to best2.hdf5\n",
      "Epoch 87/150\n",
      "810/810 [==============================] - 0s 37us/step - loss: 0.0448 - mean_squared_error: 0.0448 - mean_absolute_error: 0.1689 - val_loss: 0.0417 - val_mean_squared_error: 0.0417 - val_mean_absolute_error: 0.1721\n",
      "\n",
      "Epoch 00087: val_loss improved from 0.04174 to 0.04174, saving model to best2.hdf5\n",
      "Epoch 88/150\n",
      "810/810 [==============================] - 0s 36us/step - loss: 0.0455 - mean_squared_error: 0.0455 - mean_absolute_error: 0.1721 - val_loss: 0.0417 - val_mean_squared_error: 0.0417 - val_mean_absolute_error: 0.1721\n",
      "\n",
      "Epoch 00088: val_loss did not improve from 0.04174\n",
      "Epoch 89/150\n",
      "810/810 [==============================] - 0s 34us/step - loss: 0.0448 - mean_squared_error: 0.0448 - mean_absolute_error: 0.1703 - val_loss: 0.0418 - val_mean_squared_error: 0.0418 - val_mean_absolute_error: 0.1721\n",
      "\n",
      "Epoch 00089: val_loss did not improve from 0.04174\n",
      "Epoch 90/150\n",
      "810/810 [==============================] - 0s 32us/step - loss: 0.0441 - mean_squared_error: 0.0441 - mean_absolute_error: 0.1695 - val_loss: 0.0418 - val_mean_squared_error: 0.0418 - val_mean_absolute_error: 0.1721\n",
      "\n",
      "Epoch 00090: val_loss did not improve from 0.04174\n",
      "Epoch 91/150\n",
      "810/810 [==============================] - 0s 33us/step - loss: 0.0436 - mean_squared_error: 0.0436 - mean_absolute_error: 0.1678 - val_loss: 0.0418 - val_mean_squared_error: 0.0418 - val_mean_absolute_error: 0.1721\n",
      "\n",
      "Epoch 00091: val_loss did not improve from 0.04174\n",
      "Epoch 92/150\n",
      "810/810 [==============================] - 0s 34us/step - loss: 0.0448 - mean_squared_error: 0.0448 - mean_absolute_error: 0.1689 - val_loss: 0.0418 - val_mean_squared_error: 0.0418 - val_mean_absolute_error: 0.1721\n",
      "\n",
      "Epoch 00092: val_loss did not improve from 0.04174\n",
      "Epoch 93/150\n",
      "810/810 [==============================] - 0s 35us/step - loss: 0.0441 - mean_squared_error: 0.0441 - mean_absolute_error: 0.1687 - val_loss: 0.0418 - val_mean_squared_error: 0.0418 - val_mean_absolute_error: 0.1721\n",
      "\n",
      "Epoch 00093: val_loss did not improve from 0.04174\n",
      "Epoch 94/150\n",
      "810/810 [==============================] - 0s 33us/step - loss: 0.0447 - mean_squared_error: 0.0447 - mean_absolute_error: 0.1718 - val_loss: 0.0417 - val_mean_squared_error: 0.0417 - val_mean_absolute_error: 0.1721\n",
      "\n",
      "Epoch 00094: val_loss did not improve from 0.04174\n",
      "Epoch 95/150\n",
      "810/810 [==============================] - 0s 30us/step - loss: 0.0458 - mean_squared_error: 0.0458 - mean_absolute_error: 0.1725 - val_loss: 0.0418 - val_mean_squared_error: 0.0418 - val_mean_absolute_error: 0.1721\n",
      "\n",
      "Epoch 00095: val_loss did not improve from 0.04174\n",
      "Epoch 96/150\n",
      "810/810 [==============================] - 0s 32us/step - loss: 0.0444 - mean_squared_error: 0.0444 - mean_absolute_error: 0.1696 - val_loss: 0.0418 - val_mean_squared_error: 0.0418 - val_mean_absolute_error: 0.1721\n",
      "\n",
      "Epoch 00096: val_loss did not improve from 0.04174\n",
      "Epoch 97/150\n",
      "810/810 [==============================] - 0s 32us/step - loss: 0.0451 - mean_squared_error: 0.0451 - mean_absolute_error: 0.1719 - val_loss: 0.0418 - val_mean_squared_error: 0.0418 - val_mean_absolute_error: 0.1721\n",
      "\n",
      "Epoch 00097: val_loss did not improve from 0.04174\n",
      "Epoch 98/150\n",
      "810/810 [==============================] - 0s 30us/step - loss: 0.0447 - mean_squared_error: 0.0447 - mean_absolute_error: 0.1700 - val_loss: 0.0417 - val_mean_squared_error: 0.0417 - val_mean_absolute_error: 0.1721\n",
      "\n",
      "Epoch 00098: val_loss did not improve from 0.04174\n",
      "Epoch 99/150\n",
      "810/810 [==============================] - 0s 31us/step - loss: 0.0449 - mean_squared_error: 0.0449 - mean_absolute_error: 0.1717 - val_loss: 0.0418 - val_mean_squared_error: 0.0418 - val_mean_absolute_error: 0.1721\n",
      "\n",
      "Epoch 00099: val_loss did not improve from 0.04174\n",
      "Epoch 100/150\n",
      "810/810 [==============================] - 0s 35us/step - loss: 0.0448 - mean_squared_error: 0.0448 - mean_absolute_error: 0.1701 - val_loss: 0.0417 - val_mean_squared_error: 0.0417 - val_mean_absolute_error: 0.1721\n",
      "\n",
      "Epoch 00100: val_loss did not improve from 0.04174\n",
      "Epoch 101/150\n",
      "810/810 [==============================] - 0s 37us/step - loss: 0.0438 - mean_squared_error: 0.0438 - mean_absolute_error: 0.1690 - val_loss: 0.0417 - val_mean_squared_error: 0.0417 - val_mean_absolute_error: 0.1721\n",
      "\n",
      "Epoch 00101: val_loss did not improve from 0.04174\n",
      "Epoch 102/150\n",
      "810/810 [==============================] - 0s 43us/step - loss: 0.0450 - mean_squared_error: 0.0450 - mean_absolute_error: 0.1700 - val_loss: 0.0417 - val_mean_squared_error: 0.0417 - val_mean_absolute_error: 0.1721\n",
      "\n",
      "Epoch 00102: val_loss improved from 0.04174 to 0.04173, saving model to best2.hdf5\n",
      "Epoch 103/150\n",
      "810/810 [==============================] - 0s 42us/step - loss: 0.0466 - mean_squared_error: 0.0466 - mean_absolute_error: 0.1749 - val_loss: 0.0417 - val_mean_squared_error: 0.0417 - val_mean_absolute_error: 0.1721\n",
      "\n",
      "Epoch 00103: val_loss improved from 0.04173 to 0.04173, saving model to best2.hdf5\n",
      "Epoch 104/150\n",
      "810/810 [==============================] - 0s 39us/step - loss: 0.0448 - mean_squared_error: 0.0448 - mean_absolute_error: 0.1692 - val_loss: 0.0417 - val_mean_squared_error: 0.0417 - val_mean_absolute_error: 0.1721\n",
      "\n",
      "Epoch 00104: val_loss improved from 0.04173 to 0.04172, saving model to best2.hdf5\n",
      "Epoch 105/150\n",
      "810/810 [==============================] - 0s 41us/step - loss: 0.0442 - mean_squared_error: 0.0442 - mean_absolute_error: 0.1693 - val_loss: 0.0417 - val_mean_squared_error: 0.0417 - val_mean_absolute_error: 0.1721\n",
      "\n",
      "Epoch 00105: val_loss improved from 0.04172 to 0.04171, saving model to best2.hdf5\n",
      "Epoch 106/150\n",
      "810/810 [==============================] - 0s 35us/step - loss: 0.0454 - mean_squared_error: 0.0454 - mean_absolute_error: 0.1704 - val_loss: 0.0417 - val_mean_squared_error: 0.0417 - val_mean_absolute_error: 0.1721\n",
      "\n",
      "Epoch 00106: val_loss did not improve from 0.04171\n",
      "Epoch 107/150\n",
      "810/810 [==============================] - 0s 32us/step - loss: 0.0458 - mean_squared_error: 0.0458 - mean_absolute_error: 0.1718 - val_loss: 0.0417 - val_mean_squared_error: 0.0417 - val_mean_absolute_error: 0.1721\n",
      "\n",
      "Epoch 00107: val_loss did not improve from 0.04171\n",
      "Epoch 108/150\n",
      "810/810 [==============================] - 0s 34us/step - loss: 0.0449 - mean_squared_error: 0.0449 - mean_absolute_error: 0.1708 - val_loss: 0.0417 - val_mean_squared_error: 0.0417 - val_mean_absolute_error: 0.1721\n",
      "\n",
      "Epoch 00108: val_loss did not improve from 0.04171\n",
      "Epoch 109/150\n",
      "810/810 [==============================] - 0s 32us/step - loss: 0.0449 - mean_squared_error: 0.0449 - mean_absolute_error: 0.1715 - val_loss: 0.0417 - val_mean_squared_error: 0.0417 - val_mean_absolute_error: 0.1721\n",
      "\n",
      "Epoch 00109: val_loss did not improve from 0.04171\n",
      "Epoch 110/150\n",
      "810/810 [==============================] - 0s 32us/step - loss: 0.0456 - mean_squared_error: 0.0456 - mean_absolute_error: 0.1731 - val_loss: 0.0417 - val_mean_squared_error: 0.0417 - val_mean_absolute_error: 0.1721\n",
      "\n",
      "Epoch 00110: val_loss did not improve from 0.04171\n",
      "Epoch 111/150\n",
      "810/810 [==============================] - 0s 33us/step - loss: 0.0449 - mean_squared_error: 0.0449 - mean_absolute_error: 0.1711 - val_loss: 0.0417 - val_mean_squared_error: 0.0417 - val_mean_absolute_error: 0.1721\n",
      "\n",
      "Epoch 00111: val_loss did not improve from 0.04171\n",
      "Epoch 112/150\n",
      "810/810 [==============================] - 0s 37us/step - loss: 0.0460 - mean_squared_error: 0.0460 - mean_absolute_error: 0.1737 - val_loss: 0.0417 - val_mean_squared_error: 0.0417 - val_mean_absolute_error: 0.1721\n",
      "\n",
      "Epoch 00112: val_loss did not improve from 0.04171\n",
      "Epoch 113/150\n",
      "810/810 [==============================] - 0s 41us/step - loss: 0.0455 - mean_squared_error: 0.0455 - mean_absolute_error: 0.1720 - val_loss: 0.0417 - val_mean_squared_error: 0.0417 - val_mean_absolute_error: 0.1721\n",
      "\n",
      "Epoch 00113: val_loss did not improve from 0.04171\n",
      "Epoch 114/150\n",
      "810/810 [==============================] - 0s 41us/step - loss: 0.0440 - mean_squared_error: 0.0440 - mean_absolute_error: 0.1686 - val_loss: 0.0417 - val_mean_squared_error: 0.0417 - val_mean_absolute_error: 0.1721\n",
      "\n",
      "Epoch 00114: val_loss did not improve from 0.04171\n",
      "Epoch 115/150\n",
      "810/810 [==============================] - 0s 46us/step - loss: 0.0441 - mean_squared_error: 0.0441 - mean_absolute_error: 0.1697 - val_loss: 0.0417 - val_mean_squared_error: 0.0417 - val_mean_absolute_error: 0.1721\n",
      "\n",
      "Epoch 00115: val_loss did not improve from 0.04171\n",
      "Epoch 116/150\n",
      "810/810 [==============================] - 0s 33us/step - loss: 0.0448 - mean_squared_error: 0.0448 - mean_absolute_error: 0.1703 - val_loss: 0.0417 - val_mean_squared_error: 0.0417 - val_mean_absolute_error: 0.1721\n",
      "\n",
      "Epoch 00116: val_loss did not improve from 0.04171\n",
      "Epoch 117/150\n",
      "810/810 [==============================] - 0s 31us/step - loss: 0.0439 - mean_squared_error: 0.0439 - mean_absolute_error: 0.1683 - val_loss: 0.0417 - val_mean_squared_error: 0.0417 - val_mean_absolute_error: 0.1721\n",
      "\n",
      "Epoch 00117: val_loss did not improve from 0.04171\n",
      "Epoch 118/150\n",
      "810/810 [==============================] - 0s 31us/step - loss: 0.0443 - mean_squared_error: 0.0443 - mean_absolute_error: 0.1686 - val_loss: 0.0417 - val_mean_squared_error: 0.0417 - val_mean_absolute_error: 0.1721\n",
      "\n",
      "Epoch 00118: val_loss did not improve from 0.04171\n",
      "Epoch 119/150\n",
      "810/810 [==============================] - 0s 32us/step - loss: 0.0442 - mean_squared_error: 0.0442 - mean_absolute_error: 0.1692 - val_loss: 0.0417 - val_mean_squared_error: 0.0417 - val_mean_absolute_error: 0.1721\n",
      "\n",
      "Epoch 00119: val_loss did not improve from 0.04171\n",
      "Epoch 120/150\n",
      "810/810 [==============================] - 0s 35us/step - loss: 0.0449 - mean_squared_error: 0.0449 - mean_absolute_error: 0.1719 - val_loss: 0.0417 - val_mean_squared_error: 0.0417 - val_mean_absolute_error: 0.1721\n",
      "\n",
      "Epoch 00120: val_loss improved from 0.04171 to 0.04170, saving model to best2.hdf5\n",
      "Epoch 121/150\n",
      "810/810 [==============================] - 0s 38us/step - loss: 0.0448 - mean_squared_error: 0.0448 - mean_absolute_error: 0.1708 - val_loss: 0.0417 - val_mean_squared_error: 0.0417 - val_mean_absolute_error: 0.1721\n",
      "\n",
      "Epoch 00121: val_loss improved from 0.04170 to 0.04169, saving model to best2.hdf5\n",
      "Epoch 122/150\n",
      "810/810 [==============================] - 0s 36us/step - loss: 0.0432 - mean_squared_error: 0.0432 - mean_absolute_error: 0.1669 - val_loss: 0.0417 - val_mean_squared_error: 0.0417 - val_mean_absolute_error: 0.1721\n",
      "\n",
      "Epoch 00122: val_loss did not improve from 0.04169\n",
      "Epoch 123/150\n",
      "810/810 [==============================] - 0s 32us/step - loss: 0.0449 - mean_squared_error: 0.0449 - mean_absolute_error: 0.1703 - val_loss: 0.0417 - val_mean_squared_error: 0.0417 - val_mean_absolute_error: 0.1721\n",
      "\n",
      "Epoch 00123: val_loss did not improve from 0.04169\n",
      "Epoch 124/150\n",
      "810/810 [==============================] - 0s 32us/step - loss: 0.0446 - mean_squared_error: 0.0446 - mean_absolute_error: 0.1693 - val_loss: 0.0417 - val_mean_squared_error: 0.0417 - val_mean_absolute_error: 0.1721\n",
      "\n",
      "Epoch 00124: val_loss did not improve from 0.04169\n",
      "Epoch 125/150\n",
      "810/810 [==============================] - 0s 32us/step - loss: 0.0430 - mean_squared_error: 0.0430 - mean_absolute_error: 0.1658 - val_loss: 0.0417 - val_mean_squared_error: 0.0417 - val_mean_absolute_error: 0.1721\n",
      "\n",
      "Epoch 00125: val_loss did not improve from 0.04169\n",
      "Epoch 126/150\n",
      "810/810 [==============================] - 0s 34us/step - loss: 0.0450 - mean_squared_error: 0.0450 - mean_absolute_error: 0.1713 - val_loss: 0.0417 - val_mean_squared_error: 0.0417 - val_mean_absolute_error: 0.1721\n",
      "\n",
      "Epoch 00126: val_loss did not improve from 0.04169\n",
      "Epoch 127/150\n",
      "810/810 [==============================] - 0s 35us/step - loss: 0.0453 - mean_squared_error: 0.0453 - mean_absolute_error: 0.1725 - val_loss: 0.0417 - val_mean_squared_error: 0.0417 - val_mean_absolute_error: 0.1721\n",
      "\n",
      "Epoch 00127: val_loss did not improve from 0.04169\n",
      "Epoch 128/150\n",
      "810/810 [==============================] - 0s 35us/step - loss: 0.0453 - mean_squared_error: 0.0453 - mean_absolute_error: 0.1719 - val_loss: 0.0417 - val_mean_squared_error: 0.0417 - val_mean_absolute_error: 0.1721\n",
      "\n",
      "Epoch 00128: val_loss did not improve from 0.04169\n",
      "Epoch 129/150\n",
      "810/810 [==============================] - 0s 33us/step - loss: 0.0452 - mean_squared_error: 0.0452 - mean_absolute_error: 0.1711 - val_loss: 0.0417 - val_mean_squared_error: 0.0417 - val_mean_absolute_error: 0.1721\n",
      "\n",
      "Epoch 00129: val_loss did not improve from 0.04169\n",
      "Epoch 130/150\n",
      "810/810 [==============================] - 0s 42us/step - loss: 0.0456 - mean_squared_error: 0.0456 - mean_absolute_error: 0.1703 - val_loss: 0.0417 - val_mean_squared_error: 0.0417 - val_mean_absolute_error: 0.1721\n",
      "\n",
      "Epoch 00130: val_loss did not improve from 0.04169\n",
      "Epoch 131/150\n",
      "810/810 [==============================] - 0s 48us/step - loss: 0.0442 - mean_squared_error: 0.0442 - mean_absolute_error: 0.1688 - val_loss: 0.0417 - val_mean_squared_error: 0.0417 - val_mean_absolute_error: 0.1721\n",
      "\n",
      "Epoch 00131: val_loss did not improve from 0.04169\n",
      "Epoch 132/150\n",
      "810/810 [==============================] - 0s 45us/step - loss: 0.0455 - mean_squared_error: 0.0455 - mean_absolute_error: 0.1716 - val_loss: 0.0417 - val_mean_squared_error: 0.0417 - val_mean_absolute_error: 0.1720\n",
      "\n",
      "Epoch 00132: val_loss did not improve from 0.04169\n",
      "Epoch 133/150\n",
      "810/810 [==============================] - 0s 35us/step - loss: 0.0444 - mean_squared_error: 0.0444 - mean_absolute_error: 0.1685 - val_loss: 0.0417 - val_mean_squared_error: 0.0417 - val_mean_absolute_error: 0.1720\n",
      "\n",
      "Epoch 00133: val_loss did not improve from 0.04169\n",
      "Epoch 134/150\n",
      "810/810 [==============================] - 0s 36us/step - loss: 0.0450 - mean_squared_error: 0.0450 - mean_absolute_error: 0.1709 - val_loss: 0.0417 - val_mean_squared_error: 0.0417 - val_mean_absolute_error: 0.1721\n",
      "\n",
      "Epoch 00134: val_loss did not improve from 0.04169\n",
      "Epoch 135/150\n",
      "810/810 [==============================] - 0s 37us/step - loss: 0.0436 - mean_squared_error: 0.0436 - mean_absolute_error: 0.1679 - val_loss: 0.0417 - val_mean_squared_error: 0.0417 - val_mean_absolute_error: 0.1721\n",
      "\n",
      "Epoch 00135: val_loss did not improve from 0.04169\n",
      "Epoch 136/150\n",
      "810/810 [==============================] - 0s 34us/step - loss: 0.0459 - mean_squared_error: 0.0459 - mean_absolute_error: 0.1734 - val_loss: 0.0417 - val_mean_squared_error: 0.0417 - val_mean_absolute_error: 0.1721\n",
      "\n",
      "Epoch 00136: val_loss did not improve from 0.04169\n",
      "Epoch 137/150\n",
      "810/810 [==============================] - 0s 32us/step - loss: 0.0452 - mean_squared_error: 0.0452 - mean_absolute_error: 0.1698 - val_loss: 0.0417 - val_mean_squared_error: 0.0417 - val_mean_absolute_error: 0.1721\n",
      "\n",
      "Epoch 00137: val_loss did not improve from 0.04169\n",
      "Epoch 138/150\n",
      "810/810 [==============================] - 0s 35us/step - loss: 0.0430 - mean_squared_error: 0.0430 - mean_absolute_error: 0.1674 - val_loss: 0.0417 - val_mean_squared_error: 0.0417 - val_mean_absolute_error: 0.1721\n",
      "\n",
      "Epoch 00138: val_loss did not improve from 0.04169\n",
      "Epoch 139/150\n",
      "810/810 [==============================] - 0s 38us/step - loss: 0.0456 - mean_squared_error: 0.0456 - mean_absolute_error: 0.1713 - val_loss: 0.0417 - val_mean_squared_error: 0.0417 - val_mean_absolute_error: 0.1721\n",
      "\n",
      "Epoch 00139: val_loss did not improve from 0.04169\n",
      "Epoch 140/150\n",
      "810/810 [==============================] - 0s 33us/step - loss: 0.0446 - mean_squared_error: 0.0446 - mean_absolute_error: 0.1700 - val_loss: 0.0417 - val_mean_squared_error: 0.0417 - val_mean_absolute_error: 0.1721\n",
      "\n",
      "Epoch 00140: val_loss did not improve from 0.04169\n",
      "Epoch 141/150\n",
      "810/810 [==============================] - 0s 38us/step - loss: 0.0440 - mean_squared_error: 0.0440 - mean_absolute_error: 0.1692 - val_loss: 0.0417 - val_mean_squared_error: 0.0417 - val_mean_absolute_error: 0.1721\n",
      "\n",
      "Epoch 00141: val_loss did not improve from 0.04169\n",
      "Epoch 142/150\n",
      "810/810 [==============================] - 0s 37us/step - loss: 0.0442 - mean_squared_error: 0.0442 - mean_absolute_error: 0.1684 - val_loss: 0.0417 - val_mean_squared_error: 0.0417 - val_mean_absolute_error: 0.1721\n",
      "\n",
      "Epoch 00142: val_loss did not improve from 0.04169\n",
      "Epoch 143/150\n",
      "810/810 [==============================] - 0s 32us/step - loss: 0.0446 - mean_squared_error: 0.0446 - mean_absolute_error: 0.1707 - val_loss: 0.0417 - val_mean_squared_error: 0.0417 - val_mean_absolute_error: 0.1721\n",
      "\n",
      "Epoch 00143: val_loss did not improve from 0.04169\n",
      "Epoch 144/150\n",
      "810/810 [==============================] - 0s 45us/step - loss: 0.0452 - mean_squared_error: 0.0452 - mean_absolute_error: 0.1718 - val_loss: 0.0417 - val_mean_squared_error: 0.0417 - val_mean_absolute_error: 0.1721\n",
      "\n",
      "Epoch 00144: val_loss did not improve from 0.04169\n",
      "Epoch 145/150\n",
      "810/810 [==============================] - 0s 39us/step - loss: 0.0459 - mean_squared_error: 0.0459 - mean_absolute_error: 0.1724 - val_loss: 0.0417 - val_mean_squared_error: 0.0417 - val_mean_absolute_error: 0.1721\n",
      "\n",
      "Epoch 00145: val_loss did not improve from 0.04169\n",
      "Epoch 146/150\n",
      "810/810 [==============================] - 0s 36us/step - loss: 0.0443 - mean_squared_error: 0.0443 - mean_absolute_error: 0.1702 - val_loss: 0.0417 - val_mean_squared_error: 0.0417 - val_mean_absolute_error: 0.1721\n",
      "\n",
      "Epoch 00146: val_loss did not improve from 0.04169\n",
      "Epoch 147/150\n",
      "810/810 [==============================] - 0s 31us/step - loss: 0.0436 - mean_squared_error: 0.0436 - mean_absolute_error: 0.1689 - val_loss: 0.0417 - val_mean_squared_error: 0.0417 - val_mean_absolute_error: 0.1721\n",
      "\n",
      "Epoch 00147: val_loss did not improve from 0.04169\n",
      "Epoch 148/150\n",
      "810/810 [==============================] - 0s 36us/step - loss: 0.0444 - mean_squared_error: 0.0444 - mean_absolute_error: 0.1679 - val_loss: 0.0417 - val_mean_squared_error: 0.0417 - val_mean_absolute_error: 0.1721\n",
      "\n",
      "Epoch 00148: val_loss did not improve from 0.04169\n",
      "Epoch 149/150\n",
      "810/810 [==============================] - 0s 40us/step - loss: 0.0450 - mean_squared_error: 0.0450 - mean_absolute_error: 0.1708 - val_loss: 0.0417 - val_mean_squared_error: 0.0417 - val_mean_absolute_error: 0.1720\n",
      "\n",
      "Epoch 00149: val_loss did not improve from 0.04169\n",
      "Epoch 150/150\n",
      "810/810 [==============================] - 0s 34us/step - loss: 0.0450 - mean_squared_error: 0.0450 - mean_absolute_error: 0.1720 - val_loss: 0.0417 - val_mean_squared_error: 0.0417 - val_mean_absolute_error: 0.1720\n",
      "\n",
      "Epoch 00150: val_loss did not improve from 0.04169\n"
     ]
    }
   ],
   "source": [
    "from keras_radam import RAdam\n",
    "\n",
    "model2.compile(loss='mse', optimizer=RAdam(), metrics=['mse','mae'])\n",
    "checkpointer = [\n",
    "    ReduceLROnPlateau(monitor='val_loss', \n",
    "                      patience=3, \n",
    "                      verbose=1,\n",
    "                      factor=0.5,\n",
    "                      min_lr = 0.00001,\n",
    "                      cooldown=0),\n",
    "    ModelCheckpoint(filepath='best2.hdf5', verbose=1, \n",
    "                               save_best_only=True)\n",
    "]\n",
    "history = model2.fit(X_train, y_train, epochs=150, batch_size=128,  verbose=1, validation_data=[X_val, y_val], shuffle=True, callbacks=checkpointer)\n",
    "train_acc = model2.evaluate(X_train, y_train, verbose=0)\n",
    "val_acc = model2.evaluate(X_val, y_val, verbose=0)"
   ]
  },
  {
   "cell_type": "code",
   "execution_count": 0,
   "metadata": {
    "colab": {
     "base_uri": "https://localhost:8080/",
     "height": 332
    },
    "colab_type": "code",
    "id": "My0B2HpX401t",
    "outputId": "95903ae0-5367-47a9-c81a-7aa3fc8e3f98"
   },
   "outputs": [
    {
     "name": "stdout",
     "output_type": "stream",
     "text": [
      "dict_keys(['val_loss', 'val_mean_squared_error', 'val_mean_absolute_error', 'loss', 'mean_squared_error', 'mean_absolute_error', 'lr'])\n"
     ]
    },
    {
     "data": {
      "image/png": "[encoded data removed]",
      "text/plain": [
       "<Figure size 432x288 with 1 Axes>"
      ]
     },
     "metadata": {
      "tags": []
     },
     "output_type": "display_data"
    }
   ],
   "source": [
    "print(history.history.keys())\n",
    "# \"Loss\"\n",
    "plt.plot(history.history['loss'])\n",
    "plt.plot(history.history['val_loss'])\n",
    "plt.title('model loss')\n",
    "plt.ylabel('loss')\n",
    "plt.xlabel('epoch')\n",
    "plt.legend(['train', 'validation'], loc='upper left')\n",
    "plt.show()"
   ]
  },
  {
   "cell_type": "code",
   "execution_count": 0,
   "metadata": {
    "colab": {},
    "colab_type": "code",
    "id": "eM1dy-1L45gg"
   },
   "outputs": [],
   "source": [
    "# load the weights that yielded the best validation accuracy\n",
    "model2.load_weights('best2.hdf5')"
   ]
  },
  {
   "cell_type": "code",
   "execution_count": 0,
   "metadata": {
    "colab": {
     "base_uri": "https://localhost:8080/",
     "height": 283
    },
    "colab_type": "code",
    "id": "2QPwuz_WXuPf",
    "outputId": "29012b66-1e90-4b1e-af87-97be19036e95"
   },
   "outputs": [
    {
     "data": {
      "image/png": "[encoded data removed]",
      "text/plain": [
       "<Figure size 432x288 with 1 Axes>"
      ]
     },
     "metadata": {
      "tags": []
     },
     "output_type": "display_data"
    }
   ],
   "source": [
    "test_predictions =model2.predict(X_test).flatten()\n",
    "\n",
    "a = plt.axes(aspect='equal')\n",
    "plt.scatter(y_test, test_predictions)\n",
    "plt.xlabel('True Values')\n",
    "plt.ylabel('Predictions')\n",
    "lims = [-0.2, 1.2]\n",
    "plt.xlim(lims)\n",
    "plt.ylim(lims)\n",
    "_ = plt.plot(lims, lims)"
   ]
  },
  {
   "cell_type": "code",
   "execution_count": 0,
   "metadata": {
    "colab": {
     "base_uri": "https://localhost:8080/",
     "height": 279
    },
    "colab_type": "code",
    "id": "bFbLKSzD49dc",
    "outputId": "28e313fb-c650-4142-cf55-1bf0628a6771"
   },
   "outputs": [
    {
     "data": {
      "image/png": "[encoded data removed]",
      "text/plain": [
       "<Figure size 432x288 with 1 Axes>"
      ]
     },
     "metadata": {
      "tags": []
     },
     "output_type": "display_data"
    }
   ],
   "source": [
    "error = test_predictions - y_test\n",
    "plt.hist(error, bins = 25)\n",
    "plt.xlabel(\"Prediction Error\")\n",
    "_ = plt.ylabel(\"Count\")"
   ]
  },
  {
   "cell_type": "code",
   "execution_count": 0,
   "metadata": {
    "colab": {
     "base_uri": "https://localhost:8080/",
     "height": 1000
    },
    "colab_type": "code",
    "id": "CDcr-iVu5DRx",
    "outputId": "d13dd68c-0d69-47ee-f183-a586a7ebecbf"
   },
   "outputs": [
    {
     "name": "stdout",
     "output_type": "stream",
     "text": [
      "\u001b[1m0.9253101183873768\t -> 0.8571643233299255\u001b[0m\n",
      "\u001b[1m0.4376695812367682\t -> 0.6881284713745117\u001b[0m\n",
      "\u001b[1m0.5752299800645881\t -> 0.4867054522037506\u001b[0m\n",
      "\u001b[1m-0.1199569910550245\t -> 0.09205237776041031\u001b[0m\n",
      "\u001b[1m0.40597304550207225\t -> 0.2928333878517151\u001b[0m\n",
      "\u001b[1m0.5811767707893347\t -> 0.47080761194229126\u001b[0m\n",
      "\u001b[1m0.9750093372854116\t -> 0.9108632802963257\u001b[0m\n",
      "\u001b[1m0.1401992933559522\t -> 0.2221488654613495\u001b[0m\n",
      "\u001b[1m1.3739759229541313\t -> 0.9610836505889893\u001b[0m\n",
      "\u001b[1m0.6946856898612881\t -> 0.9035109877586365\u001b[0m\n",
      "\u001b[1m-0.001150118603132133\t -> 0.04544275999069214\u001b[0m\n",
      "\u001b[1m0.5881237525125731\t -> 0.8014781475067139\u001b[0m\n",
      "\u001b[1m0.3812474960334663\t -> 0.6590161323547363\u001b[0m\n",
      "\u001b[1m0.4401341789134184\t -> 0.05159534513950348\u001b[0m\n",
      "\u001b[1m0.8900953279957494\t -> 0.710062563419342\u001b[0m\n",
      "\u001b[1m-0.04802065567493513\t -> 0.30130717158317566\u001b[0m\n",
      "\u001b[1m1.0598547372781155\t -> 0.8976826071739197\u001b[0m\n",
      "\u001b[1m0.5604756454309442\t -> 0.2560536861419678\u001b[0m\n",
      "\u001b[1m0.4383320020923558\t -> 0.7478850483894348\u001b[0m\n",
      "\u001b[1m0.06387082984938093\t -> 0.17522507905960083\u001b[0m\n",
      "\u001b[1m0.37267295744045137\t -> 0.47241905331611633\u001b[0m\n",
      "\u001b[1m0.16156976060037262\t -> 0.2678857445716858\u001b[0m\n",
      "\u001b[1m1.0094223328306275\t -> 0.8659173846244812\u001b[0m\n",
      "\u001b[1m0.3531446238367933\t -> 0.3377297818660736\u001b[0m\n",
      "\u001b[1m0.6066797748035686\t -> 0.865680456161499\u001b[0m\n",
      "\u001b[1m0.6195426921968434\t -> 0.5781077742576599\u001b[0m\n",
      "\u001b[1m0.35294600215198824\t -> 0.298094242811203\u001b[0m\n",
      "\u001b[1m0.4969176964430765\t -> 0.7983644008636475\u001b[0m\n",
      "\u001b[1m1.0669672645263335\t -> 0.7676629424095154\u001b[0m\n",
      "\u001b[1m0.2654466576315809\t -> 0.4407910406589508\u001b[0m\n",
      "\u001b[1m0.5662071021930748\t -> 0.3827194273471832\u001b[0m\n",
      "\u001b[1m0.6020553272553246\t -> 0.556553304195404\u001b[0m\n",
      "\u001b[1m0.4802704532463559\t -> 0.4301550090312958\u001b[0m\n",
      "\u001b[1m0.6828323569169343\t -> 0.5620431900024414\u001b[0m\n",
      "\u001b[1m1.290521354734619\t -> 0.7266709804534912\u001b[0m\n",
      "\u001b[1m0.28311841701373863\t -> 0.3840285837650299\u001b[0m\n",
      "\u001b[1m0.002633891674535392\t -> 0.049032725393772125\u001b[0m\n",
      "\u001b[1m1.1310773300420234\t -> 0.7333877086639404\u001b[0m\n",
      "\u001b[1m0.7620337413788524\t -> 0.6327291131019592\u001b[0m\n",
      "\u001b[1m-0.3353099326971009\t -> 0.03582295402884483\u001b[0m\n",
      "\u001b[1m0.4453257583476573\t -> 0.5671989917755127\u001b[0m\n",
      "\u001b[1m0.933031532635094\t -> 0.7392120957374573\u001b[0m\n",
      "\u001b[1m0.33826421528262746\t -> 0.08898312598466873\u001b[0m\n",
      "\u001b[1m0.1764348800902857\t -> 0.30064111948013306\u001b[0m\n",
      "\u001b[1m0.339011388054594\t -> 0.07651051878929138\u001b[0m\n",
      "\u001b[1m0.9813700907273696\t -> 0.8899242877960205\u001b[0m\n",
      "\u001b[1m0.5482372608933821\t -> 0.5958182215690613\u001b[0m\n",
      "\u001b[1m0.4993751100667943\t -> 0.5582600831985474\u001b[0m\n",
      "\u001b[1m-0.006546084720210677\t -> 0.5024493336677551\u001b[0m\n",
      "\u001b[1m0.40424656437827583\t -> 0.3524881601333618\u001b[0m\n",
      "\u001b[1m0.6730291884549872\t -> 0.7038914561271667\u001b[0m\n",
      "\u001b[1m0.4723420740719497\t -> 0.3755233883857727\u001b[0m\n",
      "\u001b[1m0.5369660348415364\t -> 0.6493533849716187\u001b[0m\n",
      "\u001b[1m1.2550128907035918\t -> 0.8222548961639404\u001b[0m\n",
      "\u001b[1m0.5210150118170401\t -> 0.6695880889892578\u001b[0m\n",
      "\u001b[1m-0.040726545800889885\t -> 0.10362335294485092\u001b[0m\n",
      "\u001b[1m0.7684974494077386\t -> 0.7433690428733826\u001b[0m\n",
      "\u001b[1m0.42180516209384417\t -> 0.3579210042953491\u001b[0m\n",
      "\u001b[1m0.2466129933888055\t -> 0.634773313999176\u001b[0m\n",
      "\u001b[1m0.41269612944593775\t -> 0.388282835483551\u001b[0m\n",
      "\u001b[1m0.8421466061360654\t -> 0.49081873893737793\u001b[0m\n",
      "\u001b[1m-0.2240293383760481\t -> 0.19539374113082886\u001b[0m\n",
      "\u001b[1m0.7907776710913652\t -> 0.4755055010318756\u001b[0m\n",
      "\u001b[1m-0.2293824748756764\t -> 0.17181625962257385\u001b[0m\n",
      "\u001b[1m-0.06723477454474787\t -> 0.11507034301757812\u001b[0m\n",
      "\u001b[1m0.8214326451260947\t -> 0.7176224589347839\u001b[0m\n",
      "\u001b[1m0.0073618473332215375\t -> 0.2884783148765564\u001b[0m\n",
      "\u001b[1m0.6829058199162925\t -> 0.4321248233318329\u001b[0m\n",
      "\u001b[1m0.3539494079222173\t -> 0.335711807012558\u001b[0m\n",
      "\u001b[1m-0.1144984418438224\t -> 0.17058511078357697\u001b[0m\n",
      "\u001b[1m0.05990039968483004\t -> 0.12418515235185623\u001b[0m\n",
      "\u001b[1m-0.09326596736986137\t -> 0.17797252535820007\u001b[0m\n",
      "\u001b[1m0.5474457460485006\t -> 0.3797394335269928\u001b[0m\n",
      "\u001b[1m1.0906181020305463\t -> 0.8810260891914368\u001b[0m\n",
      "\u001b[1m0.4341449163640532\t -> 0.4709399342536926\u001b[0m\n",
      "\u001b[1m0.7516198686631809\t -> 0.8411554098129272\u001b[0m\n",
      "\u001b[1m0.6463195361636809\t -> 0.5377427935600281\u001b[0m\n",
      "\u001b[1m0.821293683637365\t -> 0.9233070611953735\u001b[0m\n",
      "\u001b[1m0.2937345159628221\t -> 0.13959640264511108\u001b[0m\n",
      "\u001b[1m0.6937541085446642\t -> 0.948086142539978\u001b[0m\n",
      "\u001b[1m0.17913879038902694\t -> 0.14716440439224243\u001b[0m\n",
      "\u001b[1m0.8136118610628993\t -> 0.6414926648139954\u001b[0m\n",
      "\u001b[1m0.9647895163352992\t -> 0.8078171014785767\u001b[0m\n",
      "\u001b[1m0.03240267024614507\t -> 0.2327047884464264\u001b[0m\n",
      "\u001b[1m0.35964767567327977\t -> 0.2650233805179596\u001b[0m\n",
      "\u001b[1m0.20203358274406302\t -> 0.36657974123954773\u001b[0m\n",
      "\u001b[1m0.7210899063424108\t -> 0.8311182856559753\u001b[0m\n",
      "\u001b[1m0.9901322110851972\t -> 0.4591902196407318\u001b[0m\n",
      "\u001b[1m0.7400801865108377\t -> 0.7005212903022766\u001b[0m\n",
      "\u001b[1m0.22713804852218156\t -> 0.16049213707447052\u001b[0m\n",
      "\u001b[1m0.9425239968513476\t -> 0.9832720160484314\u001b[0m\n",
      "\u001b[1m0.6448642649725753\t -> 0.7733834385871887\u001b[0m\n",
      "\u001b[1m0.8191182166891139\t -> 0.834295392036438\u001b[0m\n",
      "\u001b[1m0.5838574154239156\t -> 0.49311956763267517\u001b[0m\n",
      "\u001b[1m0.6014692770810796\t -> 0.7093126177787781\u001b[0m\n",
      "\u001b[1m0.6180673681597182\t -> 0.5426830649375916\u001b[0m\n",
      "\u001b[1m0.07430268057911688\t -> 0.21125862002372742\u001b[0m\n",
      "\u001b[1m0.9415289182321218\t -> 0.9145546555519104\u001b[0m\n",
      "\u001b[1m0.06274535463053654\t -> 0.22704192996025085\u001b[0m\n",
      "\u001b[1m0.05208900073458883\t -> 0.17621342837810516\u001b[0m\n"
     ]
    }
   ],
   "source": [
    "for true, pred in zip(y_test, test_predictions):\n",
    "  if pred == true:\n",
    "    print(\"{}\\t -> {}\".format(true, pred))\n",
    "  else:\n",
    "    print(\"\\033[1m{}\\t -> {}\\033[0m\".format(true, pred))"
   ]
  },
  {
   "cell_type": "code",
   "execution_count": 0,
   "metadata": {
    "colab": {
     "base_uri": "https://localhost:8080/",
     "height": 34
    },
    "colab_type": "code",
    "id": "SH4II32L5G4Z",
    "outputId": "6b00b479-525c-4bb4-aef1-1ede754c0374"
   },
   "outputs": [
    {
     "name": "stdout",
     "output_type": "stream",
     "text": [
      "Testing set Mean Abs Error: 0.0457\n"
     ]
    }
   ],
   "source": [
    "oss, mae, mse = model2.evaluate(X_test, y_test, verbose=2)\n",
    "\n",
    "print(\"Testing set Mean Abs Error: {:5.4f}\".format(mae))"
   ]
  },
  {
   "cell_type": "markdown",
   "metadata": {
    "colab_type": "text",
    "id": "toeqYRkcbWuy"
   },
   "source": [
    "### Transform features before fit into machine learning models"
   ]
  },
  {
   "cell_type": "code",
   "execution_count": 0,
   "metadata": {
    "colab": {
     "base_uri": "https://localhost:8080/",
     "height": 51
    },
    "colab_type": "code",
    "id": "73zX4bZDb-Sc",
    "outputId": "d5e38bea-ee1e-4c80-9bca-e8a5f249833f"
   },
   "outputs": [
    {
     "name": "stdout",
     "output_type": "stream",
     "text": [
      "(900, 3)\n",
      "(100, 3)\n"
     ]
    }
   ],
   "source": [
    "from sklearn.model_selection import train_test_split as split\n",
    "train, test = split(df, test_size = 0.1)\n",
    "print (train.shape)\n",
    "print (test.shape)"
   ]
  },
  {
   "cell_type": "code",
   "execution_count": 0,
   "metadata": {
    "colab": {
     "base_uri": "https://localhost:8080/",
     "height": 34
    },
    "colab_type": "code",
    "id": "14gPhrkldTNu",
    "outputId": "cdc85339-129f-4276-9134-5e837e5ef36f"
   },
   "outputs": [
    {
     "name": "stdout",
     "output_type": "stream",
     "text": [
      "(900, 2)\n"
     ]
    }
   ],
   "source": [
    "#get the features for training data\n",
    "X_train = train[['x','y']]\n",
    "#output(label) of training data\n",
    "y_train = train['z']\n",
    "#get the testing data features and output(label)\n",
    "X_test = test[['x', 'y']]\n",
    "y_test = test['z']\n",
    "\n",
    "print(X_train.shape)"
   ]
  },
  {
   "cell_type": "code",
   "execution_count": 0,
   "metadata": {
    "colab": {
     "base_uri": "https://localhost:8080/",
     "height": 204
    },
    "colab_type": "code",
    "id": "a8obDiZmcCkB",
    "outputId": "0c335d9a-7aa8-470a-80a5-69d6752bdeeb"
   },
   "outputs": [
    {
     "data": {
      "text/html": [
       "<div>\n",
       "<style scoped>\n",
       "    .dataframe tbody tr th:only-of-type {\n",
       "        vertical-align: middle;\n",
       "    }\n",
       "\n",
       "    .dataframe tbody tr th {\n",
       "        vertical-align: top;\n",
       "    }\n",
       "\n",
       "    .dataframe thead th {\n",
       "        text-align: right;\n",
       "    }\n",
       "</style>\n",
       "<table border=\"1\" class=\"dataframe\">\n",
       "  <thead>\n",
       "    <tr style=\"text-align: right;\">\n",
       "      <th></th>\n",
       "      <th>x</th>\n",
       "      <th>y</th>\n",
       "    </tr>\n",
       "  </thead>\n",
       "  <tbody>\n",
       "    <tr>\n",
       "      <th>0</th>\n",
       "      <td>0.672150</td>\n",
       "      <td>0.415769</td>\n",
       "    </tr>\n",
       "    <tr>\n",
       "      <th>1</th>\n",
       "      <td>0.718809</td>\n",
       "      <td>0.899817</td>\n",
       "    </tr>\n",
       "    <tr>\n",
       "      <th>2</th>\n",
       "      <td>0.472522</td>\n",
       "      <td>0.631634</td>\n",
       "    </tr>\n",
       "    <tr>\n",
       "      <th>3</th>\n",
       "      <td>0.288563</td>\n",
       "      <td>0.333871</td>\n",
       "    </tr>\n",
       "    <tr>\n",
       "      <th>4</th>\n",
       "      <td>0.183688</td>\n",
       "      <td>0.410797</td>\n",
       "    </tr>\n",
       "  </tbody>\n",
       "</table>\n",
       "</div>"
      ],
      "text/plain": [
       "          x         y\n",
       "0  0.672150  0.415769\n",
       "1  0.718809  0.899817\n",
       "2  0.472522  0.631634\n",
       "3  0.288563  0.333871\n",
       "4  0.183688  0.410797"
      ]
     },
     "execution_count": 62,
     "metadata": {
      "tags": []
     },
     "output_type": "execute_result"
    }
   ],
   "source": [
    "#normalize the data by using MinMaxScaler in sklearn\n",
    "\n",
    "from sklearn.preprocessing import MinMaxScaler\n",
    "\n",
    "scaler = MinMaxScaler()\n",
    "X_train= scaler.fit_transform(X_train)\n",
    "X_train = pd.DataFrame(X_train, columns=[\"x\",\"y\"])\n",
    "\n",
    "X_train.head()"
   ]
  },
  {
   "cell_type": "code",
   "execution_count": 0,
   "metadata": {
    "colab": {
     "base_uri": "https://localhost:8080/",
     "height": 204
    },
    "colab_type": "code",
    "id": "inJU-21whIvd",
    "outputId": "68a99f03-94c4-41f2-b9d2-ca334b274ecc"
   },
   "outputs": [
    {
     "data": {
      "text/html": [
       "<div>\n",
       "<style scoped>\n",
       "    .dataframe tbody tr th:only-of-type {\n",
       "        vertical-align: middle;\n",
       "    }\n",
       "\n",
       "    .dataframe tbody tr th {\n",
       "        vertical-align: top;\n",
       "    }\n",
       "\n",
       "    .dataframe thead th {\n",
       "        text-align: right;\n",
       "    }\n",
       "</style>\n",
       "<table border=\"1\" class=\"dataframe\">\n",
       "  <thead>\n",
       "    <tr style=\"text-align: right;\">\n",
       "      <th></th>\n",
       "      <th>x</th>\n",
       "      <th>y</th>\n",
       "    </tr>\n",
       "  </thead>\n",
       "  <tbody>\n",
       "    <tr>\n",
       "      <th>0</th>\n",
       "      <td>1.000000</td>\n",
       "      <td>0.845532</td>\n",
       "    </tr>\n",
       "    <tr>\n",
       "      <th>1</th>\n",
       "      <td>0.092518</td>\n",
       "      <td>0.373159</td>\n",
       "    </tr>\n",
       "    <tr>\n",
       "      <th>2</th>\n",
       "      <td>0.577505</td>\n",
       "      <td>0.716933</td>\n",
       "    </tr>\n",
       "    <tr>\n",
       "      <th>3</th>\n",
       "      <td>0.655636</td>\n",
       "      <td>0.389330</td>\n",
       "    </tr>\n",
       "    <tr>\n",
       "      <th>4</th>\n",
       "      <td>0.133407</td>\n",
       "      <td>0.437049</td>\n",
       "    </tr>\n",
       "  </tbody>\n",
       "</table>\n",
       "</div>"
      ],
      "text/plain": [
       "          x         y\n",
       "0  1.000000  0.845532\n",
       "1  0.092518  0.373159\n",
       "2  0.577505  0.716933\n",
       "3  0.655636  0.389330\n",
       "4  0.133407  0.437049"
      ]
     },
     "execution_count": 63,
     "metadata": {
      "tags": []
     },
     "output_type": "execute_result"
    }
   ],
   "source": [
    "X_test= scaler.fit_transform(X_test)\n",
    "X_test = pd.DataFrame(X_test, columns=[\"x\",\"y\"])\n",
    "\n",
    "X_test.head()"
   ]
  },
  {
   "cell_type": "code",
   "execution_count": 0,
   "metadata": {
    "colab": {
     "base_uri": "https://localhost:8080/",
     "height": 51
    },
    "colab_type": "code",
    "id": "fqHKrcYUdFe_",
    "outputId": "4391e68c-dc13-4dd5-d361-4560fa929fb5"
   },
   "outputs": [
    {
     "data": {
      "text/plain": [
       "SVR(C=1000.0, cache_size=200, coef0=0.0, degree=3, epsilon=0.1, gamma=0.1,\n",
       "    kernel='rbf', max_iter=-1, shrinking=True, tol=0.001, verbose=False)"
      ]
     },
     "execution_count": 64,
     "metadata": {
      "tags": []
     },
     "output_type": "execute_result"
    }
   ],
   "source": [
    "# Create and train the Support Vector Machine (Regressor) \n",
    "\n",
    "from sklearn.svm import SVR\n",
    "\n",
    "svr = SVR(kernel='rbf', C=1e3, gamma=0.1) \n",
    "svr.fit(X_train, y_train)"
   ]
  },
  {
   "cell_type": "code",
   "execution_count": 0,
   "metadata": {
    "colab": {
     "base_uri": "https://localhost:8080/",
     "height": 34
    },
    "colab_type": "code",
    "id": "dfPonzNZdKQ1",
    "outputId": "e5b63f35-9350-4c7d-fe6a-e3229aba88f0"
   },
   "outputs": [
    {
     "name": "stdout",
     "output_type": "stream",
     "text": [
      "svm confidence:  0.6494557569632748\n"
     ]
    }
   ],
   "source": [
    "# Testing Model: Score returns the coefficient of determination R^2 of the prediction. \n",
    "# The best possible score is 1.0\n",
    "svm_confidence = svr.score(X_test, y_test)\n",
    "print(\"svm confidence: \", svm_confidence)"
   ]
  },
  {
   "cell_type": "code",
   "execution_count": 0,
   "metadata": {
    "colab": {
     "base_uri": "https://localhost:8080/",
     "height": 419
    },
    "colab_type": "code",
    "id": "XbeATZfldXVf",
    "outputId": "9afa3bb9-a038-42ed-c48f-513f0aae9e44"
   },
   "outputs": [
    {
     "data": {
      "text/html": [
       "<div>\n",
       "<style scoped>\n",
       "    .dataframe tbody tr th:only-of-type {\n",
       "        vertical-align: middle;\n",
       "    }\n",
       "\n",
       "    .dataframe tbody tr th {\n",
       "        vertical-align: top;\n",
       "    }\n",
       "\n",
       "    .dataframe thead th {\n",
       "        text-align: right;\n",
       "    }\n",
       "</style>\n",
       "<table border=\"1\" class=\"dataframe\">\n",
       "  <thead>\n",
       "    <tr style=\"text-align: right;\">\n",
       "      <th></th>\n",
       "      <th>Actual</th>\n",
       "      <th>Predicted</th>\n",
       "    </tr>\n",
       "  </thead>\n",
       "  <tbody>\n",
       "    <tr>\n",
       "      <th>129</th>\n",
       "      <td>1.107791</td>\n",
       "      <td>0.986863</td>\n",
       "    </tr>\n",
       "    <tr>\n",
       "      <th>268</th>\n",
       "      <td>0.190171</td>\n",
       "      <td>0.068085</td>\n",
       "    </tr>\n",
       "    <tr>\n",
       "      <th>236</th>\n",
       "      <td>0.767827</td>\n",
       "      <td>0.568072</td>\n",
       "    </tr>\n",
       "    <tr>\n",
       "      <th>817</th>\n",
       "      <td>0.845009</td>\n",
       "      <td>0.665561</td>\n",
       "    </tr>\n",
       "    <tr>\n",
       "      <th>857</th>\n",
       "      <td>0.020075</td>\n",
       "      <td>0.114994</td>\n",
       "    </tr>\n",
       "    <tr>\n",
       "      <th>...</th>\n",
       "      <td>...</td>\n",
       "      <td>...</td>\n",
       "    </tr>\n",
       "    <tr>\n",
       "      <th>178</th>\n",
       "      <td>0.142248</td>\n",
       "      <td>0.200315</td>\n",
       "    </tr>\n",
       "    <tr>\n",
       "      <th>628</th>\n",
       "      <td>0.587387</td>\n",
       "      <td>0.433607</td>\n",
       "    </tr>\n",
       "    <tr>\n",
       "      <th>324</th>\n",
       "      <td>0.798164</td>\n",
       "      <td>0.794198</td>\n",
       "    </tr>\n",
       "    <tr>\n",
       "      <th>479</th>\n",
       "      <td>0.614117</td>\n",
       "      <td>0.681778</td>\n",
       "    </tr>\n",
       "    <tr>\n",
       "      <th>679</th>\n",
       "      <td>0.052089</td>\n",
       "      <td>0.162889</td>\n",
       "    </tr>\n",
       "  </tbody>\n",
       "</table>\n",
       "<p>100 rows × 2 columns</p>\n",
       "</div>"
      ],
      "text/plain": [
       "       Actual  Predicted\n",
       "129  1.107791   0.986863\n",
       "268  0.190171   0.068085\n",
       "236  0.767827   0.568072\n",
       "817  0.845009   0.665561\n",
       "857  0.020075   0.114994\n",
       "..        ...        ...\n",
       "178  0.142248   0.200315\n",
       "628  0.587387   0.433607\n",
       "324  0.798164   0.794198\n",
       "479  0.614117   0.681778\n",
       "679  0.052089   0.162889\n",
       "\n",
       "[100 rows x 2 columns]"
      ]
     },
     "execution_count": 66,
     "metadata": {
      "tags": []
     },
     "output_type": "execute_result"
    }
   ],
   "source": [
    "y_pred = svr.predict(X_test)\n",
    "df_pred = pd.DataFrame({'Actual': y_test, 'Predicted': y_pred})\n",
    "df_pred"
   ]
  },
  {
   "cell_type": "code",
   "execution_count": 0,
   "metadata": {
    "colab": {
     "base_uri": "https://localhost:8080/",
     "height": 34
    },
    "colab_type": "code",
    "id": "6QjQXZjDdZtF",
    "outputId": "4e5cfba1-1dd4-401e-f1ec-ce72170f2a3f"
   },
   "outputs": [
    {
     "name": "stdout",
     "output_type": "stream",
     "text": [
      "MAE by using SVM is 0.15535633578183472.\n"
     ]
    }
   ],
   "source": [
    "from sklearn.metrics import mean_absolute_error\n",
    "\n",
    "print(\"MAE by using SVM is {}.\".format(mean_absolute_error(y_test,y_pred)))"
   ]
  },
  {
   "cell_type": "markdown",
   "metadata": {
    "colab_type": "text",
    "id": "RlxfIygfjfN9"
   },
   "source": [
    "#### Predict by using MLP"
   ]
  },
  {
   "cell_type": "code",
   "execution_count": 0,
   "metadata": {
    "colab": {},
    "colab_type": "code",
    "id": "C7cQ8Kwtcyes"
   },
   "outputs": [],
   "source": [
    "X_train, X_val, y_train, y_val = split(X_train, y_train, test_size = 0.1)"
   ]
  },
  {
   "cell_type": "code",
   "execution_count": 0,
   "metadata": {
    "colab": {
     "base_uri": "https://localhost:8080/",
     "height": 323
    },
    "colab_type": "code",
    "id": "wKAUsEmDdea_",
    "outputId": "0ef8223b-5aac-4f9e-97e6-b4a5b66ce7a5"
   },
   "outputs": [
    {
     "name": "stdout",
     "output_type": "stream",
     "text": [
      "Model: \"sequential_3\"\n",
      "_________________________________________________________________\n",
      "Layer (type)                 Output Shape              Param #   \n",
      "=================================================================\n",
      "dense_7 (Dense)              (None, 1000)              3000      \n",
      "_________________________________________________________________\n",
      "dropout_5 (Dropout)          (None, 1000)              0         \n",
      "_________________________________________________________________\n",
      "dense_8 (Dense)              (None, 500)               500500    \n",
      "_________________________________________________________________\n",
      "dropout_6 (Dropout)          (None, 500)               0         \n",
      "_________________________________________________________________\n",
      "dense_9 (Dense)              (None, 1)                 501       \n",
      "=================================================================\n",
      "Total params: 504,001\n",
      "Trainable params: 504,001\n",
      "Non-trainable params: 0\n",
      "_________________________________________________________________\n"
     ]
    }
   ],
   "source": [
    "model3 = Sequential()\n",
    "model3.add(Dense(1000, input_dim=2,activation='relu'))\n",
    "model3.add(Dropout(0.5))\n",
    "model3.add(Dense(500, activation=\"relu\"))\n",
    "model3.add(Dropout(0.5))\n",
    "model3.add(Dense(1, activation='linear'))\n",
    "model3.summary()"
   ]
  },
  {
   "cell_type": "code",
   "execution_count": 0,
   "metadata": {
    "colab": {
     "base_uri": "https://localhost:8080/",
     "height": 1000
    },
    "colab_type": "code",
    "id": "gFwidwSXdj8Y",
    "outputId": "083b507c-a569-4799-e78f-82cf5da1cf47"
   },
   "outputs": [
    {
     "name": "stdout",
     "output_type": "stream",
     "text": [
      "Train on 810 samples, validate on 90 samples\n",
      "Epoch 1/150\n",
      "810/810 [==============================] - 0s 533us/step - loss: 0.3450 - mean_squared_error: 0.3450 - mean_absolute_error: 0.4917 - val_loss: 0.3214 - val_mean_squared_error: 0.3214 - val_mean_absolute_error: 0.5024\n",
      "\n",
      "Epoch 00001: val_loss improved from inf to 0.32136, saving model to best3.hdf5\n",
      "Epoch 2/150\n",
      "810/810 [==============================] - 0s 42us/step - loss: 0.2890 - mean_squared_error: 0.2890 - mean_absolute_error: 0.4472 - val_loss: 0.2334 - val_mean_squared_error: 0.2334 - val_mean_absolute_error: 0.4257\n",
      "\n",
      "Epoch 00002: val_loss improved from 0.32136 to 0.23338, saving model to best3.hdf5\n",
      "Epoch 3/150\n",
      "810/810 [==============================] - 0s 43us/step - loss: 0.1987 - mean_squared_error: 0.1987 - mean_absolute_error: 0.3644 - val_loss: 0.1418 - val_mean_squared_error: 0.1418 - val_mean_absolute_error: 0.3265\n",
      "\n",
      "Epoch 00003: val_loss improved from 0.23338 to 0.14180, saving model to best3.hdf5\n",
      "Epoch 4/150\n",
      "810/810 [==============================] - 0s 35us/step - loss: 0.1146 - mean_squared_error: 0.1146 - mean_absolute_error: 0.2698 - val_loss: 0.0764 - val_mean_squared_error: 0.0764 - val_mean_absolute_error: 0.2220\n",
      "\n",
      "Epoch 00004: val_loss improved from 0.14180 to 0.07636, saving model to best3.hdf5\n",
      "Epoch 5/150\n",
      "810/810 [==============================] - 0s 40us/step - loss: 0.0653 - mean_squared_error: 0.0653 - mean_absolute_error: 0.2023 - val_loss: 0.0529 - val_mean_squared_error: 0.0529 - val_mean_absolute_error: 0.1742\n",
      "\n",
      "Epoch 00005: val_loss improved from 0.07636 to 0.05289, saving model to best3.hdf5\n",
      "Epoch 6/150\n",
      "810/810 [==============================] - 0s 39us/step - loss: 0.0580 - mean_squared_error: 0.0580 - mean_absolute_error: 0.1948 - val_loss: 0.0547 - val_mean_squared_error: 0.0547 - val_mean_absolute_error: 0.1785\n",
      "\n",
      "Epoch 00006: val_loss did not improve from 0.05289\n",
      "Epoch 7/150\n",
      "810/810 [==============================] - 0s 34us/step - loss: 0.0640 - mean_squared_error: 0.0640 - mean_absolute_error: 0.2068 - val_loss: 0.0506 - val_mean_squared_error: 0.0506 - val_mean_absolute_error: 0.1722\n",
      "\n",
      "Epoch 00007: val_loss improved from 0.05289 to 0.05056, saving model to best3.hdf5\n",
      "Epoch 8/150\n",
      "810/810 [==============================] - 0s 35us/step - loss: 0.0564 - mean_squared_error: 0.0564 - mean_absolute_error: 0.1908 - val_loss: 0.0464 - val_mean_squared_error: 0.0464 - val_mean_absolute_error: 0.1677\n",
      "\n",
      "Epoch 00008: val_loss improved from 0.05056 to 0.04644, saving model to best3.hdf5\n",
      "Epoch 9/150\n",
      "810/810 [==============================] - 0s 52us/step - loss: 0.0514 - mean_squared_error: 0.0514 - mean_absolute_error: 0.1816 - val_loss: 0.0474 - val_mean_squared_error: 0.0474 - val_mean_absolute_error: 0.1751\n",
      "\n",
      "Epoch 00009: val_loss did not improve from 0.04644\n",
      "Epoch 10/150\n",
      "810/810 [==============================] - 0s 45us/step - loss: 0.0517 - mean_squared_error: 0.0517 - mean_absolute_error: 0.1825 - val_loss: 0.0456 - val_mean_squared_error: 0.0456 - val_mean_absolute_error: 0.1741\n",
      "\n",
      "Epoch 00010: val_loss improved from 0.04644 to 0.04564, saving model to best3.hdf5\n",
      "Epoch 11/150\n",
      "810/810 [==============================] - 0s 37us/step - loss: 0.0499 - mean_squared_error: 0.0499 - mean_absolute_error: 0.1803 - val_loss: 0.0420 - val_mean_squared_error: 0.0420 - val_mean_absolute_error: 0.1668\n",
      "\n",
      "Epoch 00011: val_loss improved from 0.04564 to 0.04199, saving model to best3.hdf5\n",
      "Epoch 12/150\n",
      "810/810 [==============================] - 0s 34us/step - loss: 0.0488 - mean_squared_error: 0.0488 - mean_absolute_error: 0.1802 - val_loss: 0.0406 - val_mean_squared_error: 0.0406 - val_mean_absolute_error: 0.1652\n",
      "\n",
      "Epoch 00012: val_loss improved from 0.04199 to 0.04060, saving model to best3.hdf5\n",
      "Epoch 13/150\n",
      "810/810 [==============================] - 0s 46us/step - loss: 0.0484 - mean_squared_error: 0.0484 - mean_absolute_error: 0.1772 - val_loss: 0.0407 - val_mean_squared_error: 0.0407 - val_mean_absolute_error: 0.1668\n",
      "\n",
      "Epoch 00013: val_loss did not improve from 0.04060\n",
      "Epoch 14/150\n",
      "810/810 [==============================] - 0s 38us/step - loss: 0.0493 - mean_squared_error: 0.0493 - mean_absolute_error: 0.1779 - val_loss: 0.0413 - val_mean_squared_error: 0.0413 - val_mean_absolute_error: 0.1691\n",
      "\n",
      "Epoch 00014: val_loss did not improve from 0.04060\n",
      "Epoch 15/150\n",
      "810/810 [==============================] - 0s 37us/step - loss: 0.0499 - mean_squared_error: 0.0499 - mean_absolute_error: 0.1784 - val_loss: 0.0412 - val_mean_squared_error: 0.0412 - val_mean_absolute_error: 0.1688\n",
      "\n",
      "Epoch 00015: ReduceLROnPlateau reducing learning rate to 0.0005000000237487257.\n",
      "\n",
      "Epoch 00015: val_loss did not improve from 0.04060\n",
      "Epoch 16/150\n",
      "810/810 [==============================] - 0s 33us/step - loss: 0.0466 - mean_squared_error: 0.0466 - mean_absolute_error: 0.1734 - val_loss: 0.0411 - val_mean_squared_error: 0.0411 - val_mean_absolute_error: 0.1682\n",
      "\n",
      "Epoch 00016: val_loss did not improve from 0.04060\n",
      "Epoch 17/150\n",
      "810/810 [==============================] - 0s 35us/step - loss: 0.0479 - mean_squared_error: 0.0479 - mean_absolute_error: 0.1755 - val_loss: 0.0406 - val_mean_squared_error: 0.0406 - val_mean_absolute_error: 0.1669\n",
      "\n",
      "Epoch 00017: val_loss did not improve from 0.04060\n",
      "Epoch 18/150\n",
      "810/810 [==============================] - 0s 37us/step - loss: 0.0461 - mean_squared_error: 0.0461 - mean_absolute_error: 0.1713 - val_loss: 0.0403 - val_mean_squared_error: 0.0403 - val_mean_absolute_error: 0.1661\n",
      "\n",
      "Epoch 00018: val_loss improved from 0.04060 to 0.04035, saving model to best3.hdf5\n",
      "Epoch 19/150\n",
      "810/810 [==============================] - 0s 38us/step - loss: 0.0464 - mean_squared_error: 0.0464 - mean_absolute_error: 0.1737 - val_loss: 0.0407 - val_mean_squared_error: 0.0407 - val_mean_absolute_error: 0.1670\n",
      "\n",
      "Epoch 00019: val_loss did not improve from 0.04035\n",
      "Epoch 20/150\n",
      "810/810 [==============================] - 0s 37us/step - loss: 0.0461 - mean_squared_error: 0.0461 - mean_absolute_error: 0.1725 - val_loss: 0.0407 - val_mean_squared_error: 0.0407 - val_mean_absolute_error: 0.1669\n",
      "\n",
      "Epoch 00020: val_loss did not improve from 0.04035\n",
      "Epoch 21/150\n",
      "810/810 [==============================] - 0s 38us/step - loss: 0.0474 - mean_squared_error: 0.0474 - mean_absolute_error: 0.1748 - val_loss: 0.0404 - val_mean_squared_error: 0.0404 - val_mean_absolute_error: 0.1660\n",
      "\n",
      "Epoch 00021: ReduceLROnPlateau reducing learning rate to 0.0002500000118743628.\n",
      "\n",
      "Epoch 00021: val_loss did not improve from 0.04035\n",
      "Epoch 22/150\n",
      "810/810 [==============================] - 0s 36us/step - loss: 0.0479 - mean_squared_error: 0.0479 - mean_absolute_error: 0.1764 - val_loss: 0.0406 - val_mean_squared_error: 0.0406 - val_mean_absolute_error: 0.1666\n",
      "\n",
      "Epoch 00022: val_loss did not improve from 0.04035\n",
      "Epoch 23/150\n",
      "810/810 [==============================] - 0s 42us/step - loss: 0.0467 - mean_squared_error: 0.0467 - mean_absolute_error: 0.1741 - val_loss: 0.0411 - val_mean_squared_error: 0.0411 - val_mean_absolute_error: 0.1679\n",
      "\n",
      "Epoch 00023: val_loss did not improve from 0.04035\n",
      "Epoch 24/150\n",
      "810/810 [==============================] - 0s 43us/step - loss: 0.0474 - mean_squared_error: 0.0474 - mean_absolute_error: 0.1750 - val_loss: 0.0412 - val_mean_squared_error: 0.0412 - val_mean_absolute_error: 0.1685\n",
      "\n",
      "Epoch 00024: ReduceLROnPlateau reducing learning rate to 0.0001250000059371814.\n",
      "\n",
      "Epoch 00024: val_loss did not improve from 0.04035\n",
      "Epoch 25/150\n",
      "810/810 [==============================] - 0s 41us/step - loss: 0.0468 - mean_squared_error: 0.0468 - mean_absolute_error: 0.1738 - val_loss: 0.0411 - val_mean_squared_error: 0.0411 - val_mean_absolute_error: 0.1680\n",
      "\n",
      "Epoch 00025: val_loss did not improve from 0.04035\n",
      "Epoch 26/150\n",
      "810/810 [==============================] - 0s 35us/step - loss: 0.0473 - mean_squared_error: 0.0473 - mean_absolute_error: 0.1719 - val_loss: 0.0409 - val_mean_squared_error: 0.0409 - val_mean_absolute_error: 0.1675\n",
      "\n",
      "Epoch 00026: val_loss did not improve from 0.04035\n",
      "Epoch 27/150\n",
      "810/810 [==============================] - 0s 41us/step - loss: 0.0487 - mean_squared_error: 0.0487 - mean_absolute_error: 0.1779 - val_loss: 0.0408 - val_mean_squared_error: 0.0408 - val_mean_absolute_error: 0.1672\n",
      "\n",
      "Epoch 00027: ReduceLROnPlateau reducing learning rate to 6.25000029685907e-05.\n",
      "\n",
      "Epoch 00027: val_loss did not improve from 0.04035\n",
      "Epoch 28/150\n",
      "810/810 [==============================] - 0s 34us/step - loss: 0.0488 - mean_squared_error: 0.0488 - mean_absolute_error: 0.1780 - val_loss: 0.0408 - val_mean_squared_error: 0.0408 - val_mean_absolute_error: 0.1673\n",
      "\n",
      "Epoch 00028: val_loss did not improve from 0.04035\n",
      "Epoch 29/150\n",
      "810/810 [==============================] - 0s 33us/step - loss: 0.0466 - mean_squared_error: 0.0466 - mean_absolute_error: 0.1736 - val_loss: 0.0408 - val_mean_squared_error: 0.0408 - val_mean_absolute_error: 0.1673\n",
      "\n",
      "Epoch 00029: val_loss did not improve from 0.04035\n",
      "Epoch 30/150\n",
      "810/810 [==============================] - 0s 37us/step - loss: 0.0468 - mean_squared_error: 0.0468 - mean_absolute_error: 0.1741 - val_loss: 0.0408 - val_mean_squared_error: 0.0408 - val_mean_absolute_error: 0.1673\n",
      "\n",
      "Epoch 00030: ReduceLROnPlateau reducing learning rate to 3.125000148429535e-05.\n",
      "\n",
      "Epoch 00030: val_loss did not improve from 0.04035\n",
      "Epoch 31/150\n",
      "810/810 [==============================] - 0s 37us/step - loss: 0.0483 - mean_squared_error: 0.0483 - mean_absolute_error: 0.1764 - val_loss: 0.0408 - val_mean_squared_error: 0.0408 - val_mean_absolute_error: 0.1672\n",
      "\n",
      "Epoch 00031: val_loss did not improve from 0.04035\n",
      "Epoch 32/150\n",
      "810/810 [==============================] - 0s 40us/step - loss: 0.0463 - mean_squared_error: 0.0463 - mean_absolute_error: 0.1749 - val_loss: 0.0408 - val_mean_squared_error: 0.0408 - val_mean_absolute_error: 0.1672\n",
      "\n",
      "Epoch 00032: val_loss did not improve from 0.04035\n",
      "Epoch 33/150\n",
      "810/810 [==============================] - 0s 33us/step - loss: 0.0472 - mean_squared_error: 0.0472 - mean_absolute_error: 0.1766 - val_loss: 0.0407 - val_mean_squared_error: 0.0407 - val_mean_absolute_error: 0.1671\n",
      "\n",
      "Epoch 00033: ReduceLROnPlateau reducing learning rate to 1.5625000742147677e-05.\n",
      "\n",
      "Epoch 00033: val_loss did not improve from 0.04035\n",
      "Epoch 34/150\n",
      "810/810 [==============================] - 0s 36us/step - loss: 0.0461 - mean_squared_error: 0.0461 - mean_absolute_error: 0.1718 - val_loss: 0.0407 - val_mean_squared_error: 0.0407 - val_mean_absolute_error: 0.1670\n",
      "\n",
      "Epoch 00034: val_loss did not improve from 0.04035\n",
      "Epoch 35/150\n",
      "810/810 [==============================] - 0s 36us/step - loss: 0.0467 - mean_squared_error: 0.0467 - mean_absolute_error: 0.1735 - val_loss: 0.0407 - val_mean_squared_error: 0.0407 - val_mean_absolute_error: 0.1669\n",
      "\n",
      "Epoch 00035: val_loss did not improve from 0.04035\n",
      "Epoch 36/150\n",
      "810/810 [==============================] - 0s 36us/step - loss: 0.0466 - mean_squared_error: 0.0466 - mean_absolute_error: 0.1710 - val_loss: 0.0407 - val_mean_squared_error: 0.0407 - val_mean_absolute_error: 0.1669\n",
      "\n",
      "Epoch 00036: ReduceLROnPlateau reducing learning rate to 1e-05.\n",
      "\n",
      "Epoch 00036: val_loss did not improve from 0.04035\n",
      "Epoch 37/150\n",
      "810/810 [==============================] - 0s 36us/step - loss: 0.0470 - mean_squared_error: 0.0470 - mean_absolute_error: 0.1719 - val_loss: 0.0407 - val_mean_squared_error: 0.0407 - val_mean_absolute_error: 0.1669\n",
      "\n",
      "Epoch 00037: val_loss did not improve from 0.04035\n",
      "Epoch 38/150\n",
      "810/810 [==============================] - 0s 34us/step - loss: 0.0467 - mean_squared_error: 0.0467 - mean_absolute_error: 0.1758 - val_loss: 0.0407 - val_mean_squared_error: 0.0407 - val_mean_absolute_error: 0.1669\n",
      "\n",
      "Epoch 00038: val_loss did not improve from 0.04035\n",
      "Epoch 39/150\n",
      "810/810 [==============================] - 0s 31us/step - loss: 0.0485 - mean_squared_error: 0.0485 - mean_absolute_error: 0.1781 - val_loss: 0.0407 - val_mean_squared_error: 0.0407 - val_mean_absolute_error: 0.1669\n",
      "\n",
      "Epoch 00039: val_loss did not improve from 0.04035\n",
      "Epoch 40/150\n",
      "810/810 [==============================] - 0s 35us/step - loss: 0.0464 - mean_squared_error: 0.0464 - mean_absolute_error: 0.1741 - val_loss: 0.0407 - val_mean_squared_error: 0.0407 - val_mean_absolute_error: 0.1670\n",
      "\n",
      "Epoch 00040: val_loss did not improve from 0.04035\n",
      "Epoch 41/150\n",
      "810/810 [==============================] - 0s 33us/step - loss: 0.0487 - mean_squared_error: 0.0487 - mean_absolute_error: 0.1764 - val_loss: 0.0407 - val_mean_squared_error: 0.0407 - val_mean_absolute_error: 0.1671\n",
      "\n",
      "Epoch 00041: val_loss did not improve from 0.04035\n",
      "Epoch 42/150\n",
      "810/810 [==============================] - 0s 33us/step - loss: 0.0452 - mean_squared_error: 0.0452 - mean_absolute_error: 0.1709 - val_loss: 0.0407 - val_mean_squared_error: 0.0407 - val_mean_absolute_error: 0.1671\n",
      "\n",
      "Epoch 00042: val_loss did not improve from 0.04035\n",
      "Epoch 43/150\n",
      "810/810 [==============================] - 0s 35us/step - loss: 0.0465 - mean_squared_error: 0.0465 - mean_absolute_error: 0.1726 - val_loss: 0.0407 - val_mean_squared_error: 0.0407 - val_mean_absolute_error: 0.1670\n",
      "\n",
      "Epoch 00043: val_loss did not improve from 0.04035\n",
      "Epoch 44/150\n",
      "810/810 [==============================] - 0s 41us/step - loss: 0.0467 - mean_squared_error: 0.0467 - mean_absolute_error: 0.1739 - val_loss: 0.0407 - val_mean_squared_error: 0.0407 - val_mean_absolute_error: 0.1670\n",
      "\n",
      "Epoch 00044: val_loss did not improve from 0.04035\n",
      "Epoch 45/150\n",
      "810/810 [==============================] - 0s 30us/step - loss: 0.0455 - mean_squared_error: 0.0455 - mean_absolute_error: 0.1733 - val_loss: 0.0407 - val_mean_squared_error: 0.0407 - val_mean_absolute_error: 0.1670\n",
      "\n",
      "Epoch 00045: val_loss did not improve from 0.04035\n",
      "Epoch 46/150\n",
      "810/810 [==============================] - 0s 36us/step - loss: 0.0470 - mean_squared_error: 0.0470 - mean_absolute_error: 0.1736 - val_loss: 0.0407 - val_mean_squared_error: 0.0407 - val_mean_absolute_error: 0.1670\n",
      "\n",
      "Epoch 00046: val_loss did not improve from 0.04035\n",
      "Epoch 47/150\n",
      "810/810 [==============================] - 0s 33us/step - loss: 0.0486 - mean_squared_error: 0.0486 - mean_absolute_error: 0.1778 - val_loss: 0.0407 - val_mean_squared_error: 0.0407 - val_mean_absolute_error: 0.1670\n",
      "\n",
      "Epoch 00047: val_loss did not improve from 0.04035\n",
      "Epoch 48/150\n",
      "810/810 [==============================] - 0s 33us/step - loss: 0.0484 - mean_squared_error: 0.0484 - mean_absolute_error: 0.1757 - val_loss: 0.0407 - val_mean_squared_error: 0.0407 - val_mean_absolute_error: 0.1670\n",
      "\n",
      "Epoch 00048: val_loss did not improve from 0.04035\n",
      "Epoch 49/150\n",
      "810/810 [==============================] - 0s 33us/step - loss: 0.0484 - mean_squared_error: 0.0484 - mean_absolute_error: 0.1760 - val_loss: 0.0407 - val_mean_squared_error: 0.0407 - val_mean_absolute_error: 0.1671\n",
      "\n",
      "Epoch 00049: val_loss did not improve from 0.04035\n",
      "Epoch 50/150\n",
      "810/810 [==============================] - 0s 33us/step - loss: 0.0471 - mean_squared_error: 0.0471 - mean_absolute_error: 0.1727 - val_loss: 0.0408 - val_mean_squared_error: 0.0408 - val_mean_absolute_error: 0.1671\n",
      "\n",
      "Epoch 00050: val_loss did not improve from 0.04035\n",
      "Epoch 51/150\n",
      "810/810 [==============================] - 0s 35us/step - loss: 0.0474 - mean_squared_error: 0.0474 - mean_absolute_error: 0.1746 - val_loss: 0.0408 - val_mean_squared_error: 0.0408 - val_mean_absolute_error: 0.1672\n",
      "\n",
      "Epoch 00051: val_loss did not improve from 0.04035\n",
      "Epoch 52/150\n",
      "810/810 [==============================] - 0s 39us/step - loss: 0.0475 - mean_squared_error: 0.0475 - mean_absolute_error: 0.1757 - val_loss: 0.0408 - val_mean_squared_error: 0.0408 - val_mean_absolute_error: 0.1673\n",
      "\n",
      "Epoch 00052: val_loss did not improve from 0.04035\n",
      "Epoch 53/150\n",
      "810/810 [==============================] - 0s 39us/step - loss: 0.0464 - mean_squared_error: 0.0464 - mean_absolute_error: 0.1723 - val_loss: 0.0408 - val_mean_squared_error: 0.0408 - val_mean_absolute_error: 0.1673\n",
      "\n",
      "Epoch 00053: val_loss did not improve from 0.04035\n",
      "Epoch 54/150\n",
      "810/810 [==============================] - 0s 45us/step - loss: 0.0474 - mean_squared_error: 0.0474 - mean_absolute_error: 0.1756 - val_loss: 0.0408 - val_mean_squared_error: 0.0408 - val_mean_absolute_error: 0.1673\n",
      "\n",
      "Epoch 00054: val_loss did not improve from 0.04035\n",
      "Epoch 55/150\n",
      "810/810 [==============================] - 0s 43us/step - loss: 0.0473 - mean_squared_error: 0.0473 - mean_absolute_error: 0.1741 - val_loss: 0.0408 - val_mean_squared_error: 0.0408 - val_mean_absolute_error: 0.1673\n",
      "\n",
      "Epoch 00055: val_loss did not improve from 0.04035\n",
      "Epoch 56/150\n",
      "810/810 [==============================] - 0s 37us/step - loss: 0.0495 - mean_squared_error: 0.0495 - mean_absolute_error: 0.1790 - val_loss: 0.0409 - val_mean_squared_error: 0.0409 - val_mean_absolute_error: 0.1674\n",
      "\n",
      "Epoch 00056: val_loss did not improve from 0.04035\n",
      "Epoch 57/150\n",
      "810/810 [==============================] - 0s 35us/step - loss: 0.0465 - mean_squared_error: 0.0465 - mean_absolute_error: 0.1735 - val_loss: 0.0409 - val_mean_squared_error: 0.0409 - val_mean_absolute_error: 0.1675\n",
      "\n",
      "Epoch 00057: val_loss did not improve from 0.04035\n",
      "Epoch 58/150\n",
      "810/810 [==============================] - 0s 36us/step - loss: 0.0467 - mean_squared_error: 0.0467 - mean_absolute_error: 0.1745 - val_loss: 0.0409 - val_mean_squared_error: 0.0409 - val_mean_absolute_error: 0.1676\n",
      "\n",
      "Epoch 00058: val_loss did not improve from 0.04035\n",
      "Epoch 59/150\n",
      "810/810 [==============================] - 0s 38us/step - loss: 0.0485 - mean_squared_error: 0.0485 - mean_absolute_error: 0.1769 - val_loss: 0.0409 - val_mean_squared_error: 0.0409 - val_mean_absolute_error: 0.1676\n",
      "\n",
      "Epoch 00059: val_loss did not improve from 0.04035\n",
      "Epoch 60/150\n",
      "810/810 [==============================] - 0s 38us/step - loss: 0.0478 - mean_squared_error: 0.0478 - mean_absolute_error: 0.1754 - val_loss: 0.0409 - val_mean_squared_error: 0.0409 - val_mean_absolute_error: 0.1676\n",
      "\n",
      "Epoch 00060: val_loss did not improve from 0.04035\n",
      "Epoch 61/150\n",
      "810/810 [==============================] - 0s 35us/step - loss: 0.0480 - mean_squared_error: 0.0480 - mean_absolute_error: 0.1746 - val_loss: 0.0409 - val_mean_squared_error: 0.0409 - val_mean_absolute_error: 0.1676\n",
      "\n",
      "Epoch 00061: val_loss did not improve from 0.04035\n",
      "Epoch 62/150\n",
      "810/810 [==============================] - 0s 40us/step - loss: 0.0460 - mean_squared_error: 0.0460 - mean_absolute_error: 0.1726 - val_loss: 0.0409 - val_mean_squared_error: 0.0409 - val_mean_absolute_error: 0.1675\n",
      "\n",
      "Epoch 00062: val_loss did not improve from 0.04035\n",
      "Epoch 63/150\n",
      "810/810 [==============================] - 0s 54us/step - loss: 0.0461 - mean_squared_error: 0.0461 - mean_absolute_error: 0.1712 - val_loss: 0.0409 - val_mean_squared_error: 0.0409 - val_mean_absolute_error: 0.1675\n",
      "\n",
      "Epoch 00063: val_loss did not improve from 0.04035\n",
      "Epoch 64/150\n",
      "810/810 [==============================] - 0s 40us/step - loss: 0.0454 - mean_squared_error: 0.0454 - mean_absolute_error: 0.1717 - val_loss: 0.0409 - val_mean_squared_error: 0.0409 - val_mean_absolute_error: 0.1675\n",
      "\n",
      "Epoch 00064: val_loss did not improve from 0.04035\n",
      "Epoch 65/150\n",
      "810/810 [==============================] - 0s 40us/step - loss: 0.0468 - mean_squared_error: 0.0468 - mean_absolute_error: 0.1734 - val_loss: 0.0409 - val_mean_squared_error: 0.0409 - val_mean_absolute_error: 0.1675\n",
      "\n",
      "Epoch 00065: val_loss did not improve from 0.04035\n",
      "Epoch 66/150\n",
      "810/810 [==============================] - 0s 41us/step - loss: 0.0467 - mean_squared_error: 0.0467 - mean_absolute_error: 0.1731 - val_loss: 0.0409 - val_mean_squared_error: 0.0409 - val_mean_absolute_error: 0.1675\n",
      "\n",
      "Epoch 00066: val_loss did not improve from 0.04035\n",
      "Epoch 67/150\n",
      "810/810 [==============================] - 0s 38us/step - loss: 0.0487 - mean_squared_error: 0.0487 - mean_absolute_error: 0.1764 - val_loss: 0.0409 - val_mean_squared_error: 0.0409 - val_mean_absolute_error: 0.1675\n",
      "\n",
      "Epoch 00067: val_loss did not improve from 0.04035\n",
      "Epoch 68/150\n",
      "810/810 [==============================] - 0s 35us/step - loss: 0.0468 - mean_squared_error: 0.0468 - mean_absolute_error: 0.1754 - val_loss: 0.0408 - val_mean_squared_error: 0.0408 - val_mean_absolute_error: 0.1674\n",
      "\n",
      "Epoch 00068: val_loss did not improve from 0.04035\n",
      "Epoch 69/150\n",
      "810/810 [==============================] - 0s 34us/step - loss: 0.0490 - mean_squared_error: 0.0490 - mean_absolute_error: 0.1790 - val_loss: 0.0408 - val_mean_squared_error: 0.0408 - val_mean_absolute_error: 0.1673\n",
      "\n",
      "Epoch 00069: val_loss did not improve from 0.04035\n",
      "Epoch 70/150\n",
      "810/810 [==============================] - 0s 35us/step - loss: 0.0495 - mean_squared_error: 0.0495 - mean_absolute_error: 0.1776 - val_loss: 0.0409 - val_mean_squared_error: 0.0409 - val_mean_absolute_error: 0.1674\n",
      "\n",
      "Epoch 00070: val_loss did not improve from 0.04035\n",
      "Epoch 71/150\n",
      "810/810 [==============================] - 0s 32us/step - loss: 0.0475 - mean_squared_error: 0.0475 - mean_absolute_error: 0.1774 - val_loss: 0.0409 - val_mean_squared_error: 0.0409 - val_mean_absolute_error: 0.1675\n",
      "\n",
      "Epoch 00071: val_loss did not improve from 0.04035\n",
      "Epoch 72/150\n",
      "810/810 [==============================] - 0s 37us/step - loss: 0.0454 - mean_squared_error: 0.0454 - mean_absolute_error: 0.1738 - val_loss: 0.0409 - val_mean_squared_error: 0.0409 - val_mean_absolute_error: 0.1675\n",
      "\n",
      "Epoch 00072: val_loss did not improve from 0.04035\n",
      "Epoch 73/150\n",
      "810/810 [==============================] - 0s 40us/step - loss: 0.0488 - mean_squared_error: 0.0488 - mean_absolute_error: 0.1780 - val_loss: 0.0409 - val_mean_squared_error: 0.0409 - val_mean_absolute_error: 0.1674\n",
      "\n",
      "Epoch 00073: val_loss did not improve from 0.04035\n",
      "Epoch 74/150\n",
      "810/810 [==============================] - 0s 38us/step - loss: 0.0473 - mean_squared_error: 0.0473 - mean_absolute_error: 0.1768 - val_loss: 0.0409 - val_mean_squared_error: 0.0409 - val_mean_absolute_error: 0.1674\n",
      "\n",
      "Epoch 00074: val_loss did not improve from 0.04035\n",
      "Epoch 75/150\n",
      "810/810 [==============================] - 0s 37us/step - loss: 0.0452 - mean_squared_error: 0.0452 - mean_absolute_error: 0.1712 - val_loss: 0.0409 - val_mean_squared_error: 0.0409 - val_mean_absolute_error: 0.1674\n",
      "\n",
      "Epoch 00075: val_loss did not improve from 0.04035\n",
      "Epoch 76/150\n",
      "810/810 [==============================] - 0s 34us/step - loss: 0.0474 - mean_squared_error: 0.0474 - mean_absolute_error: 0.1758 - val_loss: 0.0408 - val_mean_squared_error: 0.0408 - val_mean_absolute_error: 0.1673\n",
      "\n",
      "Epoch 00076: val_loss did not improve from 0.04035\n",
      "Epoch 77/150\n",
      "810/810 [==============================] - 0s 36us/step - loss: 0.0477 - mean_squared_error: 0.0477 - mean_absolute_error: 0.1750 - val_loss: 0.0408 - val_mean_squared_error: 0.0408 - val_mean_absolute_error: 0.1672\n",
      "\n",
      "Epoch 00077: val_loss did not improve from 0.04035\n",
      "Epoch 78/150\n",
      "810/810 [==============================] - 0s 33us/step - loss: 0.0467 - mean_squared_error: 0.0467 - mean_absolute_error: 0.1728 - val_loss: 0.0407 - val_mean_squared_error: 0.0407 - val_mean_absolute_error: 0.1671\n",
      "\n",
      "Epoch 00078: val_loss did not improve from 0.04035\n",
      "Epoch 79/150\n",
      "810/810 [==============================] - 0s 41us/step - loss: 0.0467 - mean_squared_error: 0.0467 - mean_absolute_error: 0.1746 - val_loss: 0.0407 - val_mean_squared_error: 0.0407 - val_mean_absolute_error: 0.1671\n",
      "\n",
      "Epoch 00079: val_loss did not improve from 0.04035\n",
      "Epoch 80/150\n",
      "810/810 [==============================] - 0s 45us/step - loss: 0.0482 - mean_squared_error: 0.0482 - mean_absolute_error: 0.1785 - val_loss: 0.0407 - val_mean_squared_error: 0.0407 - val_mean_absolute_error: 0.1671\n",
      "\n",
      "Epoch 00080: val_loss did not improve from 0.04035\n",
      "Epoch 81/150\n",
      "810/810 [==============================] - 0s 37us/step - loss: 0.0473 - mean_squared_error: 0.0473 - mean_absolute_error: 0.1755 - val_loss: 0.0407 - val_mean_squared_error: 0.0407 - val_mean_absolute_error: 0.1671\n",
      "\n",
      "Epoch 00081: val_loss did not improve from 0.04035\n",
      "Epoch 82/150\n",
      "810/810 [==============================] - 0s 34us/step - loss: 0.0480 - mean_squared_error: 0.0480 - mean_absolute_error: 0.1761 - val_loss: 0.0407 - val_mean_squared_error: 0.0407 - val_mean_absolute_error: 0.1671\n",
      "\n",
      "Epoch 00082: val_loss did not improve from 0.04035\n",
      "Epoch 83/150\n",
      "810/810 [==============================] - 0s 35us/step - loss: 0.0476 - mean_squared_error: 0.0476 - mean_absolute_error: 0.1760 - val_loss: 0.0408 - val_mean_squared_error: 0.0408 - val_mean_absolute_error: 0.1672\n",
      "\n",
      "Epoch 00083: val_loss did not improve from 0.04035\n",
      "Epoch 84/150\n",
      "810/810 [==============================] - 0s 40us/step - loss: 0.0466 - mean_squared_error: 0.0466 - mean_absolute_error: 0.1730 - val_loss: 0.0408 - val_mean_squared_error: 0.0408 - val_mean_absolute_error: 0.1673\n",
      "\n",
      "Epoch 00084: val_loss did not improve from 0.04035\n",
      "Epoch 85/150\n",
      "810/810 [==============================] - 0s 40us/step - loss: 0.0485 - mean_squared_error: 0.0485 - mean_absolute_error: 0.1762 - val_loss: 0.0408 - val_mean_squared_error: 0.0408 - val_mean_absolute_error: 0.1673\n",
      "\n",
      "Epoch 00085: val_loss did not improve from 0.04035\n",
      "Epoch 86/150\n",
      "810/810 [==============================] - 0s 41us/step - loss: 0.0463 - mean_squared_error: 0.0463 - mean_absolute_error: 0.1725 - val_loss: 0.0408 - val_mean_squared_error: 0.0408 - val_mean_absolute_error: 0.1673\n",
      "\n",
      "Epoch 00086: val_loss did not improve from 0.04035\n",
      "Epoch 87/150\n",
      "810/810 [==============================] - 0s 47us/step - loss: 0.0480 - mean_squared_error: 0.0480 - mean_absolute_error: 0.1761 - val_loss: 0.0408 - val_mean_squared_error: 0.0408 - val_mean_absolute_error: 0.1672\n",
      "\n",
      "Epoch 00087: val_loss did not improve from 0.04035\n",
      "Epoch 88/150\n",
      "810/810 [==============================] - 0s 38us/step - loss: 0.0477 - mean_squared_error: 0.0477 - mean_absolute_error: 0.1750 - val_loss: 0.0408 - val_mean_squared_error: 0.0408 - val_mean_absolute_error: 0.1673\n",
      "\n",
      "Epoch 00088: val_loss did not improve from 0.04035\n",
      "Epoch 89/150\n",
      "810/810 [==============================] - 0s 39us/step - loss: 0.0460 - mean_squared_error: 0.0460 - mean_absolute_error: 0.1727 - val_loss: 0.0408 - val_mean_squared_error: 0.0408 - val_mean_absolute_error: 0.1674\n",
      "\n",
      "Epoch 00089: val_loss did not improve from 0.04035\n",
      "Epoch 90/150\n",
      "810/810 [==============================] - 0s 44us/step - loss: 0.0475 - mean_squared_error: 0.0475 - mean_absolute_error: 0.1735 - val_loss: 0.0408 - val_mean_squared_error: 0.0408 - val_mean_absolute_error: 0.1673\n",
      "\n",
      "Epoch 00090: val_loss did not improve from 0.04035\n",
      "Epoch 91/150\n",
      "810/810 [==============================] - 0s 34us/step - loss: 0.0476 - mean_squared_error: 0.0476 - mean_absolute_error: 0.1745 - val_loss: 0.0408 - val_mean_squared_error: 0.0408 - val_mean_absolute_error: 0.1673\n",
      "\n",
      "Epoch 00091: val_loss did not improve from 0.04035\n",
      "Epoch 92/150\n",
      "810/810 [==============================] - 0s 55us/step - loss: 0.0476 - mean_squared_error: 0.0476 - mean_absolute_error: 0.1737 - val_loss: 0.0408 - val_mean_squared_error: 0.0408 - val_mean_absolute_error: 0.1672\n",
      "\n",
      "Epoch 00092: val_loss did not improve from 0.04035\n",
      "Epoch 93/150\n",
      "810/810 [==============================] - 0s 34us/step - loss: 0.0487 - mean_squared_error: 0.0487 - mean_absolute_error: 0.1778 - val_loss: 0.0408 - val_mean_squared_error: 0.0408 - val_mean_absolute_error: 0.1673\n",
      "\n",
      "Epoch 00093: val_loss did not improve from 0.04035\n",
      "Epoch 94/150\n",
      "810/810 [==============================] - 0s 33us/step - loss: 0.0476 - mean_squared_error: 0.0476 - mean_absolute_error: 0.1752 - val_loss: 0.0408 - val_mean_squared_error: 0.0408 - val_mean_absolute_error: 0.1673\n",
      "\n",
      "Epoch 00094: val_loss did not improve from 0.04035\n",
      "Epoch 95/150\n",
      "810/810 [==============================] - 0s 35us/step - loss: 0.0466 - mean_squared_error: 0.0466 - mean_absolute_error: 0.1743 - val_loss: 0.0408 - val_mean_squared_error: 0.0408 - val_mean_absolute_error: 0.1673\n",
      "\n",
      "Epoch 00095: val_loss did not improve from 0.04035\n",
      "Epoch 96/150\n",
      "810/810 [==============================] - 0s 30us/step - loss: 0.0463 - mean_squared_error: 0.0463 - mean_absolute_error: 0.1750 - val_loss: 0.0408 - val_mean_squared_error: 0.0408 - val_mean_absolute_error: 0.1672\n",
      "\n",
      "Epoch 00096: val_loss did not improve from 0.04035\n",
      "Epoch 97/150\n",
      "810/810 [==============================] - 0s 32us/step - loss: 0.0493 - mean_squared_error: 0.0493 - mean_absolute_error: 0.1796 - val_loss: 0.0408 - val_mean_squared_error: 0.0408 - val_mean_absolute_error: 0.1672\n",
      "\n",
      "Epoch 00097: val_loss did not improve from 0.04035\n",
      "Epoch 98/150\n",
      "810/810 [==============================] - 0s 32us/step - loss: 0.0476 - mean_squared_error: 0.0476 - mean_absolute_error: 0.1774 - val_loss: 0.0408 - val_mean_squared_error: 0.0408 - val_mean_absolute_error: 0.1672\n",
      "\n",
      "Epoch 00098: val_loss did not improve from 0.04035\n",
      "Epoch 99/150\n",
      "810/810 [==============================] - 0s 35us/step - loss: 0.0473 - mean_squared_error: 0.0473 - mean_absolute_error: 0.1760 - val_loss: 0.0408 - val_mean_squared_error: 0.0408 - val_mean_absolute_error: 0.1672\n",
      "\n",
      "Epoch 00099: val_loss did not improve from 0.04035\n",
      "Epoch 100/150\n",
      "810/810 [==============================] - 0s 31us/step - loss: 0.0461 - mean_squared_error: 0.0461 - mean_absolute_error: 0.1733 - val_loss: 0.0408 - val_mean_squared_error: 0.0408 - val_mean_absolute_error: 0.1672\n",
      "\n",
      "Epoch 00100: val_loss did not improve from 0.04035\n",
      "Epoch 101/150\n",
      "810/810 [==============================] - 0s 31us/step - loss: 0.0462 - mean_squared_error: 0.0462 - mean_absolute_error: 0.1735 - val_loss: 0.0408 - val_mean_squared_error: 0.0408 - val_mean_absolute_error: 0.1672\n",
      "\n",
      "Epoch 00101: val_loss did not improve from 0.04035\n",
      "Epoch 102/150\n",
      "810/810 [==============================] - 0s 30us/step - loss: 0.0463 - mean_squared_error: 0.0463 - mean_absolute_error: 0.1717 - val_loss: 0.0408 - val_mean_squared_error: 0.0408 - val_mean_absolute_error: 0.1672\n",
      "\n",
      "Epoch 00102: val_loss did not improve from 0.04035\n",
      "Epoch 103/150\n",
      "810/810 [==============================] - 0s 31us/step - loss: 0.0472 - mean_squared_error: 0.0472 - mean_absolute_error: 0.1752 - val_loss: 0.0408 - val_mean_squared_error: 0.0408 - val_mean_absolute_error: 0.1672\n",
      "\n",
      "Epoch 00103: val_loss did not improve from 0.04035\n",
      "Epoch 104/150\n",
      "810/810 [==============================] - 0s 31us/step - loss: 0.0475 - mean_squared_error: 0.0475 - mean_absolute_error: 0.1767 - val_loss: 0.0407 - val_mean_squared_error: 0.0407 - val_mean_absolute_error: 0.1672\n",
      "\n",
      "Epoch 00104: val_loss did not improve from 0.04035\n",
      "Epoch 105/150\n",
      "810/810 [==============================] - 0s 31us/step - loss: 0.0472 - mean_squared_error: 0.0472 - mean_absolute_error: 0.1759 - val_loss: 0.0407 - val_mean_squared_error: 0.0407 - val_mean_absolute_error: 0.1672\n",
      "\n",
      "Epoch 00105: val_loss did not improve from 0.04035\n",
      "Epoch 106/150\n",
      "810/810 [==============================] - 0s 40us/step - loss: 0.0476 - mean_squared_error: 0.0476 - mean_absolute_error: 0.1748 - val_loss: 0.0408 - val_mean_squared_error: 0.0408 - val_mean_absolute_error: 0.1672\n",
      "\n",
      "Epoch 00106: val_loss did not improve from 0.04035\n",
      "Epoch 107/150\n",
      "810/810 [==============================] - 0s 34us/step - loss: 0.0478 - mean_squared_error: 0.0478 - mean_absolute_error: 0.1774 - val_loss: 0.0408 - val_mean_squared_error: 0.0408 - val_mean_absolute_error: 0.1673\n",
      "\n",
      "Epoch 00107: val_loss did not improve from 0.04035\n",
      "Epoch 108/150\n",
      "810/810 [==============================] - 0s 32us/step - loss: 0.0485 - mean_squared_error: 0.0485 - mean_absolute_error: 0.1755 - val_loss: 0.0408 - val_mean_squared_error: 0.0408 - val_mean_absolute_error: 0.1674\n",
      "\n",
      "Epoch 00108: val_loss did not improve from 0.04035\n",
      "Epoch 109/150\n",
      "810/810 [==============================] - 0s 35us/step - loss: 0.0500 - mean_squared_error: 0.0500 - mean_absolute_error: 0.1794 - val_loss: 0.0408 - val_mean_squared_error: 0.0408 - val_mean_absolute_error: 0.1673\n",
      "\n",
      "Epoch 00109: val_loss did not improve from 0.04035\n",
      "Epoch 110/150\n",
      "810/810 [==============================] - 0s 31us/step - loss: 0.0474 - mean_squared_error: 0.0474 - mean_absolute_error: 0.1749 - val_loss: 0.0408 - val_mean_squared_error: 0.0408 - val_mean_absolute_error: 0.1674\n",
      "\n",
      "Epoch 00110: val_loss did not improve from 0.04035\n",
      "Epoch 111/150\n",
      "810/810 [==============================] - 0s 32us/step - loss: 0.0492 - mean_squared_error: 0.0492 - mean_absolute_error: 0.1777 - val_loss: 0.0409 - val_mean_squared_error: 0.0409 - val_mean_absolute_error: 0.1674\n",
      "\n",
      "Epoch 00111: val_loss did not improve from 0.04035\n",
      "Epoch 112/150\n",
      "810/810 [==============================] - 0s 36us/step - loss: 0.0482 - mean_squared_error: 0.0482 - mean_absolute_error: 0.1762 - val_loss: 0.0409 - val_mean_squared_error: 0.0409 - val_mean_absolute_error: 0.1675\n",
      "\n",
      "Epoch 00112: val_loss did not improve from 0.04035\n",
      "Epoch 113/150\n",
      "810/810 [==============================] - 0s 44us/step - loss: 0.0464 - mean_squared_error: 0.0464 - mean_absolute_error: 0.1743 - val_loss: 0.0409 - val_mean_squared_error: 0.0409 - val_mean_absolute_error: 0.1675\n",
      "\n",
      "Epoch 00113: val_loss did not improve from 0.04035\n",
      "Epoch 114/150\n",
      "810/810 [==============================] - 0s 43us/step - loss: 0.0468 - mean_squared_error: 0.0468 - mean_absolute_error: 0.1751 - val_loss: 0.0409 - val_mean_squared_error: 0.0409 - val_mean_absolute_error: 0.1674\n",
      "\n",
      "Epoch 00114: val_loss did not improve from 0.04035\n",
      "Epoch 115/150\n",
      "810/810 [==============================] - 0s 36us/step - loss: 0.0465 - mean_squared_error: 0.0465 - mean_absolute_error: 0.1736 - val_loss: 0.0408 - val_mean_squared_error: 0.0408 - val_mean_absolute_error: 0.1674\n",
      "\n",
      "Epoch 00115: val_loss did not improve from 0.04035\n",
      "Epoch 116/150\n",
      "810/810 [==============================] - 0s 46us/step - loss: 0.0486 - mean_squared_error: 0.0486 - mean_absolute_error: 0.1760 - val_loss: 0.0409 - val_mean_squared_error: 0.0409 - val_mean_absolute_error: 0.1674\n",
      "\n",
      "Epoch 00116: val_loss did not improve from 0.04035\n",
      "Epoch 117/150\n",
      "810/810 [==============================] - 0s 39us/step - loss: 0.0468 - mean_squared_error: 0.0468 - mean_absolute_error: 0.1712 - val_loss: 0.0408 - val_mean_squared_error: 0.0408 - val_mean_absolute_error: 0.1674\n",
      "\n",
      "Epoch 00117: val_loss did not improve from 0.04035\n",
      "Epoch 118/150\n",
      "810/810 [==============================] - 0s 40us/step - loss: 0.0474 - mean_squared_error: 0.0474 - mean_absolute_error: 0.1735 - val_loss: 0.0409 - val_mean_squared_error: 0.0409 - val_mean_absolute_error: 0.1674\n",
      "\n",
      "Epoch 00118: val_loss did not improve from 0.04035\n",
      "Epoch 119/150\n",
      "810/810 [==============================] - 0s 37us/step - loss: 0.0461 - mean_squared_error: 0.0461 - mean_absolute_error: 0.1721 - val_loss: 0.0409 - val_mean_squared_error: 0.0409 - val_mean_absolute_error: 0.1675\n",
      "\n",
      "Epoch 00119: val_loss did not improve from 0.04035\n",
      "Epoch 120/150\n",
      "810/810 [==============================] - 0s 33us/step - loss: 0.0476 - mean_squared_error: 0.0476 - mean_absolute_error: 0.1751 - val_loss: 0.0409 - val_mean_squared_error: 0.0409 - val_mean_absolute_error: 0.1675\n",
      "\n",
      "Epoch 00120: val_loss did not improve from 0.04035\n",
      "Epoch 121/150\n",
      "810/810 [==============================] - 0s 33us/step - loss: 0.0473 - mean_squared_error: 0.0473 - mean_absolute_error: 0.1757 - val_loss: 0.0409 - val_mean_squared_error: 0.0409 - val_mean_absolute_error: 0.1676\n",
      "\n",
      "Epoch 00121: val_loss did not improve from 0.04035\n",
      "Epoch 122/150\n",
      "810/810 [==============================] - 0s 32us/step - loss: 0.0466 - mean_squared_error: 0.0466 - mean_absolute_error: 0.1735 - val_loss: 0.0409 - val_mean_squared_error: 0.0409 - val_mean_absolute_error: 0.1675\n",
      "\n",
      "Epoch 00122: val_loss did not improve from 0.04035\n",
      "Epoch 123/150\n",
      "810/810 [==============================] - 0s 34us/step - loss: 0.0459 - mean_squared_error: 0.0459 - mean_absolute_error: 0.1723 - val_loss: 0.0409 - val_mean_squared_error: 0.0409 - val_mean_absolute_error: 0.1675\n",
      "\n",
      "Epoch 00123: val_loss did not improve from 0.04035\n",
      "Epoch 124/150\n",
      "810/810 [==============================] - 0s 44us/step - loss: 0.0466 - mean_squared_error: 0.0466 - mean_absolute_error: 0.1732 - val_loss: 0.0409 - val_mean_squared_error: 0.0409 - val_mean_absolute_error: 0.1675\n",
      "\n",
      "Epoch 00124: val_loss did not improve from 0.04035\n",
      "Epoch 125/150\n",
      "810/810 [==============================] - 0s 39us/step - loss: 0.0477 - mean_squared_error: 0.0477 - mean_absolute_error: 0.1757 - val_loss: 0.0409 - val_mean_squared_error: 0.0409 - val_mean_absolute_error: 0.1676\n",
      "\n",
      "Epoch 00125: val_loss did not improve from 0.04035\n",
      "Epoch 126/150\n",
      "810/810 [==============================] - 0s 32us/step - loss: 0.0470 - mean_squared_error: 0.0470 - mean_absolute_error: 0.1738 - val_loss: 0.0409 - val_mean_squared_error: 0.0409 - val_mean_absolute_error: 0.1675\n",
      "\n",
      "Epoch 00126: val_loss did not improve from 0.04035\n",
      "Epoch 127/150\n",
      "810/810 [==============================] - 0s 32us/step - loss: 0.0482 - mean_squared_error: 0.0482 - mean_absolute_error: 0.1766 - val_loss: 0.0409 - val_mean_squared_error: 0.0409 - val_mean_absolute_error: 0.1675\n",
      "\n",
      "Epoch 00127: val_loss did not improve from 0.04035\n",
      "Epoch 128/150\n",
      "810/810 [==============================] - 0s 34us/step - loss: 0.0495 - mean_squared_error: 0.0495 - mean_absolute_error: 0.1810 - val_loss: 0.0409 - val_mean_squared_error: 0.0409 - val_mean_absolute_error: 0.1675\n",
      "\n",
      "Epoch 00128: val_loss did not improve from 0.04035\n",
      "Epoch 129/150\n",
      "810/810 [==============================] - 0s 32us/step - loss: 0.0457 - mean_squared_error: 0.0457 - mean_absolute_error: 0.1720 - val_loss: 0.0408 - val_mean_squared_error: 0.0408 - val_mean_absolute_error: 0.1674\n",
      "\n",
      "Epoch 00129: val_loss did not improve from 0.04035\n",
      "Epoch 130/150\n",
      "810/810 [==============================] - 0s 32us/step - loss: 0.0462 - mean_squared_error: 0.0462 - mean_absolute_error: 0.1730 - val_loss: 0.0408 - val_mean_squared_error: 0.0408 - val_mean_absolute_error: 0.1673\n",
      "\n",
      "Epoch 00130: val_loss did not improve from 0.04035\n",
      "Epoch 131/150\n",
      "810/810 [==============================] - 0s 30us/step - loss: 0.0472 - mean_squared_error: 0.0472 - mean_absolute_error: 0.1764 - val_loss: 0.0408 - val_mean_squared_error: 0.0408 - val_mean_absolute_error: 0.1673\n",
      "\n",
      "Epoch 00131: val_loss did not improve from 0.04035\n",
      "Epoch 132/150\n",
      "810/810 [==============================] - 0s 34us/step - loss: 0.0469 - mean_squared_error: 0.0469 - mean_absolute_error: 0.1744 - val_loss: 0.0408 - val_mean_squared_error: 0.0408 - val_mean_absolute_error: 0.1673\n",
      "\n",
      "Epoch 00132: val_loss did not improve from 0.04035\n",
      "Epoch 133/150\n",
      "810/810 [==============================] - 0s 35us/step - loss: 0.0476 - mean_squared_error: 0.0476 - mean_absolute_error: 0.1775 - val_loss: 0.0408 - val_mean_squared_error: 0.0408 - val_mean_absolute_error: 0.1673\n",
      "\n",
      "Epoch 00133: val_loss did not improve from 0.04035\n",
      "Epoch 134/150\n",
      "810/810 [==============================] - 0s 33us/step - loss: 0.0455 - mean_squared_error: 0.0455 - mean_absolute_error: 0.1721 - val_loss: 0.0408 - val_mean_squared_error: 0.0408 - val_mean_absolute_error: 0.1673\n",
      "\n",
      "Epoch 00134: val_loss did not improve from 0.04035\n",
      "Epoch 135/150\n",
      "810/810 [==============================] - 0s 34us/step - loss: 0.0462 - mean_squared_error: 0.0462 - mean_absolute_error: 0.1737 - val_loss: 0.0408 - val_mean_squared_error: 0.0408 - val_mean_absolute_error: 0.1673\n",
      "\n",
      "Epoch 00135: val_loss did not improve from 0.04035\n",
      "Epoch 136/150\n",
      "810/810 [==============================] - 0s 34us/step - loss: 0.0461 - mean_squared_error: 0.0461 - mean_absolute_error: 0.1702 - val_loss: 0.0408 - val_mean_squared_error: 0.0408 - val_mean_absolute_error: 0.1674\n",
      "\n",
      "Epoch 00136: val_loss did not improve from 0.04035\n",
      "Epoch 137/150\n",
      "810/810 [==============================] - 0s 34us/step - loss: 0.0482 - mean_squared_error: 0.0482 - mean_absolute_error: 0.1768 - val_loss: 0.0408 - val_mean_squared_error: 0.0408 - val_mean_absolute_error: 0.1674\n",
      "\n",
      "Epoch 00137: val_loss did not improve from 0.04035\n",
      "Epoch 138/150\n",
      "810/810 [==============================] - 0s 31us/step - loss: 0.0468 - mean_squared_error: 0.0468 - mean_absolute_error: 0.1757 - val_loss: 0.0408 - val_mean_squared_error: 0.0408 - val_mean_absolute_error: 0.1673\n",
      "\n",
      "Epoch 00138: val_loss did not improve from 0.04035\n",
      "Epoch 139/150\n",
      "810/810 [==============================] - 0s 33us/step - loss: 0.0477 - mean_squared_error: 0.0477 - mean_absolute_error: 0.1748 - val_loss: 0.0409 - val_mean_squared_error: 0.0409 - val_mean_absolute_error: 0.1675\n",
      "\n",
      "Epoch 00139: val_loss did not improve from 0.04035\n",
      "Epoch 140/150\n",
      "810/810 [==============================] - 0s 39us/step - loss: 0.0473 - mean_squared_error: 0.0473 - mean_absolute_error: 0.1764 - val_loss: 0.0409 - val_mean_squared_error: 0.0409 - val_mean_absolute_error: 0.1676\n",
      "\n",
      "Epoch 00140: val_loss did not improve from 0.04035\n",
      "Epoch 141/150\n",
      "810/810 [==============================] - 0s 33us/step - loss: 0.0479 - mean_squared_error: 0.0479 - mean_absolute_error: 0.1757 - val_loss: 0.0409 - val_mean_squared_error: 0.0409 - val_mean_absolute_error: 0.1677\n",
      "\n",
      "Epoch 00141: val_loss did not improve from 0.04035\n",
      "Epoch 142/150\n",
      "810/810 [==============================] - 0s 32us/step - loss: 0.0483 - mean_squared_error: 0.0483 - mean_absolute_error: 0.1762 - val_loss: 0.0409 - val_mean_squared_error: 0.0409 - val_mean_absolute_error: 0.1677\n",
      "\n",
      "Epoch 00142: val_loss did not improve from 0.04035\n",
      "Epoch 143/150\n",
      "810/810 [==============================] - 0s 32us/step - loss: 0.0469 - mean_squared_error: 0.0469 - mean_absolute_error: 0.1747 - val_loss: 0.0409 - val_mean_squared_error: 0.0409 - val_mean_absolute_error: 0.1677\n",
      "\n",
      "Epoch 00143: val_loss did not improve from 0.04035\n",
      "Epoch 144/150\n",
      "810/810 [==============================] - 0s 35us/step - loss: 0.0468 - mean_squared_error: 0.0468 - mean_absolute_error: 0.1735 - val_loss: 0.0409 - val_mean_squared_error: 0.0409 - val_mean_absolute_error: 0.1676\n",
      "\n",
      "Epoch 00144: val_loss did not improve from 0.04035\n",
      "Epoch 145/150\n",
      "810/810 [==============================] - 0s 32us/step - loss: 0.0456 - mean_squared_error: 0.0456 - mean_absolute_error: 0.1723 - val_loss: 0.0409 - val_mean_squared_error: 0.0409 - val_mean_absolute_error: 0.1675\n",
      "\n",
      "Epoch 00145: val_loss did not improve from 0.04035\n",
      "Epoch 146/150\n",
      "810/810 [==============================] - 0s 35us/step - loss: 0.0468 - mean_squared_error: 0.0468 - mean_absolute_error: 0.1750 - val_loss: 0.0408 - val_mean_squared_error: 0.0408 - val_mean_absolute_error: 0.1675\n",
      "\n",
      "Epoch 00146: val_loss did not improve from 0.04035\n",
      "Epoch 147/150\n",
      "810/810 [==============================] - 0s 32us/step - loss: 0.0466 - mean_squared_error: 0.0466 - mean_absolute_error: 0.1720 - val_loss: 0.0409 - val_mean_squared_error: 0.0409 - val_mean_absolute_error: 0.1675\n",
      "\n",
      "Epoch 00147: val_loss did not improve from 0.04035\n",
      "Epoch 148/150\n",
      "810/810 [==============================] - 0s 39us/step - loss: 0.0474 - mean_squared_error: 0.0474 - mean_absolute_error: 0.1758 - val_loss: 0.0409 - val_mean_squared_error: 0.0409 - val_mean_absolute_error: 0.1676\n",
      "\n",
      "Epoch 00148: val_loss did not improve from 0.04035\n",
      "Epoch 149/150\n",
      "810/810 [==============================] - 0s 45us/step - loss: 0.0467 - mean_squared_error: 0.0467 - mean_absolute_error: 0.1740 - val_loss: 0.0409 - val_mean_squared_error: 0.0409 - val_mean_absolute_error: 0.1677\n",
      "\n",
      "Epoch 00149: val_loss did not improve from 0.04035\n",
      "Epoch 150/150\n",
      "810/810 [==============================] - 0s 35us/step - loss: 0.0471 - mean_squared_error: 0.0471 - mean_absolute_error: 0.1734 - val_loss: 0.0409 - val_mean_squared_error: 0.0409 - val_mean_absolute_error: 0.1677\n",
      "\n",
      "Epoch 00150: val_loss did not improve from 0.04035\n"
     ]
    }
   ],
   "source": [
    "from keras_radam import RAdam\n",
    "\n",
    "model3.compile(loss='mse', optimizer=RAdam(), metrics=['mse','mae'])\n",
    "checkpointer = [\n",
    "    ReduceLROnPlateau(monitor='val_loss', \n",
    "                      patience=3, \n",
    "                      verbose=1,\n",
    "                      factor=0.5,\n",
    "                      min_lr = 0.00001,\n",
    "                      cooldown=0),\n",
    "    ModelCheckpoint(filepath='best3.hdf5', verbose=1, \n",
    "                               save_best_only=True)\n",
    "]\n",
    "history = model3.fit(X_train, y_train, epochs=150, batch_size=128,  verbose=1, validation_data=[X_val, y_val], shuffle=True, callbacks=checkpointer)\n",
    "train_acc = model3.evaluate(X_train, y_train, verbose=0)\n",
    "val_acc = model3.evaluate(X_val, y_val, verbose=0)"
   ]
  },
  {
   "cell_type": "code",
   "execution_count": 0,
   "metadata": {
    "colab": {
     "base_uri": "https://localhost:8080/",
     "height": 332
    },
    "colab_type": "code",
    "id": "fObbFlSudyad",
    "outputId": "37546d62-a0c5-4f49-db60-23b4e1e6051c"
   },
   "outputs": [
    {
     "name": "stdout",
     "output_type": "stream",
     "text": [
      "dict_keys(['val_loss', 'val_mean_squared_error', 'val_mean_absolute_error', 'loss', 'mean_squared_error', 'mean_absolute_error', 'lr'])\n"
     ]
    },
    {
     "data": {
      "image/png": "[encoded data removed]",
      "text/plain": [
       "<Figure size 432x288 with 1 Axes>"
      ]
     },
     "metadata": {
      "tags": []
     },
     "output_type": "display_data"
    }
   ],
   "source": [
    "print(history.history.keys())\n",
    "# \"Loss\"\n",
    "plt.plot(history.history['loss'])\n",
    "plt.plot(history.history['val_loss'])\n",
    "plt.title('model loss')\n",
    "plt.ylabel('loss')\n",
    "plt.xlabel('epoch')\n",
    "plt.legend(['train', 'validation'], loc='upper left')\n",
    "plt.show()"
   ]
  },
  {
   "cell_type": "code",
   "execution_count": 0,
   "metadata": {
    "colab": {},
    "colab_type": "code",
    "id": "ZpGbHmYMd2AZ"
   },
   "outputs": [],
   "source": [
    "# load the weights that yielded the best validation accuracy\n",
    "model3.load_weights('best3.hdf5')"
   ]
  },
  {
   "cell_type": "code",
   "execution_count": 0,
   "metadata": {
    "colab": {
     "base_uri": "https://localhost:8080/",
     "height": 283
    },
    "colab_type": "code",
    "id": "D7gOiRJgd51j",
    "outputId": "d8c5b340-c7a4-48b7-a3e7-35127c24425e"
   },
   "outputs": [
    {
     "data": {
      "image/png": "[encoded data removed]",
      "text/plain": [
       "<Figure size 432x288 with 1 Axes>"
      ]
     },
     "metadata": {
      "tags": []
     },
     "output_type": "display_data"
    }
   ],
   "source": [
    "test_predictions =model3.predict(X_test).flatten()\n",
    "\n",
    "a = plt.axes(aspect='equal')\n",
    "plt.scatter(y_test, test_predictions)\n",
    "plt.xlabel('True Values')\n",
    "plt.ylabel('Predictions')\n",
    "lims = [-0.2, 1.2]\n",
    "plt.xlim(lims)\n",
    "plt.ylim(lims)\n",
    "_ = plt.plot(lims, lims)"
   ]
  },
  {
   "cell_type": "code",
   "execution_count": 0,
   "metadata": {
    "colab": {
     "base_uri": "https://localhost:8080/",
     "height": 279
    },
    "colab_type": "code",
    "id": "hXG-Ose3d9pp",
    "outputId": "0f854489-e886-402b-dcc5-c191e02a56e3"
   },
   "outputs": [
    {
     "data": {
      "image/png": "[encoded data removed]",
      "text/plain": [
       "<Figure size 432x288 with 1 Axes>"
      ]
     },
     "metadata": {
      "tags": []
     },
     "output_type": "display_data"
    }
   ],
   "source": [
    "error = test_predictions - y_test\n",
    "plt.hist(error, bins = 25)\n",
    "plt.xlabel(\"Prediction Error\")\n",
    "_ = plt.ylabel(\"Count\")"
   ]
  },
  {
   "cell_type": "code",
   "execution_count": 0,
   "metadata": {
    "colab": {
     "base_uri": "https://localhost:8080/",
     "height": 1000
    },
    "colab_type": "code",
    "id": "qa0m8CbVeBlY",
    "outputId": "df9766fe-8a7b-42bc-d278-8c6c084376f0"
   },
   "outputs": [
    {
     "name": "stdout",
     "output_type": "stream",
     "text": [
      "\u001b[1m1.1077907262595217\t -> 1.0167672634124756\u001b[0m\n",
      "\u001b[1m0.19017066247159695\t -> 0.0765850692987442\u001b[0m\n",
      "\u001b[1m0.7678266993785016\t -> 0.5751457214355469\u001b[0m\n",
      "\u001b[1m0.8450089136412626\t -> 0.668665885925293\u001b[0m\n",
      "\u001b[1m0.020074508927128518\t -> 0.11598679423332214\u001b[0m\n",
      "\u001b[1m0.18107235421973986\t -> 0.19120584428310394\u001b[0m\n",
      "\u001b[1m0.37546255953779945\t -> 0.0858868733048439\u001b[0m\n",
      "\u001b[1m-0.2158383144920461\t -> 0.044296056032180786\u001b[0m\n",
      "\u001b[1m0.9924122529657652\t -> 0.9484232068061829\u001b[0m\n",
      "\u001b[1m0.5606215832410678\t -> 0.745651125907898\u001b[0m\n",
      "\u001b[1m0.6927549297214646\t -> 0.892320990562439\u001b[0m\n",
      "\u001b[1m0.5239395485528229\t -> 0.5684397220611572\u001b[0m\n",
      "\u001b[1m0.7549120041479194\t -> 0.8398470282554626\u001b[0m\n",
      "\u001b[1m0.7850475361681925\t -> 0.7936473488807678\u001b[0m\n",
      "\u001b[1m0.7051819928349492\t -> 0.5447647571563721\u001b[0m\n",
      "\u001b[1m0.5604756454309442\t -> 0.24724851548671722\u001b[0m\n",
      "\u001b[1m0.3120968417847927\t -> 0.539109468460083\u001b[0m\n",
      "\u001b[1m0.639361852155761\t -> 0.6197432279586792\u001b[0m\n",
      "\u001b[1m0.6593000166334421\t -> 0.4017218351364136\u001b[0m\n",
      "\u001b[1m1.0086556802920141\t -> 0.7126210331916809\u001b[0m\n",
      "\u001b[1m0.257088045725542\t -> 0.2379951924085617\u001b[0m\n",
      "\u001b[1m0.06263821120427969\t -> 0.18857674300670624\u001b[0m\n",
      "\u001b[1m0.7275502939363944\t -> 0.8043887615203857\u001b[0m\n",
      "\u001b[1m0.06274535463053654\t -> 0.2504054307937622\u001b[0m\n",
      "\u001b[1m0.1902184430703786\t -> 0.2705279588699341\u001b[0m\n",
      "\u001b[1m0.1845762790806576\t -> 0.1675146371126175\u001b[0m\n",
      "\u001b[1m0.5220819090156862\t -> 0.6882150769233704\u001b[0m\n",
      "\u001b[1m0.7503494604588995\t -> 0.8429915904998779\u001b[0m\n",
      "\u001b[1m0.36329386706843053\t -> 0.4956454038619995\u001b[0m\n",
      "\u001b[1m0.10240227877117876\t -> 0.008072707802057266\u001b[0m\n",
      "\u001b[1m1.0344185898348304\t -> 0.8132151961326599\u001b[0m\n",
      "\u001b[1m1.066246939393248\t -> 0.7379153370857239\u001b[0m\n",
      "\u001b[1m-0.31597920818836805\t -> 0.004513442516326904\u001b[0m\n",
      "\u001b[1m0.6430072035726451\t -> 0.8205945491790771\u001b[0m\n",
      "\u001b[1m0.6504902731606229\t -> 0.4920087158679962\u001b[0m\n",
      "\u001b[1m0.2734289563444166\t -> 0.4447535276412964\u001b[0m\n",
      "\u001b[1m0.4216872204771498\t -> 0.6956759691238403\u001b[0m\n",
      "\u001b[1m0.949136584538812\t -> 0.8320911526679993\u001b[0m\n",
      "\u001b[1m0.039006495195354485\t -> 0.19067300856113434\u001b[0m\n",
      "\u001b[1m0.6807075719641124\t -> 0.8314991593360901\u001b[0m\n",
      "\u001b[1m0.27424017304232584\t -> 0.14876829087734222\u001b[0m\n",
      "\u001b[1m0.80091836529155\t -> 0.3216162621974945\u001b[0m\n",
      "\u001b[1m0.3700393808829578\t -> 0.27486148476600647\u001b[0m\n",
      "\u001b[1m0.6190305141511182\t -> 0.4479483962059021\u001b[0m\n",
      "\u001b[1m0.01821846120961642\t -> 0.012508533895015717\u001b[0m\n",
      "\u001b[1m0.041245795848535584\t -> 0.13436591625213623\u001b[0m\n",
      "\u001b[1m0.2420640663345389\t -> 0.11566739529371262\u001b[0m\n",
      "\u001b[1m0.07846944454504272\t -> 0.1027897447347641\u001b[0m\n",
      "\u001b[1m-0.1728024899888634\t -> 0.009723450057208538\u001b[0m\n",
      "\u001b[1m0.6399129469126271\t -> 0.76344895362854\u001b[0m\n",
      "\u001b[1m0.5986141981048315\t -> 0.565879225730896\u001b[0m\n",
      "\u001b[1m0.7734715881554729\t -> 0.46279603242874146\u001b[0m\n",
      "\u001b[1m0.17211346525125898\t -> 0.3344495892524719\u001b[0m\n",
      "\u001b[1m0.4175526381584625\t -> 0.5562925934791565\u001b[0m\n",
      "\u001b[1m0.1452344590049181\t -> 0.1183040514588356\u001b[0m\n",
      "\u001b[1m0.9601286862045216\t -> 0.4870463013648987\u001b[0m\n",
      "\u001b[1m0.5798059491000827\t -> 0.9858494997024536\u001b[0m\n",
      "\u001b[1m0.27666387611221505\t -> 0.09289143979549408\u001b[0m\n",
      "\u001b[1m0.247046957574062\t -> 0.17957031726837158\u001b[0m\n",
      "\u001b[1m-0.06522696051825717\t -> 0.006576630286872387\u001b[0m\n",
      "\u001b[1m0.545652489955623\t -> 0.8238911628723145\u001b[0m\n",
      "\u001b[1m0.4163561179269323\t -> 0.7872977256774902\u001b[0m\n",
      "\u001b[1m0.8792608832041782\t -> 0.6187505125999451\u001b[0m\n",
      "\u001b[1m-0.001150118603132133\t -> 0.017061812803149223\u001b[0m\n",
      "\u001b[1m0.03805019141229071\t -> 0.5542274713516235\u001b[0m\n",
      "\u001b[1m0.912421437195402\t -> 0.6715378761291504\u001b[0m\n",
      "\u001b[1m0.5427034494596268\t -> 0.20779432356357574\u001b[0m\n",
      "\u001b[1m0.8299297726824967\t -> 0.8393363356590271\u001b[0m\n",
      "\u001b[1m0.255629183198977\t -> 0.46818140149116516\u001b[0m\n",
      "\u001b[1m0.5811767707893347\t -> 0.4971299469470978\u001b[0m\n",
      "\u001b[1m0.7353213613311321\t -> 0.7343339323997498\u001b[0m\n",
      "\u001b[1m0.40424656437827583\t -> 0.3510919213294983\u001b[0m\n",
      "\u001b[1m0.450705154332547\t -> 0.7746163606643677\u001b[0m\n",
      "\u001b[1m0.612313220832349\t -> 0.7624855041503906\u001b[0m\n",
      "\u001b[1m0.8131748916746598\t -> 0.7527657747268677\u001b[0m\n",
      "\u001b[1m0.3812474960334663\t -> 0.6775273084640503\u001b[0m\n",
      "\u001b[1m0.7942959473304373\t -> 0.8594138026237488\u001b[0m\n",
      "\u001b[1m0.22713804852218156\t -> 0.13996455073356628\u001b[0m\n",
      "\u001b[1m0.4501398192094389\t -> 0.7877227663993835\u001b[0m\n",
      "\u001b[1m0.7139904928793642\t -> 0.6400119066238403\u001b[0m\n",
      "\u001b[1m0.29684219787951344\t -> 0.2931833267211914\u001b[0m\n",
      "\u001b[1m0.6908802113432743\t -> 0.9163878560066223\u001b[0m\n",
      "\u001b[1m0.2603154074285543\t -> 0.3858531415462494\u001b[0m\n",
      "\u001b[1m1.0224492627869244\t -> 0.9035236835479736\u001b[0m\n",
      "\u001b[1m0.6947218565526287\t -> 0.6801792979240417\u001b[0m\n",
      "\u001b[1m0.6731656587553148\t -> 0.8032418489456177\u001b[0m\n",
      "\u001b[1m0.7338641199616647\t -> 0.9468644261360168\u001b[0m\n",
      "\u001b[1m-0.06198454183609998\t -> 0.050513509660959244\u001b[0m\n",
      "\u001b[1m0.2344688281138128\t -> 0.4679694175720215\u001b[0m\n",
      "\u001b[1m0.3946447786561104\t -> 0.2000756859779358\u001b[0m\n",
      "\u001b[1m0.1948715566077324\t -> 0.16127745807170868\u001b[0m\n",
      "\u001b[1m0.6484550454223876\t -> 0.6758013367652893\u001b[0m\n",
      "\u001b[1m0.4744674113590102\t -> 0.8512005805969238\u001b[0m\n",
      "\u001b[1m0.916376135054038\t -> 0.7930588722229004\u001b[0m\n",
      "\u001b[1m-0.05081144886420441\t -> 0.3091055452823639\u001b[0m\n",
      "\u001b[1m0.14224755921459215\t -> 0.1895330399274826\u001b[0m\n",
      "\u001b[1m0.5873874127422509\t -> 0.42950236797332764\u001b[0m\n",
      "\u001b[1m0.7981643524377264\t -> 0.8220902681350708\u001b[0m\n",
      "\u001b[1m0.6141174045810538\t -> 0.7034154534339905\u001b[0m\n",
      "\u001b[1m0.05208900073458883\t -> 0.18185891211032867\u001b[0m\n"
     ]
    }
   ],
   "source": [
    "for true, pred in zip(y_test, test_predictions):\n",
    "  if pred == true:\n",
    "    print(\"{}\\t -> {}\".format(true, pred))\n",
    "  else:\n",
    "    print(\"\\033[1m{}\\t -> {}\\033[0m\".format(true, pred))"
   ]
  },
  {
   "cell_type": "code",
   "execution_count": 0,
   "metadata": {
    "colab": {
     "base_uri": "https://localhost:8080/",
     "height": 34
    },
    "colab_type": "code",
    "id": "t3Ejx81MeD_4",
    "outputId": "27efdcc8-172e-47c5-85a2-24800c75af03"
   },
   "outputs": [
    {
     "name": "stdout",
     "output_type": "stream",
     "text": [
      "Testing set Mean Abs Error: 0.0392\n"
     ]
    }
   ],
   "source": [
    "oss, mae, mse = model3.evaluate(X_test, y_test, verbose=2)\n",
    "\n",
    "print(\"Testing set Mean Abs Error: {:5.4f}\".format(mae))"
   ]
  },
  {
   "cell_type": "markdown",
   "metadata": {
    "colab_type": "text",
    "id": "TuYaczO458Lb"
   },
   "source": [
    "## Conclusion\n",
    "\n",
    "\n",
    "MLP gives you lower mean absolute error compared to the classical machine learning algorithms.\n",
    "\n",
    "Mean Squared Error (MSE) is a common loss function used for regression problems (different loss functions are used for classification problems).\n",
    "\n",
    "Similarly, evaluation metrics used for regression differ from classification. A common regression metric is Mean Absolute Error (MAE).\n",
    "\n",
    "When numeric input data features have values with different ranges, each feature should be scaled independently to the same range, so I used the MinMaxScaler from SkLearn to do this. I also tried the StandardScaler for feature scaling, but it turns out that MinMaxScaler gives better results than StandardScaler feature scaling\n",
    "\n",
    "If there is not much training data, one technique is to prefer a small network with few hidden layers to avoid overfitting. \n",
    "\n",
    "I have tested with more hidden layer, different batch size and I have found that 2 layers are enough. \n",
    "\n",
    "I used RAdam as the optimizer as it is the newest one and proved to learn better than Adam.\n",
    "\n",
    "I reduced the learning rate when the validation loss isn't improving and load the best model's weight to predict the data.\n",
    "\n",
    "So, below are the full results to predict the `z` from `x` and `y`.\n",
    "\n",
    "<table>\n",
    "  <tr>\n",
    "    <th>Algorithms</th>\n",
    "    <th>Feature Scaling</th> \n",
    "    <th>Mean Abs Error </th>\n",
    "  </tr>\n",
    "    <td>Support Vector Machine Regressor</td>\n",
    "    <td>No</td>\n",
    "    <td>0.1701<td>\n",
    "  </tr>\n",
    "    <td>\n"
   ]
  }
 ],
 "metadata": {
  "accelerator": "GPU",
  "colab": {
   "collapsed_sections": [],
   "name": "Pulsifi_Q2.ipynb",
   "provenance": []
  },
  "kernelspec": {
   "display_name": "Python 3",
   "language": "python",
   "name": "python3"
  },
  "language_info": {
   "codemirror_mode": {
    "name": "ipython",
    "version": 3
   },
   "file_extension": ".py",
   "mimetype": "text/x-python",
   "name": "python",
   "nbconvert_exporter": "python",
   "pygments_lexer": "ipython3",
   "version": "3.6.8"
  }
 },
 "nbformat": 4,
 "nbformat_minor": 1
}
