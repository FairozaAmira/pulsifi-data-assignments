{
 "cells": [
  {
   "cell_type": "markdown",
   "metadata": {},
   "source": [
    "# Pulsifi Task 1 Solutions\n",
    "\n",
    "1. Choose a E-commerce website, such as zalora.com, lazada.com, and iherb.com and scrape the products catalogue.\n",
    "2. Store the product details such as product name, product category and product price into a database.\n",
    "3. Implement a search function such that given a name, it will return all relevant and similar products.\n",
    "4. Find out what are the distributions of prices across different categories.\n",
    "(optional)\n",
    "5. Repeat the process for another website, and find out what are the products that appear on both websites. (They might have slightly different names)\n",
    "\n",
    "\n",
    "This solution is taken from https://towardsdatascience.com/in-10-minutes-web-scraping-with-beautiful-soup-and-selenium-for-data-professionals-8de169d36319\n"
   ]
  },
  {
   "cell_type": "code",
   "execution_count": 1,
   "metadata": {},
   "outputs": [],
   "source": [
    "from selenium import webdriver\n",
    "from selenium.webdriver.common.by import By\n",
    "from selenium.webdriver.support.ui import WebDriverWait\n",
    "from selenium.webdriver.support import expected_conditions as EC\n",
    "from selenium.common.exceptions import TimeoutException\n",
    "\n",
    "import pandas as pd\n",
    "import dbm"
   ]
  },
  {
   "cell_type": "code",
   "execution_count": 2,
   "metadata": {},
   "outputs": [],
   "source": [
    "driver = webdriver.Chrome(executable_path='chromedriver')\n",
    "driver.get('https://www.lazada.sg/#')\n",
    "timeout = 30\n",
    "try:\n",
    "    WebDriverWait(driver, timeout).until(EC.visibility_of_element_located((By.ID, \"Level_1_Category_No1\")))\n",
    "except TimeoutException:\n",
    "    driver.quit()"
   ]
  },
  {
   "cell_type": "code",
   "execution_count": 3,
   "metadata": {},
   "outputs": [
    {
     "name": "stdout",
     "output_type": "stream",
     "text": [
      "category element  Electronic Devices\n"
     ]
    }
   ],
   "source": [
    "# find_elements by ID returns an array of selenium objects.\n",
    "category_element = driver.find_element(By.ID,'Level_1_Category_No1').text;\n",
    "print(\"category element \",category_element)"
   ]
  },
  {
   "cell_type": "code",
   "execution_count": 4,
   "metadata": {
    "scrolled": true
   },
   "outputs": [
    {
     "name": "stdout",
     "output_type": "stream",
     "text": [
      "length of links are:  12\n",
      "element in list  Electronic Devices\n",
      "element in list  Electronic Accessories\n",
      "element in list  TV & Home Appliances\n",
      "element in list  Health & Beauty\n",
      "element in list  Babies & Toys\n",
      "element in list  Groceries & Pets\n",
      "element in list  Home & Lifestyle\n",
      "element in list  Women's Fashion\n",
      "element in list  Men's Fashion\n",
      "element in list  Watches & Bags\n",
      "element in list  Sports & Lifestyle\n",
      "element in list  Automotive & Motorcycle\n"
     ]
    }
   ],
   "source": [
    "# Take the list of li in the ul\n",
    "list_category_elements = driver.find_element(By.XPATH,'//*[@id=\"J_icms-5000498-1511516689962\"]/div/ul')\n",
    "links = list_category_elements.find_elements(By.CLASS_NAME,\"lzd-site-menu-root-item\")\n",
    "print('length of links are: ', len(links))\n",
    "for i in range(len(links)):\n",
    "    print(\"element in list \",links[i].text)"
   ]
  },
  {
   "cell_type": "code",
   "execution_count": 5,
   "metadata": {},
   "outputs": [],
   "source": [
    "# Clicking toys menu to find the right one\n",
    "# You might receive error if you just perform element.click(). This is due to the element might not actionable according to DOM\n",
    "element = driver.find_elements_by_class_name('J_ChannelsLink')[2]\n",
    "webdriver.ActionChains(driver).move_to_element(element).click(element).perform()"
   ]
  },
  {
   "cell_type": "code",
   "execution_count": 6,
   "metadata": {},
   "outputs": [
    {
     "name": "stdout",
     "output_type": "stream",
     "text": [
      "\n",
      "\n",
      "\n",
      "\n",
      "\n",
      "\n",
      "\n",
      "\n",
      "\n",
      "\n",
      "\n",
      "\n",
      "\n",
      "\n",
      "\n",
      "\n",
      "\n",
      "\n",
      "\n",
      "Best Deals In Town\n",
      "Oh My Goodness! Gollykin - Pumpkin Spice Bread Gluten Free Dairy Free - Frozen\n",
      "Sogurt Festive Box - Original Peach Mango Lychee Strawberry Yuzu Berry Swirl Premium Dark Chocolate and Avo-Melaka\n",
      "Haagen-Dazs Vanilla Caramel and Chocolate Almond Ice Cream Cones Multipack\n",
      "Norbest Whole Turkey (12-14lbs) - Frozen\n",
      "Calypso Mangoes\n",
      "Red Washed Potatoes\n",
      "12 Best Top Picks\n",
      "Dove Beauty Nourishing Moisture Body Wash\n",
      "Knorr All In One Seasoning\n",
      "Enfamil A+ Stage 2 Infant Formula Baby Milk Powder (6M+)\n",
      "Naturel Canola Oil\n",
      "Dettol 4-in-1 Disinfectant Multi Surface Cleaner Lavender 2.5L\n",
      "NESCAFE GOLD Pure Soluble Coffee 200g (NEW)\n",
      "This Week's Fresh Selection\n",
      "Korean Jeju Mandarin Oranges\n",
      "Red Seedless Grapes (Air-Flown)\n",
      "Green Seedless Grapes (Air-Flown)\n",
      "Prime Asia 2+1 Hass Avocados\n",
      "RedMart Korean Maehyang Strawberries\n",
      "GIVVO Broccolini\n",
      "All Things Christmas\n",
      "The Gourmet's Pack Pork Chorizo Sausages Thick 5s Per Pack\n",
      "AW'S Market Fresh Stingray Steak\n",
      "Utama Spice Sweet Dreams Gift Set (Travel Pouch Eye Mask and Pillow Spray)\n",
      "SongHe Gift Set\n",
      "Meri Meri Holographic Sugar Skull Napkins\n",
      "Biofinest B2 (150Ml) Ultrasonic Aroma Diffuser/ Air Humidifier/ Purifier\n",
      "Cheers To Great Festive Deals\n",
      "White Walker by Johnnie Walker\n",
      "Moet & Chandon Brut Mini [Gift with Purchase]\n",
      "Smirnoff Red No. 21 Vodka\n",
      "Glenmorangie Quinta Ruban\n",
      "Moet & Chandon Brut Imperial Champagne - Case\n",
      "Glenmorangie Lasanta\n",
      "Christmas Deals Up To 30% OFF\n",
      "CADBURY Chocolate And Oreo Biscuits Assortment - Christmas Special\n",
      "Ferrero Rocher Christmas Tree Chocolates - Christmas Special\n",
      "Kinder Chocolate Christmas Mini Figures - Christmas Special\n",
      "Maltesers Merryteaser Mini Reindeer - Christmas Special\n",
      "Cadbury Medium Chocolate Selection Box - Christmas Special\n",
      "Mackie's Venison And Cranberry Ridgecut Potato Crisps - Christmas Special\n",
      "Danone Store\n",
      "Evian Natural Mineral Water Case\n",
      "Badoit Green Sparkling Water 30s - Case\n",
      "Evian Natural Mineral Water Case\n",
      "Evian Natural Mineral Water Disney Mickey 90th Anniversary - Case\n",
      "Volvic Natural Mineral Water Case\n",
      "Volvic Natural Mineral Water Case\n",
      "P&G Mega Sale\n",
      "Pampers Premium Care Pants XL - Case\n",
      "Dynamo Power Gel Anti-Bacterial Laundry Detergent\n",
      "Pantene Hair Fall Control Shampoo\n",
      "Tide Original Scent HE Turbo Clean Laundry Detergent\n",
      "Pampers Premium Care Tape Diapers M - Case\n",
      "Whisper Ultra Clean Night Wing Sanitary Pads 32CM\n",
      "Magical Christmas Dinner With RedMart Label\n",
      "RedMart Traditional Roast Turkey (5.4kg - 6.3kg When Uncooked)\n",
      "RedMart Classic Turkey Gravy\n",
      "RedMart Rosemary Infused Roast Turkey (5.4kg - 6.3kg When Uncooked)\n",
      "RedMart Luxury Spiced Cranberry Sauce\n",
      "RedMart Sage And Onion Stuffing\n",
      "RedMart Chicken Lasagne (2019 New and Improved Recipe)\n",
      "Cadbury & Oreo Xmas Deals\n",
      "LU Butter Cookies Tin\n",
      "CHIPSMORE Original Chocolate Multipack Cookies\n",
      "Toblerone Holiday Gift Box\n",
      "Oreo Bus Tin\n",
      "Cadbury Favourites\n",
      "Cadbury Panned Assorted\n",
      "Haagen Dazs Store\n",
      "Haagen-Dazs Disney Frozen Chocoholic Moments Ice Cream\n",
      "Haagen-Dazs Caramel Creme Brulee Mochi Ice Cream\n",
      "Haagen-Dazs Disney Frozen Favourite Selection Ice Cream\n",
      "Haagen-Dazs Vanilla Caramel and Chocolate Almond Ice Cream Cones Multipack\n",
      "Be The Perfect Host This Season\n",
      "Craster 12\" Pizza Board - Teardrop - Oak/Oiled 350 X 350 X 18Mm\n",
      "Mye Tablet Wooden Oval Serving Board - By ToTT\n",
      "Boska Fondue Set With 6 Forks L31 Cm - Nero - By ToTT\n",
      "Creative Converting 4.5 Oz. Premium Plastic Champagne Glass - Metallic Rimmed\n",
      "Creative Converting Silver 7-Inch Dessert Plates 24 Pack\n",
      "Creative Converting Rose Gold Metallic Premium Plastic Forks Party Tableware\n",
      "Premium Pet Picks\n",
      "Whole Life Pet Just One Ingredient - Pure Chicken\n",
      "Ginger and Bear Dog Toy - Wobble Ball Holiday Edition : Red\n",
      "Zoe Dog Small Breed Turkey Chickpea And Sweet Potato 2 KG\n",
      "Ginger and Bear Dog Toy - Flying Disc - Vanilla\n",
      "Primal Freeze Dried Feline Pork Formula\n",
      "Fancy Feast Chicken And Turkey Gourmet Cat Food\n",
      "MamyPoko - Best 12.12 Deals\n",
      "MamyPoko Preemie S - By Unicharm\n",
      "MamyPoko Standard Pants XL (Free 4 Pcs)\n",
      "MamyPoko Air Fit Tape Diaper XL - Case - By Unicharm\n",
      "MamyPoko Kids Pants Diaper Boy XXL - Case - By Unicharm\n",
      "Moonyman Pants Diaper Boy L - Case - By Unicharm\n",
      "MamyPoko Air Fit Pants Girl L\n",
      "Dettol Store\n",
      "Dettol Anti-Bacterial Wet Wipes x50\n",
      "Dettol 4-in-1 Disinfectant Multi Surface Cleaner Lavender 2x 1.5L\n",
      "Dettol Disinfectant Laundry Sanitiser Fresh Pine 1.2L + Free 300ML\n",
      "Dettol Antiseptic Germicide 1L\n",
      "Dettol Antiseptic Germicide 1L Twinpack + Free 750ML\n",
      "Dettol 4-in-1 Disinfectant Multi Surface Cleaner Lavender 2.5L\n",
      "Unilever Store\n",
      "Dove Whitening Original Anti-perspirant Deodorant Roll-on\n",
      "Lux Luminique Damage Repair Non-Silicone Shampoo\n",
      "Lux Luminique Relax And Smooth Non-Silicone Shampoo\n",
      "Dove Intense Repair Shampoo\n",
      "Lux Velvet Touch Body Wash\n",
      "Love Beauty & Planet Vegan Body Wash Murumuru Butter and Rose Majestic Glow\n",
      "Healthy Living\n",
      "Mekhala Organic (All-Natural) Pad Thai (Sauce/Dressing/Dip)\n",
      "Sainsbury's Organic Rapeseed Oil\n",
      "Mekhala Organic Issan Thai Coriander Chilli Hot Sauce\n",
      "24 Mantra Organic Ragi Flour\n",
      "The Coconut Company 100% Certified Organic Coconut Flour\n",
      "Bob's Red Mill Organic Gluten Free Coconut Flour\n",
      "Meiji Store\n",
      "Meiji Natural Flavour Yoghurt\n",
      "Meiji Fresh Milk\n",
      "Meiji Bulgaria Wild Berry Yoghurt Drink\n",
      "Meiji Mixed Berry Yoghurt\n",
      "Meiji Bulgaria Brand Honey Yoghurt\n",
      "Meiji Nata De Coco Yoghurt\n",
      "Go where your heart beats\n"
     ]
    }
   ],
   "source": [
    "# Once we are in, let us extract all of the product elements then names\n",
    "product_titles = driver.find_elements_by_class_name('title')\n",
    "for title in product_titles:\n",
    "    print(title.text)"
   ]
  },
  {
   "cell_type": "code",
   "execution_count": 7,
   "metadata": {},
   "outputs": [],
   "source": [
    "product_containers = driver.find_elements_by_class_name('product_container')\n",
    "\n",
    "product_titles = list()\n",
    "pack_sizes = list()\n",
    "product_prices = list()\n",
    "rating_counts = list()"
   ]
  },
  {
   "cell_type": "code",
   "execution_count": 8,
   "metadata": {},
   "outputs": [
    {
     "name": "stdout",
     "output_type": "stream",
     "text": [
      "                                       product_title   pack_size  \\\n",
      "0  Oh My Goodness! Gollykin - Pumpkin Spice Bread...        80 g   \n",
      "1  Sogurt Festive Box - Original Peach Mango Lych...  9 × 120 ml   \n",
      "2  Haagen-Dazs Vanilla Caramel and Chocolate Almo...   3 × 91 ml   \n",
      "3           Norbest Whole Turkey (12-14lbs) - Frozen        6 kg   \n",
      "4                                    Calypso Mangoes       450 g   \n",
      "\n",
      "  product_price rating_count  \n",
      "0         $6.90          (2)  \n",
      "1        $42.00          (1)  \n",
      "2        $12.51          (4)  \n",
      "3        $55.25          (8)  \n",
      "4         $3.90         (10)  \n"
     ]
    }
   ],
   "source": [
    "for container in product_containers:\n",
    "    product_titles.append(container.find_element_by_class_name('title').text)\n",
    "    pack_sizes.append(container.find_element_by_class_name('pack_size').text)\n",
    "    product_prices.append(container.find_element_by_class_name('product_price').text)\n",
    "    rating_counts.append(container.find_element_by_class_name('ratings_count').text)\n",
    "\n",
    "data = {'product_title': product_titles, 'pack_size': pack_sizes,'product_price': product_prices, 'rating_count': rating_counts}\n",
    "df_product = pd.DataFrame.from_dict(data)\n",
    "\n",
    "print(df_product.head())\n",
    "\n"
   ]
  },
  {
   "cell_type": "code",
   "execution_count": 9,
   "metadata": {},
   "outputs": [],
   "source": [
    "df_product.to_csv(\"product_sg.csv\")"
   ]
  },
  {
   "cell_type": "code",
   "execution_count": 12,
   "metadata": {},
   "outputs": [],
   "source": [
    "def search(keyword, df):\n",
    "    search = '|'.join(keyword)\n",
    "    searched = df[df['product_title'].str.contains(search, na=False)]\n",
    "    return searched"
   ]
  },
  {
   "cell_type": "code",
   "execution_count": 14,
   "metadata": {},
   "outputs": [
    {
     "data": {
      "text/html": [
       "<div>\n",
       "<style scoped>\n",
       "    .dataframe tbody tr th:only-of-type {\n",
       "        vertical-align: middle;\n",
       "    }\n",
       "\n",
       "    .dataframe tbody tr th {\n",
       "        vertical-align: top;\n",
       "    }\n",
       "\n",
       "    .dataframe thead th {\n",
       "        text-align: right;\n",
       "    }\n",
       "</style>\n",
       "<table border=\"1\" class=\"dataframe\">\n",
       "  <thead>\n",
       "    <tr style=\"text-align: right;\">\n",
       "      <th></th>\n",
       "      <th>product_title</th>\n",
       "      <th>pack_size</th>\n",
       "      <th>product_price</th>\n",
       "      <th>rating_count</th>\n",
       "    </tr>\n",
       "  </thead>\n",
       "  <tbody>\n",
       "    <tr>\n",
       "      <th>100</th>\n",
       "      <td>Meiji Natural Flavour Yoghurt</td>\n",
       "      <td>500 g</td>\n",
       "      <td>$3.95</td>\n",
       "      <td>(88)</td>\n",
       "    </tr>\n",
       "    <tr>\n",
       "      <th>101</th>\n",
       "      <td>Meiji Fresh Milk</td>\n",
       "      <td>450 ml</td>\n",
       "      <td>$2.30</td>\n",
       "      <td>(83)</td>\n",
       "    </tr>\n",
       "    <tr>\n",
       "      <th>102</th>\n",
       "      <td>Meiji Bulgaria Wild Berry Yoghurt Drink</td>\n",
       "      <td>140 ml</td>\n",
       "      <td>$1.90</td>\n",
       "      <td>(43)</td>\n",
       "    </tr>\n",
       "    <tr>\n",
       "      <th>103</th>\n",
       "      <td>Meiji Mixed Berry Yoghurt</td>\n",
       "      <td>135 g</td>\n",
       "      <td>$1.00</td>\n",
       "      <td>(247)</td>\n",
       "    </tr>\n",
       "    <tr>\n",
       "      <th>104</th>\n",
       "      <td>Meiji Bulgaria Brand Honey Yoghurt</td>\n",
       "      <td>110 g</td>\n",
       "      <td>$2.95</td>\n",
       "      <td>(77)</td>\n",
       "    </tr>\n",
       "  </tbody>\n",
       "</table>\n",
       "</div>"
      ],
      "text/plain": [
       "                               product_title pack_size product_price  \\\n",
       "100            Meiji Natural Flavour Yoghurt     500 g         $3.95   \n",
       "101                         Meiji Fresh Milk    450 ml         $2.30   \n",
       "102  Meiji Bulgaria Wild Berry Yoghurt Drink    140 ml         $1.90   \n",
       "103                Meiji Mixed Berry Yoghurt     135 g         $1.00   \n",
       "104       Meiji Bulgaria Brand Honey Yoghurt     110 g         $2.95   \n",
       "\n",
       "    rating_count  \n",
       "100         (88)  \n",
       "101         (83)  \n",
       "102         (43)  \n",
       "103        (247)  \n",
       "104         (77)  "
      ]
     },
     "execution_count": 14,
     "metadata": {},
     "output_type": "execute_result"
    }
   ],
   "source": [
    "df2 = search([\"Meiji\"], df_product)\n",
    "df2.head()"
   ]
  },
  {
   "cell_type": "code",
   "execution_count": null,
   "metadata": {},
   "outputs": [],
   "source": []
  }
 ],
 "metadata": {
  "kernelspec": {
   "display_name": "Python 3",
   "language": "python",
   "name": "python3"
  },
  "language_info": {
   "codemirror_mode": {
    "name": "ipython",
    "version": 3
   },
   "file_extension": ".py",
   "mimetype": "text/x-python",
   "name": "python",
   "nbconvert_exporter": "python",
   "pygments_lexer": "ipython3",
   "version": "3.6.8"
  }
 },
 "nbformat": 4,
 "nbformat_minor": 2
}
