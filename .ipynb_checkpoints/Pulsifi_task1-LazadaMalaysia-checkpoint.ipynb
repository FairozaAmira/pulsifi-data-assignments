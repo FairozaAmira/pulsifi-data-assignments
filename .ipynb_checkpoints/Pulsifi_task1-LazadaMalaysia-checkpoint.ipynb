{
 "cells": [
  {
   "cell_type": "markdown",
   "metadata": {},
   "source": [
    "# Pulsifi Task 1 Solutions\n",
    "\n",
    "1. Choose a E-commerce website, such as zalora.com, lazada.com, and iherb.com and scrape the products catalogue.\n",
    "2. Store the product details such as product name, product category and product price into a database.\n",
    "3. Implement a search function such that given a name, it will return all relevant and similar products.\n",
    "4. Find out what are the distributions of prices across different categories.\n",
    "(optional)\n",
    "5. Repeat the process for another website, and find out what are the products that appear on both websites. (They might have slightly different names)\n"
   ]
  },
  {
   "cell_type": "code",
   "execution_count": 1,
   "metadata": {},
   "outputs": [],
   "source": [
    "from selenium import webdriver\n",
    "from selenium.webdriver.common.by import By\n",
    "from selenium.webdriver.support.ui import WebDriverWait\n",
    "from selenium.webdriver.support import expected_conditions as EC\n",
    "from selenium.common.exceptions import TimeoutException\n",
    "\n",
    "import pandas as pd\n",
    "import dbm"
   ]
  },
  {
   "cell_type": "code",
   "execution_count": 2,
   "metadata": {},
   "outputs": [],
   "source": [
    "driver = webdriver.Chrome(executable_path='chromedriver')\n",
    "driver.get('https://www.lazada.com.my/#')\n",
    "timeout = 30\n",
    "try:\n",
    "    WebDriverWait(driver, timeout).until(EC.visibility_of_element_located((By.ID, \"Level_1_Category_No1\")))\n",
    "except TimeoutException:\n",
    "    driver.quit()"
   ]
  },
  {
   "cell_type": "code",
   "execution_count": 3,
   "metadata": {},
   "outputs": [
    {
     "name": "stdout",
     "output_type": "stream",
     "text": [
      "category element  Electronic Devices\n"
     ]
    }
   ],
   "source": [
    "# find_elements by ID returns an array of selenium objects.\n",
    "category_element = driver.find_element(By.ID,'Level_1_Category_No1').text;\n",
    "print(\"category element \",category_element)"
   ]
  },
  {
   "cell_type": "code",
   "execution_count": 4,
   "metadata": {
    "scrolled": true
   },
   "outputs": [
    {
     "name": "stdout",
     "output_type": "stream",
     "text": [
      "length of links are:  12\n",
      "element in list  Electronic Devices\n",
      "element in list  Electronic Accessories\n",
      "element in list  TV & Home Appliances\n",
      "element in list  Health & Beauty\n",
      "element in list  Babies & Toys\n",
      "element in list  Groceries & Pets\n",
      "element in list  Home & Lifestyle\n",
      "element in list  Women's Fashion\n",
      "element in list  Men's Fashion\n",
      "element in list  Fashion Accessories\n",
      "element in list  Sports & Lifestyle\n",
      "element in list  Automotive & Motorcycles\n"
     ]
    }
   ],
   "source": [
    "# Take the list of li in the ul\n",
    "list_category_elements = driver.find_element(By.XPATH,'//*[@id=\"J_8636740892\"]/div/ul')\n",
    "links = list_category_elements.find_elements(By.CLASS_NAME,\"lzd-site-menu-root-item\")\n",
    "print('length of links are: ', len(links))\n",
    "for i in range(len(links)):\n",
    "    print(\"element in list \",links[i].text)"
   ]
  },
  {
   "cell_type": "code",
   "execution_count": 5,
   "metadata": {},
   "outputs": [],
   "source": [
    "# Clicking toys menu to find the right one\n",
    "# You might receive error if you just perform element.click(). This is due to the element might not actionable according to DOM\n",
    "element = driver.find_elements_by_class_name('J_ChannelsLink')[3]\n",
    "webdriver.ActionChains(driver).move_to_element(element).click(element).perform()"
   ]
  },
  {
   "cell_type": "code",
   "execution_count": 6,
   "metadata": {},
   "outputs": [
    {
     "name": "stdout",
     "output_type": "stream",
     "text": [
      "Selected For You\n",
      "GO\n",
      "Cartoon Unicorn PVC Transparent Document Bag Water-Proof Zipper Pouch File Folder Stationery Organizer 21*17CM / 8.3*6.7Inch\n",
      "RM\n",
      "2.50\n",
      "RM 4.00\n",
      "-38%\n",
      "Dansunreve 1 piece Pillowcase Cheap And Comfortable Sarung Bantal Solid Color Pillow cover Cover Plain & Hotel\n",
      "RM\n",
      "3.90\n",
      "RM 7.90\n",
      "-51%\n",
      "[12.12] [Ready Stock] 45*45cm Leaves Pattern Throw Pillow Cover Soft Linen Cotton Pillowcase Square Cushion Cover\n",
      "RM\n",
      "5.90\n",
      "RM 12.00\n",
      "-51%\n",
      "[12.12 Flash Sale] Branches DVB T2 Decoder DVB T2 Receiver MyTV Decoder DVBT2 TV Dekoder Youtube Receiver Satellite\n",
      "RM\n",
      "38.60\n",
      "RM 87.40\n",
      "-56%\n",
      "[Christmas Gift For Kids] Threetrees 8.5 inch LCD drawing pad With Accessory Kit, Writing tablet,office writing board, office blackboard, digital drawing pad ,Good Gift For Kids,Use for Home,Office\n",
      "RM\n",
      "15.80\n",
      "RM 28.00\n",
      "-44%\n",
      "[12.12 Crazy Brand Mega Offers]UGREEN 1 Meter Micro USB Cable USB 2.0 Sync & Charging Cable for for Samsung, Nokia ,Huawei,Oppo,Vivo,Xiaomi,HTC, Blackberry, Tablet PC, and Most Android Tablets, Android Phones, Black\n",
      "RM\n",
      "6.49\n",
      "RM 10.99\n",
      "-41%\n",
      "Dresses\n",
      "GO\n",
      "ZANZEA Long Top Solid Blouse Shirt Dress Women Long Sleeve Pockets Buttons Dress\n",
      "RM\n",
      "28.10\n",
      "RM 50.00\n",
      "-44%\n",
      "Korean Style Fashion Temperament Fashion Round Neck Short Sleeve Lace Dress\n",
      "RM\n",
      "18.22\n",
      "RM 35.00\n",
      "-48%\n",
      "Improved Cheongsam nian qing kuan Girl's Daily Life Chinese-style Vintage Frog Large Size Loose Short Skirt Short-sleeve Dress Female\n",
      "RM\n",
      "49.40\n",
      "RM 71.00\n",
      "-30%\n",
      "2019 Summer a Korean Style New Style Skirt Fashion Debutante Elegant off-the-Shoulder Short Waist Hugging Dress Female\n",
      "RM\n",
      "31.10\n",
      "RM 92.80\n",
      "-66%\n",
      "VONDA Women Kaftan Solid Long Sleeve Side Slit Casual Party Club Long Maxi Dress\n",
      "RM\n",
      "35.40\n",
      "RM 59.00\n",
      "-40%\n",
      "Kuhong Women Simple Big Pocket Pure Color Long Sleeve Leisure Slim Hooded Sweater Dress\n",
      "RM\n",
      "15.50\n",
      "RM 24.00\n",
      "-35%\n",
      "Phone Cases\n",
      "GO\n",
      "[ZUZG] Convenient Waterproof Case Waterproof bag for mobile phone Large Size 6.8 inch\n",
      "RM\n",
      "6.69\n",
      "RM 12.38\n",
      "-46%\n",
      "Sanptoch Shockproof Armor Case For iPhone 11 Pro Max Xs Max XR X 8 7 6 6s Plus Transparent Case Cover For iPhone 5 5S SE Luxury Silicone Case Cover Casing\n",
      "RM\n",
      "13.99\n",
      "RM 24.99\n",
      "-44%\n",
      "Luxury Shockproof Scrub PC Phone Case For iPhone XS Max XR X 8 7 6 6S Plus Transparent Soft edge Silicone Cases For iPhone 11 Pro Max All inclusive Anti-fall Back cover Matte Phone Casing\n",
      "RM\n",
      "13.99\n",
      "RM 23.99\n",
      "-42%\n",
      "For iPhone 11 Pro X Xs Max XR 8 7 6 6s Plus Phone Case, Double Sided Glass 360 Full Cover Magnetic Adsorption Metal Frame Casing\n",
      "RM\n",
      "23.90\n",
      "RM 45.00\n",
      "-47%\n",
      "Air Shockproof Phone Silicone Case for iPhone 11 Pro X XR XS Max 6 6s 7 8 Plus Soft TPU Cover Fundas Coque aiphone Cover Anti-Shock Cushion Casing\n",
      "RM\n",
      "1.71\n",
      "RM 2.39\n",
      "-28%\n",
      "[12.12 Mega Offer] UGREEN Phone Bag Case Waterproof Case Bag Phone Pouch 6.5 inch For iPhone X XR Huawei nova/mate/p series Samsung Note 9 S9 S8 Phone Case\n",
      "RM\n",
      "12.19\n",
      "RM 15.99\n",
      "-24%\n"
     ]
    }
   ],
   "source": [
    "# Once we are in, let us extract all of the product elements then names\n",
    "product_titles = driver.find_elements_by_class_name('best-seller-container')\n",
    "for title in product_titles:\n",
    "    print(title.text)"
   ]
  },
  {
   "cell_type": "code",
   "execution_count": 7,
   "metadata": {},
   "outputs": [],
   "source": [
    "product_containers = driver.find_elements_by_class_name('best-seller-item-content')\n",
    "product_titles = list()\n",
    "pack_sizes = list()\n",
    "product_prices = list()\n",
    "rating_counts = list()"
   ]
  },
  {
   "cell_type": "code",
   "execution_count": 8,
   "metadata": {},
   "outputs": [
    {
     "name": "stdout",
     "output_type": "stream",
     "text": [
      "                                       product_title product_price\n",
      "0  Cartoon Unicorn PVC Transparent Document Bag W...      RM\\n2.50\n",
      "1  Dansunreve 1 piece Pillowcase Cheap And Comfor...      RM\\n3.90\n",
      "2  [12.12] [Ready Stock] 45*45cm Leaves Pattern T...      RM\\n5.90\n",
      "3  [12.12 Flash Sale] Branches DVB T2 Decoder DVB...     RM\\n38.60\n",
      "4  [Christmas Gift For Kids] Threetrees 8.5 inch ...     RM\\n15.80\n"
     ]
    }
   ],
   "source": [
    "for container in product_containers:\n",
    "    product_titles.append(container.find_element_by_class_name('best-seller-item-title-text').text)\n",
    "    product_prices.append(container.find_element_by_class_name('best-seller-item-price').text)\n",
    "\n",
    "data = {'product_title': product_titles, 'product_price': product_prices}\n",
    "df_product = pd.DataFrame.from_dict(data)\n",
    "\n",
    "print(df_product.head())\n",
    "\n"
   ]
  },
  {
   "cell_type": "code",
   "execution_count": 9,
   "metadata": {},
   "outputs": [],
   "source": [
    "df_product.to_csv(\"product_my.csv\")"
   ]
  },
  {
   "cell_type": "code",
   "execution_count": 10,
   "metadata": {},
   "outputs": [],
   "source": [
    "def search(keyword, df):\n",
    "    search = '|'.join(keyword)\n",
    "    searched = df[df['product_title'].str.contains(search, na=False)]\n",
    "    return searched"
   ]
  },
  {
   "cell_type": "code",
   "execution_count": 11,
   "metadata": {},
   "outputs": [
    {
     "data": {
      "text/html": [
       "<div>\n",
       "<style scoped>\n",
       "    .dataframe tbody tr th:only-of-type {\n",
       "        vertical-align: middle;\n",
       "    }\n",
       "\n",
       "    .dataframe tbody tr th {\n",
       "        vertical-align: top;\n",
       "    }\n",
       "\n",
       "    .dataframe thead th {\n",
       "        text-align: right;\n",
       "    }\n",
       "</style>\n",
       "<table border=\"1\" class=\"dataframe\">\n",
       "  <thead>\n",
       "    <tr style=\"text-align: right;\">\n",
       "      <th></th>\n",
       "      <th>product_title</th>\n",
       "      <th>product_price</th>\n",
       "    </tr>\n",
       "  </thead>\n",
       "  <tbody>\n",
       "    <tr>\n",
       "      <th>5</th>\n",
       "      <td>[12.12 Crazy Brand Mega Offers]UGREEN 1 Meter ...</td>\n",
       "      <td>RM\\n6.49</td>\n",
       "    </tr>\n",
       "    <tr>\n",
       "      <th>13</th>\n",
       "      <td>Sanptoch Shockproof Armor Case For iPhone 11 P...</td>\n",
       "      <td>RM\\n13.99</td>\n",
       "    </tr>\n",
       "    <tr>\n",
       "      <th>14</th>\n",
       "      <td>Luxury Shockproof Scrub PC Phone Case For iPho...</td>\n",
       "      <td>RM\\n13.99</td>\n",
       "    </tr>\n",
       "    <tr>\n",
       "      <th>15</th>\n",
       "      <td>For iPhone 11 Pro X Xs Max XR 8 7 6 6s Plus Ph...</td>\n",
       "      <td>RM\\n23.90</td>\n",
       "    </tr>\n",
       "    <tr>\n",
       "      <th>16</th>\n",
       "      <td>Air Shockproof Phone Silicone Case for iPhone ...</td>\n",
       "      <td>RM\\n1.71</td>\n",
       "    </tr>\n",
       "  </tbody>\n",
       "</table>\n",
       "</div>"
      ],
      "text/plain": [
       "                                        product_title product_price\n",
       "5   [12.12 Crazy Brand Mega Offers]UGREEN 1 Meter ...      RM\\n6.49\n",
       "13  Sanptoch Shockproof Armor Case For iPhone 11 P...     RM\\n13.99\n",
       "14  Luxury Shockproof Scrub PC Phone Case For iPho...     RM\\n13.99\n",
       "15  For iPhone 11 Pro X Xs Max XR 8 7 6 6s Plus Ph...     RM\\n23.90\n",
       "16  Air Shockproof Phone Silicone Case for iPhone ...      RM\\n1.71"
      ]
     },
     "execution_count": 11,
     "metadata": {},
     "output_type": "execute_result"
    }
   ],
   "source": [
    "df2 = search([\"Phone\"], df_product)\n",
    "df2.head()"
   ]
  },
  {
   "cell_type": "code",
   "execution_count": null,
   "metadata": {},
   "outputs": [],
   "source": []
  }
 ],
 "metadata": {
  "kernelspec": {
   "display_name": "Python 3",
   "language": "python",
   "name": "python3"
  },
  "language_info": {
   "codemirror_mode": {
    "name": "ipython",
    "version": 3
   },
   "file_extension": ".py",
   "mimetype": "text/x-python",
   "name": "python",
   "nbconvert_exporter": "python",
   "pygments_lexer": "ipython3",
   "version": "3.6.8"
  }
 },
 "nbformat": 4,
 "nbformat_minor": 2
}
