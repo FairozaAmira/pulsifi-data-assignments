{
 "cells": [
  {
   "cell_type": "markdown",
   "metadata": {},
   "source": [
    "# Pulsifi Coding Test Question 1 Solutions\n",
    "\n",
    "1. Choose a E-commerce website, such as zalora.com, lazada.com, and iherb.com and scrape the products catalogue.\n",
    "2. Store the product details such as product name, product category and product price into a database.\n",
    "3. Implement a search function such that given a name, it will return all relevant and similar products.\n",
    "4. Find out what are the distributions of prices across different categories.\n",
    "(optional)\n",
    "5. Repeat the process for another website, and find out what are the products that appear on both websites. (They might have slightly different names)\n",
    "\n",
    "\n",
    "This solution is taken from https://towardsdatascience.com/in-10-minutes-web-scraping-with-beautiful-soup-and-selenium-for-data-professionals-8de169d36319\n"
   ]
  },
  {
   "cell_type": "code",
   "execution_count": 1,
   "metadata": {},
   "outputs": [],
   "source": [
    "from selenium import webdriver\n",
    "from selenium.webdriver.common.by import By\n",
    "from selenium.webdriver.support.ui import WebDriverWait\n",
    "from selenium.webdriver.support import expected_conditions as EC\n",
    "from selenium.common.exceptions import TimeoutException\n",
    "\n",
    "import pandas as pd\n",
    "import dbm"
   ]
  },
  {
   "cell_type": "code",
   "execution_count": 2,
   "metadata": {},
   "outputs": [],
   "source": [
    "driver = webdriver.Chrome(executable_path='chromedriver')\n",
    "driver.get('https://www.lazada.sg/#')\n",
    "timeout = 30\n",
    "try:\n",
    "    WebDriverWait(driver, timeout).until(EC.visibility_of_element_located((By.ID, \"Level_1_Category_No1\")))\n",
    "except TimeoutException:\n",
    "    driver.quit()"
   ]
  },
  {
   "cell_type": "code",
   "execution_count": 3,
   "metadata": {},
   "outputs": [
    {
     "name": "stdout",
     "output_type": "stream",
     "text": [
      "category element  Electronic Devices\n"
     ]
    }
   ],
   "source": [
    "# find_elements by ID returns an array of selenium objects.\n",
    "category_element = driver.find_element(By.ID,'Level_1_Category_No1').text;\n",
    "print(\"category element \",category_element)"
   ]
  },
  {
   "cell_type": "code",
   "execution_count": 4,
   "metadata": {
    "scrolled": true
   },
   "outputs": [
    {
     "name": "stdout",
     "output_type": "stream",
     "text": [
      "length of links are:  12\n",
      "element in list  Electronic Devices\n",
      "element in list  Electronic Accessories\n",
      "element in list  TV & Home Appliances\n",
      "element in list  Health & Beauty\n",
      "element in list  Babies & Toys\n",
      "element in list  Groceries & Pets\n",
      "element in list  Home & Lifestyle\n",
      "element in list  Women's Fashion\n",
      "element in list  Men's Fashion\n",
      "element in list  Watches & Bags\n",
      "element in list  Sports & Lifestyle\n",
      "element in list  Automotive & Motorcycle\n"
     ]
    }
   ],
   "source": [
    "# Take the list of li in the ul\n",
    "list_category_elements = driver.find_element(By.XPATH,'//*[@id=\"J_icms-5000498-1511516689962\"]/div/ul')\n",
    "links = list_category_elements.find_elements(By.CLASS_NAME,\"lzd-site-menu-root-item\")\n",
    "print('length of links are: ', len(links))\n",
    "for i in range(len(links)):\n",
    "    print(\"element in list \",links[i].text)"
   ]
  },
  {
   "cell_type": "code",
   "execution_count": 5,
   "metadata": {},
   "outputs": [],
   "source": [
    "# Clicking toys menu to find the right one\n",
    "# You might receive error if you just perform element.click(). This is due to the element might not actionable according to DOM\n",
    "element = driver.find_elements_by_class_name('J_ChannelsLink')[2]\n",
    "webdriver.ActionChains(driver).move_to_element(element).click(element).perform()"
   ]
  },
  {
   "cell_type": "code",
   "execution_count": 6,
   "metadata": {},
   "outputs": [
    {
     "name": "stdout",
     "output_type": "stream",
     "text": [
      "\n",
      "\n",
      "\n",
      "\n",
      "\n",
      "\n",
      "\n",
      "\n",
      "\n",
      "\n",
      "\n",
      "\n",
      "\n",
      "\n",
      "\n",
      "\n",
      "\n",
      "\n",
      "\n",
      "Best Deals In Town\n",
      "Lemnos Cream Cheese With Cracked Pepper\n",
      "Tradition Scottish Matured White Cheddar\n",
      "Tradition UK Extra Matured Cheddar\n",
      "Bannister Downs All Lite Fresh Milk - Australia - Chilled\n",
      "Bannister Downs Farm Fresh Milk - Australia - Chilled\n",
      "CocoMax 100% Coconut Water - Case\n",
      "12 Best Top Picks\n",
      "Dove Beauty Nourishing Moisture Body Wash\n",
      "Knorr All In One Seasoning\n",
      "Enfamil A+ Stage 2 Infant Formula Baby Milk Powder (6M+)\n",
      "Naturel Canola Oil\n",
      "Dettol 4-in-1 Disinfectant Multi Surface Cleaner Lavender 2.5L\n",
      "NESCAFE GOLD Pure Soluble Coffee 200g (NEW)\n",
      "This Week's Fresh Selection\n",
      "Korean Jeju Mandarin Oranges\n",
      "Red Seedless Grapes (Air-Flown)\n",
      "Green Seedless Grapes (Air-Flown)\n",
      "Prime Asia 2+1 Hass Avocados\n",
      "RedMart Korean Maehyang Strawberries\n",
      "GIVVO Broccolini\n",
      "All Things Christmas\n",
      "Kaviari Lumpfish Roe Black\n",
      "Woodmansterne Pack Of 5 Cards - Stacks Of Presents\n",
      "Sainsbury's Taste The Difference Iced Fruit Cake Bar - Christmas Special\n",
      "Artwrap Christmas Boxed Cards\n",
      "Casillero del Diablo Cabernet Sauvignon [Festive Giftpack]\n",
      "Artwrap Christmas Gift Tags\n",
      "Cheers To Great Festive Deals\n",
      "Veuve Clicquot Yellow Label Champagne - Case + 6 Free Glasses\n",
      "Terrazas Altos Del Plata Chardonnay 2017\n",
      "Gordon's Gin\n",
      "Glenmorangie Original\n",
      "Terrazas Altos Del Plata Cabernet Sauvignon 2017\n",
      "Cloudy Bay Sauvignon Blanc Twin Pack\n",
      "Christmas Deals Up To 30% OFF\n",
      "Mackie's Venison And Cranberry Ridgecut Potato Crisps - Christmas Special\n",
      "CADBURY Dairy Milk Little Robins Bag - Christmas Special\n",
      "Cadbury Winter Wonderland Chocolate Bar - Christmas Special\n",
      "Cadbury Small Selection Chocolate Pack - Christmas Special\n",
      "Fox's Vinnie's Biscuits Selection - Christmas Special\n",
      "Lindt Lindor Mini Truffles - Christmas Special\n",
      "Danone Store\n",
      "Evian Natural Mineral Water - Case (12 x 1.25L)\n",
      "Evian Natural Mineral Water Case\n",
      "Badoit Green Sparkling Water 30s - Case\n",
      "Evian Natural Mineral Water Case\n",
      "Evian Natural Mineral Water Disney Mickey 90th Anniversary - Case\n",
      "Volvic Natural Mineral Water Case\n",
      "P&G Mega Sale\n",
      "Pampers Premium Care Pants XL - Case\n",
      "Dynamo Power Gel Anti-Bacterial Laundry Detergent\n",
      "Pantene Hair Fall Control Shampoo\n",
      "Tide Original Scent HE Turbo Clean Laundry Detergent\n",
      "Pampers Premium Care Tape Diapers M - Case\n",
      "Whisper Ultra Clean Night Wing Sanitary Pads 32CM\n",
      "Magical Christmas Dinner With RedMart Label\n",
      "RedMart Traditional Roast Turkey (5.4kg - 6.3kg When Uncooked)\n",
      "RedMart Classic Turkey Gravy\n",
      "RedMart Rosemary Infused Roast Turkey (5.4kg - 6.3kg When Uncooked)\n",
      "RedMart Luxury Spiced Cranberry Sauce\n",
      "RedMart Sage And Onion Stuffing\n",
      "RedMart Chicken Lasagne (2019 New and Improved Recipe)\n",
      "Cadbury & Oreo Xmas Deals\n",
      "Cadbury Panned Assorted\n",
      "Cadbury Dairy Milk Packed With Crunchie\n",
      "Oreo Mini Oreo Original Sharepack\n",
      "Cadbury Panned Almond\n",
      "Toblerone Mini Milk Chocolate\n",
      "CADBURY Gift Box\n",
      "Haagen Dazs Store\n",
      "Haagen-Dazs Caramel Creme Brulee Mochi Ice Cream\n",
      "Haagen-Dazs Disney Frozen Favourite Selection Ice Cream\n",
      "Haagen-Dazs Vanilla Caramel and Chocolate Almond Ice Cream Cones Multipack\n",
      "Haagen-Dazs Disney Frozen Chocoholic Moments Ice Cream\n",
      "Be The Perfect Host This Season\n",
      "Meri Meri Let'S Explore Cups - By ToTT\n",
      "Mye Beech-Oiled Wooden Rectangle Serving Board With Hole Handle - By ToTT\n",
      "CGS Shiny Polka Dots Triangle Bunting JQ80249 (Gold)\n",
      "Echo Mini Bamboo Plate With Handle - Bamboo Serving Board\n",
      "Boska Small Tapas Cheese Board L24XW15XH1.5 Cm - Amigo - By ToTT\n",
      "Meri Meri 9\" Hexagon Plates Toot Sweet Gold Stripes - By ToTT\n",
      "Premium Pet Picks\n",
      "Pro Plan Adult Small Sensitive Skin\n",
      "Ginger and Bear Dog Toy - Toss And Float - Large - Mocha\n",
      "Absolute Bites 100% Real Veal Spare Ribs 380g Dog Treats\n",
      "EzyDog Vario 6 Leash 25 S Chocolate\n",
      "Sheba Tuna And Snapper In Gravy Wet Cat Food - Case\n",
      "Woof Freeze Dried Raw Wild Brushtail Dog Food 320G\n",
      "MamyPoko - Best 12.12 Deals\n",
      "MamyPoko Kids Pants Girl XXXL\n",
      "MamyPoko Disney Mickey Pants M\n",
      "MamyPoko Extra Dry Pack Tape M - Case - By Unicharm\n",
      "MamyPoko Extra Dry Organic Tape Diapers Newborn - By Unicharm\n",
      "MamyPoko Standard Pants XXL (Free 4 Pcs)\n",
      "MamyPoko Extra Dry Tape Diaper XL\n",
      "Dettol Store\n",
      "Dettol Anti-Bacterial Wet Wipes x50\n",
      "Dettol Antiseptic Germicide 1L\n",
      "Dettol Disinfectant Laundry Sanitiser Fresh Pine 1.2L + Free 300ML\n",
      "Dettol 4-in-1 Disinfectant Multi Surface Cleaner Lavender 2x 1.5L\n",
      "Dettol Anti-Bacterial Wet Wipes x3\n",
      "Dettol 4-in-1 Disinfectant Multi Surface Cleaner Lavender 2.5L\n",
      "Unilever Store\n",
      "Lux Luminique Botanical Pure Non-Silicone Conditioner\n",
      "Lifebuoy Nature Pure Anti-bacterial Body Wash\n",
      "Lifebuoy Cool Fresh Anti-bacterial Body Wash\n",
      "Love Beauty & Planet Vegan Body Lotion Coconut Water and Mimosa Flower Luscious Hydration\n",
      "Love Beauty & Planet Vegan Conditioner Argan Oil and Lavender Smooth and Serene\n",
      "Love Beauty & Planet Purple Tote Bag\n",
      "Healthy Living\n",
      "Nature's Superfoods Organic Tricolor Quinoa Seeds\n",
      "Nature's Superfoods Organic Culinary Coconut Oil (PET bottle)\n",
      "Biona Organic Flax Seed Oil\n",
      "Origins Organic Wild Rice (Black)\n",
      "Quinua Real Organic Quinoa Flour (Gluten Free) - By Lifewinners Organic\n",
      "Now Foods Organic Wild Rice\n",
      "Meiji Store\n",
      "Meiji Coffee Flavour Milk\n",
      "Meiji Bulgaria Brand Natural Yoghurt\n",
      "Meiji Paigen Strawberry Cultured Milk\n",
      "Meiji Fresh Milk\n",
      "Meiji Mango Yoghurt\n",
      "Meiji Bulgaria Low Fat Yoghurt Drink\n",
      "Go where your heart beats\n"
     ]
    }
   ],
   "source": [
    "# Once we are in, let us extract all of the product elements then names\n",
    "product_titles = driver.find_elements_by_class_name('title')\n",
    "for title in product_titles:\n",
    "    print(title.text)"
   ]
  },
  {
   "cell_type": "code",
   "execution_count": 7,
   "metadata": {},
   "outputs": [],
   "source": [
    "product_containers = driver.find_elements_by_class_name('product_container')\n",
    "\n",
    "product_titles = list()\n",
    "pack_sizes = list()\n",
    "product_prices = list()\n",
    "rating_counts = list()"
   ]
  },
  {
   "cell_type": "code",
   "execution_count": 8,
   "metadata": {},
   "outputs": [
    {
     "name": "stdout",
     "output_type": "stream",
     "text": [
      "                                       product_title pack_size product_price  \\\n",
      "0            Lemnos Cream Cheese With Cracked Pepper     125 g         $4.12   \n",
      "1           Tradition Scottish Matured White Cheddar     250 g         $9.31   \n",
      "2                 Tradition UK Extra Matured Cheddar     250 g         $9.85   \n",
      "3  Bannister Downs All Lite Fresh Milk - Australi...       1 L         $5.94   \n",
      "4  Bannister Downs Farm Fresh Milk - Australia - ...       1 L         $5.94   \n",
      "\n",
      "  rating_count  \n",
      "0          (0)  \n",
      "1          (1)  \n",
      "2          (0)  \n",
      "3          (0)  \n",
      "4          (0)  \n"
     ]
    }
   ],
   "source": [
    "for container in product_containers:\n",
    "    product_titles.append(container.find_element_by_class_name('title').text)\n",
    "    pack_sizes.append(container.find_element_by_class_name('pack_size').text)\n",
    "    product_prices.append(container.find_element_by_class_name('product_price').text)\n",
    "    rating_counts.append(container.find_element_by_class_name('ratings_count').text)\n",
    "\n",
    "data = {'product_title': product_titles, 'pack_size': pack_sizes,'product_price': product_prices, 'rating_count': rating_counts}\n",
    "df_product = pd.DataFrame.from_dict(data)\n",
    "\n",
    "print(df_product.head())\n",
    "\n"
   ]
  },
  {
   "cell_type": "code",
   "execution_count": 9,
   "metadata": {},
   "outputs": [],
   "source": [
    "df_product.to_csv(\"product_sg.csv\")"
   ]
  },
  {
   "cell_type": "code",
   "execution_count": null,
   "metadata": {},
   "outputs": [],
   "source": []
  }
 ],
 "metadata": {
  "kernelspec": {
   "display_name": "Python 3",
   "language": "python",
   "name": "python3"
  },
  "language_info": {
   "codemirror_mode": {
    "name": "ipython",
    "version": 3
   },
   "file_extension": ".py",
   "mimetype": "text/x-python",
   "name": "python",
   "nbconvert_exporter": "python",
   "pygments_lexer": "ipython3",
   "version": "3.6.8"
  }
 },
 "nbformat": 4,
 "nbformat_minor": 2
}
